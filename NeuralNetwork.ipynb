{
 "cells": [
  {
   "cell_type": "code",
   "execution_count": 919,
   "metadata": {},
   "outputs": [],
   "source": [
    "import tensorflow as tf\n",
    "import numpy as np\n",
    "import pandas as pd\n",
    "from tensorflow.keras import layers\n",
    "!pip install -q tensorflow-hub\n",
    "import tensorflow_hub as hub"
   ]
  },
  {
   "cell_type": "code",
   "execution_count": 920,
   "metadata": {},
   "outputs": [
    {
     "data": {
      "text/html": [
       "<div>\n",
       "<style scoped>\n",
       "    .dataframe tbody tr th:only-of-type {\n",
       "        vertical-align: middle;\n",
       "    }\n",
       "\n",
       "    .dataframe tbody tr th {\n",
       "        vertical-align: top;\n",
       "    }\n",
       "\n",
       "    .dataframe thead th {\n",
       "        text-align: right;\n",
       "    }\n",
       "</style>\n",
       "<table border=\"1\" class=\"dataframe\">\n",
       "  <thead>\n",
       "    <tr style=\"text-align: right;\">\n",
       "      <th></th>\n",
       "      <th>text</th>\n",
       "      <th>target</th>\n",
       "      <th>@</th>\n",
       "      <th>cantidad_links</th>\n",
       "      <th>cantidad_signos_pregunta</th>\n",
       "      <th>repeticiones</th>\n",
       "      <th>longitud_tweet</th>\n",
       "      <th>letras_seguidas</th>\n",
       "      <th>sentimiento</th>\n",
       "      <th>objetividad</th>\n",
       "      <th>...</th>\n",
       "      <th>being a</th>\n",
       "      <th>boat capsizes</th>\n",
       "      <th>but if</th>\n",
       "      <th>cant wait</th>\n",
       "      <th>car engulfed</th>\n",
       "      <th>chinaÂÂs stock</th>\n",
       "      <th>city of</th>\n",
       "      <th>collapse at</th>\n",
       "      <th>insultos_por_tweet</th>\n",
       "      <th>expresiones_por_tweet</th>\n",
       "    </tr>\n",
       "  </thead>\n",
       "  <tbody>\n",
       "    <tr>\n",
       "      <th>0</th>\n",
       "      <td>our deeds are the reason of this earthquake ma...</td>\n",
       "      <td>1</td>\n",
       "      <td>0</td>\n",
       "      <td>0</td>\n",
       "      <td>0</td>\n",
       "      <td>1</td>\n",
       "      <td>70</td>\n",
       "      <td>2</td>\n",
       "      <td>0.0</td>\n",
       "      <td>0.0</td>\n",
       "      <td>...</td>\n",
       "      <td>0</td>\n",
       "      <td>0</td>\n",
       "      <td>0</td>\n",
       "      <td>0</td>\n",
       "      <td>0</td>\n",
       "      <td>0</td>\n",
       "      <td>0</td>\n",
       "      <td>0</td>\n",
       "      <td>0</td>\n",
       "      <td>0</td>\n",
       "    </tr>\n",
       "    <tr>\n",
       "      <th>1</th>\n",
       "      <td>forest fire near la ronge sask canada</td>\n",
       "      <td>1</td>\n",
       "      <td>0</td>\n",
       "      <td>0</td>\n",
       "      <td>0</td>\n",
       "      <td>1</td>\n",
       "      <td>40</td>\n",
       "      <td>1</td>\n",
       "      <td>0.1</td>\n",
       "      <td>0.4</td>\n",
       "      <td>...</td>\n",
       "      <td>0</td>\n",
       "      <td>0</td>\n",
       "      <td>0</td>\n",
       "      <td>0</td>\n",
       "      <td>0</td>\n",
       "      <td>0</td>\n",
       "      <td>0</td>\n",
       "      <td>0</td>\n",
       "      <td>0</td>\n",
       "      <td>0</td>\n",
       "    </tr>\n",
       "  </tbody>\n",
       "</table>\n",
       "<p>2 rows × 2012 columns</p>\n",
       "</div>"
      ],
      "text/plain": [
       "                                                text  target  @  \\\n",
       "0  our deeds are the reason of this earthquake ma...       1  0   \n",
       "1              forest fire near la ronge sask canada       1  0   \n",
       "\n",
       "   cantidad_links  cantidad_signos_pregunta  repeticiones  longitud_tweet  \\\n",
       "0               0                         0             1              70   \n",
       "1               0                         0             1              40   \n",
       "\n",
       "   letras_seguidas  sentimiento  objetividad  ...  being a  boat capsizes  \\\n",
       "0                2          0.0          0.0  ...        0              0   \n",
       "1                1          0.1          0.4  ...        0              0   \n",
       "\n",
       "   but if  cant wait  car engulfed  chinaÂÂs stock  city of  collapse at  \\\n",
       "0       0          0             0                 0        0            0   \n",
       "1       0          0             0                 0        0            0   \n",
       "\n",
       "   insultos_por_tweet  expresiones_por_tweet  \n",
       "0                   0                      0  \n",
       "1                   0                      0  \n",
       "\n",
       "[2 rows x 2012 columns]"
      ]
     },
     "execution_count": 920,
     "metadata": {},
     "output_type": "execute_result"
    }
   ],
   "source": [
    "train_limpio = pd.read_csv(\"train_limpio.csv\",encoding = \"ISO-8859-1\")\n",
    "train_limpio.head(2)"
   ]
  },
  {
   "cell_type": "code",
   "execution_count": 921,
   "metadata": {},
   "outputs": [
    {
     "data": {
      "text/plain": [
       "0    1\n",
       "1    1\n",
       "Name: target, dtype: int64"
      ]
     },
     "execution_count": 921,
     "metadata": {},
     "output_type": "execute_result"
    }
   ],
   "source": [
    "target = train_limpio[\"target\"]\n",
    "target.head(2)"
   ]
  },
  {
   "cell_type": "code",
   "execution_count": 922,
   "metadata": {},
   "outputs": [],
   "source": [
    "VALIDATION_SIZE = .8\n",
    "TEST_SIZE = .9\n",
    "df = train_limpio[[\"text\", \"target\"]]\n",
    "raw_train_ds, raw_val_ds, raw_test_ds = np.split(df.sample(frac=1), [int(VALIDATION_SIZE*len(df)), int(TEST_SIZE*len(df))])"
   ]
  },
  {
   "cell_type": "code",
   "execution_count": 923,
   "metadata": {},
   "outputs": [
    {
     "data": {
      "text/html": [
       "<div>\n",
       "<style scoped>\n",
       "    .dataframe tbody tr th:only-of-type {\n",
       "        vertical-align: middle;\n",
       "    }\n",
       "\n",
       "    .dataframe tbody tr th {\n",
       "        vertical-align: top;\n",
       "    }\n",
       "\n",
       "    .dataframe thead th {\n",
       "        text-align: right;\n",
       "    }\n",
       "</style>\n",
       "<table border=\"1\" class=\"dataframe\">\n",
       "  <thead>\n",
       "    <tr style=\"text-align: right;\">\n",
       "      <th></th>\n",
       "      <th>text</th>\n",
       "      <th>target</th>\n",
       "    </tr>\n",
       "  </thead>\n",
       "  <tbody>\n",
       "    <tr>\n",
       "      <th>6077</th>\n",
       "      <td>arrestpastornganga it so worrying  see how som...</td>\n",
       "      <td>0</td>\n",
       "    </tr>\n",
       "    <tr>\n",
       "      <th>6028</th>\n",
       "      <td>after a suicide bombing in suruÂÂ¤ that kille...</td>\n",
       "      <td>1</td>\n",
       "    </tr>\n",
       "  </tbody>\n",
       "</table>\n",
       "</div>"
      ],
      "text/plain": [
       "                                                   text  target\n",
       "6077  arrestpastornganga it so worrying  see how som...       0\n",
       "6028  after a suicide bombing in suruÂÂ¤ that kille...       1"
      ]
     },
     "execution_count": 923,
     "metadata": {},
     "output_type": "execute_result"
    }
   ],
   "source": [
    "raw_train_ds.head(2)"
   ]
  },
  {
   "cell_type": "code",
   "execution_count": 924,
   "metadata": {
    "scrolled": false
   },
   "outputs": [],
   "source": [
    "raw_train_ds = tf.data.Dataset.from_tensor_slices((raw_train_ds[\"text\"].to_numpy(dtype=\"str\"), raw_train_ds[\"target\"].values))\n",
    "raw_val_ds = tf.data.Dataset.from_tensor_slices((raw_val_ds[\"text\"].to_numpy(dtype=\"str\"), raw_val_ds[\"target\"].values))\n",
    "raw_test_ds = tf.data.Dataset.from_tensor_slices((raw_test_ds[\"text\"].to_numpy(dtype=\"str\"), raw_test_ds[\"target\"].values))\n",
    "\n",
    "\n",
    "train_examples_batch, train_labels_batch = next(iter(raw_train_ds.batch(10)))"
   ]
  },
  {
   "cell_type": "code",
   "execution_count": 925,
   "metadata": {},
   "outputs": [
    {
     "data": {
      "text/plain": [
       "<tf.Tensor: shape=(10,), dtype=string, numpy=\n",
       "array([b'arrestpastornganga it so worrying  see how some police officers in kenya have sunk to low to the point of collaborating with pick pockets',\n",
       "       b'after a suicide bombing in suru\\xc3\\x82\\xc2\\x8c\\xc3\\x82\\xc2\\xa4 that killed  people turkey launches airstrikes against isil and kurdistan workers party camps in iraq',\n",
       "       b'tsunamiesh esh please okay',\n",
       "       b'modelbubbles gm i pray any attack of the enemy  derail ur destiny is blocked by the lord amp that he floods ur life wheavenly blessings',\n",
       "       b'and the fact that i have a curfew',\n",
       "       b'blog rain much needed as drought conditions worsen right now charlotte and much of the surrounding area have\\xc3\\x82\\xc2\\x89\\xc3\\x82\\xc2\\x9b httptcoolzavtjfkh',\n",
       "       b'arson suspect linked to  fires caught in northern california httptcommgsyahdzb',\n",
       "       b'freemurphy your hot take on canadas hitchhiking garbagebot destroyed in philly was sorely needed',\n",
       "       b' anniversary of hiroshima atomic bombing marked  ',\n",
       "       b'beforeitsnews  global derivatives  quadrillion time bomb  v\\xc3\\x82\\xc2\\x89\\xc3\\x82\\xc2\\x9b  '],\n",
       "      dtype=object)>"
      ]
     },
     "execution_count": 925,
     "metadata": {},
     "output_type": "execute_result"
    }
   ],
   "source": [
    "train_examples_batch"
   ]
  },
  {
   "cell_type": "code",
   "execution_count": 926,
   "metadata": {},
   "outputs": [
    {
     "data": {
      "text/plain": [
       "<tf.Tensor: shape=(10,), dtype=int64, numpy=array([0, 1, 0, 0, 0, 1, 1, 1, 1, 0])>"
      ]
     },
     "execution_count": 926,
     "metadata": {},
     "output_type": "execute_result"
    }
   ],
   "source": [
    "train_labels_batch"
   ]
  },
  {
   "cell_type": "code",
   "execution_count": 927,
   "metadata": {},
   "outputs": [],
   "source": [
    "embedding = \"https://tfhub.dev/google/tf2-preview/gnews-swivel-20dim/1\"\n",
    "hub_layer = hub.KerasLayer(embedding, input_shape=[], \n",
    "                           dtype=tf.string, trainable=True)"
   ]
  },
  {
   "cell_type": "code",
   "execution_count": 928,
   "metadata": {},
   "outputs": [
    {
     "data": {
      "text/plain": [
       "<tf.Tensor: shape=(3, 20), dtype=float32, numpy=\n",
       "array([[ 1.422505  , -1.0885118 ,  0.45500493,  0.62994087, -0.5561043 ,\n",
       "        -2.3073676 , -0.66064364,  0.77007073, -0.32066774,  0.23901324,\n",
       "        -0.19350646,  0.42796662, -0.43504363, -0.08390167, -1.7031976 ,\n",
       "         1.3709724 ,  2.0736885 , -1.639749  , -1.4875039 , -0.28356174],\n",
       "       [-0.08792715,  1.282691  ,  0.18003497, -0.71806717,  1.95289   ,\n",
       "        -1.185932  ,  0.10456593,  0.5421631 ,  0.2026949 ,  0.64120424,\n",
       "         0.4748855 , -0.32000747, -2.2775247 , -0.21664838, -1.7203114 ,\n",
       "         2.1113758 , -0.8083178 , -1.7622619 , -1.9224905 ,  0.89049375],\n",
       "       [ 0.08051787, -0.84861565,  0.786759  ,  1.0061411 , -1.3216624 ,\n",
       "        -1.0445361 , -0.23381115,  0.5371373 ,  0.3768555 ,  0.46945632,\n",
       "        -1.2872784 , -0.50762063,  0.7714113 ,  0.44169393, -0.293678  ,\n",
       "        -0.5618623 ,  0.9480736 ,  0.2703368 , -0.4546466 , -0.93508834]],\n",
       "      dtype=float32)>"
      ]
     },
     "execution_count": 928,
     "metadata": {},
     "output_type": "execute_result"
    }
   ],
   "source": [
    "hub_layer(train_examples_batch[:3])"
   ]
  },
  {
   "cell_type": "markdown",
   "metadata": {},
   "source": [
    "### Esto es el modelo y, aunque parezca lo más dificil, es lo que más se entiende hasta ahora"
   ]
  },
  {
   "cell_type": "code",
   "execution_count": 929,
   "metadata": {},
   "outputs": [
    {
     "name": "stdout",
     "output_type": "stream",
     "text": [
      "Epoch 1/22\n",
      "12/12 - 0s - loss: 0.6887 - accuracy: 0.5884 - val_loss: 0.6760 - val_accuracy: 0.5462\n",
      "Epoch 2/22\n",
      "12/12 - 0s - loss: 0.6328 - accuracy: 0.5981 - val_loss: 0.6319 - val_accuracy: 0.5546\n",
      "Epoch 3/22\n",
      "12/12 - 0s - loss: 0.6020 - accuracy: 0.6226 - val_loss: 0.6046 - val_accuracy: 0.5966\n",
      "Epoch 4/22\n",
      "12/12 - 0s - loss: 0.5784 - accuracy: 0.6527 - val_loss: 0.5849 - val_accuracy: 0.6373\n",
      "Epoch 5/22\n",
      "12/12 - 0s - loss: 0.5596 - accuracy: 0.6799 - val_loss: 0.5687 - val_accuracy: 0.6723\n",
      "Epoch 6/22\n",
      "12/12 - 0s - loss: 0.5439 - accuracy: 0.7084 - val_loss: 0.5540 - val_accuracy: 0.7003\n",
      "Epoch 7/22\n",
      "12/12 - 0s - loss: 0.5297 - accuracy: 0.7256 - val_loss: 0.5424 - val_accuracy: 0.7171\n",
      "Epoch 8/22\n",
      "12/12 - 0s - loss: 0.5171 - accuracy: 0.7408 - val_loss: 0.5305 - val_accuracy: 0.7339\n",
      "Epoch 9/22\n",
      "12/12 - 0s - loss: 0.5053 - accuracy: 0.7538 - val_loss: 0.5218 - val_accuracy: 0.7395\n",
      "Epoch 10/22\n",
      "12/12 - 0s - loss: 0.4947 - accuracy: 0.7627 - val_loss: 0.5139 - val_accuracy: 0.7437\n",
      "Epoch 11/22\n",
      "12/12 - 0s - loss: 0.4846 - accuracy: 0.7688 - val_loss: 0.5071 - val_accuracy: 0.7479\n",
      "Epoch 12/22\n",
      "12/12 - 0s - loss: 0.4752 - accuracy: 0.7772 - val_loss: 0.5008 - val_accuracy: 0.7549\n",
      "Epoch 13/22\n",
      "12/12 - 0s - loss: 0.4666 - accuracy: 0.7809 - val_loss: 0.4958 - val_accuracy: 0.7591\n",
      "Epoch 14/22\n",
      "12/12 - 0s - loss: 0.4582 - accuracy: 0.7884 - val_loss: 0.4903 - val_accuracy: 0.7619\n",
      "Epoch 15/22\n",
      "12/12 - 0s - loss: 0.4502 - accuracy: 0.7925 - val_loss: 0.4856 - val_accuracy: 0.7647\n",
      "Epoch 16/22\n",
      "12/12 - 0s - loss: 0.4424 - accuracy: 0.7974 - val_loss: 0.4820 - val_accuracy: 0.7675\n",
      "Epoch 17/22\n",
      "12/12 - 0s - loss: 0.4348 - accuracy: 0.8009 - val_loss: 0.4786 - val_accuracy: 0.7787\n",
      "Epoch 18/22\n",
      "12/12 - 0s - loss: 0.4273 - accuracy: 0.8075 - val_loss: 0.4764 - val_accuracy: 0.7843\n",
      "Epoch 19/22\n",
      "12/12 - 0s - loss: 0.4201 - accuracy: 0.8089 - val_loss: 0.4752 - val_accuracy: 0.7885\n",
      "Epoch 20/22\n",
      "12/12 - 0s - loss: 0.4127 - accuracy: 0.8133 - val_loss: 0.4723 - val_accuracy: 0.7871\n",
      "Epoch 21/22\n",
      "12/12 - 0s - loss: 0.4054 - accuracy: 0.8186 - val_loss: 0.4705 - val_accuracy: 0.7871\n",
      "Epoch 22/22\n",
      "12/12 - 0s - loss: 0.3981 - accuracy: 0.8208 - val_loss: 0.4700 - val_accuracy: 0.7899\n"
     ]
    },
    {
     "data": {
      "text/plain": [
       "<tensorflow.python.keras.callbacks.History at 0x7fbf0557d128>"
      ]
     },
     "execution_count": 929,
     "metadata": {},
     "output_type": "execute_result"
    }
   ],
   "source": [
    "model = tf.keras.Sequential()\n",
    "model.add(hub_layer)\n",
    "model.add(tf.keras.layers.Dense(16, activation='relu'))\n",
    "model.add(tf.keras.layers.Dense(1))\n",
    "model.compile(optimizer='adam',\n",
    "              loss=tf.keras.losses.BinaryCrossentropy(from_logits=True),\n",
    "              metrics=['accuracy'])\n",
    "model.fit(raw_train_ds.shuffle(5000).batch(512),\n",
    "                    epochs=22,\n",
    "                    validation_data=raw_val_ds.batch(512), verbose=2)"
   ]
  },
  {
   "cell_type": "code",
   "execution_count": 930,
   "metadata": {},
   "outputs": [
    {
     "name": "stdout",
     "output_type": "stream",
     "text": [
      "2/2 [==============================] - 0s 2ms/step - loss: 0.4861 - accuracy: 0.7689\n"
     ]
    },
    {
     "data": {
      "text/plain": [
       "[0.4861498475074768, 0.7689075469970703]"
      ]
     },
     "execution_count": 930,
     "metadata": {},
     "output_type": "execute_result"
    }
   ],
   "source": [
    "model.evaluate(raw_test_ds.batch(512))"
   ]
  },
  {
   "cell_type": "markdown",
   "metadata": {},
   "source": [
    "### Esto ultimo significa que no sabe que predecir :)"
   ]
  }
 ],
 "metadata": {
  "kernelspec": {
   "display_name": "Python 3",
   "language": "python",
   "name": "python3"
  },
  "language_info": {
   "codemirror_mode": {
    "name": "ipython",
    "version": 3
   },
   "file_extension": ".py",
   "mimetype": "text/x-python",
   "name": "python",
   "nbconvert_exporter": "python",
   "pygments_lexer": "ipython3",
   "version": "3.6.9"
  }
 },
 "nbformat": 4,
 "nbformat_minor": 2
}
