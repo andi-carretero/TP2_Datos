{
 "cells": [
  {
   "cell_type": "code",
   "execution_count": 152,
   "metadata": {},
   "outputs": [],
   "source": [
    "import tensorflow as tf\n",
    "import numpy as np\n",
    "import pandas as pd\n",
    "from tensorflow.keras import layers\n",
    "\n",
    "import tensorflow_hub as hub\n",
    "\n",
    "from  IPython import display\n",
    "from matplotlib import pyplot as plt\n",
    "\n",
    "import tensorflow_docs as tfdocs\n",
    "import tensorflow_docs.modeling\n",
    "import tensorflow_docs.plots"
   ]
  },
  {
   "cell_type": "code",
   "execution_count": 153,
   "metadata": {},
   "outputs": [
    {
     "data": {
      "text/html": [
       "<div>\n",
       "<style scoped>\n",
       "    .dataframe tbody tr th:only-of-type {\n",
       "        vertical-align: middle;\n",
       "    }\n",
       "\n",
       "    .dataframe tbody tr th {\n",
       "        vertical-align: top;\n",
       "    }\n",
       "\n",
       "    .dataframe thead th {\n",
       "        text-align: right;\n",
       "    }\n",
       "</style>\n",
       "<table border=\"1\" class=\"dataframe\">\n",
       "  <thead>\n",
       "    <tr style=\"text-align: right;\">\n",
       "      <th></th>\n",
       "      <th>text</th>\n",
       "      <th>target</th>\n",
       "      <th>cantidad_links</th>\n",
       "      <th>cantidad_signos_pregunta</th>\n",
       "      <th>repeticiones</th>\n",
       "      <th>longitud_tweet</th>\n",
       "      <th>letras_seguidas</th>\n",
       "      <th>sentimiento</th>\n",
       "      <th>objetividad</th>\n",
       "      <th>the</th>\n",
       "      <th>...</th>\n",
       "      <th>he is</th>\n",
       "      <th>insultos_por_tweet</th>\n",
       "      <th>expresiones_por_tweet</th>\n",
       "      <th>bombing</th>\n",
       "      <th>suicide</th>\n",
       "      <th>accident</th>\n",
       "      <th>disaster</th>\n",
       "      <th>police</th>\n",
       "      <th>died</th>\n",
       "      <th>years</th>\n",
       "    </tr>\n",
       "  </thead>\n",
       "  <tbody>\n",
       "    <tr>\n",
       "      <th>0</th>\n",
       "      <td>our deed are the reason of this earthquak may ...</td>\n",
       "      <td>1</td>\n",
       "      <td>0</td>\n",
       "      <td>0</td>\n",
       "      <td>1</td>\n",
       "      <td>70</td>\n",
       "      <td>2</td>\n",
       "      <td>0.0</td>\n",
       "      <td>0.0</td>\n",
       "      <td>1</td>\n",
       "      <td>...</td>\n",
       "      <td>0</td>\n",
       "      <td>0</td>\n",
       "      <td>0</td>\n",
       "      <td>0</td>\n",
       "      <td>0</td>\n",
       "      <td>0</td>\n",
       "      <td>0</td>\n",
       "      <td>0</td>\n",
       "      <td>0</td>\n",
       "      <td>0</td>\n",
       "    </tr>\n",
       "    <tr>\n",
       "      <th>1</th>\n",
       "      <td>forest fire near la rong sask canada</td>\n",
       "      <td>1</td>\n",
       "      <td>0</td>\n",
       "      <td>0</td>\n",
       "      <td>1</td>\n",
       "      <td>40</td>\n",
       "      <td>1</td>\n",
       "      <td>0.1</td>\n",
       "      <td>0.4</td>\n",
       "      <td>0</td>\n",
       "      <td>...</td>\n",
       "      <td>0</td>\n",
       "      <td>0</td>\n",
       "      <td>0</td>\n",
       "      <td>0</td>\n",
       "      <td>0</td>\n",
       "      <td>0</td>\n",
       "      <td>0</td>\n",
       "      <td>0</td>\n",
       "      <td>0</td>\n",
       "      <td>0</td>\n",
       "    </tr>\n",
       "  </tbody>\n",
       "</table>\n",
       "<p>2 rows × 818 columns</p>\n",
       "</div>"
      ],
      "text/plain": [
       "                                                text  target  cantidad_links  \\\n",
       "0  our deed are the reason of this earthquak may ...       1               0   \n",
       "1               forest fire near la rong sask canada       1               0   \n",
       "\n",
       "   cantidad_signos_pregunta  repeticiones  longitud_tweet  letras_seguidas  \\\n",
       "0                         0             1              70                2   \n",
       "1                         0             1              40                1   \n",
       "\n",
       "   sentimiento  objetividad  the  ...  he is  insultos_por_tweet  \\\n",
       "0          0.0          0.0    1  ...      0                   0   \n",
       "1          0.1          0.4    0  ...      0                   0   \n",
       "\n",
       "   expresiones_por_tweet  bombing  suicide  accident  disaster  police  died  \\\n",
       "0                      0        0        0         0         0       0     0   \n",
       "1                      0        0        0         0         0       0     0   \n",
       "\n",
       "   years  \n",
       "0      0  \n",
       "1      0  \n",
       "\n",
       "[2 rows x 818 columns]"
      ]
     },
     "execution_count": 153,
     "metadata": {},
     "output_type": "execute_result"
    }
   ],
   "source": [
    "train_limpio = pd.read_csv(\"train_limpio_con_stemming.csv\",encoding = \"ISO-8859-1\")\n",
    "train_limpio.head(2)"
   ]
  },
  {
   "cell_type": "code",
   "execution_count": 154,
   "metadata": {},
   "outputs": [
    {
     "data": {
      "text/plain": [
       "0    1\n",
       "1    1\n",
       "Name: target, dtype: int64"
      ]
     },
     "execution_count": 154,
     "metadata": {},
     "output_type": "execute_result"
    }
   ],
   "source": [
    "target = train_limpio[\"target\"]\n",
    "target.head(2)"
   ]
  },
  {
   "cell_type": "code",
   "execution_count": 155,
   "metadata": {},
   "outputs": [],
   "source": [
    "VALIDATION_SIZE = .8\n",
    "TEST_SIZE = .9\n",
    "df = train_limpio[[\"text\", \"target\"]]\n",
    "raw_train_ds, raw_val_ds, raw_test_ds = np.split(df.sample(frac=1), [int(VALIDATION_SIZE*len(df)), int(TEST_SIZE*len(df))])"
   ]
  },
  {
   "cell_type": "code",
   "execution_count": 156,
   "metadata": {},
   "outputs": [
    {
     "data": {
      "text/html": [
       "<div>\n",
       "<style scoped>\n",
       "    .dataframe tbody tr th:only-of-type {\n",
       "        vertical-align: middle;\n",
       "    }\n",
       "\n",
       "    .dataframe tbody tr th {\n",
       "        vertical-align: top;\n",
       "    }\n",
       "\n",
       "    .dataframe thead th {\n",
       "        text-align: right;\n",
       "    }\n",
       "</style>\n",
       "<table border=\"1\" class=\"dataframe\">\n",
       "  <thead>\n",
       "    <tr style=\"text-align: right;\">\n",
       "      <th></th>\n",
       "      <th>text</th>\n",
       "      <th>target</th>\n",
       "    </tr>\n",
       "  </thead>\n",
       "  <tbody>\n",
       "    <tr>\n",
       "      <th>3977</th>\n",
       "      <td>politician are use fals alleg to attack planne...</td>\n",
       "      <td>0</td>\n",
       "    </tr>\n",
       "    <tr>\n",
       "      <th>5322</th>\n",
       "      <td>sammi and todd alway to the rescu may not be i...</td>\n",
       "      <td>0</td>\n",
       "    </tr>\n",
       "  </tbody>\n",
       "</table>\n",
       "</div>"
      ],
      "text/plain": [
       "                                                   text  target\n",
       "3977  politician are use fals alleg to attack planne...       0\n",
       "5322  sammi and todd alway to the rescu may not be i...       0"
      ]
     },
     "execution_count": 156,
     "metadata": {},
     "output_type": "execute_result"
    }
   ],
   "source": [
    "raw_train_ds.head(2)"
   ]
  },
  {
   "cell_type": "code",
   "execution_count": 157,
   "metadata": {
    "scrolled": false
   },
   "outputs": [],
   "source": [
    "raw_train_ds = tf.data.Dataset.from_tensor_slices((raw_train_ds[\"text\"].to_numpy(dtype=\"str\"), raw_train_ds[\"target\"].values))\n",
    "raw_val_ds = tf.data.Dataset.from_tensor_slices((raw_val_ds[\"text\"].to_numpy(dtype=\"str\"), raw_val_ds[\"target\"].values))\n",
    "raw_test_ds = tf.data.Dataset.from_tensor_slices((raw_test_ds[\"text\"].to_numpy(dtype=\"str\"), raw_test_ds[\"target\"].values))\n",
    "\n",
    "\n",
    "train_examples_batch, train_labels_batch = next(iter(raw_train_ds.batch(10)))"
   ]
  },
  {
   "cell_type": "code",
   "execution_count": 158,
   "metadata": {},
   "outputs": [
    {
     "data": {
      "text/plain": [
       "<tf.Tensor: shape=(10,), dtype=string, numpy=\n",
       "array([b'politician are use fals alleg to attack plannedparenthood amp harm women we arent fool we standwithpp ',\n",
       "       b'sammi and todd alway to the rescu may not be in uniform but still to the rescu lmao forev kfc fam',\n",
       "       b'horribl accid man die in wing airplan  watchthevideo ',\n",
       "       b'video were pick up bodi from water rescuer are search for hundr of migrant in  httptcoawtscucbbv africa news',\n",
       "       b'propertycasualti insur rate up  in juli after sever month of no movement commerci propertycasu ',\n",
       "       b'if you cant have the roar of the wave a rainstorm amp some rolling\\xc3\\x82\\xc2\\x89\\xc3\\x82\\xc2\\x9b httpstcodlvyfvnqe',\n",
       "       b'rss judg order texa to recogn spous on samesex death certif  ',\n",
       "       b'white ppl bruis easili where ur bullet wound at  \\n\\n',\n",
       "       b'at least  dead a million displac in india flood  india  reliefweb ',\n",
       "       b'roguewatson noth wrong with that the lethal weapon seri is great yes theyr all great'],\n",
       "      dtype=object)>"
      ]
     },
     "execution_count": 158,
     "metadata": {},
     "output_type": "execute_result"
    }
   ],
   "source": [
    "train_examples_batch"
   ]
  },
  {
   "cell_type": "code",
   "execution_count": 159,
   "metadata": {},
   "outputs": [
    {
     "data": {
      "text/plain": [
       "<tf.Tensor: shape=(10,), dtype=int64, numpy=array([0, 0, 1, 1, 1, 0, 0, 0, 1, 0])>"
      ]
     },
     "execution_count": 159,
     "metadata": {},
     "output_type": "execute_result"
    }
   ],
   "source": [
    "train_labels_batch"
   ]
  },
  {
   "cell_type": "code",
   "execution_count": 160,
   "metadata": {},
   "outputs": [],
   "source": [
    "embedding = \"https://tfhub.dev/google/tf2-preview/gnews-swivel-20dim/1\"\n",
    "hub_layer = hub.KerasLayer(embedding, input_shape=[], \n",
    "                           dtype=tf.string, trainable=True)"
   ]
  },
  {
   "cell_type": "code",
   "execution_count": 161,
   "metadata": {},
   "outputs": [
    {
     "data": {
      "text/plain": [
       "<tf.Tensor: shape=(3, 20), dtype=float32, numpy=\n",
       "array([[ 0.8806901 , -0.63843614,  1.1812737 ,  0.5551796 , -0.5470011 ,\n",
       "        -2.008675  , -0.05108148,  1.1161855 ,  1.0660561 ,  0.5322714 ,\n",
       "         0.51325893, -0.52694666, -0.4781363 ,  0.5712763 , -1.9952533 ,\n",
       "         0.7040844 ,  1.5689149 , -1.0832438 , -1.1463627 , -0.37682045],\n",
       "       [ 0.26734033, -0.38470826,  0.7676315 ,  0.59553486, -0.5820006 ,\n",
       "        -1.0275128 , -0.2141339 ,  0.4378508 , -0.28285223,  0.36845356,\n",
       "        -0.07228809,  0.23669232, -0.56938297,  0.27845785, -1.1052439 ,\n",
       "         0.87956715,  1.2939352 , -0.7076304 , -0.6128581 , -0.14476882],\n",
       "       [ 0.37912795, -0.20211546, -0.35258245, -0.5629716 ,  0.33592448,\n",
       "        -0.27964857, -0.17014645,  0.77870774,  0.6412596 ,  0.37272575,\n",
       "        -0.39419985,  0.45950374, -0.08239779, -0.21659683, -0.78740853,\n",
       "         1.0758795 , -0.21799651, -0.40427515, -0.97689706,  0.13644128]],\n",
       "      dtype=float32)>"
      ]
     },
     "execution_count": 161,
     "metadata": {},
     "output_type": "execute_result"
    }
   ],
   "source": [
    "hub_layer(train_examples_batch[:3])"
   ]
  },
  {
   "cell_type": "markdown",
   "metadata": {},
   "source": [
    "### Esto es el modelo y, aunque parezca lo más dificil, es lo que más se entiende hasta ahora"
   ]
  },
  {
   "cell_type": "code",
   "execution_count": 162,
   "metadata": {},
   "outputs": [],
   "source": [
    "model = tf.keras.Sequential()\n",
    "model.add(hub_layer)\n",
    "model.add(tf.keras.layers.Dense(16, activation='relu'))\n",
    "model.add(tf.keras.layers.Dense(1))\n",
    "model.compile(optimizer='adam',\n",
    "              loss=tf.keras.losses.BinaryCrossentropy(from_logits=True),\n",
    "              metrics=['accuracy', 'binary_crossentropy'])\n",
    "history = model.fit(raw_train_ds.shuffle(5000).batch(512),\n",
    "                    epochs=30,\n",
    "                    validation_data=raw_val_ds.batch(512), verbose=0)\n",
    "historyMap = {}\n",
    "historyMap[\"some model\"] = history"
   ]
  },
  {
   "cell_type": "code",
   "execution_count": 163,
   "metadata": {},
   "outputs": [
    {
     "name": "stdout",
     "output_type": "stream",
     "text": [
      "2/2 [==============================] - 0s 2ms/step - loss: 0.5177 - accuracy: 0.7493 - binary_crossentropy: 2.8991\n"
     ]
    },
    {
     "data": {
      "text/plain": [
       "[0.5176699161529541, 0.7492997050285339, 2.899094581604004]"
      ]
     },
     "execution_count": 163,
     "metadata": {},
     "output_type": "execute_result"
    }
   ],
   "source": [
    "model.evaluate(raw_test_ds.batch(512))"
   ]
  },
  {
   "cell_type": "markdown",
   "metadata": {},
   "source": [
    "## Submission"
   ]
  },
  {
   "cell_type": "code",
   "execution_count": 164,
   "metadata": {},
   "outputs": [
    {
     "data": {
      "text/html": [
       "<div>\n",
       "<style scoped>\n",
       "    .dataframe tbody tr th:only-of-type {\n",
       "        vertical-align: middle;\n",
       "    }\n",
       "\n",
       "    .dataframe tbody tr th {\n",
       "        vertical-align: top;\n",
       "    }\n",
       "\n",
       "    .dataframe thead th {\n",
       "        text-align: right;\n",
       "    }\n",
       "</style>\n",
       "<table border=\"1\" class=\"dataframe\">\n",
       "  <thead>\n",
       "    <tr style=\"text-align: right;\">\n",
       "      <th></th>\n",
       "      <th>id</th>\n",
       "      <th>keyword</th>\n",
       "      <th>location</th>\n",
       "      <th>text</th>\n",
       "      <th>cantidad_links</th>\n",
       "      <th>cantidad_signos_pregunta</th>\n",
       "      <th>repeticiones</th>\n",
       "      <th>longitud_tweet</th>\n",
       "      <th>letras_seguidas</th>\n",
       "      <th>sentimiento</th>\n",
       "      <th>...</th>\n",
       "      <th>he is</th>\n",
       "      <th>insultos_por_tweet</th>\n",
       "      <th>expresiones_por_tweet</th>\n",
       "      <th>bombing</th>\n",
       "      <th>suicide</th>\n",
       "      <th>accident</th>\n",
       "      <th>disaster</th>\n",
       "      <th>police</th>\n",
       "      <th>died</th>\n",
       "      <th>years</th>\n",
       "    </tr>\n",
       "  </thead>\n",
       "  <tbody>\n",
       "    <tr>\n",
       "      <th>0</th>\n",
       "      <td>0</td>\n",
       "      <td>NaN</td>\n",
       "      <td>NaN</td>\n",
       "      <td>just happen a terribl car crash</td>\n",
       "      <td>0</td>\n",
       "      <td>0</td>\n",
       "      <td>1</td>\n",
       "      <td>40</td>\n",
       "      <td>2</td>\n",
       "      <td>-1.00</td>\n",
       "      <td>...</td>\n",
       "      <td>0</td>\n",
       "      <td>0</td>\n",
       "      <td>0</td>\n",
       "      <td>0</td>\n",
       "      <td>0</td>\n",
       "      <td>0</td>\n",
       "      <td>0</td>\n",
       "      <td>0</td>\n",
       "      <td>0</td>\n",
       "      <td>0</td>\n",
       "    </tr>\n",
       "    <tr>\n",
       "      <th>1</th>\n",
       "      <td>2</td>\n",
       "      <td>NaN</td>\n",
       "      <td>NaN</td>\n",
       "      <td>heard about earthquak is differ citi stay safe...</td>\n",
       "      <td>0</td>\n",
       "      <td>0</td>\n",
       "      <td>1</td>\n",
       "      <td>70</td>\n",
       "      <td>2</td>\n",
       "      <td>0.25</td>\n",
       "      <td>...</td>\n",
       "      <td>0</td>\n",
       "      <td>0</td>\n",
       "      <td>0</td>\n",
       "      <td>0</td>\n",
       "      <td>0</td>\n",
       "      <td>0</td>\n",
       "      <td>0</td>\n",
       "      <td>0</td>\n",
       "      <td>0</td>\n",
       "      <td>0</td>\n",
       "    </tr>\n",
       "  </tbody>\n",
       "</table>\n",
       "<p>2 rows × 820 columns</p>\n",
       "</div>"
      ],
      "text/plain": [
       "   id keyword location                                               text  \\\n",
       "0   0     NaN      NaN                    just happen a terribl car crash   \n",
       "1   2     NaN      NaN  heard about earthquak is differ citi stay safe...   \n",
       "\n",
       "   cantidad_links  cantidad_signos_pregunta  repeticiones  longitud_tweet  \\\n",
       "0               0                         0             1              40   \n",
       "1               0                         0             1              70   \n",
       "\n",
       "   letras_seguidas  sentimiento  ...  he is  insultos_por_tweet  \\\n",
       "0                2        -1.00  ...      0                   0   \n",
       "1                2         0.25  ...      0                   0   \n",
       "\n",
       "   expresiones_por_tweet  bombing  suicide  accident  disaster  police  died  \\\n",
       "0                      0        0        0         0         0       0     0   \n",
       "1                      0        0        0         0         0       0     0   \n",
       "\n",
       "   years  \n",
       "0      0  \n",
       "1      0  \n",
       "\n",
       "[2 rows x 820 columns]"
      ]
     },
     "execution_count": 164,
     "metadata": {},
     "output_type": "execute_result"
    }
   ],
   "source": [
    "test_limpio = pd.read_csv(\"test_limpio_con_stemming.csv\",encoding = \"ISO-8859-1\")\n",
    "test_limpio.head(2)"
   ]
  },
  {
   "cell_type": "code",
   "execution_count": 165,
   "metadata": {},
   "outputs": [
    {
     "data": {
      "text/plain": [
       "3263"
      ]
     },
     "execution_count": 165,
     "metadata": {},
     "output_type": "execute_result"
    }
   ],
   "source": [
    "predictionsInputsDF = test_limpio[\"text\"]\n",
    "len(predictionsInputsDF)\n"
   ]
  },
  {
   "cell_type": "code",
   "execution_count": 166,
   "metadata": {},
   "outputs": [
    {
     "data": {
      "text/plain": [
       "<tf.Tensor: shape=(10,), dtype=string, numpy=\n",
       "array([b'just happen a terribl car crash',\n",
       "       b'heard about earthquak is differ citi stay safe everyon',\n",
       "       b'there is a forest fire at spot pond gees are flee across the street i cannot save them all',\n",
       "       b'apocalyps light spokan wildfir',\n",
       "       b'typhoon soudelor kill  in china and taiwan',\n",
       "       b'were shakingit an earthquak',\n",
       "       b'theyd probabl still show more life than arsenal did yesterday eh eh',\n",
       "       b'hey how are you', b'what a nice hat', b'fuck off'], dtype=object)>"
      ]
     },
     "execution_count": 166,
     "metadata": {},
     "output_type": "execute_result"
    }
   ],
   "source": [
    "predictionsInputsX = tf.data.Dataset.from_tensor_slices((predictionsInputsDF.to_numpy(dtype=\"str\")))\n",
    "next(iter(predictionsInputsX.batch(10)))"
   ]
  },
  {
   "cell_type": "code",
   "execution_count": 167,
   "metadata": {},
   "outputs": [
    {
     "data": {
      "text/plain": [
       "3263"
      ]
     },
     "execution_count": 167,
     "metadata": {},
     "output_type": "execute_result"
    }
   ],
   "source": [
    "predictionsOutput = model.predict_classes(predictionsInputsX.batch(512))\n",
    "len(predictionsOutput)"
   ]
  },
  {
   "cell_type": "code",
   "execution_count": 168,
   "metadata": {},
   "outputs": [],
   "source": [
    "test_limpio[\"target\"] = predictionsOutput"
   ]
  },
  {
   "cell_type": "code",
   "execution_count": 169,
   "metadata": {},
   "outputs": [
    {
     "data": {
      "text/html": [
       "<div>\n",
       "<style scoped>\n",
       "    .dataframe tbody tr th:only-of-type {\n",
       "        vertical-align: middle;\n",
       "    }\n",
       "\n",
       "    .dataframe tbody tr th {\n",
       "        vertical-align: top;\n",
       "    }\n",
       "\n",
       "    .dataframe thead th {\n",
       "        text-align: right;\n",
       "    }\n",
       "</style>\n",
       "<table border=\"1\" class=\"dataframe\">\n",
       "  <thead>\n",
       "    <tr style=\"text-align: right;\">\n",
       "      <th></th>\n",
       "      <th>id</th>\n",
       "      <th>target</th>\n",
       "    </tr>\n",
       "  </thead>\n",
       "  <tbody>\n",
       "    <tr>\n",
       "      <th>0</th>\n",
       "      <td>0</td>\n",
       "      <td>1</td>\n",
       "    </tr>\n",
       "    <tr>\n",
       "      <th>1</th>\n",
       "      <td>2</td>\n",
       "      <td>0</td>\n",
       "    </tr>\n",
       "    <tr>\n",
       "      <th>2</th>\n",
       "      <td>3</td>\n",
       "      <td>1</td>\n",
       "    </tr>\n",
       "    <tr>\n",
       "      <th>3</th>\n",
       "      <td>9</td>\n",
       "      <td>0</td>\n",
       "    </tr>\n",
       "    <tr>\n",
       "      <th>4</th>\n",
       "      <td>11</td>\n",
       "      <td>1</td>\n",
       "    </tr>\n",
       "    <tr>\n",
       "      <th>5</th>\n",
       "      <td>12</td>\n",
       "      <td>1</td>\n",
       "    </tr>\n",
       "    <tr>\n",
       "      <th>6</th>\n",
       "      <td>21</td>\n",
       "      <td>0</td>\n",
       "    </tr>\n",
       "    <tr>\n",
       "      <th>7</th>\n",
       "      <td>22</td>\n",
       "      <td>0</td>\n",
       "    </tr>\n",
       "    <tr>\n",
       "      <th>8</th>\n",
       "      <td>27</td>\n",
       "      <td>0</td>\n",
       "    </tr>\n",
       "    <tr>\n",
       "      <th>9</th>\n",
       "      <td>29</td>\n",
       "      <td>0</td>\n",
       "    </tr>\n",
       "  </tbody>\n",
       "</table>\n",
       "</div>"
      ],
      "text/plain": [
       "   id  target\n",
       "0   0       1\n",
       "1   2       0\n",
       "2   3       1\n",
       "3   9       0\n",
       "4  11       1\n",
       "5  12       1\n",
       "6  21       0\n",
       "7  22       0\n",
       "8  27       0\n",
       "9  29       0"
      ]
     },
     "execution_count": 169,
     "metadata": {},
     "output_type": "execute_result"
    }
   ],
   "source": [
    "test_limpio[[\"id\", \"target\"]].head(10)"
   ]
  },
  {
   "cell_type": "code",
   "execution_count": 170,
   "metadata": {},
   "outputs": [],
   "source": [
    "test_limpio[[\"id\", \"target\"]].to_csv('NN_predictions.csv', index=False)"
   ]
  }
 ],
 "metadata": {
  "kernelspec": {
   "display_name": "Python 3",
   "language": "python",
   "name": "python3"
  },
  "language_info": {
   "codemirror_mode": {
    "name": "ipython",
    "version": 3
   },
   "file_extension": ".py",
   "mimetype": "text/x-python",
   "name": "python",
   "nbconvert_exporter": "python",
   "pygments_lexer": "ipython3",
   "version": "3.6.9"
  }
 },
 "nbformat": 4,
 "nbformat_minor": 2
}
