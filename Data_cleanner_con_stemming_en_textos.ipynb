{
 "cells": [
  {
   "cell_type": "code",
   "execution_count": 186,
   "metadata": {},
   "outputs": [],
   "source": [
    "import pandas as pd\n",
    "import numpy as np\n",
    "import re\n",
    "import string"
   ]
  },
  {
   "cell_type": "code",
   "execution_count": 187,
   "metadata": {},
   "outputs": [],
   "source": [
    "from nltk.stem.snowball import SnowballStemmer"
   ]
  },
  {
   "cell_type": "code",
   "execution_count": 188,
   "metadata": {},
   "outputs": [],
   "source": [
    "stemmer = SnowballStemmer(\"english\")"
   ]
  },
  {
   "cell_type": "code",
   "execution_count": 189,
   "metadata": {},
   "outputs": [],
   "source": [
    "pd.set_option('display.max_colwidth', None)"
   ]
  },
  {
   "cell_type": "code",
   "execution_count": 190,
   "metadata": {
    "scrolled": true
   },
   "outputs": [
    {
     "data": {
      "text/html": [
       "<div>\n",
       "<style scoped>\n",
       "    .dataframe tbody tr th:only-of-type {\n",
       "        vertical-align: middle;\n",
       "    }\n",
       "\n",
       "    .dataframe tbody tr th {\n",
       "        vertical-align: top;\n",
       "    }\n",
       "\n",
       "    .dataframe thead th {\n",
       "        text-align: right;\n",
       "    }\n",
       "</style>\n",
       "<table border=\"1\" class=\"dataframe\">\n",
       "  <thead>\n",
       "    <tr style=\"text-align: right;\">\n",
       "      <th></th>\n",
       "      <th>id</th>\n",
       "      <th>keyword</th>\n",
       "      <th>location</th>\n",
       "      <th>text</th>\n",
       "      <th>target</th>\n",
       "    </tr>\n",
       "  </thead>\n",
       "  <tbody>\n",
       "    <tr>\n",
       "      <th>0</th>\n",
       "      <td>1</td>\n",
       "      <td>NaN</td>\n",
       "      <td>NaN</td>\n",
       "      <td>Our Deeds are the Reason of this #earthquake May ALLAH Forgive us all</td>\n",
       "      <td>1</td>\n",
       "    </tr>\n",
       "    <tr>\n",
       "      <th>1</th>\n",
       "      <td>4</td>\n",
       "      <td>NaN</td>\n",
       "      <td>NaN</td>\n",
       "      <td>Forest fire near La Ronge Sask. Canada</td>\n",
       "      <td>1</td>\n",
       "    </tr>\n",
       "    <tr>\n",
       "      <th>2</th>\n",
       "      <td>5</td>\n",
       "      <td>NaN</td>\n",
       "      <td>NaN</td>\n",
       "      <td>All residents asked to 'shelter in place' are being notified by officers. No other evacuation or shelter in place orders are expected</td>\n",
       "      <td>1</td>\n",
       "    </tr>\n",
       "    <tr>\n",
       "      <th>3</th>\n",
       "      <td>6</td>\n",
       "      <td>NaN</td>\n",
       "      <td>NaN</td>\n",
       "      <td>13,000 people receive #wildfires evacuation orders in California</td>\n",
       "      <td>1</td>\n",
       "    </tr>\n",
       "    <tr>\n",
       "      <th>4</th>\n",
       "      <td>7</td>\n",
       "      <td>NaN</td>\n",
       "      <td>NaN</td>\n",
       "      <td>Just got sent this photo from Ruby #Alaska as smoke from #wildfires pours into a school</td>\n",
       "      <td>1</td>\n",
       "    </tr>\n",
       "  </tbody>\n",
       "</table>\n",
       "</div>"
      ],
      "text/plain": [
       "   id keyword location  \\\n",
       "0   1     NaN      NaN   \n",
       "1   4     NaN      NaN   \n",
       "2   5     NaN      NaN   \n",
       "3   6     NaN      NaN   \n",
       "4   7     NaN      NaN   \n",
       "\n",
       "                                                                                                                                    text  \\\n",
       "0                                                                  Our Deeds are the Reason of this #earthquake May ALLAH Forgive us all   \n",
       "1                                                                                                 Forest fire near La Ronge Sask. Canada   \n",
       "2  All residents asked to 'shelter in place' are being notified by officers. No other evacuation or shelter in place orders are expected   \n",
       "3                                                                      13,000 people receive #wildfires evacuation orders in California    \n",
       "4                                               Just got sent this photo from Ruby #Alaska as smoke from #wildfires pours into a school    \n",
       "\n",
       "   target  \n",
       "0       1  \n",
       "1       1  \n",
       "2       1  \n",
       "3       1  \n",
       "4       1  "
      ]
     },
     "execution_count": 190,
     "metadata": {},
     "output_type": "execute_result"
    }
   ],
   "source": [
    "train = pd.read_csv(\"train.csv\",encoding = \"ISO-8859-1\")\n",
    "train.head(5)"
   ]
  },
  {
   "cell_type": "code",
   "execution_count": 191,
   "metadata": {},
   "outputs": [
    {
     "data": {
      "text/html": [
       "<div>\n",
       "<style scoped>\n",
       "    .dataframe tbody tr th:only-of-type {\n",
       "        vertical-align: middle;\n",
       "    }\n",
       "\n",
       "    .dataframe tbody tr th {\n",
       "        vertical-align: top;\n",
       "    }\n",
       "\n",
       "    .dataframe thead th {\n",
       "        text-align: right;\n",
       "    }\n",
       "</style>\n",
       "<table border=\"1\" class=\"dataframe\">\n",
       "  <thead>\n",
       "    <tr style=\"text-align: right;\">\n",
       "      <th></th>\n",
       "      <th>id</th>\n",
       "      <th>keyword</th>\n",
       "      <th>location</th>\n",
       "      <th>text</th>\n",
       "    </tr>\n",
       "  </thead>\n",
       "  <tbody>\n",
       "    <tr>\n",
       "      <th>0</th>\n",
       "      <td>0</td>\n",
       "      <td>NaN</td>\n",
       "      <td>NaN</td>\n",
       "      <td>Just happened a terrible car crash</td>\n",
       "    </tr>\n",
       "    <tr>\n",
       "      <th>1</th>\n",
       "      <td>2</td>\n",
       "      <td>NaN</td>\n",
       "      <td>NaN</td>\n",
       "      <td>Heard about #earthquake is different cities, stay safe everyone.</td>\n",
       "    </tr>\n",
       "    <tr>\n",
       "      <th>2</th>\n",
       "      <td>3</td>\n",
       "      <td>NaN</td>\n",
       "      <td>NaN</td>\n",
       "      <td>there is a forest fire at spot pond, geese are fleeing across the street, I cannot save them all</td>\n",
       "    </tr>\n",
       "    <tr>\n",
       "      <th>3</th>\n",
       "      <td>9</td>\n",
       "      <td>NaN</td>\n",
       "      <td>NaN</td>\n",
       "      <td>Apocalypse lighting. #Spokane #wildfires</td>\n",
       "    </tr>\n",
       "    <tr>\n",
       "      <th>4</th>\n",
       "      <td>11</td>\n",
       "      <td>NaN</td>\n",
       "      <td>NaN</td>\n",
       "      <td>Typhoon Soudelor kills 28 in China and Taiwan</td>\n",
       "    </tr>\n",
       "  </tbody>\n",
       "</table>\n",
       "</div>"
      ],
      "text/plain": [
       "   id keyword location  \\\n",
       "0   0     NaN      NaN   \n",
       "1   2     NaN      NaN   \n",
       "2   3     NaN      NaN   \n",
       "3   9     NaN      NaN   \n",
       "4  11     NaN      NaN   \n",
       "\n",
       "                                                                                               text  \n",
       "0                                                                Just happened a terrible car crash  \n",
       "1                                  Heard about #earthquake is different cities, stay safe everyone.  \n",
       "2  there is a forest fire at spot pond, geese are fleeing across the street, I cannot save them all  \n",
       "3                                                          Apocalypse lighting. #Spokane #wildfires  \n",
       "4                                                     Typhoon Soudelor kills 28 in China and Taiwan  "
      ]
     },
     "execution_count": 191,
     "metadata": {},
     "output_type": "execute_result"
    }
   ],
   "source": [
    "test = pd.read_csv(\"test.csv\",encoding = \"ISO-8859-1\")\n",
    "test.head(5)"
   ]
  },
  {
   "cell_type": "markdown",
   "metadata": {},
   "source": [
    "## Cuento los links de cada tweet: (tengo que hacerlo antes de limpiarlos porque en la limpieza se pierden)"
   ]
  },
  {
   "cell_type": "code",
   "execution_count": 192,
   "metadata": {},
   "outputs": [],
   "source": [
    "train['cantidad_links'] = train['text'].str.count('http')"
   ]
  },
  {
   "cell_type": "code",
   "execution_count": 193,
   "metadata": {},
   "outputs": [],
   "source": [
    "test['cantidad_links'] = test['text'].str.count('http')"
   ]
  },
  {
   "cell_type": "code",
   "execution_count": 194,
   "metadata": {
    "scrolled": true
   },
   "outputs": [
    {
     "data": {
      "text/html": [
       "<div>\n",
       "<style scoped>\n",
       "    .dataframe tbody tr th:only-of-type {\n",
       "        vertical-align: middle;\n",
       "    }\n",
       "\n",
       "    .dataframe tbody tr th {\n",
       "        vertical-align: top;\n",
       "    }\n",
       "\n",
       "    .dataframe thead th {\n",
       "        text-align: right;\n",
       "    }\n",
       "</style>\n",
       "<table border=\"1\" class=\"dataframe\">\n",
       "  <thead>\n",
       "    <tr style=\"text-align: right;\">\n",
       "      <th></th>\n",
       "      <th>id</th>\n",
       "      <th>keyword</th>\n",
       "      <th>location</th>\n",
       "      <th>text</th>\n",
       "      <th>target</th>\n",
       "      <th>cantidad_links</th>\n",
       "    </tr>\n",
       "  </thead>\n",
       "  <tbody>\n",
       "    <tr>\n",
       "      <th>40</th>\n",
       "      <td>59</td>\n",
       "      <td>ablaze</td>\n",
       "      <td>Live On Webcam</td>\n",
       "      <td>Check these out: http://t.co/rOI2NSmEJJ http://t.co/3Tj8ZjiN21 http://t.co/YDUiXEfIpE http://t.co/LxTjc87KLS #nsfw</td>\n",
       "      <td>0</td>\n",
       "      <td>4</td>\n",
       "    </tr>\n",
       "    <tr>\n",
       "      <th>48</th>\n",
       "      <td>68</td>\n",
       "      <td>ablaze</td>\n",
       "      <td>Live On Webcam</td>\n",
       "      <td>Check these out: http://t.co/rOI2NSmEJJ http://t.co/3Tj8ZjiN21 http://t.co/YDUiXEfIpE http://t.co/LxTjc87KLS #nsfw</td>\n",
       "      <td>0</td>\n",
       "      <td>4</td>\n",
       "    </tr>\n",
       "    <tr>\n",
       "      <th>7082</th>\n",
       "      <td>10143</td>\n",
       "      <td>upheaval</td>\n",
       "      <td>Attock</td>\n",
       "      <td>Ancient Mayan Tablet found via http://t.co/LmUMzkLtln http://t.co/yebxxAryBF http://t.co/SRRUqfffr6 http://t.co/CadzxAgMSI</td>\n",
       "      <td>0</td>\n",
       "      <td>4</td>\n",
       "    </tr>\n",
       "    <tr>\n",
       "      <th>1060</th>\n",
       "      <td>1531</td>\n",
       "      <td>bomb</td>\n",
       "      <td>NaN</td>\n",
       "      <td>beforeitsnews : Global Derivatives: $1.5 Quadrillion Time Bomb http://t.co/GhmmUj7GbE (vÂÃ_ http://t.co/u9LvvLzhYe) http://t.co/LyJ57pq3yX</td>\n",
       "      <td>0</td>\n",
       "      <td>3</td>\n",
       "    </tr>\n",
       "    <tr>\n",
       "      <th>1373</th>\n",
       "      <td>1980</td>\n",
       "      <td>bush%20fires</td>\n",
       "      <td>Trinidad and Tobago</td>\n",
       "      <td>Drought fuels bush fires in Jamaica - http://t.co/ZDtDqQbAHC http://t.co/PsQCNsVfgP - @JamaicaObserver @cnewslive RE https://t.co/6ZGef8J8Bm</td>\n",
       "      <td>1</td>\n",
       "      <td>3</td>\n",
       "    </tr>\n",
       "  </tbody>\n",
       "</table>\n",
       "</div>"
      ],
      "text/plain": [
       "         id       keyword             location  \\\n",
       "40       59        ablaze       Live On Webcam   \n",
       "48       68        ablaze       Live On Webcam   \n",
       "7082  10143      upheaval               Attock   \n",
       "1060   1531          bomb                  NaN   \n",
       "1373   1980  bush%20fires  Trinidad and Tobago   \n",
       "\n",
       "                                                                                                                                              text  \\\n",
       "40                              Check these out: http://t.co/rOI2NSmEJJ http://t.co/3Tj8ZjiN21 http://t.co/YDUiXEfIpE http://t.co/LxTjc87KLS #nsfw   \n",
       "48                              Check these out: http://t.co/rOI2NSmEJJ http://t.co/3Tj8ZjiN21 http://t.co/YDUiXEfIpE http://t.co/LxTjc87KLS #nsfw   \n",
       "7082                    Ancient Mayan Tablet found via http://t.co/LmUMzkLtln http://t.co/yebxxAryBF http://t.co/SRRUqfffr6 http://t.co/CadzxAgMSI   \n",
       "1060  beforeitsnews : Global Derivatives: $1.5 Quadrillion Time Bomb http://t.co/GhmmUj7GbE (vÂÃ_ http://t.co/u9LvvLzhYe) http://t.co/LyJ57pq3yX   \n",
       "1373  Drought fuels bush fires in Jamaica - http://t.co/ZDtDqQbAHC http://t.co/PsQCNsVfgP - @JamaicaObserver @cnewslive RE https://t.co/6ZGef8J8Bm   \n",
       "\n",
       "      target  cantidad_links  \n",
       "40         0               4  \n",
       "48         0               4  \n",
       "7082       0               4  \n",
       "1060       0               3  \n",
       "1373       1               3  "
      ]
     },
     "execution_count": 194,
     "metadata": {},
     "output_type": "execute_result"
    }
   ],
   "source": [
    "train.nlargest(30,'cantidad_links').head()"
   ]
  },
  {
   "cell_type": "markdown",
   "metadata": {},
   "source": [
    "## Signos de pregunta"
   ]
  },
  {
   "cell_type": "code",
   "execution_count": 195,
   "metadata": {},
   "outputs": [],
   "source": [
    "test['cantidad_signos_pregunta'] = test['text'].str.count('\\?')"
   ]
  },
  {
   "cell_type": "code",
   "execution_count": 196,
   "metadata": {},
   "outputs": [],
   "source": [
    "train['cantidad_signos_pregunta'] = train['text'].str.count('\\?')"
   ]
  },
  {
   "cell_type": "markdown",
   "metadata": {},
   "source": [
    "## Limpieza de los textos"
   ]
  },
  {
   "cell_type": "code",
   "execution_count": 197,
   "metadata": {},
   "outputs": [],
   "source": [
    "train_limpio = train.copy()"
   ]
  },
  {
   "cell_type": "code",
   "execution_count": 198,
   "metadata": {},
   "outputs": [],
   "source": [
    "test_limpio = test.copy()"
   ]
  },
  {
   "cell_type": "code",
   "execution_count": 199,
   "metadata": {},
   "outputs": [],
   "source": [
    "def clean_text(text):\n",
    "    '''Make text lowercase, remove text in square brackets, remove punctuation and remove words containing numbers.'''\n",
    "    text = text.lower()  #quito_mayusculas\n",
    "    text = re.sub('[%s]' % re.escape(string.punctuation), '', text)  #quito caracteres inusuales\n",
    "    text = re.sub('â' , '', text)  #quito caracteres inusuales\n",
    "    text = re.sub('ª' , '', text)  #quito caracteres inusuales\n",
    "    text = re.sub('ã' , '', text)  #quito caracteres inusuales\n",
    "    text = re.sub('¼' , '', text)  #quito caracteres inusuales\n",
    "    text = re.sub('\\w*\\d\\w*', '', text)  # quito numeros\n",
    "    return text"
   ]
  },
  {
   "cell_type": "code",
   "execution_count": 200,
   "metadata": {
    "scrolled": false
   },
   "outputs": [
    {
     "data": {
      "text/html": [
       "<div>\n",
       "<style scoped>\n",
       "    .dataframe tbody tr th:only-of-type {\n",
       "        vertical-align: middle;\n",
       "    }\n",
       "\n",
       "    .dataframe tbody tr th {\n",
       "        vertical-align: top;\n",
       "    }\n",
       "\n",
       "    .dataframe thead th {\n",
       "        text-align: right;\n",
       "    }\n",
       "</style>\n",
       "<table border=\"1\" class=\"dataframe\">\n",
       "  <thead>\n",
       "    <tr style=\"text-align: right;\">\n",
       "      <th></th>\n",
       "      <th>id</th>\n",
       "      <th>keyword</th>\n",
       "      <th>location</th>\n",
       "      <th>text</th>\n",
       "      <th>target</th>\n",
       "      <th>cantidad_links</th>\n",
       "      <th>cantidad_signos_pregunta</th>\n",
       "    </tr>\n",
       "  </thead>\n",
       "  <tbody>\n",
       "    <tr>\n",
       "      <th>0</th>\n",
       "      <td>1</td>\n",
       "      <td>NaN</td>\n",
       "      <td>NaN</td>\n",
       "      <td>our deeds are the reason of this earthquake may allah forgive us all</td>\n",
       "      <td>1</td>\n",
       "      <td>0</td>\n",
       "      <td>0</td>\n",
       "    </tr>\n",
       "    <tr>\n",
       "      <th>1</th>\n",
       "      <td>4</td>\n",
       "      <td>NaN</td>\n",
       "      <td>NaN</td>\n",
       "      <td>forest fire near la ronge sask canada</td>\n",
       "      <td>1</td>\n",
       "      <td>0</td>\n",
       "      <td>0</td>\n",
       "    </tr>\n",
       "    <tr>\n",
       "      <th>2</th>\n",
       "      <td>5</td>\n",
       "      <td>NaN</td>\n",
       "      <td>NaN</td>\n",
       "      <td>all residents asked to shelter in place are being notified by officers no other evacuation or shelter in place orders are expected</td>\n",
       "      <td>1</td>\n",
       "      <td>0</td>\n",
       "      <td>0</td>\n",
       "    </tr>\n",
       "    <tr>\n",
       "      <th>3</th>\n",
       "      <td>6</td>\n",
       "      <td>NaN</td>\n",
       "      <td>NaN</td>\n",
       "      <td>people receive wildfires evacuation orders in california</td>\n",
       "      <td>1</td>\n",
       "      <td>0</td>\n",
       "      <td>0</td>\n",
       "    </tr>\n",
       "    <tr>\n",
       "      <th>4</th>\n",
       "      <td>7</td>\n",
       "      <td>NaN</td>\n",
       "      <td>NaN</td>\n",
       "      <td>just got sent this photo from ruby alaska as smoke from wildfires pours into a school</td>\n",
       "      <td>1</td>\n",
       "      <td>0</td>\n",
       "      <td>0</td>\n",
       "    </tr>\n",
       "  </tbody>\n",
       "</table>\n",
       "</div>"
      ],
      "text/plain": [
       "   id keyword location  \\\n",
       "0   1     NaN      NaN   \n",
       "1   4     NaN      NaN   \n",
       "2   5     NaN      NaN   \n",
       "3   6     NaN      NaN   \n",
       "4   7     NaN      NaN   \n",
       "\n",
       "                                                                                                                                 text  \\\n",
       "0                                                                our deeds are the reason of this earthquake may allah forgive us all   \n",
       "1                                                                                               forest fire near la ronge sask canada   \n",
       "2  all residents asked to shelter in place are being notified by officers no other evacuation or shelter in place orders are expected   \n",
       "3                                                                           people receive wildfires evacuation orders in california    \n",
       "4                                              just got sent this photo from ruby alaska as smoke from wildfires pours into a school    \n",
       "\n",
       "   target  cantidad_links  cantidad_signos_pregunta  \n",
       "0       1               0                         0  \n",
       "1       1               0                         0  \n",
       "2       1               0                         0  \n",
       "3       1               0                         0  \n",
       "4       1               0                         0  "
      ]
     },
     "execution_count": 200,
     "metadata": {},
     "output_type": "execute_result"
    }
   ],
   "source": [
    "train_limpio['text'] = train_limpio['text'].apply(lambda x: clean_text(x))\n",
    "train_limpio.head()"
   ]
  },
  {
   "cell_type": "code",
   "execution_count": 201,
   "metadata": {},
   "outputs": [],
   "source": [
    "test_limpio['text'] = test_limpio['text'].apply(lambda x: clean_text(x))"
   ]
  },
  {
   "cell_type": "markdown",
   "metadata": {},
   "source": [
    "## Analizar las repeticiones de un tweet"
   ]
  },
  {
   "cell_type": "code",
   "execution_count": 202,
   "metadata": {
    "scrolled": true
   },
   "outputs": [
    {
     "data": {
      "text/html": [
       "<div>\n",
       "<style scoped>\n",
       "    .dataframe tbody tr th:only-of-type {\n",
       "        vertical-align: middle;\n",
       "    }\n",
       "\n",
       "    .dataframe tbody tr th {\n",
       "        vertical-align: top;\n",
       "    }\n",
       "\n",
       "    .dataframe thead th {\n",
       "        text-align: right;\n",
       "    }\n",
       "</style>\n",
       "<table border=\"1\" class=\"dataframe\">\n",
       "  <thead>\n",
       "    <tr style=\"text-align: right;\">\n",
       "      <th></th>\n",
       "      <th>id</th>\n",
       "      <th>keyword</th>\n",
       "      <th>location</th>\n",
       "      <th>text</th>\n",
       "      <th>target</th>\n",
       "      <th>cantidad_links</th>\n",
       "      <th>cantidad_signos_pregunta</th>\n",
       "      <th>repeticiones</th>\n",
       "    </tr>\n",
       "  </thead>\n",
       "  <tbody>\n",
       "    <tr>\n",
       "      <th>0</th>\n",
       "      <td>1</td>\n",
       "      <td>NaN</td>\n",
       "      <td>NaN</td>\n",
       "      <td>our deeds are the reason of this earthquake may allah forgive us all</td>\n",
       "      <td>1</td>\n",
       "      <td>0</td>\n",
       "      <td>0</td>\n",
       "      <td>1</td>\n",
       "    </tr>\n",
       "    <tr>\n",
       "      <th>1</th>\n",
       "      <td>4</td>\n",
       "      <td>NaN</td>\n",
       "      <td>NaN</td>\n",
       "      <td>forest fire near la ronge sask canada</td>\n",
       "      <td>1</td>\n",
       "      <td>0</td>\n",
       "      <td>0</td>\n",
       "      <td>1</td>\n",
       "    </tr>\n",
       "    <tr>\n",
       "      <th>2</th>\n",
       "      <td>5</td>\n",
       "      <td>NaN</td>\n",
       "      <td>NaN</td>\n",
       "      <td>all residents asked to shelter in place are being notified by officers no other evacuation or shelter in place orders are expected</td>\n",
       "      <td>1</td>\n",
       "      <td>0</td>\n",
       "      <td>0</td>\n",
       "      <td>1</td>\n",
       "    </tr>\n",
       "    <tr>\n",
       "      <th>3</th>\n",
       "      <td>6</td>\n",
       "      <td>NaN</td>\n",
       "      <td>NaN</td>\n",
       "      <td>people receive wildfires evacuation orders in california</td>\n",
       "      <td>1</td>\n",
       "      <td>0</td>\n",
       "      <td>0</td>\n",
       "      <td>1</td>\n",
       "    </tr>\n",
       "    <tr>\n",
       "      <th>4</th>\n",
       "      <td>7</td>\n",
       "      <td>NaN</td>\n",
       "      <td>NaN</td>\n",
       "      <td>just got sent this photo from ruby alaska as smoke from wildfires pours into a school</td>\n",
       "      <td>1</td>\n",
       "      <td>0</td>\n",
       "      <td>0</td>\n",
       "      <td>1</td>\n",
       "    </tr>\n",
       "  </tbody>\n",
       "</table>\n",
       "</div>"
      ],
      "text/plain": [
       "   id keyword location  \\\n",
       "0   1     NaN      NaN   \n",
       "1   4     NaN      NaN   \n",
       "2   5     NaN      NaN   \n",
       "3   6     NaN      NaN   \n",
       "4   7     NaN      NaN   \n",
       "\n",
       "                                                                                                                                 text  \\\n",
       "0                                                                our deeds are the reason of this earthquake may allah forgive us all   \n",
       "1                                                                                               forest fire near la ronge sask canada   \n",
       "2  all residents asked to shelter in place are being notified by officers no other evacuation or shelter in place orders are expected   \n",
       "3                                                                           people receive wildfires evacuation orders in california    \n",
       "4                                              just got sent this photo from ruby alaska as smoke from wildfires pours into a school    \n",
       "\n",
       "   target  cantidad_links  cantidad_signos_pregunta  repeticiones  \n",
       "0       1               0                         0             1  \n",
       "1       1               0                         0             1  \n",
       "2       1               0                         0             1  \n",
       "3       1               0                         0             1  \n",
       "4       1               0                         0             1  "
      ]
     },
     "execution_count": 202,
     "metadata": {},
     "output_type": "execute_result"
    }
   ],
   "source": [
    "train_limpio['repeticiones'] = train_limpio.groupby('text')['id'].transform('count')\n",
    "train_limpio.head()"
   ]
  },
  {
   "cell_type": "code",
   "execution_count": 203,
   "metadata": {},
   "outputs": [
    {
     "data": {
      "text/html": [
       "<div>\n",
       "<style scoped>\n",
       "    .dataframe tbody tr th:only-of-type {\n",
       "        vertical-align: middle;\n",
       "    }\n",
       "\n",
       "    .dataframe tbody tr th {\n",
       "        vertical-align: top;\n",
       "    }\n",
       "\n",
       "    .dataframe thead th {\n",
       "        text-align: right;\n",
       "    }\n",
       "</style>\n",
       "<table border=\"1\" class=\"dataframe\">\n",
       "  <thead>\n",
       "    <tr style=\"text-align: right;\">\n",
       "      <th></th>\n",
       "      <th>id</th>\n",
       "      <th>keyword</th>\n",
       "      <th>location</th>\n",
       "      <th>text</th>\n",
       "      <th>target</th>\n",
       "      <th>cantidad_links</th>\n",
       "      <th>cantidad_signos_pregunta</th>\n",
       "      <th>repeticiones</th>\n",
       "    </tr>\n",
       "  </thead>\n",
       "  <tbody>\n",
       "    <tr>\n",
       "      <th>5876</th>\n",
       "      <td>8393</td>\n",
       "      <td>sandstorm</td>\n",
       "      <td>USA</td>\n",
       "      <td>watch this airport get swallowed up by a sandstorm in under a minute</td>\n",
       "      <td>1</td>\n",
       "      <td>1</td>\n",
       "      <td>0</td>\n",
       "      <td>22</td>\n",
       "    </tr>\n",
       "    <tr>\n",
       "      <th>5877</th>\n",
       "      <td>8394</td>\n",
       "      <td>sandstorm</td>\n",
       "      <td>NaN</td>\n",
       "      <td>watch this airport get swallowed up by a sandstorm in under a minute</td>\n",
       "      <td>1</td>\n",
       "      <td>1</td>\n",
       "      <td>0</td>\n",
       "      <td>22</td>\n",
       "    </tr>\n",
       "    <tr>\n",
       "      <th>5879</th>\n",
       "      <td>8397</td>\n",
       "      <td>sandstorm</td>\n",
       "      <td>NaN</td>\n",
       "      <td>watch this airport get swallowed up by a sandstorm in under a minute</td>\n",
       "      <td>1</td>\n",
       "      <td>1</td>\n",
       "      <td>0</td>\n",
       "      <td>22</td>\n",
       "    </tr>\n",
       "    <tr>\n",
       "      <th>5882</th>\n",
       "      <td>8401</td>\n",
       "      <td>sandstorm</td>\n",
       "      <td>hkXfYMhEx</td>\n",
       "      <td>watch this airport get swallowed up by a sandstorm in under a minute</td>\n",
       "      <td>1</td>\n",
       "      <td>1</td>\n",
       "      <td>0</td>\n",
       "      <td>22</td>\n",
       "    </tr>\n",
       "    <tr>\n",
       "      <th>5883</th>\n",
       "      <td>8402</td>\n",
       "      <td>sandstorm</td>\n",
       "      <td>US</td>\n",
       "      <td>watch this airport get swallowed up by a sandstorm in under a minute</td>\n",
       "      <td>1</td>\n",
       "      <td>1</td>\n",
       "      <td>0</td>\n",
       "      <td>22</td>\n",
       "    </tr>\n",
       "  </tbody>\n",
       "</table>\n",
       "</div>"
      ],
      "text/plain": [
       "        id    keyword   location  \\\n",
       "5876  8393  sandstorm        USA   \n",
       "5877  8394  sandstorm        NaN   \n",
       "5879  8397  sandstorm        NaN   \n",
       "5882  8401  sandstorm  hkXfYMhEx   \n",
       "5883  8402  sandstorm         US   \n",
       "\n",
       "                                                                       text  \\\n",
       "5876  watch this airport get swallowed up by a sandstorm in under a minute    \n",
       "5877  watch this airport get swallowed up by a sandstorm in under a minute    \n",
       "5879  watch this airport get swallowed up by a sandstorm in under a minute    \n",
       "5882  watch this airport get swallowed up by a sandstorm in under a minute    \n",
       "5883  watch this airport get swallowed up by a sandstorm in under a minute    \n",
       "\n",
       "      target  cantidad_links  cantidad_signos_pregunta  repeticiones  \n",
       "5876       1               1                         0            22  \n",
       "5877       1               1                         0            22  \n",
       "5879       1               1                         0            22  \n",
       "5882       1               1                         0            22  \n",
       "5883       1               1                         0            22  "
      ]
     },
     "execution_count": 203,
     "metadata": {},
     "output_type": "execute_result"
    }
   ],
   "source": [
    "train_limpio.nlargest(20,'repeticiones').head()"
   ]
  },
  {
   "cell_type": "code",
   "execution_count": 204,
   "metadata": {},
   "outputs": [],
   "source": [
    "test_limpio['repeticiones'] = test_limpio.groupby('text')['id'].transform('count')"
   ]
  },
  {
   "cell_type": "markdown",
   "metadata": {},
   "source": [
    "## Voy a dejar los keywords con stemming"
   ]
  },
  {
   "cell_type": "markdown",
   "metadata": {},
   "source": [
    "### Con esto busco que los keywords me ayuden a decidir el target pero solo lo hagan si hay \"suficientes\" como para hacerlo."
   ]
  },
  {
   "cell_type": "markdown",
   "metadata": {},
   "source": [
    "### Por ejemplo, queremos poder decidir el target por el keyword si hay 6 "
   ]
  },
  {
   "cell_type": "code",
   "execution_count": 205,
   "metadata": {},
   "outputs": [
    {
     "data": {
      "text/html": [
       "<div>\n",
       "<style scoped>\n",
       "    .dataframe tbody tr th:only-of-type {\n",
       "        vertical-align: middle;\n",
       "    }\n",
       "\n",
       "    .dataframe tbody tr th {\n",
       "        vertical-align: top;\n",
       "    }\n",
       "\n",
       "    .dataframe thead th {\n",
       "        text-align: right;\n",
       "    }\n",
       "</style>\n",
       "<table border=\"1\" class=\"dataframe\">\n",
       "  <thead>\n",
       "    <tr style=\"text-align: right;\">\n",
       "      <th></th>\n",
       "      <th>id</th>\n",
       "      <th>keyword</th>\n",
       "      <th>location</th>\n",
       "      <th>text</th>\n",
       "      <th>target</th>\n",
       "      <th>cantidad_links</th>\n",
       "      <th>cantidad_signos_pregunta</th>\n",
       "      <th>repeticiones</th>\n",
       "    </tr>\n",
       "  </thead>\n",
       "  <tbody>\n",
       "    <tr>\n",
       "      <th>31</th>\n",
       "      <td>48</td>\n",
       "      <td>ablaze</td>\n",
       "      <td>Birmingham</td>\n",
       "      <td>bbcmtd wholesale markets ablaze</td>\n",
       "      <td>1</td>\n",
       "      <td>1</td>\n",
       "      <td>0</td>\n",
       "      <td>1</td>\n",
       "    </tr>\n",
       "    <tr>\n",
       "      <th>32</th>\n",
       "      <td>49</td>\n",
       "      <td>ablaze</td>\n",
       "      <td>Est. September 2012 - Bristol</td>\n",
       "      <td>we always try to bring the heavy metal rt</td>\n",
       "      <td>0</td>\n",
       "      <td>1</td>\n",
       "      <td>0</td>\n",
       "      <td>1</td>\n",
       "    </tr>\n",
       "    <tr>\n",
       "      <th>33</th>\n",
       "      <td>50</td>\n",
       "      <td>ablaze</td>\n",
       "      <td>AFRICA</td>\n",
       "      <td>africanbaze breaking newsnigeria flag set ablaze in aba</td>\n",
       "      <td>1</td>\n",
       "      <td>1</td>\n",
       "      <td>0</td>\n",
       "      <td>1</td>\n",
       "    </tr>\n",
       "    <tr>\n",
       "      <th>34</th>\n",
       "      <td>52</td>\n",
       "      <td>ablaze</td>\n",
       "      <td>Philadelphia, PA</td>\n",
       "      <td>crying out for more set me ablaze</td>\n",
       "      <td>0</td>\n",
       "      <td>0</td>\n",
       "      <td>0</td>\n",
       "      <td>1</td>\n",
       "    </tr>\n",
       "  </tbody>\n",
       "</table>\n",
       "</div>"
      ],
      "text/plain": [
       "    id keyword                       location  \\\n",
       "31  48  ablaze                     Birmingham   \n",
       "32  49  ablaze  Est. September 2012 - Bristol   \n",
       "33  50  ablaze                         AFRICA   \n",
       "34  52  ablaze               Philadelphia, PA   \n",
       "\n",
       "                                                        text  target  \\\n",
       "31                          bbcmtd wholesale markets ablaze        1   \n",
       "32                we always try to bring the heavy metal rt        0   \n",
       "33  africanbaze breaking newsnigeria flag set ablaze in aba        1   \n",
       "34                         crying out for more set me ablaze       0   \n",
       "\n",
       "    cantidad_links  cantidad_signos_pregunta  repeticiones  \n",
       "31               1                         0             1  \n",
       "32               1                         0             1  \n",
       "33               1                         0             1  \n",
       "34               0                         0             1  "
      ]
     },
     "execution_count": 205,
     "metadata": {},
     "output_type": "execute_result"
    }
   ],
   "source": [
    "rowsWithNonNullKeyword = train_limpio.loc[train_limpio.keyword.notnull()]\n",
    "rowsWithNonNullKeyword[:4]"
   ]
  },
  {
   "cell_type": "code",
   "execution_count": 206,
   "metadata": {},
   "outputs": [
    {
     "data": {
      "text/html": [
       "<div>\n",
       "<style scoped>\n",
       "    .dataframe tbody tr th:only-of-type {\n",
       "        vertical-align: middle;\n",
       "    }\n",
       "\n",
       "    .dataframe tbody tr th {\n",
       "        vertical-align: top;\n",
       "    }\n",
       "\n",
       "    .dataframe thead th {\n",
       "        text-align: right;\n",
       "    }\n",
       "</style>\n",
       "<table border=\"1\" class=\"dataframe\">\n",
       "  <thead>\n",
       "    <tr style=\"text-align: right;\">\n",
       "      <th></th>\n",
       "      <th>keyword</th>\n",
       "      <th>count</th>\n",
       "    </tr>\n",
       "  </thead>\n",
       "  <tbody>\n",
       "    <tr>\n",
       "      <th>0</th>\n",
       "      <td>ablaze</td>\n",
       "      <td>36</td>\n",
       "    </tr>\n",
       "    <tr>\n",
       "      <th>1</th>\n",
       "      <td>accident</td>\n",
       "      <td>35</td>\n",
       "    </tr>\n",
       "  </tbody>\n",
       "</table>\n",
       "</div>"
      ],
      "text/plain": [
       "    keyword  count\n",
       "0    ablaze     36\n",
       "1  accident     35"
      ]
     },
     "execution_count": 206,
     "metadata": {},
     "output_type": "execute_result"
    }
   ],
   "source": [
    "keywordsCount = rowsWithNonNullKeyword.groupby(\"keyword\").agg({\"id\": \"count\"}).reset_index()\n",
    "keywordsCount.columns = [\"keyword\", \"count\"]\n",
    "keywordsCount.head(2)"
   ]
  },
  {
   "cell_type": "code",
   "execution_count": 207,
   "metadata": {},
   "outputs": [],
   "source": [
    "train_limpio['keyword'] = train_limpio['keyword'].replace({ np.nan:'null'})\n",
    "train_limpio[\"keyword\"] = train_limpio['keyword'].apply(lambda x: ' '.join([stemmer.stem(y) for y in x.split(' ')]))"
   ]
  },
  {
   "cell_type": "code",
   "execution_count": 208,
   "metadata": {},
   "outputs": [],
   "source": [
    "test_limpio['keyword'] = test_limpio['keyword'].replace({ np.nan:'null'})\n",
    "test_limpio[\"keyword\"] = test_limpio['keyword'].apply(lambda x: ' '.join([stemmer.stem(y) for y in x.split(' ')]))"
   ]
  },
  {
   "cell_type": "markdown",
   "metadata": {},
   "source": [
    "## Sabemos que hay locations repetidas pero con distinto nombre, veo si puedo agrupar"
   ]
  },
  {
   "cell_type": "code",
   "execution_count": 209,
   "metadata": {},
   "outputs": [
    {
     "data": {
      "text/html": [
       "<div>\n",
       "<style scoped>\n",
       "    .dataframe tbody tr th:only-of-type {\n",
       "        vertical-align: middle;\n",
       "    }\n",
       "\n",
       "    .dataframe tbody tr th {\n",
       "        vertical-align: top;\n",
       "    }\n",
       "\n",
       "    .dataframe thead th {\n",
       "        text-align: right;\n",
       "    }\n",
       "</style>\n",
       "<table border=\"1\" class=\"dataframe\">\n",
       "  <thead>\n",
       "    <tr style=\"text-align: right;\">\n",
       "      <th></th>\n",
       "      <th>id</th>\n",
       "      <th>keyword</th>\n",
       "      <th>location</th>\n",
       "      <th>text</th>\n",
       "      <th>target</th>\n",
       "      <th>cantidad_links</th>\n",
       "      <th>cantidad_signos_pregunta</th>\n",
       "      <th>repeticiones</th>\n",
       "    </tr>\n",
       "  </thead>\n",
       "  <tbody>\n",
       "    <tr>\n",
       "      <th>31</th>\n",
       "      <td>48</td>\n",
       "      <td>ablaz</td>\n",
       "      <td>Birmingham</td>\n",
       "      <td>bbcmtd wholesale markets ablaze</td>\n",
       "      <td>1</td>\n",
       "      <td>1</td>\n",
       "      <td>0</td>\n",
       "      <td>1</td>\n",
       "    </tr>\n",
       "    <tr>\n",
       "      <th>32</th>\n",
       "      <td>49</td>\n",
       "      <td>ablaz</td>\n",
       "      <td>Est. September 2012 - Bristol</td>\n",
       "      <td>we always try to bring the heavy metal rt</td>\n",
       "      <td>0</td>\n",
       "      <td>1</td>\n",
       "      <td>0</td>\n",
       "      <td>1</td>\n",
       "    </tr>\n",
       "    <tr>\n",
       "      <th>33</th>\n",
       "      <td>50</td>\n",
       "      <td>ablaz</td>\n",
       "      <td>AFRICA</td>\n",
       "      <td>africanbaze breaking newsnigeria flag set ablaze in aba</td>\n",
       "      <td>1</td>\n",
       "      <td>1</td>\n",
       "      <td>0</td>\n",
       "      <td>1</td>\n",
       "    </tr>\n",
       "    <tr>\n",
       "      <th>34</th>\n",
       "      <td>52</td>\n",
       "      <td>ablaz</td>\n",
       "      <td>Philadelphia, PA</td>\n",
       "      <td>crying out for more set me ablaze</td>\n",
       "      <td>0</td>\n",
       "      <td>0</td>\n",
       "      <td>0</td>\n",
       "      <td>1</td>\n",
       "    </tr>\n",
       "    <tr>\n",
       "      <th>35</th>\n",
       "      <td>53</td>\n",
       "      <td>ablaz</td>\n",
       "      <td>London, UK</td>\n",
       "      <td>on plus side look at the sky last night it was ablaze</td>\n",
       "      <td>0</td>\n",
       "      <td>1</td>\n",
       "      <td>0</td>\n",
       "      <td>1</td>\n",
       "    </tr>\n",
       "    <tr>\n",
       "      <th>...</th>\n",
       "      <td>...</td>\n",
       "      <td>...</td>\n",
       "      <td>...</td>\n",
       "      <td>...</td>\n",
       "      <td>...</td>\n",
       "      <td>...</td>\n",
       "      <td>...</td>\n",
       "      <td>...</td>\n",
       "    </tr>\n",
       "    <tr>\n",
       "      <th>7575</th>\n",
       "      <td>10826</td>\n",
       "      <td>wreck</td>\n",
       "      <td>TN</td>\n",
       "      <td>on the bright side i wrecked</td>\n",
       "      <td>0</td>\n",
       "      <td>1</td>\n",
       "      <td>0</td>\n",
       "      <td>1</td>\n",
       "    </tr>\n",
       "    <tr>\n",
       "      <th>7577</th>\n",
       "      <td>10829</td>\n",
       "      <td>wreck</td>\n",
       "      <td>#NewcastleuponTyne #UK</td>\n",
       "      <td>hes gone you can relax i thought the wife who wrecked her cake was a goner mind lol whoops</td>\n",
       "      <td>0</td>\n",
       "      <td>0</td>\n",
       "      <td>0</td>\n",
       "      <td>1</td>\n",
       "    </tr>\n",
       "    <tr>\n",
       "      <th>7579</th>\n",
       "      <td>10831</td>\n",
       "      <td>wreck</td>\n",
       "      <td>Vancouver, Canada</td>\n",
       "      <td>three days off from work and theyve pretty much all been wrecked hahaha shoutout to my family for that one</td>\n",
       "      <td>0</td>\n",
       "      <td>0</td>\n",
       "      <td>0</td>\n",
       "      <td>1</td>\n",
       "    </tr>\n",
       "    <tr>\n",
       "      <th>7580</th>\n",
       "      <td>10832</td>\n",
       "      <td>wreck</td>\n",
       "      <td>London</td>\n",
       "      <td>fx forex trading cramer igers  words that wrecked disneys stock</td>\n",
       "      <td>0</td>\n",
       "      <td>1</td>\n",
       "      <td>0</td>\n",
       "      <td>1</td>\n",
       "    </tr>\n",
       "    <tr>\n",
       "      <th>7581</th>\n",
       "      <td>10833</td>\n",
       "      <td>wreck</td>\n",
       "      <td>Lincoln</td>\n",
       "      <td>engineshed great atmosphere at the british lion gig tonight hearing is wrecked httptcoomnbatjeao</td>\n",
       "      <td>0</td>\n",
       "      <td>1</td>\n",
       "      <td>0</td>\n",
       "      <td>1</td>\n",
       "    </tr>\n",
       "  </tbody>\n",
       "</table>\n",
       "<p>5080 rows × 8 columns</p>\n",
       "</div>"
      ],
      "text/plain": [
       "         id keyword                       location  \\\n",
       "31       48   ablaz                     Birmingham   \n",
       "32       49   ablaz  Est. September 2012 - Bristol   \n",
       "33       50   ablaz                         AFRICA   \n",
       "34       52   ablaz               Philadelphia, PA   \n",
       "35       53   ablaz                     London, UK   \n",
       "...     ...     ...                            ...   \n",
       "7575  10826   wreck                             TN   \n",
       "7577  10829   wreck         #NewcastleuponTyne #UK   \n",
       "7579  10831   wreck              Vancouver, Canada   \n",
       "7580  10832   wreck                        London    \n",
       "7581  10833   wreck                        Lincoln   \n",
       "\n",
       "                                                                                                            text  \\\n",
       "31                                                                              bbcmtd wholesale markets ablaze    \n",
       "32                                                                    we always try to bring the heavy metal rt    \n",
       "33                                                      africanbaze breaking newsnigeria flag set ablaze in aba    \n",
       "34                                                                             crying out for more set me ablaze   \n",
       "35                                                        on plus side look at the sky last night it was ablaze    \n",
       "...                                                                                                          ...   \n",
       "7575                                                                               on the bright side i wrecked    \n",
       "7577                  hes gone you can relax i thought the wife who wrecked her cake was a goner mind lol whoops   \n",
       "7579  three days off from work and theyve pretty much all been wrecked hahaha shoutout to my family for that one   \n",
       "7580                                            fx forex trading cramer igers  words that wrecked disneys stock    \n",
       "7581            engineshed great atmosphere at the british lion gig tonight hearing is wrecked httptcoomnbatjeao   \n",
       "\n",
       "      target  cantidad_links  cantidad_signos_pregunta  repeticiones  \n",
       "31         1               1                         0             1  \n",
       "32         0               1                         0             1  \n",
       "33         1               1                         0             1  \n",
       "34         0               0                         0             1  \n",
       "35         0               1                         0             1  \n",
       "...      ...             ...                       ...           ...  \n",
       "7575       0               1                         0             1  \n",
       "7577       0               0                         0             1  \n",
       "7579       0               0                         0             1  \n",
       "7580       0               1                         0             1  \n",
       "7581       0               1                         0             1  \n",
       "\n",
       "[5080 rows x 8 columns]"
      ]
     },
     "execution_count": 209,
     "metadata": {},
     "output_type": "execute_result"
    }
   ],
   "source": [
    "rowsWithNonNullLocation = train_limpio.loc[train_limpio.location.notnull()].copy()\n",
    "rowsWithNonNullLocation"
   ]
  },
  {
   "cell_type": "code",
   "execution_count": 210,
   "metadata": {},
   "outputs": [
    {
     "data": {
      "text/html": [
       "<div>\n",
       "<style scoped>\n",
       "    .dataframe tbody tr th:only-of-type {\n",
       "        vertical-align: middle;\n",
       "    }\n",
       "\n",
       "    .dataframe tbody tr th {\n",
       "        vertical-align: top;\n",
       "    }\n",
       "\n",
       "    .dataframe thead th {\n",
       "        text-align: right;\n",
       "    }\n",
       "</style>\n",
       "<table border=\"1\" class=\"dataframe\">\n",
       "  <thead>\n",
       "    <tr style=\"text-align: right;\">\n",
       "      <th></th>\n",
       "      <th>location</th>\n",
       "      <th>count</th>\n",
       "    </tr>\n",
       "  </thead>\n",
       "  <tbody>\n",
       "    <tr>\n",
       "      <th>27</th>\n",
       "      <td>Road to the Billionaires Club</td>\n",
       "      <td>6</td>\n",
       "    </tr>\n",
       "    <tr>\n",
       "      <th>114</th>\n",
       "      <td>304</td>\n",
       "      <td>9</td>\n",
       "    </tr>\n",
       "    <tr>\n",
       "      <th>175</th>\n",
       "      <td>??????</td>\n",
       "      <td>6</td>\n",
       "    </tr>\n",
       "    <tr>\n",
       "      <th>324</th>\n",
       "      <td>Asheville, NC</td>\n",
       "      <td>5</td>\n",
       "    </tr>\n",
       "    <tr>\n",
       "      <th>339</th>\n",
       "      <td>Atlanta</td>\n",
       "      <td>6</td>\n",
       "    </tr>\n",
       "    <tr>\n",
       "      <th>...</th>\n",
       "      <td>...</td>\n",
       "      <td>...</td>\n",
       "    </tr>\n",
       "    <tr>\n",
       "      <th>2866</th>\n",
       "      <td>WorldWide</td>\n",
       "      <td>5</td>\n",
       "    </tr>\n",
       "    <tr>\n",
       "      <th>2868</th>\n",
       "      <td>Worldwide</td>\n",
       "      <td>19</td>\n",
       "    </tr>\n",
       "    <tr>\n",
       "      <th>3054</th>\n",
       "      <td>in the Word of God</td>\n",
       "      <td>5</td>\n",
       "    </tr>\n",
       "    <tr>\n",
       "      <th>3222</th>\n",
       "      <td>ss</td>\n",
       "      <td>10</td>\n",
       "    </tr>\n",
       "    <tr>\n",
       "      <th>3291</th>\n",
       "      <td>worldwide</td>\n",
       "      <td>7</td>\n",
       "    </tr>\n",
       "  </tbody>\n",
       "</table>\n",
       "<p>107 rows × 2 columns</p>\n",
       "</div>"
      ],
      "text/plain": [
       "                            location  count\n",
       "27     Road to the Billionaires Club      6\n",
       "114                              304      9\n",
       "175                           ??????      6\n",
       "324                    Asheville, NC      5\n",
       "339                          Atlanta      6\n",
       "...                              ...    ...\n",
       "2866                       WorldWide      5\n",
       "2868                       Worldwide     19\n",
       "3054              in the Word of God      5\n",
       "3222                              ss     10\n",
       "3291                       worldwide      7\n",
       "\n",
       "[107 rows x 2 columns]"
      ]
     },
     "execution_count": 210,
     "metadata": {},
     "output_type": "execute_result"
    }
   ],
   "source": [
    "locationCount = rowsWithNonNullLocation.groupby(\"location\").agg({\"id\":\"count\"}).reset_index()\n",
    "locationCount.columns = [\"location\", \"count\"]\n",
    "locationCount.loc[locationCount[\"count\"] > 4]"
   ]
  },
  {
   "cell_type": "markdown",
   "metadata": {},
   "source": [
    "### Casos como New York, new york, ny y nyc nos pueden molestar, veo si hay manera de arreglarlo"
   ]
  },
  {
   "cell_type": "code",
   "execution_count": 211,
   "metadata": {},
   "outputs": [],
   "source": [
    "#list(locationCount.loc[locationCount[\"count\"] > 4][\"location\"])\n",
    "\n",
    "#Asheville, NC | Atlanta | Atlanta, GA | Austin, TX | Australia | Boston, MA | Brasil | Brooklyn, NY | Calgary, AB | Calgary, Alberta\n",
    "#California | California, USA | California, United States | Canada | Charlotte, NC | Chicago | Chicago, IL | Cleveland, OH\n",
    "#Colorado | Coventry | Dallas, TX | Denver, CO | Denver, Colorado | Earth | Everywhere | Florida | Florida, USA\n",
    "#Global | Houston, TX | India | Indiana | Indonesia | Ireland | Kenya | Lagos | Lagos, Nigeria | Leeds, England\n",
    "#London | London, England | London, UK | Los Angeles | Los Angeles, CA | Manchester | Massachusetts\n",
    "#Melbourne, Australia | Memphis, TN | Morioh, Japan | Mumbai | NY | NYC | Nashville, TN | New Hampshire\n",
    "#New Jersey | New York | New York City | New York, NY | New York, USA | Newcastle | Nigeria | North Carolina\n",
    "#Oklahoma City, OK | Orland, FL | Pakistan | Paterson, New Jersey | Pedophile hunting ground | Pennsylvania\n",
    "#Pennsylvania, USA | Philippines | Planet Earth | Portland, OR | Puerto Rico | Sacramento, CA | San Diego, CA\n",
    "# San Francisco | San Francisco, CA | San Jose, CA | Scotland | Seattle | Seattle, WA | Singapore | South Africa\n",
    "# Southern California | Sydney | Tampa, FL | Tennessee | Texas | Texas, USA | The Netherlands | Toronto | UK\n",
    "# US | USA | United Kingdom | United States | Vancouver, BC | Washington, D.C. | Washington, DC | Winsconsin\n",
    "# World | WorldWide | Worldwide | in the Word of God | ss | worldwide\n"
   ]
  },
  {
   "cell_type": "code",
   "execution_count": 212,
   "metadata": {},
   "outputs": [],
   "source": [
    "realPlaces = {\"NC\": \"NC\", \"Atlanta\": \"Atlanta\", \"TX\": \"TX\", \"Texas\": \"TX\", \"Australia\": \"Australia\", \"Boston\": \"MA\", \"MA\": \"MA\", \"Brasil\": \"Brasil\", \"Brooklyn\": \"NY\", \"Calgary\": \"AB\", \"AB\": \"AB\", \"California\": \"California\", \"Canada\": \"Canada\", \"Chicago\": \"Chicago\", \"Cleveland\": \"Cleveland\", \"Colorado\": \"Colorado\", \"Coventry\": \"Coventry\", \"Dallas\": \"TX\", \"Denver\": \"CO\", \"CO\": \"CO\", \"Colorado\": \"CO\", \"Florida\": \"Florida\", \"Houston\": \"TX\", \"India\": \"India\", \"Indiana\": \"Indiana\", \"Indonesia\": \"Indonesia\", \"Ireland\": \"Ireland\", \"Kenya\": \"Kenya\", \"Lagos\": \"Lagos\", \"Leeds\": \"UK\", \"London\": \"UK\", \"UK\": \"UK\", \"Los Angeles\": \"Los Angeles\", \"Manchester\": \"Manchester\", \"Massachusetts\": \"Massachusetts\", \"TN\": \"TN\", \"Japan\": \"Japan\", \"Mumbai\": \"Mumbai\", \"NY\": \"NY\", \"NYC\": \"NYC\", \"New Hampshire\": \"New Hampshire\", \"New Jersey\": \"New Jersey\", \"New York\": \"NY\", \"New York City\": \"NYC\", \"USA\": \"USA\", \"Newcastle\": \"Newcastle\", \"Nigeria\": \"Nigeria\", \"North Carolina\": \"NC\", \"Oklahoma City\": \"Oklahoma City\", \"Orland\": \"Orland\", \"Pakistan\": \"Pakistan\", \"Pennsylvania\": \"Pennsylvania\", \"Philippines\": \"Philippines\", \"Portland\": \"Portland\", \"Puerto Rico\": \"Puerto Rico\", \"Sacramento\": \"Sacramento\", \"San Diego\": \"San Diego\", \"San Francisco\": \"San Francisco\", \"San Jose\": \"San Jose\", \"Scotland\": \"Scotland\", \"Seattle\": \"Seattle\", \"Singapore\": \"Singapore\", \"South Africa\": \"South Africa\", \"Southern California\": \"Southern California\", \"Sydney\": \"Sydney\", \"Tampa\": \"Tampa\", \"Tennesse\": \"Tennesse\", \"Texas\": \"TX\", \"The Netherlands\": \"The Netherlands\", \"Toronto\": \"Toronto\", \"UK\": \"UK\", \"US\": \"USA\", \"USA\": \"USA\", \"United Kingdom\": \"UK\", \"United States\": \"USA\", \"Vancouver\": \"Vancouver\", \"Washington\": \"Washington\", \"Winsconsin\": \"Winsconsin\"}                                                                                                                                 \n",
    "realPlacesWithSpaces = [\"Los Angeles\", \"New Hampshire\", \"New Jersey\", \"New York\", \"North Carolina\", \"Oklahoma City\", \"Puerto Rico\", \"San Diego\", \"San Francisco\", \"San Jose\", \"South Africa\", \"Southern California\", \"The Netherlands\", \"United Kingdom\", \"United States\"]\n",
    "notRealPlaces = [\"Earth\", \"Everywhere\", \"Global\", \"Pedophile hunting ground\", \"Planet Earth\", \"World\", \"WorldWide\", \"Worldwide\", \"in the Word of God\", \"ss\", \"worldwide\"]"
   ]
  },
  {
   "cell_type": "code",
   "execution_count": 213,
   "metadata": {},
   "outputs": [],
   "source": [
    "def getLocationGroup(location):\n",
    "    if location in notRealPlaces:\n",
    "        return location\n",
    "    else:\n",
    "        for place in realPlacesWithSpaces:\n",
    "            if(place in location):\n",
    "                return realPlaces[place]\n",
    "        locationString = location.replace(\",\", \"\")\n",
    "        for word in locationString.split(\" \"):\n",
    "            if word in realPlaces:\n",
    "                return realPlaces[word]\n",
    "        return location\n",
    "    \n",
    "def isRealPlace(location):\n",
    "    return getLocationGroup(location) in realPlaces\n",
    "\n",
    "train_limpio[\"location\"] = train_limpio[\"location\"].replace({ np.nan:'null'})\n",
    "train_limpio[\"location\"] = train_limpio[\"location\"].map(lambda x: getLocationGroup(x))\n",
    "train_limpio[\"isRealPlace\"] = train_limpio[\"location\"].map(lambda x: isRealPlace(x))\n",
    "\n",
    "test_limpio[\"location\"] = test_limpio[\"location\"].replace({ np.nan:'null'})\n",
    "test_limpio[\"location\"] = test_limpio[\"location\"].map(lambda x: getLocationGroup(x))\n",
    "test_limpio[\"isRealPlace\"] = test_limpio[\"location\"].map(lambda x: isRealPlace(x))"
   ]
  },
  {
   "cell_type": "code",
   "execution_count": 214,
   "metadata": {},
   "outputs": [],
   "source": [
    "#Remuevo informacion\n",
    "##Remuevo el ID"
   ]
  },
  {
   "cell_type": "code",
   "execution_count": 282,
   "metadata": {},
   "outputs": [
    {
     "data": {
      "text/html": [
       "<div>\n",
       "<style scoped>\n",
       "    .dataframe tbody tr th:only-of-type {\n",
       "        vertical-align: middle;\n",
       "    }\n",
       "\n",
       "    .dataframe tbody tr th {\n",
       "        vertical-align: top;\n",
       "    }\n",
       "\n",
       "    .dataframe thead th {\n",
       "        text-align: right;\n",
       "    }\n",
       "</style>\n",
       "<table border=\"1\" class=\"dataframe\">\n",
       "  <thead>\n",
       "    <tr style=\"text-align: right;\">\n",
       "      <th></th>\n",
       "      <th>keyword</th>\n",
       "      <th>location</th>\n",
       "      <th>text</th>\n",
       "      <th>target</th>\n",
       "      <th>cantidad_links</th>\n",
       "      <th>cantidad_signos_pregunta</th>\n",
       "      <th>repeticiones</th>\n",
       "      <th>isRealPlace</th>\n",
       "      <th>longitud_tweet</th>\n",
       "      <th>letras_seguidas</th>\n",
       "      <th>...</th>\n",
       "      <th>into effect</th>\n",
       "      <th>insultos_por_tweet</th>\n",
       "      <th>expresiones_por_tweet</th>\n",
       "      <th>bombing</th>\n",
       "      <th>suicide</th>\n",
       "      <th>accident</th>\n",
       "      <th>disaster</th>\n",
       "      <th>police</th>\n",
       "      <th>died</th>\n",
       "      <th>years</th>\n",
       "    </tr>\n",
       "  </thead>\n",
       "  <tbody>\n",
       "    <tr>\n",
       "      <th>0</th>\n",
       "      <td>null</td>\n",
       "      <td>null</td>\n",
       "      <td>our deed are the reason of this earthquak may allah forgiv us all</td>\n",
       "      <td>1</td>\n",
       "      <td>0</td>\n",
       "      <td>0</td>\n",
       "      <td>1</td>\n",
       "      <td>False</td>\n",
       "      <td>70</td>\n",
       "      <td>2</td>\n",
       "      <td>...</td>\n",
       "      <td>0</td>\n",
       "      <td>0</td>\n",
       "      <td>0</td>\n",
       "      <td>0</td>\n",
       "      <td>0</td>\n",
       "      <td>0</td>\n",
       "      <td>0</td>\n",
       "      <td>0</td>\n",
       "      <td>0</td>\n",
       "      <td>0</td>\n",
       "    </tr>\n",
       "    <tr>\n",
       "      <th>1</th>\n",
       "      <td>null</td>\n",
       "      <td>null</td>\n",
       "      <td>forest fire near la rong sask canada</td>\n",
       "      <td>1</td>\n",
       "      <td>0</td>\n",
       "      <td>0</td>\n",
       "      <td>1</td>\n",
       "      <td>False</td>\n",
       "      <td>40</td>\n",
       "      <td>1</td>\n",
       "      <td>...</td>\n",
       "      <td>0</td>\n",
       "      <td>0</td>\n",
       "      <td>0</td>\n",
       "      <td>0</td>\n",
       "      <td>0</td>\n",
       "      <td>0</td>\n",
       "      <td>0</td>\n",
       "      <td>0</td>\n",
       "      <td>0</td>\n",
       "      <td>0</td>\n",
       "    </tr>\n",
       "  </tbody>\n",
       "</table>\n",
       "<p>2 rows × 821 columns</p>\n",
       "</div>"
      ],
      "text/plain": [
       "  keyword location  \\\n",
       "0    null     null   \n",
       "1    null     null   \n",
       "\n",
       "                                                                text  target  \\\n",
       "0  our deed are the reason of this earthquak may allah forgiv us all       1   \n",
       "1                               forest fire near la rong sask canada       1   \n",
       "\n",
       "   cantidad_links  cantidad_signos_pregunta  repeticiones  isRealPlace  \\\n",
       "0               0                         0             1        False   \n",
       "1               0                         0             1        False   \n",
       "\n",
       "   longitud_tweet  letras_seguidas  ...  into effect  insultos_por_tweet  \\\n",
       "0              70                2  ...            0                   0   \n",
       "1              40                1  ...            0                   0   \n",
       "\n",
       "   expresiones_por_tweet  bombing  suicide  accident  disaster  police  died  \\\n",
       "0                      0        0        0         0         0       0     0   \n",
       "1                      0        0        0         0         0       0     0   \n",
       "\n",
       "   years  \n",
       "0      0  \n",
       "1      0  \n",
       "\n",
       "[2 rows x 821 columns]"
      ]
     },
     "execution_count": 282,
     "metadata": {},
     "output_type": "execute_result"
    }
   ],
   "source": [
    "train_limpio = train_limpio.drop(columns=['id'])\n",
    "train_limpio.head(2)"
   ]
  },
  {
   "cell_type": "markdown",
   "metadata": {},
   "source": [
    "## Remuevo los datos repetidos \n",
    "### No remuevo los repetivos del test obviamente"
   ]
  },
  {
   "cell_type": "code",
   "execution_count": 216,
   "metadata": {},
   "outputs": [
    {
     "data": {
      "text/plain": [
       "(7613, 8)"
      ]
     },
     "execution_count": 216,
     "metadata": {},
     "output_type": "execute_result"
    }
   ],
   "source": [
    "train_limpio.shape"
   ]
  },
  {
   "cell_type": "code",
   "execution_count": 217,
   "metadata": {
    "scrolled": true
   },
   "outputs": [
    {
     "data": {
      "text/plain": [
       "(7389, 8)"
      ]
     },
     "execution_count": 217,
     "metadata": {},
     "output_type": "execute_result"
    }
   ],
   "source": [
    "train_limpio = train_limpio.drop_duplicates()\n",
    "train_limpio.shape"
   ]
  },
  {
   "cell_type": "code",
   "execution_count": 218,
   "metadata": {},
   "outputs": [
    {
     "data": {
      "text/html": [
       "<div>\n",
       "<style scoped>\n",
       "    .dataframe tbody tr th:only-of-type {\n",
       "        vertical-align: middle;\n",
       "    }\n",
       "\n",
       "    .dataframe tbody tr th {\n",
       "        vertical-align: top;\n",
       "    }\n",
       "\n",
       "    .dataframe thead th {\n",
       "        text-align: right;\n",
       "    }\n",
       "</style>\n",
       "<table border=\"1\" class=\"dataframe\">\n",
       "  <thead>\n",
       "    <tr style=\"text-align: right;\">\n",
       "      <th></th>\n",
       "      <th>keyword</th>\n",
       "      <th>location</th>\n",
       "      <th>text</th>\n",
       "      <th>target</th>\n",
       "      <th>cantidad_links</th>\n",
       "      <th>cantidad_signos_pregunta</th>\n",
       "      <th>repeticiones</th>\n",
       "      <th>isRealPlace</th>\n",
       "    </tr>\n",
       "  </thead>\n",
       "  <tbody>\n",
       "    <tr>\n",
       "      <th>0</th>\n",
       "      <td>null</td>\n",
       "      <td>null</td>\n",
       "      <td>our deeds are the reason of this earthquake may allah forgive us all</td>\n",
       "      <td>1</td>\n",
       "      <td>0</td>\n",
       "      <td>0</td>\n",
       "      <td>1</td>\n",
       "      <td>False</td>\n",
       "    </tr>\n",
       "    <tr>\n",
       "      <th>1</th>\n",
       "      <td>null</td>\n",
       "      <td>null</td>\n",
       "      <td>forest fire near la ronge sask canada</td>\n",
       "      <td>1</td>\n",
       "      <td>0</td>\n",
       "      <td>0</td>\n",
       "      <td>1</td>\n",
       "      <td>False</td>\n",
       "    </tr>\n",
       "    <tr>\n",
       "      <th>2</th>\n",
       "      <td>null</td>\n",
       "      <td>null</td>\n",
       "      <td>all residents asked to shelter in place are being notified by officers no other evacuation or shelter in place orders are expected</td>\n",
       "      <td>1</td>\n",
       "      <td>0</td>\n",
       "      <td>0</td>\n",
       "      <td>1</td>\n",
       "      <td>False</td>\n",
       "    </tr>\n",
       "    <tr>\n",
       "      <th>3</th>\n",
       "      <td>null</td>\n",
       "      <td>null</td>\n",
       "      <td>people receive wildfires evacuation orders in california</td>\n",
       "      <td>1</td>\n",
       "      <td>0</td>\n",
       "      <td>0</td>\n",
       "      <td>1</td>\n",
       "      <td>False</td>\n",
       "    </tr>\n",
       "    <tr>\n",
       "      <th>4</th>\n",
       "      <td>null</td>\n",
       "      <td>null</td>\n",
       "      <td>just got sent this photo from ruby alaska as smoke from wildfires pours into a school</td>\n",
       "      <td>1</td>\n",
       "      <td>0</td>\n",
       "      <td>0</td>\n",
       "      <td>1</td>\n",
       "      <td>False</td>\n",
       "    </tr>\n",
       "  </tbody>\n",
       "</table>\n",
       "</div>"
      ],
      "text/plain": [
       "  keyword location  \\\n",
       "0    null     null   \n",
       "1    null     null   \n",
       "2    null     null   \n",
       "3    null     null   \n",
       "4    null     null   \n",
       "\n",
       "                                                                                                                                 text  \\\n",
       "0                                                                our deeds are the reason of this earthquake may allah forgive us all   \n",
       "1                                                                                               forest fire near la ronge sask canada   \n",
       "2  all residents asked to shelter in place are being notified by officers no other evacuation or shelter in place orders are expected   \n",
       "3                                                                           people receive wildfires evacuation orders in california    \n",
       "4                                              just got sent this photo from ruby alaska as smoke from wildfires pours into a school    \n",
       "\n",
       "   target  cantidad_links  cantidad_signos_pregunta  repeticiones  isRealPlace  \n",
       "0       1               0                         0             1        False  \n",
       "1       1               0                         0             1        False  \n",
       "2       1               0                         0             1        False  \n",
       "3       1               0                         0             1        False  \n",
       "4       1               0                         0             1        False  "
      ]
     },
     "execution_count": 218,
     "metadata": {},
     "output_type": "execute_result"
    }
   ],
   "source": [
    "train_limpio.head()"
   ]
  },
  {
   "cell_type": "markdown",
   "metadata": {},
   "source": [
    "# Longitud de los tweets"
   ]
  },
  {
   "cell_type": "code",
   "execution_count": 219,
   "metadata": {},
   "outputs": [],
   "source": [
    "import math\n",
    "\n",
    "def roundup(x):\n",
    "    return int(math.ceil(x / 10.0)) * 10"
   ]
  },
  {
   "cell_type": "code",
   "execution_count": 220,
   "metadata": {},
   "outputs": [],
   "source": [
    "train_limpio['longitud_tweet'] = train_limpio['text'].apply(lambda x: roundup(len(x)))"
   ]
  },
  {
   "cell_type": "code",
   "execution_count": 221,
   "metadata": {
    "scrolled": true
   },
   "outputs": [
    {
     "data": {
      "text/html": [
       "<div>\n",
       "<style scoped>\n",
       "    .dataframe tbody tr th:only-of-type {\n",
       "        vertical-align: middle;\n",
       "    }\n",
       "\n",
       "    .dataframe tbody tr th {\n",
       "        vertical-align: top;\n",
       "    }\n",
       "\n",
       "    .dataframe thead th {\n",
       "        text-align: right;\n",
       "    }\n",
       "</style>\n",
       "<table border=\"1\" class=\"dataframe\">\n",
       "  <thead>\n",
       "    <tr style=\"text-align: right;\">\n",
       "      <th></th>\n",
       "      <th>keyword</th>\n",
       "      <th>location</th>\n",
       "      <th>text</th>\n",
       "      <th>target</th>\n",
       "      <th>cantidad_links</th>\n",
       "      <th>cantidad_signos_pregunta</th>\n",
       "      <th>repeticiones</th>\n",
       "      <th>isRealPlace</th>\n",
       "      <th>longitud_tweet</th>\n",
       "    </tr>\n",
       "  </thead>\n",
       "  <tbody>\n",
       "    <tr>\n",
       "      <th>0</th>\n",
       "      <td>null</td>\n",
       "      <td>null</td>\n",
       "      <td>our deeds are the reason of this earthquake may allah forgive us all</td>\n",
       "      <td>1</td>\n",
       "      <td>0</td>\n",
       "      <td>0</td>\n",
       "      <td>1</td>\n",
       "      <td>False</td>\n",
       "      <td>70</td>\n",
       "    </tr>\n",
       "    <tr>\n",
       "      <th>1</th>\n",
       "      <td>null</td>\n",
       "      <td>null</td>\n",
       "      <td>forest fire near la ronge sask canada</td>\n",
       "      <td>1</td>\n",
       "      <td>0</td>\n",
       "      <td>0</td>\n",
       "      <td>1</td>\n",
       "      <td>False</td>\n",
       "      <td>40</td>\n",
       "    </tr>\n",
       "  </tbody>\n",
       "</table>\n",
       "</div>"
      ],
      "text/plain": [
       "  keyword location  \\\n",
       "0    null     null   \n",
       "1    null     null   \n",
       "\n",
       "                                                                   text  \\\n",
       "0  our deeds are the reason of this earthquake may allah forgive us all   \n",
       "1                                 forest fire near la ronge sask canada   \n",
       "\n",
       "   target  cantidad_links  cantidad_signos_pregunta  repeticiones  \\\n",
       "0       1               0                         0             1   \n",
       "1       1               0                         0             1   \n",
       "\n",
       "   isRealPlace  longitud_tweet  \n",
       "0        False              70  \n",
       "1        False              40  "
      ]
     },
     "execution_count": 221,
     "metadata": {},
     "output_type": "execute_result"
    }
   ],
   "source": [
    "train_limpio.head(2)"
   ]
  },
  {
   "cell_type": "code",
   "execution_count": 222,
   "metadata": {},
   "outputs": [],
   "source": [
    "test_limpio['longitud_tweet'] = test_limpio['text'].apply(lambda x: roundup(len(x)))"
   ]
  },
  {
   "cell_type": "markdown",
   "metadata": {},
   "source": [
    "## Contar la cantidad de veces seguidas que se repite una letra, si alguna se repite mas de 3 veces, es probable que haya sido intencional, lo cual le quita credibildad"
   ]
  },
  {
   "cell_type": "code",
   "execution_count": 223,
   "metadata": {},
   "outputs": [],
   "source": [
    "def letras_repetidas(text):\n",
    "    max_repeteated_letters = 0\n",
    "    current_repeated_letters = 1\n",
    "    for word in text:\n",
    "        if(current_repeated_letters>max_repeteated_letters):\n",
    "            max_repeteated_letters=current_repeated_letters\n",
    "        current_repeated_letters=1\n",
    "        for i in range (len(word)-1):\n",
    "            if(word[i]==word[i+1]):\n",
    "                current_repeated_letters=current_repeated_letters+1\n",
    "            else:\n",
    "                if(current_repeated_letters>max_repeteated_letters):\n",
    "                    max_repeteated_letters=current_repeated_letters\n",
    "                current_repeated_letters=1\n",
    "    return (max_repeteated_letters)"
   ]
  },
  {
   "cell_type": "code",
   "execution_count": 224,
   "metadata": {},
   "outputs": [],
   "source": [
    "def remover_palabras_con_letras_repetidas(text):\n",
    "    max_repeated_letters = 0\n",
    "    current_repeated_letters = 1\n",
    "    new_text = []\n",
    "    for word in text:\n",
    "        current_repeated_letters=1\n",
    "        max_repeated_letters = 1\n",
    "        for i in range (len(word)-1):\n",
    "            if(word[i]==word[i+1]):\n",
    "                current_repeated_letters=current_repeated_letters+1\n",
    "            else:\n",
    "                if(current_repeated_letters>max_repeated_letters):\n",
    "                    max_repeated_letters=current_repeated_letters\n",
    "                current_repeated_letters=1\n",
    "        if(current_repeated_letters<=2 and max_repeated_letters<=2):\n",
    "            new_text.append(word)  #remuevo las palabras que tengan 3 o mas letras seguidas repetidas\n",
    "    return ( ' '.join(new_text))"
   ]
  },
  {
   "cell_type": "code",
   "execution_count": 225,
   "metadata": {},
   "outputs": [],
   "source": [
    "train_limpio['letras_seguidas'] = train_limpio['text'].apply(lambda x: letras_repetidas(x.split(' ')))\n",
    "\n",
    "test_limpio['letras_seguidas'] = test_limpio['text'].apply(lambda x: letras_repetidas(x.split(' ')))"
   ]
  },
  {
   "cell_type": "code",
   "execution_count": 226,
   "metadata": {},
   "outputs": [],
   "source": [
    "letras_seguidas_train = train_limpio['letras_seguidas']\n",
    "letras_seguidas_test = test_limpio['letras_seguidas']"
   ]
  },
  {
   "cell_type": "code",
   "execution_count": 227,
   "metadata": {},
   "outputs": [
    {
     "data": {
      "text/html": [
       "<div>\n",
       "<style scoped>\n",
       "    .dataframe tbody tr th:only-of-type {\n",
       "        vertical-align: middle;\n",
       "    }\n",
       "\n",
       "    .dataframe tbody tr th {\n",
       "        vertical-align: top;\n",
       "    }\n",
       "\n",
       "    .dataframe thead th {\n",
       "        text-align: right;\n",
       "    }\n",
       "</style>\n",
       "<table border=\"1\" class=\"dataframe\">\n",
       "  <thead>\n",
       "    <tr style=\"text-align: right;\">\n",
       "      <th></th>\n",
       "      <th>keyword</th>\n",
       "      <th>location</th>\n",
       "      <th>text</th>\n",
       "      <th>target</th>\n",
       "      <th>cantidad_links</th>\n",
       "      <th>cantidad_signos_pregunta</th>\n",
       "      <th>repeticiones</th>\n",
       "      <th>isRealPlace</th>\n",
       "      <th>longitud_tweet</th>\n",
       "      <th>letras_seguidas</th>\n",
       "    </tr>\n",
       "  </thead>\n",
       "  <tbody>\n",
       "    <tr>\n",
       "      <th>0</th>\n",
       "      <td>null</td>\n",
       "      <td>null</td>\n",
       "      <td>our deeds are the reason of this earthquake may allah forgive us all</td>\n",
       "      <td>1</td>\n",
       "      <td>0</td>\n",
       "      <td>0</td>\n",
       "      <td>1</td>\n",
       "      <td>False</td>\n",
       "      <td>70</td>\n",
       "      <td>2</td>\n",
       "    </tr>\n",
       "    <tr>\n",
       "      <th>1</th>\n",
       "      <td>null</td>\n",
       "      <td>null</td>\n",
       "      <td>forest fire near la ronge sask canada</td>\n",
       "      <td>1</td>\n",
       "      <td>0</td>\n",
       "      <td>0</td>\n",
       "      <td>1</td>\n",
       "      <td>False</td>\n",
       "      <td>40</td>\n",
       "      <td>1</td>\n",
       "    </tr>\n",
       "  </tbody>\n",
       "</table>\n",
       "</div>"
      ],
      "text/plain": [
       "  keyword location  \\\n",
       "0    null     null   \n",
       "1    null     null   \n",
       "\n",
       "                                                                   text  \\\n",
       "0  our deeds are the reason of this earthquake may allah forgive us all   \n",
       "1                                 forest fire near la ronge sask canada   \n",
       "\n",
       "   target  cantidad_links  cantidad_signos_pregunta  repeticiones  \\\n",
       "0       1               0                         0             1   \n",
       "1       1               0                         0             1   \n",
       "\n",
       "   isRealPlace  longitud_tweet  letras_seguidas  \n",
       "0        False              70                2  \n",
       "1        False              40                1  "
      ]
     },
     "execution_count": 227,
     "metadata": {},
     "output_type": "execute_result"
    }
   ],
   "source": [
    "#Remuevo esas palabras, x ahora las dejo\n",
    "train_limpio['text'] = train_limpio['text'].apply(lambda x: remover_palabras_con_letras_repetidas(x.split(' ')))\n",
    "test_limpio['text'] = test_limpio['text'].apply(lambda x: remover_palabras_con_letras_repetidas(x.split(' ')))\n",
    "train_limpio.head(2)"
   ]
  },
  {
   "cell_type": "markdown",
   "metadata": {},
   "source": [
    "### Parece dar buenos resultados pero obviamente no reemplaza un programa que me detecte cualquier error ortografico"
   ]
  },
  {
   "cell_type": "markdown",
   "metadata": {},
   "source": [
    "# Correccion de typos\n",
    "\n",
    "### Lo deje comentado por ser demasiado lento"
   ]
  },
  {
   "cell_type": "code",
   "execution_count": 228,
   "metadata": {
    "collapsed": true
   },
   "outputs": [
    {
     "data": {
      "text/html": [
       "<div>\n",
       "<style scoped>\n",
       "    .dataframe tbody tr th:only-of-type {\n",
       "        vertical-align: middle;\n",
       "    }\n",
       "\n",
       "    .dataframe tbody tr th {\n",
       "        vertical-align: top;\n",
       "    }\n",
       "\n",
       "    .dataframe thead th {\n",
       "        text-align: right;\n",
       "    }\n",
       "</style>\n",
       "<table border=\"1\" class=\"dataframe\">\n",
       "  <thead>\n",
       "    <tr style=\"text-align: right;\">\n",
       "      <th></th>\n",
       "      <th>keyword</th>\n",
       "      <th>location</th>\n",
       "      <th>text</th>\n",
       "      <th>target</th>\n",
       "      <th>cantidad_links</th>\n",
       "      <th>cantidad_signos_pregunta</th>\n",
       "      <th>repeticiones</th>\n",
       "      <th>isRealPlace</th>\n",
       "      <th>longitud_tweet</th>\n",
       "      <th>letras_seguidas</th>\n",
       "      <th>text_2</th>\n",
       "    </tr>\n",
       "  </thead>\n",
       "  <tbody>\n",
       "    <tr>\n",
       "      <th>1</th>\n",
       "      <td>null</td>\n",
       "      <td>null</td>\n",
       "      <td>[forest, fire, near, la, range, ask, canada]</td>\n",
       "      <td>1</td>\n",
       "      <td>0</td>\n",
       "      <td>0</td>\n",
       "      <td>1</td>\n",
       "      <td>False</td>\n",
       "      <td>40</td>\n",
       "      <td>1</td>\n",
       "      <td>forest fire near la range ask canada</td>\n",
       "    </tr>\n",
       "    <tr>\n",
       "      <th>2</th>\n",
       "      <td>null</td>\n",
       "      <td>null</td>\n",
       "      <td>[all, residents, asked, to, shelter, in, place, are, being, notified, by, officers, no, other, evacuation, or, shelter, in, place, orders, are, expected]</td>\n",
       "      <td>1</td>\n",
       "      <td>0</td>\n",
       "      <td>0</td>\n",
       "      <td>1</td>\n",
       "      <td>False</td>\n",
       "      <td>130</td>\n",
       "      <td>2</td>\n",
       "      <td>all residents asked to shelter in place are being notified by officers no other evacuation or shelter in place orders are expected</td>\n",
       "    </tr>\n",
       "    <tr>\n",
       "      <th>3</th>\n",
       "      <td>null</td>\n",
       "      <td>null</td>\n",
       "      <td>[, people, receive, wildfires, evacuation, orders, in, california, ]</td>\n",
       "      <td>1</td>\n",
       "      <td>0</td>\n",
       "      <td>0</td>\n",
       "      <td>1</td>\n",
       "      <td>False</td>\n",
       "      <td>60</td>\n",
       "      <td>1</td>\n",
       "      <td>people receive wildfires evacuation orders in california</td>\n",
       "    </tr>\n",
       "    <tr>\n",
       "      <th>4</th>\n",
       "      <td>null</td>\n",
       "      <td>null</td>\n",
       "      <td>[just, got, sent, this, photo, from, ruby, alaska, as, smoke, from, wildfires, hours, into, a, school, ]</td>\n",
       "      <td>1</td>\n",
       "      <td>0</td>\n",
       "      <td>0</td>\n",
       "      <td>1</td>\n",
       "      <td>False</td>\n",
       "      <td>90</td>\n",
       "      <td>2</td>\n",
       "      <td>just got sent this photo from ruby alaska as smoke from wildfires hours into a school</td>\n",
       "    </tr>\n",
       "    <tr>\n",
       "      <th>5</th>\n",
       "      <td>null</td>\n",
       "      <td>null</td>\n",
       "      <td>[rockyfire, update, , california, why, , closed, in, both, directions, due, to, lake, county, fire, , fire, wildfires]</td>\n",
       "      <td>1</td>\n",
       "      <td>0</td>\n",
       "      <td>0</td>\n",
       "      <td>1</td>\n",
       "      <td>False</td>\n",
       "      <td>110</td>\n",
       "      <td>1</td>\n",
       "      <td>rockyfire update  california why  closed in both directions due to lake county fire  fire wildfires</td>\n",
       "    </tr>\n",
       "  </tbody>\n",
       "</table>\n",
       "</div>"
      ],
      "text/plain": [
       "  keyword location  \\\n",
       "1    null     null   \n",
       "2    null     null   \n",
       "3    null     null   \n",
       "4    null     null   \n",
       "5    null     null   \n",
       "\n",
       "                                                                                                                                                        text  \\\n",
       "1                                                                                                               [forest, fire, near, la, range, ask, canada]   \n",
       "2  [all, residents, asked, to, shelter, in, place, are, being, notified, by, officers, no, other, evacuation, or, shelter, in, place, orders, are, expected]   \n",
       "3                                                                                       [, people, receive, wildfires, evacuation, orders, in, california, ]   \n",
       "4                                                   [just, got, sent, this, photo, from, ruby, alaska, as, smoke, from, wildfires, hours, into, a, school, ]   \n",
       "5                                     [rockyfire, update, , california, why, , closed, in, both, directions, due, to, lake, county, fire, , fire, wildfires]   \n",
       "\n",
       "   target  cantidad_links  cantidad_signos_pregunta  repeticiones  \\\n",
       "1       1               0                         0             1   \n",
       "2       1               0                         0             1   \n",
       "3       1               0                         0             1   \n",
       "4       1               0                         0             1   \n",
       "5       1               0                         0             1   \n",
       "\n",
       "   isRealPlace  longitud_tweet  letras_seguidas  \\\n",
       "1        False              40                1   \n",
       "2        False             130                2   \n",
       "3        False              60                1   \n",
       "4        False              90                2   \n",
       "5        False             110                1   \n",
       "\n",
       "                                                                                                                               text_2  \n",
       "1                                                                                                forest fire near la range ask canada  \n",
       "2  all residents asked to shelter in place are being notified by officers no other evacuation or shelter in place orders are expected  \n",
       "3                                                                           people receive wildfires evacuation orders in california   \n",
       "4                                              just got sent this photo from ruby alaska as smoke from wildfires hours into a school   \n",
       "5                                 rockyfire update  california why  closed in both directions due to lake county fire  fire wildfires  "
      ]
     },
     "execution_count": 228,
     "metadata": {},
     "output_type": "execute_result"
    }
   ],
   "source": [
    "#Prueba basica\n",
    "#pruebita = train_limpio.iloc[1:150].copy()\n",
    "\n",
    "def spell_correcter(text):\n",
    "    word_list = text.split(' ')\n",
    "    return [str(TextBlob(word).correct()) for word in word_list]\n",
    "\n",
    "#from textblob import TextBlob\n",
    "#pruebita['text'] = pruebita['text'].apply(lambda x: spell_correcter(x))\n",
    "#pruebita.text = pruebita.text.apply(lambda txt: ''.join(TextBlob(txt).correct()))\n",
    "\n",
    "#pruebita['text_2'] = pruebita['text'].apply(lambda x: ' '.join(x))\n",
    "#pruebita.head()"
   ]
  },
  {
   "cell_type": "code",
   "execution_count": 229,
   "metadata": {},
   "outputs": [],
   "source": [
    "#Confirmé que funciona, lo aplico a todas"
   ]
  },
  {
   "cell_type": "code",
   "execution_count": 230,
   "metadata": {},
   "outputs": [],
   "source": [
    "#train_limpio['text'] = train_limpio['text'].apply(lambda x: spell_correcter(x))\n",
    "\n",
    "#train_limpio['text'] = train_limpio['text'].apply(lambda x: ' '.join(x))\n",
    "\n",
    "#test_limpio['text'] = test_limpio['text'].apply(lambda x: spell_correcter(x))\n",
    "\n",
    "#test_limpio['text'] = test_limpio['text'].apply(lambda x: ' '.join(x))"
   ]
  },
  {
   "cell_type": "code",
   "execution_count": 231,
   "metadata": {},
   "outputs": [],
   "source": [
    "#train_limpio.to_csv('train_con_textos_corregidos.csv', index=False)\n",
    "\n",
    "#test_limpio.to_csv('test_con_textos_corregidos.csv', index=False)"
   ]
  },
  {
   "cell_type": "code",
   "execution_count": null,
   "metadata": {},
   "outputs": [],
   "source": []
  },
  {
   "cell_type": "code",
   "execution_count": 232,
   "metadata": {},
   "outputs": [],
   "source": [
    "#train_texto_corregido = pd.read_csv(\"train_con_textos_corregidos.csv\",encoding = \"ISO-8859-1\")\n",
    "#test_texto_corregido = pd.read_csv(\"test_con_textos_corregidos.csv\",encoding = \"ISO-8859-1\")"
   ]
  },
  {
   "cell_type": "code",
   "execution_count": 233,
   "metadata": {},
   "outputs": [],
   "source": [
    "#train_texto_corregido = train_texto_corregido.text.fillna(0)"
   ]
  },
  {
   "cell_type": "code",
   "execution_count": 234,
   "metadata": {},
   "outputs": [],
   "source": [
    "#test_texto_corregido = test_texto_corregido.text.fillna(0)"
   ]
  },
  {
   "cell_type": "code",
   "execution_count": 235,
   "metadata": {},
   "outputs": [],
   "source": [
    "#train_limpio['texto_corregido'] = train_texto_corregido"
   ]
  },
  {
   "cell_type": "code",
   "execution_count": 236,
   "metadata": {},
   "outputs": [],
   "source": [
    "#test_limpio['texto_corregido'] = test_texto_corregido"
   ]
  },
  {
   "cell_type": "code",
   "execution_count": 237,
   "metadata": {},
   "outputs": [],
   "source": [
    "#train_limpio[train_limpio['texto_corregido']!=train_limpio['text']].head()"
   ]
  },
  {
   "cell_type": "code",
   "execution_count": 238,
   "metadata": {},
   "outputs": [],
   "source": [
    "#Corrige typos que no deberia, mejor no lo uso"
   ]
  },
  {
   "cell_type": "markdown",
   "metadata": {},
   "source": [
    "# Analisis de sentimiento y de objetividad"
   ]
  },
  {
   "cell_type": "code",
   "execution_count": 239,
   "metadata": {},
   "outputs": [
    {
     "data": {
      "text/plain": [
       "Sentiment(polarity=0.06666666666666667, subjectivity=0.41904761904761906)"
      ]
     },
     "execution_count": 239,
     "metadata": {},
     "output_type": "execute_result"
    }
   ],
   "source": [
    "b = TextBlob(\"Simple is better than complex\")\n",
    "b.sentiment"
   ]
  },
  {
   "cell_type": "code",
   "execution_count": 240,
   "metadata": {},
   "outputs": [
    {
     "data": {
      "text/html": [
       "<div>\n",
       "<style scoped>\n",
       "    .dataframe tbody tr th:only-of-type {\n",
       "        vertical-align: middle;\n",
       "    }\n",
       "\n",
       "    .dataframe tbody tr th {\n",
       "        vertical-align: top;\n",
       "    }\n",
       "\n",
       "    .dataframe thead th {\n",
       "        text-align: right;\n",
       "    }\n",
       "</style>\n",
       "<table border=\"1\" class=\"dataframe\">\n",
       "  <thead>\n",
       "    <tr style=\"text-align: right;\">\n",
       "      <th></th>\n",
       "      <th>keyword</th>\n",
       "      <th>location</th>\n",
       "      <th>text</th>\n",
       "      <th>target</th>\n",
       "      <th>cantidad_links</th>\n",
       "      <th>cantidad_signos_pregunta</th>\n",
       "      <th>repeticiones</th>\n",
       "      <th>isRealPlace</th>\n",
       "      <th>longitud_tweet</th>\n",
       "      <th>letras_seguidas</th>\n",
       "      <th>text_2</th>\n",
       "      <th>analisis_sentimientos</th>\n",
       "    </tr>\n",
       "  </thead>\n",
       "  <tbody>\n",
       "    <tr>\n",
       "      <th>1</th>\n",
       "      <td>null</td>\n",
       "      <td>null</td>\n",
       "      <td>[forest, fire, near, la, range, ask, canada]</td>\n",
       "      <td>1</td>\n",
       "      <td>0</td>\n",
       "      <td>0</td>\n",
       "      <td>1</td>\n",
       "      <td>False</td>\n",
       "      <td>40</td>\n",
       "      <td>1</td>\n",
       "      <td>forest fire near la range ask canada</td>\n",
       "      <td>(0.1, 0.4)</td>\n",
       "    </tr>\n",
       "    <tr>\n",
       "      <th>2</th>\n",
       "      <td>null</td>\n",
       "      <td>null</td>\n",
       "      <td>[all, residents, asked, to, shelter, in, place, are, being, notified, by, officers, no, other, evacuation, or, shelter, in, place, orders, are, expected]</td>\n",
       "      <td>1</td>\n",
       "      <td>0</td>\n",
       "      <td>0</td>\n",
       "      <td>1</td>\n",
       "      <td>False</td>\n",
       "      <td>130</td>\n",
       "      <td>2</td>\n",
       "      <td>all residents asked to shelter in place are being notified by officers no other evacuation or shelter in place orders are expected</td>\n",
       "      <td>(-0.018750000000000003, 0.3875)</td>\n",
       "    </tr>\n",
       "    <tr>\n",
       "      <th>3</th>\n",
       "      <td>null</td>\n",
       "      <td>null</td>\n",
       "      <td>[, people, receive, wildfires, evacuation, orders, in, california, ]</td>\n",
       "      <td>1</td>\n",
       "      <td>0</td>\n",
       "      <td>0</td>\n",
       "      <td>1</td>\n",
       "      <td>False</td>\n",
       "      <td>60</td>\n",
       "      <td>1</td>\n",
       "      <td>people receive wildfires evacuation orders in california</td>\n",
       "      <td>(0.0, 0.0)</td>\n",
       "    </tr>\n",
       "    <tr>\n",
       "      <th>4</th>\n",
       "      <td>null</td>\n",
       "      <td>null</td>\n",
       "      <td>[just, got, sent, this, photo, from, ruby, alaska, as, smoke, from, wildfires, hours, into, a, school, ]</td>\n",
       "      <td>1</td>\n",
       "      <td>0</td>\n",
       "      <td>0</td>\n",
       "      <td>1</td>\n",
       "      <td>False</td>\n",
       "      <td>90</td>\n",
       "      <td>2</td>\n",
       "      <td>just got sent this photo from ruby alaska as smoke from wildfires hours into a school</td>\n",
       "      <td>(0.0, 0.0)</td>\n",
       "    </tr>\n",
       "    <tr>\n",
       "      <th>5</th>\n",
       "      <td>null</td>\n",
       "      <td>null</td>\n",
       "      <td>[rockyfire, update, , california, why, , closed, in, both, directions, due, to, lake, county, fire, , fire, wildfires]</td>\n",
       "      <td>1</td>\n",
       "      <td>0</td>\n",
       "      <td>0</td>\n",
       "      <td>1</td>\n",
       "      <td>False</td>\n",
       "      <td>110</td>\n",
       "      <td>1</td>\n",
       "      <td>rockyfire update  california why  closed in both directions due to lake county fire  fire wildfires</td>\n",
       "      <td>(-0.1125, 0.2375)</td>\n",
       "    </tr>\n",
       "  </tbody>\n",
       "</table>\n",
       "</div>"
      ],
      "text/plain": [
       "  keyword location  \\\n",
       "1    null     null   \n",
       "2    null     null   \n",
       "3    null     null   \n",
       "4    null     null   \n",
       "5    null     null   \n",
       "\n",
       "                                                                                                                                                        text  \\\n",
       "1                                                                                                               [forest, fire, near, la, range, ask, canada]   \n",
       "2  [all, residents, asked, to, shelter, in, place, are, being, notified, by, officers, no, other, evacuation, or, shelter, in, place, orders, are, expected]   \n",
       "3                                                                                       [, people, receive, wildfires, evacuation, orders, in, california, ]   \n",
       "4                                                   [just, got, sent, this, photo, from, ruby, alaska, as, smoke, from, wildfires, hours, into, a, school, ]   \n",
       "5                                     [rockyfire, update, , california, why, , closed, in, both, directions, due, to, lake, county, fire, , fire, wildfires]   \n",
       "\n",
       "   target  cantidad_links  cantidad_signos_pregunta  repeticiones  \\\n",
       "1       1               0                         0             1   \n",
       "2       1               0                         0             1   \n",
       "3       1               0                         0             1   \n",
       "4       1               0                         0             1   \n",
       "5       1               0                         0             1   \n",
       "\n",
       "   isRealPlace  longitud_tweet  letras_seguidas  \\\n",
       "1        False              40                1   \n",
       "2        False             130                2   \n",
       "3        False              60                1   \n",
       "4        False              90                2   \n",
       "5        False             110                1   \n",
       "\n",
       "                                                                                                                               text_2  \\\n",
       "1                                                                                                forest fire near la range ask canada   \n",
       "2  all residents asked to shelter in place are being notified by officers no other evacuation or shelter in place orders are expected   \n",
       "3                                                                           people receive wildfires evacuation orders in california    \n",
       "4                                              just got sent this photo from ruby alaska as smoke from wildfires hours into a school    \n",
       "5                                 rockyfire update  california why  closed in both directions due to lake county fire  fire wildfires   \n",
       "\n",
       "             analisis_sentimientos  \n",
       "1                       (0.1, 0.4)  \n",
       "2  (-0.018750000000000003, 0.3875)  \n",
       "3                       (0.0, 0.0)  \n",
       "4                       (0.0, 0.0)  \n",
       "5                (-0.1125, 0.2375)  "
      ]
     },
     "execution_count": 240,
     "metadata": {},
     "output_type": "execute_result"
    }
   ],
   "source": [
    "#pruebita['text'] = pruebita['text'].apply(lambda x: spell_correcter(x))\n",
    "#pruebita.text = pruebita.text.apply(lambda txt: ''.join(TextBlob(txt).correct()))\n",
    "\n",
    "pruebita['analisis_sentimientos'] = pruebita['text'].apply(lambda x: (TextBlob(str(x)).sentiment))\n",
    "pruebita.head()"
   ]
  },
  {
   "cell_type": "code",
   "execution_count": 241,
   "metadata": {},
   "outputs": [],
   "source": [
    "train_limpio['sentimiento'] = train_limpio['text'].apply(lambda x: (TextBlob(str(x)).sentiment)[0])\n",
    "train_limpio['objetividad'] = train_limpio['text'].apply(lambda x: (TextBlob(str(x)).sentiment)[1])"
   ]
  },
  {
   "cell_type": "code",
   "execution_count": 242,
   "metadata": {},
   "outputs": [],
   "source": [
    "test_limpio['sentimiento'] = test_limpio['text'].apply(lambda x: (TextBlob(str(x)).sentiment)[0])\n",
    "test_limpio['objetividad'] = test_limpio['text'].apply(lambda x: (TextBlob(str(x)).sentiment)[1])"
   ]
  },
  {
   "cell_type": "code",
   "execution_count": 243,
   "metadata": {},
   "outputs": [
    {
     "data": {
      "text/html": [
       "<div>\n",
       "<style scoped>\n",
       "    .dataframe tbody tr th:only-of-type {\n",
       "        vertical-align: middle;\n",
       "    }\n",
       "\n",
       "    .dataframe tbody tr th {\n",
       "        vertical-align: top;\n",
       "    }\n",
       "\n",
       "    .dataframe thead th {\n",
       "        text-align: right;\n",
       "    }\n",
       "</style>\n",
       "<table border=\"1\" class=\"dataframe\">\n",
       "  <thead>\n",
       "    <tr style=\"text-align: right;\">\n",
       "      <th></th>\n",
       "      <th>keyword</th>\n",
       "      <th>location</th>\n",
       "      <th>text</th>\n",
       "      <th>target</th>\n",
       "      <th>cantidad_links</th>\n",
       "      <th>cantidad_signos_pregunta</th>\n",
       "      <th>repeticiones</th>\n",
       "      <th>isRealPlace</th>\n",
       "      <th>longitud_tweet</th>\n",
       "      <th>letras_seguidas</th>\n",
       "      <th>sentimiento</th>\n",
       "      <th>objetividad</th>\n",
       "    </tr>\n",
       "  </thead>\n",
       "  <tbody>\n",
       "    <tr>\n",
       "      <th>0</th>\n",
       "      <td>null</td>\n",
       "      <td>null</td>\n",
       "      <td>our deeds are the reason of this earthquake may allah forgive us all</td>\n",
       "      <td>1</td>\n",
       "      <td>0</td>\n",
       "      <td>0</td>\n",
       "      <td>1</td>\n",
       "      <td>False</td>\n",
       "      <td>70</td>\n",
       "      <td>2</td>\n",
       "      <td>0.00000</td>\n",
       "      <td>0.0000</td>\n",
       "    </tr>\n",
       "    <tr>\n",
       "      <th>1</th>\n",
       "      <td>null</td>\n",
       "      <td>null</td>\n",
       "      <td>forest fire near la ronge sask canada</td>\n",
       "      <td>1</td>\n",
       "      <td>0</td>\n",
       "      <td>0</td>\n",
       "      <td>1</td>\n",
       "      <td>False</td>\n",
       "      <td>40</td>\n",
       "      <td>1</td>\n",
       "      <td>0.10000</td>\n",
       "      <td>0.4000</td>\n",
       "    </tr>\n",
       "    <tr>\n",
       "      <th>2</th>\n",
       "      <td>null</td>\n",
       "      <td>null</td>\n",
       "      <td>all residents asked to shelter in place are being notified by officers no other evacuation or shelter in place orders are expected</td>\n",
       "      <td>1</td>\n",
       "      <td>0</td>\n",
       "      <td>0</td>\n",
       "      <td>1</td>\n",
       "      <td>False</td>\n",
       "      <td>130</td>\n",
       "      <td>2</td>\n",
       "      <td>-0.01875</td>\n",
       "      <td>0.3875</td>\n",
       "    </tr>\n",
       "    <tr>\n",
       "      <th>3</th>\n",
       "      <td>null</td>\n",
       "      <td>null</td>\n",
       "      <td>people receive wildfires evacuation orders in california</td>\n",
       "      <td>1</td>\n",
       "      <td>0</td>\n",
       "      <td>0</td>\n",
       "      <td>1</td>\n",
       "      <td>False</td>\n",
       "      <td>60</td>\n",
       "      <td>1</td>\n",
       "      <td>0.00000</td>\n",
       "      <td>0.0000</td>\n",
       "    </tr>\n",
       "    <tr>\n",
       "      <th>4</th>\n",
       "      <td>null</td>\n",
       "      <td>null</td>\n",
       "      <td>just got sent this photo from ruby alaska as smoke from wildfires pours into a school</td>\n",
       "      <td>1</td>\n",
       "      <td>0</td>\n",
       "      <td>0</td>\n",
       "      <td>1</td>\n",
       "      <td>False</td>\n",
       "      <td>90</td>\n",
       "      <td>2</td>\n",
       "      <td>0.00000</td>\n",
       "      <td>0.0000</td>\n",
       "    </tr>\n",
       "  </tbody>\n",
       "</table>\n",
       "</div>"
      ],
      "text/plain": [
       "  keyword location  \\\n",
       "0    null     null   \n",
       "1    null     null   \n",
       "2    null     null   \n",
       "3    null     null   \n",
       "4    null     null   \n",
       "\n",
       "                                                                                                                                 text  \\\n",
       "0                                                                our deeds are the reason of this earthquake may allah forgive us all   \n",
       "1                                                                                               forest fire near la ronge sask canada   \n",
       "2  all residents asked to shelter in place are being notified by officers no other evacuation or shelter in place orders are expected   \n",
       "3                                                                           people receive wildfires evacuation orders in california    \n",
       "4                                              just got sent this photo from ruby alaska as smoke from wildfires pours into a school    \n",
       "\n",
       "   target  cantidad_links  cantidad_signos_pregunta  repeticiones  \\\n",
       "0       1               0                         0             1   \n",
       "1       1               0                         0             1   \n",
       "2       1               0                         0             1   \n",
       "3       1               0                         0             1   \n",
       "4       1               0                         0             1   \n",
       "\n",
       "   isRealPlace  longitud_tweet  letras_seguidas  sentimiento  objetividad  \n",
       "0        False              70                2      0.00000       0.0000  \n",
       "1        False              40                1      0.10000       0.4000  \n",
       "2        False             130                2     -0.01875       0.3875  \n",
       "3        False              60                1      0.00000       0.0000  \n",
       "4        False              90                2      0.00000       0.0000  "
      ]
     },
     "execution_count": 243,
     "metadata": {},
     "output_type": "execute_result"
    }
   ],
   "source": [
    "train_limpio.head()"
   ]
  },
  {
   "cell_type": "markdown",
   "metadata": {},
   "source": [
    "# Stemming"
   ]
  },
  {
   "cell_type": "code",
   "execution_count": 244,
   "metadata": {
    "scrolled": true
   },
   "outputs": [
    {
     "data": {
      "text/html": [
       "<div>\n",
       "<style scoped>\n",
       "    .dataframe tbody tr th:only-of-type {\n",
       "        vertical-align: middle;\n",
       "    }\n",
       "\n",
       "    .dataframe tbody tr th {\n",
       "        vertical-align: top;\n",
       "    }\n",
       "\n",
       "    .dataframe thead th {\n",
       "        text-align: right;\n",
       "    }\n",
       "</style>\n",
       "<table border=\"1\" class=\"dataframe\">\n",
       "  <thead>\n",
       "    <tr style=\"text-align: right;\">\n",
       "      <th></th>\n",
       "      <th>keyword</th>\n",
       "      <th>location</th>\n",
       "      <th>text</th>\n",
       "      <th>target</th>\n",
       "      <th>cantidad_links</th>\n",
       "      <th>cantidad_signos_pregunta</th>\n",
       "      <th>repeticiones</th>\n",
       "      <th>isRealPlace</th>\n",
       "      <th>longitud_tweet</th>\n",
       "      <th>letras_seguidas</th>\n",
       "      <th>sentimiento</th>\n",
       "      <th>objetividad</th>\n",
       "      <th>stemmed_text</th>\n",
       "    </tr>\n",
       "  </thead>\n",
       "  <tbody>\n",
       "    <tr>\n",
       "      <th>1</th>\n",
       "      <td>null</td>\n",
       "      <td>null</td>\n",
       "      <td>forest fire near la ronge sask canada</td>\n",
       "      <td>1</td>\n",
       "      <td>0</td>\n",
       "      <td>0</td>\n",
       "      <td>1</td>\n",
       "      <td>False</td>\n",
       "      <td>40</td>\n",
       "      <td>1</td>\n",
       "      <td>0.10000</td>\n",
       "      <td>0.4000</td>\n",
       "      <td>forest fire near la rong sask canada</td>\n",
       "    </tr>\n",
       "    <tr>\n",
       "      <th>2</th>\n",
       "      <td>null</td>\n",
       "      <td>null</td>\n",
       "      <td>all residents asked to shelter in place are being notified by officers no other evacuation or shelter in place orders are expected</td>\n",
       "      <td>1</td>\n",
       "      <td>0</td>\n",
       "      <td>0</td>\n",
       "      <td>1</td>\n",
       "      <td>False</td>\n",
       "      <td>130</td>\n",
       "      <td>2</td>\n",
       "      <td>-0.01875</td>\n",
       "      <td>0.3875</td>\n",
       "      <td>all resid ask to shelter in place are be notifi by offic no other evacu or shelter in place order are expect</td>\n",
       "    </tr>\n",
       "    <tr>\n",
       "      <th>3</th>\n",
       "      <td>null</td>\n",
       "      <td>null</td>\n",
       "      <td>people receive wildfires evacuation orders in california</td>\n",
       "      <td>1</td>\n",
       "      <td>0</td>\n",
       "      <td>0</td>\n",
       "      <td>1</td>\n",
       "      <td>False</td>\n",
       "      <td>60</td>\n",
       "      <td>1</td>\n",
       "      <td>0.00000</td>\n",
       "      <td>0.0000</td>\n",
       "      <td>peopl receiv wildfir evacu order in california</td>\n",
       "    </tr>\n",
       "    <tr>\n",
       "      <th>4</th>\n",
       "      <td>null</td>\n",
       "      <td>null</td>\n",
       "      <td>just got sent this photo from ruby alaska as smoke from wildfires pours into a school</td>\n",
       "      <td>1</td>\n",
       "      <td>0</td>\n",
       "      <td>0</td>\n",
       "      <td>1</td>\n",
       "      <td>False</td>\n",
       "      <td>90</td>\n",
       "      <td>2</td>\n",
       "      <td>0.00000</td>\n",
       "      <td>0.0000</td>\n",
       "      <td>just got sent this photo from rubi alaska as smoke from wildfir pour into a school</td>\n",
       "    </tr>\n",
       "    <tr>\n",
       "      <th>5</th>\n",
       "      <td>null</td>\n",
       "      <td>null</td>\n",
       "      <td>rockyfire update  california hwy  closed in both directions due to lake county fire  cafire wildfires</td>\n",
       "      <td>1</td>\n",
       "      <td>0</td>\n",
       "      <td>0</td>\n",
       "      <td>1</td>\n",
       "      <td>False</td>\n",
       "      <td>110</td>\n",
       "      <td>1</td>\n",
       "      <td>-0.11250</td>\n",
       "      <td>0.2375</td>\n",
       "      <td>rockyfir updat  california hwi  close in both direct due to lake counti fire  cafir wildfir</td>\n",
       "    </tr>\n",
       "  </tbody>\n",
       "</table>\n",
       "</div>"
      ],
      "text/plain": [
       "  keyword location  \\\n",
       "1    null     null   \n",
       "2    null     null   \n",
       "3    null     null   \n",
       "4    null     null   \n",
       "5    null     null   \n",
       "\n",
       "                                                                                                                                 text  \\\n",
       "1                                                                                               forest fire near la ronge sask canada   \n",
       "2  all residents asked to shelter in place are being notified by officers no other evacuation or shelter in place orders are expected   \n",
       "3                                                                           people receive wildfires evacuation orders in california    \n",
       "4                                              just got sent this photo from ruby alaska as smoke from wildfires pours into a school    \n",
       "5                               rockyfire update  california hwy  closed in both directions due to lake county fire  cafire wildfires   \n",
       "\n",
       "   target  cantidad_links  cantidad_signos_pregunta  repeticiones  \\\n",
       "1       1               0                         0             1   \n",
       "2       1               0                         0             1   \n",
       "3       1               0                         0             1   \n",
       "4       1               0                         0             1   \n",
       "5       1               0                         0             1   \n",
       "\n",
       "   isRealPlace  longitud_tweet  letras_seguidas  sentimiento  objetividad  \\\n",
       "1        False              40                1      0.10000       0.4000   \n",
       "2        False             130                2     -0.01875       0.3875   \n",
       "3        False              60                1      0.00000       0.0000   \n",
       "4        False              90                2      0.00000       0.0000   \n",
       "5        False             110                1     -0.11250       0.2375   \n",
       "\n",
       "                                                                                                   stemmed_text  \n",
       "1                                                                          forest fire near la rong sask canada  \n",
       "2  all resid ask to shelter in place are be notifi by offic no other evacu or shelter in place order are expect  \n",
       "3                                                               peopl receiv wildfir evacu order in california   \n",
       "4                           just got sent this photo from rubi alaska as smoke from wildfir pour into a school   \n",
       "5                   rockyfir updat  california hwi  close in both direct due to lake counti fire  cafir wildfir  "
      ]
     },
     "execution_count": 244,
     "metadata": {},
     "output_type": "execute_result"
    }
   ],
   "source": [
    "#Prueba basica\n",
    "pruebita = train_limpio.iloc[1:150].copy()\n",
    "\n",
    "pruebita['stemmed_text'] = pruebita['text'].apply(lambda x: ' '.join([stemmer.stem(y) for y in x.split(' ')]))\n",
    "pruebita.head()"
   ]
  },
  {
   "cell_type": "code",
   "execution_count": 245,
   "metadata": {},
   "outputs": [],
   "source": [
    "# Dio bien, sigo con el resto"
   ]
  },
  {
   "cell_type": "code",
   "execution_count": 246,
   "metadata": {},
   "outputs": [],
   "source": [
    "train_limpio['text'] = train_limpio['text'].apply(lambda x: ' '.join([stemmer.stem(y) for y in x.split(' ')]))"
   ]
  },
  {
   "cell_type": "code",
   "execution_count": 247,
   "metadata": {},
   "outputs": [],
   "source": [
    "test_limpio['text'] = test_limpio['text'].apply(lambda x: ' '.join([stemmer.stem(y) for y in x.split(' ')]))"
   ]
  },
  {
   "cell_type": "code",
   "execution_count": 248,
   "metadata": {},
   "outputs": [
    {
     "data": {
      "text/html": [
       "<div>\n",
       "<style scoped>\n",
       "    .dataframe tbody tr th:only-of-type {\n",
       "        vertical-align: middle;\n",
       "    }\n",
       "\n",
       "    .dataframe tbody tr th {\n",
       "        vertical-align: top;\n",
       "    }\n",
       "\n",
       "    .dataframe thead th {\n",
       "        text-align: right;\n",
       "    }\n",
       "</style>\n",
       "<table border=\"1\" class=\"dataframe\">\n",
       "  <thead>\n",
       "    <tr style=\"text-align: right;\">\n",
       "      <th></th>\n",
       "      <th>id</th>\n",
       "      <th>keyword</th>\n",
       "      <th>location</th>\n",
       "      <th>text</th>\n",
       "      <th>cantidad_links</th>\n",
       "      <th>cantidad_signos_pregunta</th>\n",
       "      <th>repeticiones</th>\n",
       "      <th>isRealPlace</th>\n",
       "      <th>longitud_tweet</th>\n",
       "      <th>letras_seguidas</th>\n",
       "      <th>sentimiento</th>\n",
       "      <th>objetividad</th>\n",
       "    </tr>\n",
       "  </thead>\n",
       "  <tbody>\n",
       "    <tr>\n",
       "      <th>0</th>\n",
       "      <td>0</td>\n",
       "      <td>null</td>\n",
       "      <td>null</td>\n",
       "      <td>just happen a terribl car crash</td>\n",
       "      <td>0</td>\n",
       "      <td>0</td>\n",
       "      <td>1</td>\n",
       "      <td>False</td>\n",
       "      <td>40</td>\n",
       "      <td>2</td>\n",
       "      <td>-1.0</td>\n",
       "      <td>1.0</td>\n",
       "    </tr>\n",
       "  </tbody>\n",
       "</table>\n",
       "</div>"
      ],
      "text/plain": [
       "   id keyword location                             text  cantidad_links  \\\n",
       "0   0    null     null  just happen a terribl car crash               0   \n",
       "\n",
       "   cantidad_signos_pregunta  repeticiones  isRealPlace  longitud_tweet  \\\n",
       "0                         0             1        False              40   \n",
       "\n",
       "   letras_seguidas  sentimiento  objetividad  \n",
       "0                2         -1.0          1.0  "
      ]
     },
     "execution_count": 248,
     "metadata": {},
     "output_type": "execute_result"
    }
   ],
   "source": [
    "test_limpio.head(1)"
   ]
  },
  {
   "cell_type": "code",
   "execution_count": 249,
   "metadata": {},
   "outputs": [
    {
     "data": {
      "text/plain": [
       "id                            int64\n",
       "keyword                      object\n",
       "location                     object\n",
       "text                         object\n",
       "cantidad_links                int64\n",
       "cantidad_signos_pregunta      int64\n",
       "repeticiones                  int64\n",
       "isRealPlace                    bool\n",
       "longitud_tweet                int64\n",
       "letras_seguidas               int64\n",
       "sentimiento                 float64\n",
       "objetividad                 float64\n",
       "dtype: object"
      ]
     },
     "execution_count": 249,
     "metadata": {},
     "output_type": "execute_result"
    }
   ],
   "source": [
    "test_limpio.dtypes"
   ]
  },
  {
   "cell_type": "markdown",
   "metadata": {},
   "source": [
    "## Caso abarcativo: agrupo por palabras y me quedo con las mas repetidas"
   ]
  },
  {
   "cell_type": "code",
   "execution_count": 250,
   "metadata": {},
   "outputs": [
    {
     "data": {
      "text/html": [
       "<div>\n",
       "<style scoped>\n",
       "    .dataframe tbody tr th:only-of-type {\n",
       "        vertical-align: middle;\n",
       "    }\n",
       "\n",
       "    .dataframe tbody tr th {\n",
       "        vertical-align: top;\n",
       "    }\n",
       "\n",
       "    .dataframe thead th {\n",
       "        text-align: right;\n",
       "    }\n",
       "</style>\n",
       "<table border=\"1\" class=\"dataframe\">\n",
       "  <thead>\n",
       "    <tr style=\"text-align: right;\">\n",
       "      <th></th>\n",
       "      <th>word</th>\n",
       "      <th>cantidad_apariciones</th>\n",
       "    </tr>\n",
       "  </thead>\n",
       "  <tbody>\n",
       "    <tr>\n",
       "      <th>12554</th>\n",
       "      <td>the</td>\n",
       "      <td>3168</td>\n",
       "    </tr>\n",
       "    <tr>\n",
       "      <th>0</th>\n",
       "      <td>a</td>\n",
       "      <td>2090</td>\n",
       "    </tr>\n",
       "    <tr>\n",
       "      <th>6527</th>\n",
       "      <td>in</td>\n",
       "      <td>1904</td>\n",
       "    </tr>\n",
       "    <tr>\n",
       "      <th>12797</th>\n",
       "      <td>to</td>\n",
       "      <td>1903</td>\n",
       "    </tr>\n",
       "    <tr>\n",
       "      <th>9149</th>\n",
       "      <td>of</td>\n",
       "      <td>1759</td>\n",
       "    </tr>\n",
       "  </tbody>\n",
       "</table>\n",
       "</div>"
      ],
      "text/plain": [
       "      word  cantidad_apariciones\n",
       "12554  the                  3168\n",
       "0        a                  2090\n",
       "6527    in                  1904\n",
       "12797   to                  1903\n",
       "9149    of                  1759"
      ]
     },
     "execution_count": 250,
     "metadata": {},
     "output_type": "execute_result"
    }
   ],
   "source": [
    "import re \n",
    "from string import punctuation\n",
    "\n",
    "palabras_por_separado = train_limpio.copy()\n",
    "palabras_por_separado.set_index(['target'],inplace=True)\n",
    "palabras_por_separado = palabras_por_separado['text'].str.split(expand=True).stack().to_frame()\n",
    "palabras_por_separado.columns = ['word']\n",
    "#palabras_por_separado['word'] = palabras_por_separado['word'].str.replace(rf'[{punctuation}]', '')\n",
    "palabras_por_separado.reset_index(inplace=True)\n",
    "del palabras_por_separado['level_1']\n",
    "palabras_mas_comunes = palabras_por_separado.groupby('word')['target'].count().rename('cantidad_apariciones').reset_index().nlargest(400,'cantidad_apariciones')\n",
    "palabras_mas_comunes.head()"
   ]
  },
  {
   "cell_type": "code",
   "execution_count": 251,
   "metadata": {},
   "outputs": [],
   "source": [
    "for i in palabras_mas_comunes.word.values:\n",
    "    train_limpio[i]= train_limpio['text'].apply(lambda x: x.count(i))\n",
    "    test_limpio[i]= test_limpio['text'].apply(lambda x: x.count(i))"
   ]
  },
  {
   "cell_type": "code",
   "execution_count": 252,
   "metadata": {},
   "outputs": [
    {
     "data": {
      "text/html": [
       "<div>\n",
       "<style scoped>\n",
       "    .dataframe tbody tr th:only-of-type {\n",
       "        vertical-align: middle;\n",
       "    }\n",
       "\n",
       "    .dataframe tbody tr th {\n",
       "        vertical-align: top;\n",
       "    }\n",
       "\n",
       "    .dataframe thead th {\n",
       "        text-align: right;\n",
       "    }\n",
       "</style>\n",
       "<table border=\"1\" class=\"dataframe\">\n",
       "  <thead>\n",
       "    <tr style=\"text-align: right;\">\n",
       "      <th></th>\n",
       "      <th>id</th>\n",
       "      <th>keyword</th>\n",
       "      <th>location</th>\n",
       "      <th>text</th>\n",
       "      <th>cantidad_links</th>\n",
       "      <th>cantidad_signos_pregunta</th>\n",
       "      <th>repeticiones</th>\n",
       "      <th>isRealPlace</th>\n",
       "      <th>longitud_tweet</th>\n",
       "      <th>letras_seguidas</th>\n",
       "      <th>...</th>\n",
       "      <th>sinkhol</th>\n",
       "      <th>spill</th>\n",
       "      <th>survivor</th>\n",
       "      <th></th>\n",
       "      <th>big</th>\n",
       "      <th>harm</th>\n",
       "      <th>heart</th>\n",
       "      <th>kid</th>\n",
       "      <th>part</th>\n",
       "      <th>phone</th>\n",
       "    </tr>\n",
       "  </thead>\n",
       "  <tbody>\n",
       "    <tr>\n",
       "      <th>0</th>\n",
       "      <td>0</td>\n",
       "      <td>null</td>\n",
       "      <td>null</td>\n",
       "      <td>just happen a terribl car crash</td>\n",
       "      <td>0</td>\n",
       "      <td>0</td>\n",
       "      <td>1</td>\n",
       "      <td>False</td>\n",
       "      <td>40</td>\n",
       "      <td>2</td>\n",
       "      <td>...</td>\n",
       "      <td>0</td>\n",
       "      <td>0</td>\n",
       "      <td>0</td>\n",
       "      <td>0</td>\n",
       "      <td>0</td>\n",
       "      <td>0</td>\n",
       "      <td>0</td>\n",
       "      <td>0</td>\n",
       "      <td>0</td>\n",
       "      <td>0</td>\n",
       "    </tr>\n",
       "    <tr>\n",
       "      <th>1</th>\n",
       "      <td>2</td>\n",
       "      <td>null</td>\n",
       "      <td>null</td>\n",
       "      <td>heard about earthquak is differ citi stay safe everyon</td>\n",
       "      <td>0</td>\n",
       "      <td>0</td>\n",
       "      <td>1</td>\n",
       "      <td>False</td>\n",
       "      <td>70</td>\n",
       "      <td>2</td>\n",
       "      <td>...</td>\n",
       "      <td>0</td>\n",
       "      <td>0</td>\n",
       "      <td>0</td>\n",
       "      <td>0</td>\n",
       "      <td>0</td>\n",
       "      <td>0</td>\n",
       "      <td>0</td>\n",
       "      <td>0</td>\n",
       "      <td>0</td>\n",
       "      <td>0</td>\n",
       "    </tr>\n",
       "  </tbody>\n",
       "</table>\n",
       "<p>2 rows × 412 columns</p>\n",
       "</div>"
      ],
      "text/plain": [
       "   id keyword location  \\\n",
       "0   0    null     null   \n",
       "1   2    null     null   \n",
       "\n",
       "                                                     text  cantidad_links  \\\n",
       "0                         just happen a terribl car crash               0   \n",
       "1  heard about earthquak is differ citi stay safe everyon               0   \n",
       "\n",
       "   cantidad_signos_pregunta  repeticiones  isRealPlace  longitud_tweet  \\\n",
       "0                         0             1        False              40   \n",
       "1                         0             1        False              70   \n",
       "\n",
       "   letras_seguidas  ...  sinkhol  spill  survivor    big  harm  heart  kid  \\\n",
       "0                2  ...        0      0         0    0    0     0      0    0   \n",
       "1                2  ...        0      0         0    0    0     0      0    0   \n",
       "\n",
       "   part  phone  \n",
       "0     0      0  \n",
       "1     0      0  \n",
       "\n",
       "[2 rows x 412 columns]"
      ]
     },
     "execution_count": 252,
     "metadata": {},
     "output_type": "execute_result"
    }
   ],
   "source": [
    "test_limpio.head(2)"
   ]
  },
  {
   "cell_type": "markdown",
   "metadata": {},
   "source": [
    "## Similar al anterior: agrupo por 2-shingles y me quedo con los que mas veces aparecen \n",
    "### En shingles puede apreciarse tambien informacion valiosa"
   ]
  },
  {
   "cell_type": "code",
   "execution_count": 253,
   "metadata": {
    "scrolled": true
   },
   "outputs": [
    {
     "data": {
      "text/html": [
       "<div>\n",
       "<style scoped>\n",
       "    .dataframe tbody tr th:only-of-type {\n",
       "        vertical-align: middle;\n",
       "    }\n",
       "\n",
       "    .dataframe tbody tr th {\n",
       "        vertical-align: top;\n",
       "    }\n",
       "\n",
       "    .dataframe thead th {\n",
       "        text-align: right;\n",
       "    }\n",
       "</style>\n",
       "<table border=\"1\" class=\"dataframe\">\n",
       "  <thead>\n",
       "    <tr style=\"text-align: right;\">\n",
       "      <th></th>\n",
       "      <th>word</th>\n",
       "    </tr>\n",
       "  </thead>\n",
       "  <tbody>\n",
       "    <tr>\n",
       "      <th>0</th>\n",
       "      <td>our</td>\n",
       "    </tr>\n",
       "    <tr>\n",
       "      <th>1</th>\n",
       "      <td>deed</td>\n",
       "    </tr>\n",
       "    <tr>\n",
       "      <th>2</th>\n",
       "      <td>are</td>\n",
       "    </tr>\n",
       "    <tr>\n",
       "      <th>3</th>\n",
       "      <td>the</td>\n",
       "    </tr>\n",
       "    <tr>\n",
       "      <th>4</th>\n",
       "      <td>reason</td>\n",
       "    </tr>\n",
       "  </tbody>\n",
       "</table>\n",
       "</div>"
      ],
      "text/plain": [
       "     word\n",
       "0     our\n",
       "1    deed\n",
       "2     are\n",
       "3     the\n",
       "4  reason"
      ]
     },
     "execution_count": 253,
     "metadata": {},
     "output_type": "execute_result"
    }
   ],
   "source": [
    "palabras_por_separado = train_limpio.copy()\n",
    "palabras_por_separado.set_index(['target'],inplace=True)\n",
    "palabras_por_separado = palabras_por_separado['text'].str.split(expand=True).stack().to_frame()\n",
    "palabras_por_separado.columns = ['word']\n",
    "palabras_por_separado = palabras_por_separado.reset_index()\n",
    "palabras_por_separado = palabras_por_separado[['word']]\n",
    "palabras_por_separado.head()"
   ]
  },
  {
   "cell_type": "code",
   "execution_count": 254,
   "metadata": {},
   "outputs": [
    {
     "data": {
      "text/html": [
       "<div>\n",
       "<style scoped>\n",
       "    .dataframe tbody tr th:only-of-type {\n",
       "        vertical-align: middle;\n",
       "    }\n",
       "\n",
       "    .dataframe tbody tr th {\n",
       "        vertical-align: top;\n",
       "    }\n",
       "\n",
       "    .dataframe thead th {\n",
       "        text-align: right;\n",
       "    }\n",
       "</style>\n",
       "<table border=\"1\" class=\"dataframe\">\n",
       "  <thead>\n",
       "    <tr style=\"text-align: right;\">\n",
       "      <th></th>\n",
       "      <th>next_word</th>\n",
       "    </tr>\n",
       "  </thead>\n",
       "  <tbody>\n",
       "    <tr>\n",
       "      <th>0</th>\n",
       "      <td>deed</td>\n",
       "    </tr>\n",
       "    <tr>\n",
       "      <th>1</th>\n",
       "      <td>are</td>\n",
       "    </tr>\n",
       "    <tr>\n",
       "      <th>2</th>\n",
       "      <td>the</td>\n",
       "    </tr>\n",
       "    <tr>\n",
       "      <th>3</th>\n",
       "      <td>reason</td>\n",
       "    </tr>\n",
       "    <tr>\n",
       "      <th>4</th>\n",
       "      <td>of</td>\n",
       "    </tr>\n",
       "  </tbody>\n",
       "</table>\n",
       "</div>"
      ],
      "text/plain": [
       "  next_word\n",
       "0      deed\n",
       "1       are\n",
       "2       the\n",
       "3    reason\n",
       "4        of"
      ]
     },
     "execution_count": 254,
     "metadata": {},
     "output_type": "execute_result"
    }
   ],
   "source": [
    "palabras_shifteadas = train_limpio.copy()\n",
    "palabras_shifteadas.set_index(['target'],inplace=True)\n",
    "palabras_shifteadas = palabras_shifteadas['text'].str.split(expand=True).stack().to_frame()\n",
    "palabras_shifteadas.columns = ['next_word']\n",
    "palabras_shifteadas = palabras_shifteadas.reset_index()\n",
    "palabras_shifteadas = palabras_shifteadas[['next_word']]\n",
    "palabras_shifteadas = palabras_shifteadas.shift(-1)\n",
    "palabras_shifteadas.head()"
   ]
  },
  {
   "cell_type": "code",
   "execution_count": 255,
   "metadata": {},
   "outputs": [
    {
     "data": {
      "text/plain": [
       "(101060, 1)"
      ]
     },
     "execution_count": 255,
     "metadata": {},
     "output_type": "execute_result"
    }
   ],
   "source": [
    "palabras_shifteadas.shape"
   ]
  },
  {
   "cell_type": "code",
   "execution_count": 256,
   "metadata": {
    "scrolled": true
   },
   "outputs": [
    {
     "data": {
      "text/html": [
       "<div>\n",
       "<style scoped>\n",
       "    .dataframe tbody tr th:only-of-type {\n",
       "        vertical-align: middle;\n",
       "    }\n",
       "\n",
       "    .dataframe tbody tr th {\n",
       "        vertical-align: top;\n",
       "    }\n",
       "\n",
       "    .dataframe thead th {\n",
       "        text-align: right;\n",
       "    }\n",
       "</style>\n",
       "<table border=\"1\" class=\"dataframe\">\n",
       "  <thead>\n",
       "    <tr style=\"text-align: right;\">\n",
       "      <th></th>\n",
       "      <th>word</th>\n",
       "      <th>next_word</th>\n",
       "    </tr>\n",
       "  </thead>\n",
       "  <tbody>\n",
       "    <tr>\n",
       "      <th>0</th>\n",
       "      <td>our</td>\n",
       "      <td>deed</td>\n",
       "    </tr>\n",
       "    <tr>\n",
       "      <th>1</th>\n",
       "      <td>deed</td>\n",
       "      <td>are</td>\n",
       "    </tr>\n",
       "    <tr>\n",
       "      <th>2</th>\n",
       "      <td>are</td>\n",
       "      <td>the</td>\n",
       "    </tr>\n",
       "    <tr>\n",
       "      <th>3</th>\n",
       "      <td>the</td>\n",
       "      <td>reason</td>\n",
       "    </tr>\n",
       "    <tr>\n",
       "      <th>4</th>\n",
       "      <td>reason</td>\n",
       "      <td>of</td>\n",
       "    </tr>\n",
       "  </tbody>\n",
       "</table>\n",
       "</div>"
      ],
      "text/plain": [
       "     word next_word\n",
       "0     our      deed\n",
       "1    deed       are\n",
       "2     are       the\n",
       "3     the    reason\n",
       "4  reason        of"
      ]
     },
     "execution_count": 256,
     "metadata": {},
     "output_type": "execute_result"
    }
   ],
   "source": [
    "dos_shingles = palabras_por_separado.merge(palabras_shifteadas, left_index=True, right_index=True)\n",
    "dos_shingles.head()"
   ]
  },
  {
   "cell_type": "code",
   "execution_count": 257,
   "metadata": {},
   "outputs": [
    {
     "data": {
      "text/html": [
       "<div>\n",
       "<style scoped>\n",
       "    .dataframe tbody tr th:only-of-type {\n",
       "        vertical-align: middle;\n",
       "    }\n",
       "\n",
       "    .dataframe tbody tr th {\n",
       "        vertical-align: top;\n",
       "    }\n",
       "\n",
       "    .dataframe thead th {\n",
       "        text-align: right;\n",
       "    }\n",
       "</style>\n",
       "<table border=\"1\" class=\"dataframe\">\n",
       "  <thead>\n",
       "    <tr style=\"text-align: right;\">\n",
       "      <th></th>\n",
       "      <th>word</th>\n",
       "      <th>next_word</th>\n",
       "      <th>shingle</th>\n",
       "      <th>valor</th>\n",
       "    </tr>\n",
       "  </thead>\n",
       "  <tbody>\n",
       "    <tr>\n",
       "      <th>0</th>\n",
       "      <td>our</td>\n",
       "      <td>deed</td>\n",
       "      <td>our deed</td>\n",
       "      <td>1</td>\n",
       "    </tr>\n",
       "    <tr>\n",
       "      <th>1</th>\n",
       "      <td>deed</td>\n",
       "      <td>are</td>\n",
       "      <td>deed are</td>\n",
       "      <td>1</td>\n",
       "    </tr>\n",
       "    <tr>\n",
       "      <th>2</th>\n",
       "      <td>are</td>\n",
       "      <td>the</td>\n",
       "      <td>are the</td>\n",
       "      <td>1</td>\n",
       "    </tr>\n",
       "    <tr>\n",
       "      <th>3</th>\n",
       "      <td>the</td>\n",
       "      <td>reason</td>\n",
       "      <td>the reason</td>\n",
       "      <td>1</td>\n",
       "    </tr>\n",
       "    <tr>\n",
       "      <th>4</th>\n",
       "      <td>reason</td>\n",
       "      <td>of</td>\n",
       "      <td>reason of</td>\n",
       "      <td>1</td>\n",
       "    </tr>\n",
       "  </tbody>\n",
       "</table>\n",
       "</div>"
      ],
      "text/plain": [
       "     word next_word     shingle  valor\n",
       "0     our      deed    our deed      1\n",
       "1    deed       are    deed are      1\n",
       "2     are       the     are the      1\n",
       "3     the    reason  the reason      1\n",
       "4  reason        of   reason of      1"
      ]
     },
     "execution_count": 257,
     "metadata": {},
     "output_type": "execute_result"
    }
   ],
   "source": [
    "dos_shingles['shingle'] = dos_shingles['word']+' '+dos_shingles['next_word']\n",
    "dos_shingles['valor'] = 1\n",
    "dos_shingles.head()"
   ]
  },
  {
   "cell_type": "code",
   "execution_count": 258,
   "metadata": {
    "scrolled": true
   },
   "outputs": [
    {
     "data": {
      "text/html": [
       "<div>\n",
       "<style scoped>\n",
       "    .dataframe tbody tr th:only-of-type {\n",
       "        vertical-align: middle;\n",
       "    }\n",
       "\n",
       "    .dataframe tbody tr th {\n",
       "        vertical-align: top;\n",
       "    }\n",
       "\n",
       "    .dataframe thead th {\n",
       "        text-align: right;\n",
       "    }\n",
       "</style>\n",
       "<table border=\"1\" class=\"dataframe\">\n",
       "  <thead>\n",
       "    <tr style=\"text-align: right;\">\n",
       "      <th></th>\n",
       "      <th>cantidad_apariciones</th>\n",
       "    </tr>\n",
       "    <tr>\n",
       "      <th>shingle</th>\n",
       "      <th></th>\n",
       "    </tr>\n",
       "  </thead>\n",
       "  <tbody>\n",
       "    <tr>\n",
       "      <th>in the</th>\n",
       "      <td>302</td>\n",
       "    </tr>\n",
       "    <tr>\n",
       "      <th>of the</th>\n",
       "      <td>247</td>\n",
       "    </tr>\n",
       "    <tr>\n",
       "      <th>like a</th>\n",
       "      <td>130</td>\n",
       "    </tr>\n",
       "    <tr>\n",
       "      <th>on the</th>\n",
       "      <td>129</td>\n",
       "    </tr>\n",
       "    <tr>\n",
       "      <th>to the</th>\n",
       "      <td>121</td>\n",
       "    </tr>\n",
       "  </tbody>\n",
       "</table>\n",
       "</div>"
      ],
      "text/plain": [
       "         cantidad_apariciones\n",
       "shingle                      \n",
       "in the                    302\n",
       "of the                    247\n",
       "like a                    130\n",
       "on the                    129\n",
       "to the                    121"
      ]
     },
     "execution_count": 258,
     "metadata": {},
     "output_type": "execute_result"
    }
   ],
   "source": [
    "dos_shingles_agrupados = dos_shingles.groupby('shingle').valor.sum().rename('cantidad_apariciones').to_frame()\n",
    "shingles_mas_comunes = dos_shingles_agrupados.nlargest(400,'cantidad_apariciones')\n",
    "shingles_mas_comunes.head()"
   ]
  },
  {
   "cell_type": "code",
   "execution_count": 259,
   "metadata": {},
   "outputs": [],
   "source": [
    "for i in shingles_mas_comunes.index:\n",
    "    train_limpio[i]= train_limpio['text'].apply(lambda x: x.count(i))\n",
    "    test_limpio[i]= test_limpio['text'].apply(lambda x: x.count(i))"
   ]
  },
  {
   "cell_type": "markdown",
   "metadata": {},
   "source": [
    "## Columna si contiene insultos, o la cantidad que tiene"
   ]
  },
  {
   "cell_type": "code",
   "execution_count": 260,
   "metadata": {},
   "outputs": [],
   "source": [
    "#Estoy usando el train original porque para este prueba simple uso los textos aun no separados por palabra\n",
    "insults_list = ['idiot','fuck','moron','scum','bitch','shit','bastard','cunt','ridicul','tramp']\n",
    "mean_insult = [train[train['text'].str.contains(i)].target.mean() for i in insults_list]\n",
    "times_insult_used = [len(train[train['text'].str.contains(i)]) for i in insults_list]"
   ]
  },
  {
   "cell_type": "code",
   "execution_count": 261,
   "metadata": {},
   "outputs": [
    {
     "name": "stdout",
     "output_type": "stream",
     "text": [
      "['idiot', 'fuck', 'moron', 'scum', 'bitch', 'shit', 'bastard', 'cunt', 'ridicul', 'tramp']\n",
      "[4, 67, 1, 1, 10, 57, 1, 4, 4, 1]\n",
      "[0.5, 0.208955223880597, 0.0, 0.0, 0.0, 0.3157894736842105, 0.0, 0.0, 0.25, 1.0]\n"
     ]
    }
   ],
   "source": [
    "print(insults_list)\n",
    "print(times_insult_used)\n",
    "print(mean_insult)"
   ]
  },
  {
   "cell_type": "code",
   "execution_count": 262,
   "metadata": {},
   "outputs": [],
   "source": [
    "def insults(text):\n",
    "    insults = ['idiot','fuck','moron','scum','bitch','shit','bastard','cunt','ridicul','tramp']\n",
    "    amount = 0\n",
    "    for word in text.split(' '):\n",
    "        if(word in insults):\n",
    "            amount = amount +1\n",
    "    return(amount)"
   ]
  },
  {
   "cell_type": "code",
   "execution_count": 263,
   "metadata": {},
   "outputs": [],
   "source": [
    "#train_limpio['insultos_por_tweet'] = train_limpio['text'].apply(lambda x: insults(x) )\n",
    "test_limpio['insultos_por_tweet'] = test_limpio['text'].apply(lambda x: insults(x) )"
   ]
  },
  {
   "cell_type": "code",
   "execution_count": 264,
   "metadata": {
    "scrolled": true
   },
   "outputs": [],
   "source": [
    "#No deberia ser necesario, pero tengo que convertir esto a string, aunque ya lo sea para que ande\n",
    "train_limpio['insultos_por_tweet'] = train_limpio['text'].apply(lambda x: insults(x) )"
   ]
  },
  {
   "cell_type": "code",
   "execution_count": 265,
   "metadata": {},
   "outputs": [
    {
     "data": {
      "text/plain": [
       "0.20689655172413793"
      ]
     },
     "execution_count": 265,
     "metadata": {},
     "output_type": "execute_result"
    }
   ],
   "source": [
    "train_limpio[train_limpio['insultos_por_tweet']==1].target.mean()"
   ]
  },
  {
   "cell_type": "code",
   "execution_count": 266,
   "metadata": {},
   "outputs": [],
   "source": [
    "# Si bien algunos aparecen mucho menos que otros, en todos se cumple que estan por debajo del 0.5"
   ]
  },
  {
   "cell_type": "code",
   "execution_count": 267,
   "metadata": {
    "scrolled": true
   },
   "outputs": [],
   "source": [
    "# Remuevo estas palabras de los textos\n",
    "# Al final no las remuevo, por que lo haria?\n",
    "#train_limpio['text']=train_limpio['text'].apply(lambda x: [item for item in x if item not in insults_list])"
   ]
  },
  {
   "cell_type": "markdown",
   "metadata": {},
   "source": [
    "## Remover expresiones"
   ]
  },
  {
   "cell_type": "code",
   "execution_count": 268,
   "metadata": {},
   "outputs": [],
   "source": [
    "#Estoy usando el train original porque para este prueba simple uso los textos aun no separados por palabra\n",
    "expressions = ['lol','omg','wtf','lmao','imo']  #agregar mas,no importa que el train no tenga, si el test si,joya\n",
    "mean_expressions = [train[train['text'].str.contains(i)].target.mean() for i in expressions]\n",
    "times_expressions_used = [len(train[train['text'].str.contains(i)]) for i in expressions]"
   ]
  },
  {
   "cell_type": "code",
   "execution_count": 269,
   "metadata": {},
   "outputs": [
    {
     "name": "stdout",
     "output_type": "stream",
     "text": [
      "['lol', 'omg', 'wtf', 'lmao', 'imo']\n",
      "[54, 6, 8, 14, 15]\n",
      "[0.12962962962962962, 0.3333333333333333, 0.375, 0.0, 0.3333333333333333]\n"
     ]
    }
   ],
   "source": [
    "print(expressions)\n",
    "print(times_expressions_used)\n",
    "print(mean_expressions)"
   ]
  },
  {
   "cell_type": "code",
   "execution_count": 270,
   "metadata": {},
   "outputs": [],
   "source": [
    "def expressions_counter(text):\n",
    "    expressions = ['lol','omg','wtf','lmao','imo']\n",
    "    amount = 0\n",
    "    for word in text:\n",
    "        if(word in expressions):\n",
    "            amount = amount +1\n",
    "    return(amount)"
   ]
  },
  {
   "cell_type": "code",
   "execution_count": 271,
   "metadata": {},
   "outputs": [],
   "source": [
    "train_limpio['expresiones_por_tweet'] = train_limpio['text'].apply(lambda x: expressions_counter(x))\n",
    "test_limpio['expresiones_por_tweet'] = test_limpio['text'].apply(lambda x: expressions_counter(x) )"
   ]
  },
  {
   "cell_type": "code",
   "execution_count": 272,
   "metadata": {},
   "outputs": [],
   "source": [
    "# Remuevo estas palabras de los textos\n",
    "# Al final no las remuevo, por que lo haria?\n",
    "#train_limpio['text']=train_limpio['text'].apply(lambda x: [item for item in x if item not in expressions])"
   ]
  },
  {
   "cell_type": "markdown",
   "metadata": {},
   "source": [
    "## Cuento pronombres personales,esto se habia hecho en el TP1 y dio buenos resultados"
   ]
  },
  {
   "cell_type": "code",
   "execution_count": 273,
   "metadata": {},
   "outputs": [],
   "source": [
    "#Estoy usando el train original porque para este prueba simple uso los textos aun no separados por palabra\n",
    "personal_pronouns = ['i','me','you','she','her','him','he','his','we','us','them','they','im']  #agregar mas,no importa que el train no tenga, si el test si,joya\n",
    "mean_personal_pronouns = [train[train['text'].str.contains(i)].target.mean() for i in personal_pronouns]\n",
    "times_personal_pronoun_used = [len(train[train['text'].str.contains(i)]) for i in personal_pronouns]"
   ]
  },
  {
   "cell_type": "code",
   "execution_count": 274,
   "metadata": {},
   "outputs": [
    {
     "name": "stdout",
     "output_type": "stream",
     "text": [
      "['i', 'me', 'you', 'she', 'her', 'him', 'he', 'his', 'we', 'us', 'them', 'they', 'im']\n",
      "[0.4389975213439824, 0.43219954648526077, 0.2056921086675291, 0.4017857142857143, 0.42958579881656805, 0.7189189189189189, 0.4109311740890688, 0.37099494097807756, 0.4495515695067265, 0.4447797223898612, 0.3557692307692308, 0.3006134969325153, 0.5167630057803468]\n",
      "[7262, 2205, 773, 224, 845, 185, 3952, 593, 892, 1657, 104, 163, 865]\n"
     ]
    }
   ],
   "source": [
    "print(personal_pronouns)\n",
    "print(mean_personal_pronouns)\n",
    "print(times_personal_pronoun_used)"
   ]
  },
  {
   "cell_type": "code",
   "execution_count": 275,
   "metadata": {},
   "outputs": [],
   "source": [
    "for i in personal_pronouns:\n",
    "    train_limpio[i]= train_limpio['text'].apply(lambda x: x.split(' ').count(i))\n",
    "    test_limpio[i]= test_limpio['text'].apply(lambda x: x.split(' ').count(i))"
   ]
  },
  {
   "cell_type": "markdown",
   "metadata": {},
   "source": [
    "## Palabras mas comunes (esta parte no se si deberia quedar así basandome en las del TP1 o rehacer eso ahora que está mas limpio el train o hacerlo de otra forma)"
   ]
  },
  {
   "cell_type": "code",
   "execution_count": 276,
   "metadata": {},
   "outputs": [],
   "source": [
    "palabras = ['hiroshima','bombing','kill','california','suicide','fire','forest','train','accident','disaster'\\\n",
    "                ,'new','crash','storm','police','nuclear','two','dead','died','years']\n",
    "for i in palabras:\n",
    "    train_limpio[i]= train_limpio['text'].apply(lambda x: x.split(' ').count(i))\n",
    "    test_limpio[i]= test_limpio['text'].apply(lambda x: x.split(' ').count(i))"
   ]
  },
  {
   "cell_type": "code",
   "execution_count": 277,
   "metadata": {},
   "outputs": [],
   "source": [
    "#muchas de estas palabras ya estaban agregadas por otros medios"
   ]
  },
  {
   "cell_type": "markdown",
   "metadata": {},
   "source": [
    "## Guardo los csvs limpios para mas adelante"
   ]
  },
  {
   "cell_type": "code",
   "execution_count": 278,
   "metadata": {},
   "outputs": [],
   "source": [
    "train_limpio.to_csv('train_limpio_con_stemming.csv', index=False)"
   ]
  },
  {
   "cell_type": "code",
   "execution_count": 279,
   "metadata": {},
   "outputs": [],
   "source": [
    "test_limpio.to_csv('test_limpio_con_stemming.csv', index=False)"
   ]
  },
  {
   "cell_type": "markdown",
   "metadata": {},
   "source": [
    "## Vectorizo los textos (quiza la parte mas importante de todo el cleaning y apenas lo toque)"
   ]
  },
  {
   "cell_type": "code",
   "execution_count": 280,
   "metadata": {},
   "outputs": [
    {
     "ename": "KeyError",
     "evalue": "\"['id'] not in index\"",
     "output_type": "error",
     "traceback": [
      "\u001b[0;31m---------------------------------------------------------------------------\u001b[0m",
      "\u001b[0;31mKeyError\u001b[0m                                  Traceback (most recent call last)",
      "\u001b[0;32m<ipython-input-280-8c73e1ea58b1>\u001b[0m in \u001b[0;36m<module>\u001b[0;34m\u001b[0m\n\u001b[0;32m----> 1\u001b[0;31m \u001b[0mtrain_solo_texto\u001b[0m \u001b[0;34m=\u001b[0m \u001b[0mtrain_limpio\u001b[0m\u001b[0;34m[\u001b[0m\u001b[0;34m[\u001b[0m\u001b[0;34m'id'\u001b[0m\u001b[0;34m,\u001b[0m\u001b[0;34m'text'\u001b[0m\u001b[0;34m]\u001b[0m\u001b[0;34m]\u001b[0m\u001b[0;34m.\u001b[0m\u001b[0mcopy\u001b[0m\u001b[0;34m(\u001b[0m\u001b[0;34m)\u001b[0m\u001b[0;34m\u001b[0m\u001b[0;34m\u001b[0m\u001b[0m\n\u001b[0m",
      "\u001b[0;32m~/datos/lib/python3.6/site-packages/pandas/core/frame.py\u001b[0m in \u001b[0;36m__getitem__\u001b[0;34m(self, key)\u001b[0m\n\u001b[1;32m   2804\u001b[0m             \u001b[0;32mif\u001b[0m \u001b[0mis_iterator\u001b[0m\u001b[0;34m(\u001b[0m\u001b[0mkey\u001b[0m\u001b[0;34m)\u001b[0m\u001b[0;34m:\u001b[0m\u001b[0;34m\u001b[0m\u001b[0;34m\u001b[0m\u001b[0m\n\u001b[1;32m   2805\u001b[0m                 \u001b[0mkey\u001b[0m \u001b[0;34m=\u001b[0m \u001b[0mlist\u001b[0m\u001b[0;34m(\u001b[0m\u001b[0mkey\u001b[0m\u001b[0;34m)\u001b[0m\u001b[0;34m\u001b[0m\u001b[0;34m\u001b[0m\u001b[0m\n\u001b[0;32m-> 2806\u001b[0;31m             \u001b[0mindexer\u001b[0m \u001b[0;34m=\u001b[0m \u001b[0mself\u001b[0m\u001b[0;34m.\u001b[0m\u001b[0mloc\u001b[0m\u001b[0;34m.\u001b[0m\u001b[0m_get_listlike_indexer\u001b[0m\u001b[0;34m(\u001b[0m\u001b[0mkey\u001b[0m\u001b[0;34m,\u001b[0m \u001b[0maxis\u001b[0m\u001b[0;34m=\u001b[0m\u001b[0;36m1\u001b[0m\u001b[0;34m,\u001b[0m \u001b[0mraise_missing\u001b[0m\u001b[0;34m=\u001b[0m\u001b[0;32mTrue\u001b[0m\u001b[0;34m)\u001b[0m\u001b[0;34m[\u001b[0m\u001b[0;36m1\u001b[0m\u001b[0;34m]\u001b[0m\u001b[0;34m\u001b[0m\u001b[0;34m\u001b[0m\u001b[0m\n\u001b[0m\u001b[1;32m   2807\u001b[0m \u001b[0;34m\u001b[0m\u001b[0m\n\u001b[1;32m   2808\u001b[0m         \u001b[0;31m# take() does not accept boolean indexers\u001b[0m\u001b[0;34m\u001b[0m\u001b[0;34m\u001b[0m\u001b[0;34m\u001b[0m\u001b[0m\n",
      "\u001b[0;32m~/datos/lib/python3.6/site-packages/pandas/core/indexing.py\u001b[0m in \u001b[0;36m_get_listlike_indexer\u001b[0;34m(self, key, axis, raise_missing)\u001b[0m\n\u001b[1;32m   1551\u001b[0m \u001b[0;34m\u001b[0m\u001b[0m\n\u001b[1;32m   1552\u001b[0m         self._validate_read_indexer(\n\u001b[0;32m-> 1553\u001b[0;31m             \u001b[0mkeyarr\u001b[0m\u001b[0;34m,\u001b[0m \u001b[0mindexer\u001b[0m\u001b[0;34m,\u001b[0m \u001b[0mo\u001b[0m\u001b[0;34m.\u001b[0m\u001b[0m_get_axis_number\u001b[0m\u001b[0;34m(\u001b[0m\u001b[0maxis\u001b[0m\u001b[0;34m)\u001b[0m\u001b[0;34m,\u001b[0m \u001b[0mraise_missing\u001b[0m\u001b[0;34m=\u001b[0m\u001b[0mraise_missing\u001b[0m\u001b[0;34m\u001b[0m\u001b[0;34m\u001b[0m\u001b[0m\n\u001b[0m\u001b[1;32m   1554\u001b[0m         )\n\u001b[1;32m   1555\u001b[0m         \u001b[0;32mreturn\u001b[0m \u001b[0mkeyarr\u001b[0m\u001b[0;34m,\u001b[0m \u001b[0mindexer\u001b[0m\u001b[0;34m\u001b[0m\u001b[0;34m\u001b[0m\u001b[0m\n",
      "\u001b[0;32m~/datos/lib/python3.6/site-packages/pandas/core/indexing.py\u001b[0m in \u001b[0;36m_validate_read_indexer\u001b[0;34m(self, key, indexer, axis, raise_missing)\u001b[0m\n\u001b[1;32m   1644\u001b[0m             \u001b[0;32mif\u001b[0m \u001b[0;32mnot\u001b[0m \u001b[0;34m(\u001b[0m\u001b[0mself\u001b[0m\u001b[0;34m.\u001b[0m\u001b[0mname\u001b[0m \u001b[0;34m==\u001b[0m \u001b[0;34m\"loc\"\u001b[0m \u001b[0;32mand\u001b[0m \u001b[0;32mnot\u001b[0m \u001b[0mraise_missing\u001b[0m\u001b[0;34m)\u001b[0m\u001b[0;34m:\u001b[0m\u001b[0;34m\u001b[0m\u001b[0;34m\u001b[0m\u001b[0m\n\u001b[1;32m   1645\u001b[0m                 \u001b[0mnot_found\u001b[0m \u001b[0;34m=\u001b[0m \u001b[0mlist\u001b[0m\u001b[0;34m(\u001b[0m\u001b[0mset\u001b[0m\u001b[0;34m(\u001b[0m\u001b[0mkey\u001b[0m\u001b[0;34m)\u001b[0m \u001b[0;34m-\u001b[0m \u001b[0mset\u001b[0m\u001b[0;34m(\u001b[0m\u001b[0max\u001b[0m\u001b[0;34m)\u001b[0m\u001b[0;34m)\u001b[0m\u001b[0;34m\u001b[0m\u001b[0;34m\u001b[0m\u001b[0m\n\u001b[0;32m-> 1646\u001b[0;31m                 \u001b[0;32mraise\u001b[0m \u001b[0mKeyError\u001b[0m\u001b[0;34m(\u001b[0m\u001b[0;34mf\"{not_found} not in index\"\u001b[0m\u001b[0;34m)\u001b[0m\u001b[0;34m\u001b[0m\u001b[0;34m\u001b[0m\u001b[0m\n\u001b[0m\u001b[1;32m   1647\u001b[0m \u001b[0;34m\u001b[0m\u001b[0m\n\u001b[1;32m   1648\u001b[0m             \u001b[0;31m# we skip the warning on Categorical/Interval\u001b[0m\u001b[0;34m\u001b[0m\u001b[0;34m\u001b[0m\u001b[0;34m\u001b[0m\u001b[0m\n",
      "\u001b[0;31mKeyError\u001b[0m: \"['id'] not in index\""
     ]
    }
   ],
   "source": [
    "train_solo_texto = train_limpio[['id','text']].copy()"
   ]
  },
  {
   "cell_type": "code",
   "execution_count": null,
   "metadata": {},
   "outputs": [],
   "source": [
    "train_solo_texto['text'] = train_solo_texto['text'].apply(lambda x: ' '.join(x))"
   ]
  },
  {
   "cell_type": "code",
   "execution_count": null,
   "metadata": {},
   "outputs": [],
   "source": [
    "train_solo_texto.head()"
   ]
  },
  {
   "cell_type": "code",
   "execution_count": null,
   "metadata": {},
   "outputs": [],
   "source": [
    "train_solo_texto.groupby('text')['id'].transform('count')"
   ]
  },
  {
   "cell_type": "code",
   "execution_count": null,
   "metadata": {
    "scrolled": true
   },
   "outputs": [],
   "source": [
    "train_solo_texto.groupby('text').id.count().to_frame().reset_index().nlargest(40,'id')"
   ]
  },
  {
   "cell_type": "code",
   "execution_count": null,
   "metadata": {
    "scrolled": true
   },
   "outputs": [],
   "source": [
    "from sklearn.feature_extraction.text import CountVectorizer\n",
    "#agregarle n-shingles despues\n",
    "cv = CountVectorizer(stop_words='english')\n",
    "data_cv = cv.fit_transform(train_solo_texto.text)\n",
    "data_dtm = pd.DataFrame(data_cv.toarray(), columns=cv.get_feature_names())\n",
    "data_dtm.index = train_solo_texto.index\n",
    "data_dtm"
   ]
  },
  {
   "cell_type": "code",
   "execution_count": null,
   "metadata": {},
   "outputs": [],
   "source": [
    "from nltk.stem.porter import PorterStemmer\n",
    "porter = PorterStemmer()\n",
    "stemmed = [porter.stem(word) for word in tokens]\n",
    "#train_solo_texto['stemmed'] = train_solo_texto['text'].apply(lambda x: porter.stem(word) for word in x)"
   ]
  },
  {
   "cell_type": "code",
   "execution_count": null,
   "metadata": {},
   "outputs": [],
   "source": [
    "train_solo_texto['stemmed'] = train_solo_texto['text'].apply(lambda x: porter.stem(word) for word in x)"
   ]
  },
  {
   "cell_type": "code",
   "execution_count": null,
   "metadata": {},
   "outputs": [],
   "source": []
  }
 ],
 "metadata": {
  "kernelspec": {
   "display_name": "Python 3",
   "language": "python",
   "name": "python3"
  },
  "language_info": {
   "codemirror_mode": {
    "name": "ipython",
    "version": 3
   },
   "file_extension": ".py",
   "mimetype": "text/x-python",
   "name": "python",
   "nbconvert_exporter": "python",
   "pygments_lexer": "ipython3",
   "version": "3.6.9"
  }
 },
 "nbformat": 4,
 "nbformat_minor": 2
}
