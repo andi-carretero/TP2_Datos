{
 "cells": [
  {
   "cell_type": "code",
   "execution_count": 222,
   "metadata": {},
   "outputs": [],
   "source": [
    "import numpy as np # linear algebra\n",
    "import pandas as pd # data processing, CSV file I/O (e.g. pd.read_csv)\n",
    "from sklearn.metrics import f1_score\n",
    "import matplotlib.pyplot as plt"
   ]
  },
  {
   "cell_type": "code",
   "execution_count": null,
   "metadata": {},
   "outputs": [],
   "source": []
  },
  {
   "cell_type": "code",
   "execution_count": 223,
   "metadata": {},
   "outputs": [],
   "source": [
    "test_pred = pd.read_csv(\"test_pred_tensor_flow.csv\",encoding = \"ISO-8859-1\")"
   ]
  },
  {
   "cell_type": "code",
   "execution_count": 224,
   "metadata": {},
   "outputs": [],
   "source": [
    "train_df=pd.read_csv('split_train_pred_tensor_flow.csv')\n",
    "test_df=pd.read_csv('test_limpio_sin_vect_textos.csv')\n",
    "sample = pd.read_csv(\"sample_submission.csv\",encoding = \"ISO-8859-1\")"
   ]
  },
  {
   "cell_type": "code",
   "execution_count": 225,
   "metadata": {},
   "outputs": [],
   "source": [
    "test_df['pred_tf'] = test_pred.tensor_flow_pred"
   ]
  },
  {
   "cell_type": "code",
   "execution_count": 226,
   "metadata": {},
   "outputs": [],
   "source": [
    "#Agrego las otras predicciones como features\n",
    "pred_test_catboost=pd.read_csv('feature_pred/prediccion_test_catBoost.csv')\n",
    "pred_test_bayes=pd.read_csv('feature_pred/prediccion_test_bayes.csv')\n",
    "pred_test_svm=pd.read_csv('feature_pred/prediccion_test_SVM.csv')"
   ]
  },
  {
   "cell_type": "code",
   "execution_count": 227,
   "metadata": {},
   "outputs": [],
   "source": [
    "test_df['pred_catboost'] = pred_test_catboost.target\n",
    "test_df['pred_bayes'] = pred_test_bayes.target\n",
    "test_df['pred_svm'] = pred_test_svm.target"
   ]
  },
  {
   "cell_type": "code",
   "execution_count": null,
   "metadata": {},
   "outputs": [],
   "source": []
  },
  {
   "cell_type": "code",
   "execution_count": 228,
   "metadata": {},
   "outputs": [],
   "source": [
    "pred_tf = pd.read_csv(\"test_pred_tensor_flow.csv\",encoding = \"ISO-8859-1\")"
   ]
  },
  {
   "cell_type": "code",
   "execution_count": 229,
   "metadata": {},
   "outputs": [],
   "source": [
    "sample.target = pred_tf.tensor_flow_pred"
   ]
  },
  {
   "cell_type": "code",
   "execution_count": 230,
   "metadata": {},
   "outputs": [],
   "source": [
    "def redond(x):\n",
    "    result=0\n",
    "    if(x>0.5):\n",
    "        result=1\n",
    "    return(result)"
   ]
  },
  {
   "cell_type": "code",
   "execution_count": 231,
   "metadata": {},
   "outputs": [],
   "source": [
    "sample.target = sample.target.apply(lambda x: redond(x))"
   ]
  },
  {
   "cell_type": "code",
   "execution_count": 232,
   "metadata": {},
   "outputs": [
    {
     "data": {
      "text/plain": [
       "0    2042\n",
       "1    1221\n",
       "Name: target, dtype: int64"
      ]
     },
     "execution_count": 232,
     "metadata": {},
     "output_type": "execute_result"
    }
   ],
   "source": [
    "sample.target.value_counts()"
   ]
  },
  {
   "cell_type": "code",
   "execution_count": 233,
   "metadata": {},
   "outputs": [],
   "source": [
    "sample.to_csv('pred_luke.csv', index=False)"
   ]
  },
  {
   "cell_type": "markdown",
   "metadata": {},
   "source": [
    "# Veo la distribucion de valores mal predichos"
   ]
  },
  {
   "cell_type": "code",
   "execution_count": 234,
   "metadata": {},
   "outputs": [],
   "source": [
    "train_df['tensor_flow_pred_redond'] = train_df['tensor_flow_pred'].apply(lambda x: redond(x))"
   ]
  },
  {
   "cell_type": "code",
   "execution_count": 235,
   "metadata": {},
   "outputs": [],
   "source": [
    "def redond_decim(x):\n",
    "    result=1\n",
    "    if(x<0.1):\n",
    "        result=0.1\n",
    "    elif(x<0.2):\n",
    "        result=0.2\n",
    "    elif(x<0.3):\n",
    "        result=0.3\n",
    "    elif(x<0.4):\n",
    "        result=0.4\n",
    "    elif(x<0.5):\n",
    "        result=0.5\n",
    "    elif(x<0.6):\n",
    "        result=0.6\n",
    "    elif(x<0.7):\n",
    "        result=0.7\n",
    "    elif(x<0.8):\n",
    "        result=0.8\n",
    "    elif(x<0.9):\n",
    "        result=0.9\n",
    "    return(result)"
   ]
  },
  {
   "cell_type": "code",
   "execution_count": 236,
   "metadata": {},
   "outputs": [],
   "source": [
    "train_df['tensor_flow_pred_redond_decim'] = train_df['tensor_flow_pred'].apply(lambda x: redond_decim(x))"
   ]
  },
  {
   "cell_type": "markdown",
   "metadata": {},
   "source": [
    "# Cuento la cantidad de elementos predichos correctamente por TF segun su porcentaje"
   ]
  },
  {
   "cell_type": "code",
   "execution_count": 237,
   "metadata": {},
   "outputs": [
    {
     "data": {
      "text/plain": [
       "(1237, 2844)"
      ]
     },
     "execution_count": 237,
     "metadata": {},
     "output_type": "execute_result"
    }
   ],
   "source": [
    "valores_mal_predichos_tensor = train_df[train_df['tensor_flow_pred_redond']==train_df.target]\n",
    "valores_mal_predichos_tensor.shape"
   ]
  },
  {
   "cell_type": "code",
   "execution_count": 238,
   "metadata": {},
   "outputs": [
    {
     "data": {
      "text/html": [
       "<div>\n",
       "<style scoped>\n",
       "    .dataframe tbody tr th:only-of-type {\n",
       "        vertical-align: middle;\n",
       "    }\n",
       "\n",
       "    .dataframe tbody tr th {\n",
       "        vertical-align: top;\n",
       "    }\n",
       "\n",
       "    .dataframe thead th {\n",
       "        text-align: right;\n",
       "    }\n",
       "</style>\n",
       "<table border=\"1\" class=\"dataframe\">\n",
       "  <thead>\n",
       "    <tr style=\"text-align: right;\">\n",
       "      <th></th>\n",
       "      <th>tensor_flow_pred_redond</th>\n",
       "    </tr>\n",
       "    <tr>\n",
       "      <th>tensor_flow_pred_redond_decim</th>\n",
       "      <th></th>\n",
       "    </tr>\n",
       "  </thead>\n",
       "  <tbody>\n",
       "    <tr>\n",
       "      <th>0.1</th>\n",
       "      <td>239</td>\n",
       "    </tr>\n",
       "    <tr>\n",
       "      <th>0.2</th>\n",
       "      <td>234</td>\n",
       "    </tr>\n",
       "    <tr>\n",
       "      <th>0.3</th>\n",
       "      <td>127</td>\n",
       "    </tr>\n",
       "    <tr>\n",
       "      <th>0.4</th>\n",
       "      <td>67</td>\n",
       "    </tr>\n",
       "    <tr>\n",
       "      <th>0.5</th>\n",
       "      <td>28</td>\n",
       "    </tr>\n",
       "    <tr>\n",
       "      <th>0.6</th>\n",
       "      <td>40</td>\n",
       "    </tr>\n",
       "    <tr>\n",
       "      <th>0.7</th>\n",
       "      <td>38</td>\n",
       "    </tr>\n",
       "    <tr>\n",
       "      <th>0.8</th>\n",
       "      <td>33</td>\n",
       "    </tr>\n",
       "    <tr>\n",
       "      <th>0.9</th>\n",
       "      <td>61</td>\n",
       "    </tr>\n",
       "    <tr>\n",
       "      <th>1.0</th>\n",
       "      <td>370</td>\n",
       "    </tr>\n",
       "  </tbody>\n",
       "</table>\n",
       "</div>"
      ],
      "text/plain": [
       "                               tensor_flow_pred_redond\n",
       "tensor_flow_pred_redond_decim                         \n",
       "0.1                                                239\n",
       "0.2                                                234\n",
       "0.3                                                127\n",
       "0.4                                                 67\n",
       "0.5                                                 28\n",
       "0.6                                                 40\n",
       "0.7                                                 38\n",
       "0.8                                                 33\n",
       "0.9                                                 61\n",
       "1.0                                                370"
      ]
     },
     "execution_count": 238,
     "metadata": {},
     "output_type": "execute_result"
    }
   ],
   "source": [
    "dis_tf = valores_mal_predichos_tensor.groupby('tensor_flow_pred_redond_decim').agg({'tensor_flow_pred_redond':'count'})\n",
    "dis_tf"
   ]
  },
  {
   "cell_type": "markdown",
   "metadata": {},
   "source": [
    "# Cuento la cantidad de elementos predichos correctamente por CatBoost segun su porcentaje"
   ]
  },
  {
   "cell_type": "code",
   "execution_count": 239,
   "metadata": {},
   "outputs": [
    {
     "data": {
      "text/plain": [
       "(1169, 2844)"
      ]
     },
     "execution_count": 239,
     "metadata": {},
     "output_type": "execute_result"
    }
   ],
   "source": [
    "valores_mal_predichos_catboost = train_df[train_df['pred_catbooost']==train_df.target]\n",
    "valores_mal_predichos_catboost.shape"
   ]
  },
  {
   "cell_type": "code",
   "execution_count": 240,
   "metadata": {},
   "outputs": [
    {
     "data": {
      "text/html": [
       "<div>\n",
       "<style scoped>\n",
       "    .dataframe tbody tr th:only-of-type {\n",
       "        vertical-align: middle;\n",
       "    }\n",
       "\n",
       "    .dataframe tbody tr th {\n",
       "        vertical-align: top;\n",
       "    }\n",
       "\n",
       "    .dataframe thead th {\n",
       "        text-align: right;\n",
       "    }\n",
       "</style>\n",
       "<table border=\"1\" class=\"dataframe\">\n",
       "  <thead>\n",
       "    <tr style=\"text-align: right;\">\n",
       "      <th></th>\n",
       "      <th>pred_catbooost</th>\n",
       "    </tr>\n",
       "    <tr>\n",
       "      <th>tensor_flow_pred_redond_decim</th>\n",
       "      <th></th>\n",
       "    </tr>\n",
       "  </thead>\n",
       "  <tbody>\n",
       "    <tr>\n",
       "      <th>0.1</th>\n",
       "      <td>231</td>\n",
       "    </tr>\n",
       "    <tr>\n",
       "      <th>0.2</th>\n",
       "      <td>225</td>\n",
       "    </tr>\n",
       "    <tr>\n",
       "      <th>0.3</th>\n",
       "      <td>122</td>\n",
       "    </tr>\n",
       "    <tr>\n",
       "      <th>0.4</th>\n",
       "      <td>62</td>\n",
       "    </tr>\n",
       "    <tr>\n",
       "      <th>0.5</th>\n",
       "      <td>27</td>\n",
       "    </tr>\n",
       "    <tr>\n",
       "      <th>0.6</th>\n",
       "      <td>47</td>\n",
       "    </tr>\n",
       "    <tr>\n",
       "      <th>0.7</th>\n",
       "      <td>32</td>\n",
       "    </tr>\n",
       "    <tr>\n",
       "      <th>0.8</th>\n",
       "      <td>31</td>\n",
       "    </tr>\n",
       "    <tr>\n",
       "      <th>0.9</th>\n",
       "      <td>52</td>\n",
       "    </tr>\n",
       "    <tr>\n",
       "      <th>1.0</th>\n",
       "      <td>340</td>\n",
       "    </tr>\n",
       "  </tbody>\n",
       "</table>\n",
       "</div>"
      ],
      "text/plain": [
       "                               pred_catbooost\n",
       "tensor_flow_pred_redond_decim                \n",
       "0.1                                       231\n",
       "0.2                                       225\n",
       "0.3                                       122\n",
       "0.4                                        62\n",
       "0.5                                        27\n",
       "0.6                                        47\n",
       "0.7                                        32\n",
       "0.8                                        31\n",
       "0.9                                        52\n",
       "1.0                                       340"
      ]
     },
     "execution_count": 240,
     "metadata": {},
     "output_type": "execute_result"
    }
   ],
   "source": [
    "dis_cb = valores_mal_predichos_catboost.groupby('tensor_flow_pred_redond_decim').agg({'pred_catbooost':'count'})\n",
    "dis_cb"
   ]
  },
  {
   "cell_type": "markdown",
   "metadata": {},
   "source": [
    "# Cuento la cantidad de elementos predichos correctamente por bayes segun su porcentaje"
   ]
  },
  {
   "cell_type": "code",
   "execution_count": 241,
   "metadata": {},
   "outputs": [
    {
     "data": {
      "text/plain": [
       "(1205, 2844)"
      ]
     },
     "execution_count": 241,
     "metadata": {},
     "output_type": "execute_result"
    }
   ],
   "source": [
    "valores_mal_predichos_bayes = train_df[train_df['pred_bayes']==train_df.target]\n",
    "valores_mal_predichos_bayes.shape"
   ]
  },
  {
   "cell_type": "code",
   "execution_count": 242,
   "metadata": {},
   "outputs": [
    {
     "data": {
      "text/html": [
       "<div>\n",
       "<style scoped>\n",
       "    .dataframe tbody tr th:only-of-type {\n",
       "        vertical-align: middle;\n",
       "    }\n",
       "\n",
       "    .dataframe tbody tr th {\n",
       "        vertical-align: top;\n",
       "    }\n",
       "\n",
       "    .dataframe thead th {\n",
       "        text-align: right;\n",
       "    }\n",
       "</style>\n",
       "<table border=\"1\" class=\"dataframe\">\n",
       "  <thead>\n",
       "    <tr style=\"text-align: right;\">\n",
       "      <th></th>\n",
       "      <th>pred_bayes</th>\n",
       "    </tr>\n",
       "    <tr>\n",
       "      <th>tensor_flow_pred_redond_decim</th>\n",
       "      <th></th>\n",
       "    </tr>\n",
       "  </thead>\n",
       "  <tbody>\n",
       "    <tr>\n",
       "      <th>0.1</th>\n",
       "      <td>237</td>\n",
       "    </tr>\n",
       "    <tr>\n",
       "      <th>0.2</th>\n",
       "      <td>230</td>\n",
       "    </tr>\n",
       "    <tr>\n",
       "      <th>0.3</th>\n",
       "      <td>126</td>\n",
       "    </tr>\n",
       "    <tr>\n",
       "      <th>0.4</th>\n",
       "      <td>60</td>\n",
       "    </tr>\n",
       "    <tr>\n",
       "      <th>0.5</th>\n",
       "      <td>33</td>\n",
       "    </tr>\n",
       "    <tr>\n",
       "      <th>0.6</th>\n",
       "      <td>48</td>\n",
       "    </tr>\n",
       "    <tr>\n",
       "      <th>0.7</th>\n",
       "      <td>33</td>\n",
       "    </tr>\n",
       "    <tr>\n",
       "      <th>0.8</th>\n",
       "      <td>33</td>\n",
       "    </tr>\n",
       "    <tr>\n",
       "      <th>0.9</th>\n",
       "      <td>53</td>\n",
       "    </tr>\n",
       "    <tr>\n",
       "      <th>1.0</th>\n",
       "      <td>352</td>\n",
       "    </tr>\n",
       "  </tbody>\n",
       "</table>\n",
       "</div>"
      ],
      "text/plain": [
       "                               pred_bayes\n",
       "tensor_flow_pred_redond_decim            \n",
       "0.1                                   237\n",
       "0.2                                   230\n",
       "0.3                                   126\n",
       "0.4                                    60\n",
       "0.5                                    33\n",
       "0.6                                    48\n",
       "0.7                                    33\n",
       "0.8                                    33\n",
       "0.9                                    53\n",
       "1.0                                   352"
      ]
     },
     "execution_count": 242,
     "metadata": {},
     "output_type": "execute_result"
    }
   ],
   "source": [
    "dis_bay = valores_mal_predichos_bayes.groupby('tensor_flow_pred_redond_decim').agg({'pred_bayes':'count'})\n",
    "dis_bay"
   ]
  },
  {
   "cell_type": "markdown",
   "metadata": {},
   "source": [
    "# Cuento la cantidad de elementos predichos correctamente por SVM segun su porcentaje"
   ]
  },
  {
   "cell_type": "code",
   "execution_count": 243,
   "metadata": {},
   "outputs": [
    {
     "data": {
      "text/plain": [
       "(1202, 2844)"
      ]
     },
     "execution_count": 243,
     "metadata": {},
     "output_type": "execute_result"
    }
   ],
   "source": [
    "valores_mal_predichos_svm = train_df[train_df['pred_svm']==train_df.target]\n",
    "valores_mal_predichos_svm.shape"
   ]
  },
  {
   "cell_type": "code",
   "execution_count": 244,
   "metadata": {},
   "outputs": [
    {
     "data": {
      "text/html": [
       "<div>\n",
       "<style scoped>\n",
       "    .dataframe tbody tr th:only-of-type {\n",
       "        vertical-align: middle;\n",
       "    }\n",
       "\n",
       "    .dataframe tbody tr th {\n",
       "        vertical-align: top;\n",
       "    }\n",
       "\n",
       "    .dataframe thead th {\n",
       "        text-align: right;\n",
       "    }\n",
       "</style>\n",
       "<table border=\"1\" class=\"dataframe\">\n",
       "  <thead>\n",
       "    <tr style=\"text-align: right;\">\n",
       "      <th></th>\n",
       "      <th>pred_svm</th>\n",
       "    </tr>\n",
       "    <tr>\n",
       "      <th>tensor_flow_pred_redond_decim</th>\n",
       "      <th></th>\n",
       "    </tr>\n",
       "  </thead>\n",
       "  <tbody>\n",
       "    <tr>\n",
       "      <th>0.1</th>\n",
       "      <td>237</td>\n",
       "    </tr>\n",
       "    <tr>\n",
       "      <th>0.2</th>\n",
       "      <td>230</td>\n",
       "    </tr>\n",
       "    <tr>\n",
       "      <th>0.3</th>\n",
       "      <td>126</td>\n",
       "    </tr>\n",
       "    <tr>\n",
       "      <th>0.4</th>\n",
       "      <td>60</td>\n",
       "    </tr>\n",
       "    <tr>\n",
       "      <th>0.5</th>\n",
       "      <td>33</td>\n",
       "    </tr>\n",
       "    <tr>\n",
       "      <th>0.6</th>\n",
       "      <td>48</td>\n",
       "    </tr>\n",
       "    <tr>\n",
       "      <th>0.7</th>\n",
       "      <td>33</td>\n",
       "    </tr>\n",
       "    <tr>\n",
       "      <th>0.8</th>\n",
       "      <td>33</td>\n",
       "    </tr>\n",
       "    <tr>\n",
       "      <th>0.9</th>\n",
       "      <td>53</td>\n",
       "    </tr>\n",
       "    <tr>\n",
       "      <th>1.0</th>\n",
       "      <td>352</td>\n",
       "    </tr>\n",
       "  </tbody>\n",
       "</table>\n",
       "</div>"
      ],
      "text/plain": [
       "                               pred_svm\n",
       "tensor_flow_pred_redond_decim          \n",
       "0.1                                 237\n",
       "0.2                                 230\n",
       "0.3                                 126\n",
       "0.4                                  60\n",
       "0.5                                  33\n",
       "0.6                                  48\n",
       "0.7                                  33\n",
       "0.8                                  33\n",
       "0.9                                  53\n",
       "1.0                                 352"
      ]
     },
     "execution_count": 244,
     "metadata": {},
     "output_type": "execute_result"
    }
   ],
   "source": [
    "dis_svm = valores_mal_predichos_bayes.groupby('tensor_flow_pred_redond_decim').agg({'pred_svm':'count'})\n",
    "dis_svm"
   ]
  },
  {
   "cell_type": "markdown",
   "metadata": {},
   "source": [
    "# Cuento la cantidad de elementos predichos correctamente por el promedio de las tf,catboost, y svm segun su porcentaje"
   ]
  },
  {
   "cell_type": "code",
   "execution_count": 245,
   "metadata": {
    "scrolled": true
   },
   "outputs": [],
   "source": [
    "train_df['ens_tf_cb_svm'] = (train_df['tensor_flow_pred_redond']+train_df['pred_catbooost']+train_df['pred_svm'])/3\n",
    "train_df['ens_tf_cb_svm'] = train_df['ens_tf_cb_svm'].apply(lambda x: redond(x))"
   ]
  },
  {
   "cell_type": "code",
   "execution_count": 246,
   "metadata": {
    "scrolled": true
   },
   "outputs": [
    {
     "data": {
      "text/plain": [
       "(1239, 2845)"
      ]
     },
     "execution_count": 246,
     "metadata": {},
     "output_type": "execute_result"
    }
   ],
   "source": [
    "valores_mal_predichos_ens = train_df[train_df['ens_tf_cb_svm']==train_df.target]\n",
    "valores_mal_predichos_ens.shape"
   ]
  },
  {
   "cell_type": "code",
   "execution_count": 247,
   "metadata": {},
   "outputs": [
    {
     "data": {
      "text/html": [
       "<div>\n",
       "<style scoped>\n",
       "    .dataframe tbody tr th:only-of-type {\n",
       "        vertical-align: middle;\n",
       "    }\n",
       "\n",
       "    .dataframe tbody tr th {\n",
       "        vertical-align: top;\n",
       "    }\n",
       "\n",
       "    .dataframe thead th {\n",
       "        text-align: right;\n",
       "    }\n",
       "</style>\n",
       "<table border=\"1\" class=\"dataframe\">\n",
       "  <thead>\n",
       "    <tr style=\"text-align: right;\">\n",
       "      <th></th>\n",
       "      <th>ens_tf_cb_svm</th>\n",
       "    </tr>\n",
       "    <tr>\n",
       "      <th>tensor_flow_pred_redond_decim</th>\n",
       "      <th></th>\n",
       "    </tr>\n",
       "  </thead>\n",
       "  <tbody>\n",
       "    <tr>\n",
       "      <th>0.1</th>\n",
       "      <td>238</td>\n",
       "    </tr>\n",
       "    <tr>\n",
       "      <th>0.2</th>\n",
       "      <td>234</td>\n",
       "    </tr>\n",
       "    <tr>\n",
       "      <th>0.3</th>\n",
       "      <td>130</td>\n",
       "    </tr>\n",
       "    <tr>\n",
       "      <th>0.4</th>\n",
       "      <td>67</td>\n",
       "    </tr>\n",
       "    <tr>\n",
       "      <th>0.5</th>\n",
       "      <td>31</td>\n",
       "    </tr>\n",
       "    <tr>\n",
       "      <th>0.6</th>\n",
       "      <td>49</td>\n",
       "    </tr>\n",
       "    <tr>\n",
       "      <th>0.7</th>\n",
       "      <td>33</td>\n",
       "    </tr>\n",
       "    <tr>\n",
       "      <th>0.8</th>\n",
       "      <td>35</td>\n",
       "    </tr>\n",
       "    <tr>\n",
       "      <th>0.9</th>\n",
       "      <td>54</td>\n",
       "    </tr>\n",
       "    <tr>\n",
       "      <th>1.0</th>\n",
       "      <td>368</td>\n",
       "    </tr>\n",
       "  </tbody>\n",
       "</table>\n",
       "</div>"
      ],
      "text/plain": [
       "                               ens_tf_cb_svm\n",
       "tensor_flow_pred_redond_decim               \n",
       "0.1                                      238\n",
       "0.2                                      234\n",
       "0.3                                      130\n",
       "0.4                                       67\n",
       "0.5                                       31\n",
       "0.6                                       49\n",
       "0.7                                       33\n",
       "0.8                                       35\n",
       "0.9                                       54\n",
       "1.0                                      368"
      ]
     },
     "execution_count": 247,
     "metadata": {},
     "output_type": "execute_result"
    }
   ],
   "source": [
    "dis_ens_tf_cb_svm = valores_mal_predichos_ens.groupby('tensor_flow_pred_redond_decim').agg({'ens_tf_cb_svm':'count'})\n",
    "dis_ens_tf_cb_svm"
   ]
  },
  {
   "cell_type": "markdown",
   "metadata": {},
   "source": [
    "# Cuento la cantidad de elementos predichos correctamente por el promedio de las tf,bayes, y svm segun su porcentaje"
   ]
  },
  {
   "cell_type": "code",
   "execution_count": 248,
   "metadata": {},
   "outputs": [],
   "source": [
    "train_df['ens_tf_bayes_svm'] = (train_df['tensor_flow_pred_redond']+train_df['pred_bayes']+train_df['pred_svm'])/3\n",
    "train_df['ens_tf_bayes_svm'] = train_df['ens_tf_bayes_svm'].apply(lambda x: redond(x))"
   ]
  },
  {
   "cell_type": "code",
   "execution_count": 249,
   "metadata": {},
   "outputs": [
    {
     "data": {
      "text/plain": [
       "(1228, 2846)"
      ]
     },
     "execution_count": 249,
     "metadata": {},
     "output_type": "execute_result"
    }
   ],
   "source": [
    "valores_mal_predichos_ens = train_df[train_df['ens_tf_bayes_svm']==train_df.target]\n",
    "valores_mal_predichos_ens.shape"
   ]
  },
  {
   "cell_type": "code",
   "execution_count": 250,
   "metadata": {},
   "outputs": [
    {
     "data": {
      "text/html": [
       "<div>\n",
       "<style scoped>\n",
       "    .dataframe tbody tr th:only-of-type {\n",
       "        vertical-align: middle;\n",
       "    }\n",
       "\n",
       "    .dataframe tbody tr th {\n",
       "        vertical-align: top;\n",
       "    }\n",
       "\n",
       "    .dataframe thead th {\n",
       "        text-align: right;\n",
       "    }\n",
       "</style>\n",
       "<table border=\"1\" class=\"dataframe\">\n",
       "  <thead>\n",
       "    <tr style=\"text-align: right;\">\n",
       "      <th></th>\n",
       "      <th>ens_tf_bayes_svm</th>\n",
       "    </tr>\n",
       "    <tr>\n",
       "      <th>tensor_flow_pred_redond_decim</th>\n",
       "      <th></th>\n",
       "    </tr>\n",
       "  </thead>\n",
       "  <tbody>\n",
       "    <tr>\n",
       "      <th>0.1</th>\n",
       "      <td>238</td>\n",
       "    </tr>\n",
       "    <tr>\n",
       "      <th>0.2</th>\n",
       "      <td>232</td>\n",
       "    </tr>\n",
       "    <tr>\n",
       "      <th>0.3</th>\n",
       "      <td>129</td>\n",
       "    </tr>\n",
       "    <tr>\n",
       "      <th>0.4</th>\n",
       "      <td>62</td>\n",
       "    </tr>\n",
       "    <tr>\n",
       "      <th>0.5</th>\n",
       "      <td>34</td>\n",
       "    </tr>\n",
       "    <tr>\n",
       "      <th>0.6</th>\n",
       "      <td>47</td>\n",
       "    </tr>\n",
       "    <tr>\n",
       "      <th>0.7</th>\n",
       "      <td>32</td>\n",
       "    </tr>\n",
       "    <tr>\n",
       "      <th>0.8</th>\n",
       "      <td>32</td>\n",
       "    </tr>\n",
       "    <tr>\n",
       "      <th>0.9</th>\n",
       "      <td>55</td>\n",
       "    </tr>\n",
       "    <tr>\n",
       "      <th>1.0</th>\n",
       "      <td>367</td>\n",
       "    </tr>\n",
       "  </tbody>\n",
       "</table>\n",
       "</div>"
      ],
      "text/plain": [
       "                               ens_tf_bayes_svm\n",
       "tensor_flow_pred_redond_decim                  \n",
       "0.1                                         238\n",
       "0.2                                         232\n",
       "0.3                                         129\n",
       "0.4                                          62\n",
       "0.5                                          34\n",
       "0.6                                          47\n",
       "0.7                                          32\n",
       "0.8                                          32\n",
       "0.9                                          55\n",
       "1.0                                         367"
      ]
     },
     "execution_count": 250,
     "metadata": {},
     "output_type": "execute_result"
    }
   ],
   "source": [
    "dis_ens_tf_bayes_svm = valores_mal_predichos_ens.groupby('tensor_flow_pred_redond_decim').agg({'ens_tf_bayes_svm':'count'})\n",
    "dis_ens_tf_bayes_svm"
   ]
  },
  {
   "cell_type": "markdown",
   "metadata": {},
   "source": [
    "# Cuento la cantidad de elementos predichos correctamente por el promedio de las tf,cb, y bayes segun su porcentaje"
   ]
  },
  {
   "cell_type": "code",
   "execution_count": 251,
   "metadata": {},
   "outputs": [],
   "source": [
    "train_df['ens_tf_bayes_cb'] = (train_df['tensor_flow_pred_redond']+train_df['pred_bayes']+train_df['pred_catbooost'])/3\n",
    "train_df['ens_tf_bayes_cb'] = train_df['ens_tf_bayes_cb'].apply(lambda x: redond(x))"
   ]
  },
  {
   "cell_type": "code",
   "execution_count": 252,
   "metadata": {},
   "outputs": [
    {
     "data": {
      "text/plain": [
       "(1237, 2847)"
      ]
     },
     "execution_count": 252,
     "metadata": {},
     "output_type": "execute_result"
    }
   ],
   "source": [
    "valores_mal_predichos_ens = train_df[train_df['ens_tf_bayes_cb']==train_df.target]\n",
    "valores_mal_predichos_ens.shape"
   ]
  },
  {
   "cell_type": "code",
   "execution_count": 253,
   "metadata": {},
   "outputs": [
    {
     "data": {
      "text/html": [
       "<div>\n",
       "<style scoped>\n",
       "    .dataframe tbody tr th:only-of-type {\n",
       "        vertical-align: middle;\n",
       "    }\n",
       "\n",
       "    .dataframe tbody tr th {\n",
       "        vertical-align: top;\n",
       "    }\n",
       "\n",
       "    .dataframe thead th {\n",
       "        text-align: right;\n",
       "    }\n",
       "</style>\n",
       "<table border=\"1\" class=\"dataframe\">\n",
       "  <thead>\n",
       "    <tr style=\"text-align: right;\">\n",
       "      <th></th>\n",
       "      <th>ens_tf_bayes_cb</th>\n",
       "    </tr>\n",
       "    <tr>\n",
       "      <th>tensor_flow_pred_redond_decim</th>\n",
       "      <th></th>\n",
       "    </tr>\n",
       "  </thead>\n",
       "  <tbody>\n",
       "    <tr>\n",
       "      <th>0.1</th>\n",
       "      <td>238</td>\n",
       "    </tr>\n",
       "    <tr>\n",
       "      <th>0.2</th>\n",
       "      <td>234</td>\n",
       "    </tr>\n",
       "    <tr>\n",
       "      <th>0.3</th>\n",
       "      <td>130</td>\n",
       "    </tr>\n",
       "    <tr>\n",
       "      <th>0.4</th>\n",
       "      <td>68</td>\n",
       "    </tr>\n",
       "    <tr>\n",
       "      <th>0.5</th>\n",
       "      <td>29</td>\n",
       "    </tr>\n",
       "    <tr>\n",
       "      <th>0.6</th>\n",
       "      <td>48</td>\n",
       "    </tr>\n",
       "    <tr>\n",
       "      <th>0.7</th>\n",
       "      <td>34</td>\n",
       "    </tr>\n",
       "    <tr>\n",
       "      <th>0.8</th>\n",
       "      <td>32</td>\n",
       "    </tr>\n",
       "    <tr>\n",
       "      <th>0.9</th>\n",
       "      <td>58</td>\n",
       "    </tr>\n",
       "    <tr>\n",
       "      <th>1.0</th>\n",
       "      <td>366</td>\n",
       "    </tr>\n",
       "  </tbody>\n",
       "</table>\n",
       "</div>"
      ],
      "text/plain": [
       "                               ens_tf_bayes_cb\n",
       "tensor_flow_pred_redond_decim                 \n",
       "0.1                                        238\n",
       "0.2                                        234\n",
       "0.3                                        130\n",
       "0.4                                         68\n",
       "0.5                                         29\n",
       "0.6                                         48\n",
       "0.7                                         34\n",
       "0.8                                         32\n",
       "0.9                                         58\n",
       "1.0                                        366"
      ]
     },
     "execution_count": 253,
     "metadata": {},
     "output_type": "execute_result"
    }
   ],
   "source": [
    "dis_ens_tf_bayes_cb = valores_mal_predichos_ens.groupby('tensor_flow_pred_redond_decim').agg({'ens_tf_bayes_cb':'count'})\n",
    "dis_ens_tf_bayes_cb"
   ]
  },
  {
   "cell_type": "markdown",
   "metadata": {},
   "source": [
    "# Cuento la cantidad de elementos predichos correctamente por el promedio de las svm,cb, y bayes segun su porcentaje"
   ]
  },
  {
   "cell_type": "code",
   "execution_count": 254,
   "metadata": {},
   "outputs": [],
   "source": [
    "train_df['ens_svm_bayes_cb'] = (train_df['pred_svm']+train_df['pred_bayes']+train_df['pred_catbooost'])/3\n",
    "train_df['ens_svm_bayes_cb'] = train_df['ens_svm_bayes_cb'].apply(lambda x: redond(x))"
   ]
  },
  {
   "cell_type": "code",
   "execution_count": 255,
   "metadata": {},
   "outputs": [
    {
     "data": {
      "text/plain": [
       "(1218, 2848)"
      ]
     },
     "execution_count": 255,
     "metadata": {},
     "output_type": "execute_result"
    }
   ],
   "source": [
    "valores_mal_predichos_ens = train_df[train_df['ens_svm_bayes_cb']==train_df.target]\n",
    "valores_mal_predichos_ens.shape"
   ]
  },
  {
   "cell_type": "code",
   "execution_count": 256,
   "metadata": {},
   "outputs": [
    {
     "data": {
      "text/html": [
       "<div>\n",
       "<style scoped>\n",
       "    .dataframe tbody tr th:only-of-type {\n",
       "        vertical-align: middle;\n",
       "    }\n",
       "\n",
       "    .dataframe tbody tr th {\n",
       "        vertical-align: top;\n",
       "    }\n",
       "\n",
       "    .dataframe thead th {\n",
       "        text-align: right;\n",
       "    }\n",
       "</style>\n",
       "<table border=\"1\" class=\"dataframe\">\n",
       "  <thead>\n",
       "    <tr style=\"text-align: right;\">\n",
       "      <th></th>\n",
       "      <th>ens_svm_bayes_cb</th>\n",
       "    </tr>\n",
       "    <tr>\n",
       "      <th>tensor_flow_pred_redond_decim</th>\n",
       "      <th></th>\n",
       "    </tr>\n",
       "  </thead>\n",
       "  <tbody>\n",
       "    <tr>\n",
       "      <th>0.1</th>\n",
       "      <td>238</td>\n",
       "    </tr>\n",
       "    <tr>\n",
       "      <th>0.2</th>\n",
       "      <td>232</td>\n",
       "    </tr>\n",
       "    <tr>\n",
       "      <th>0.3</th>\n",
       "      <td>129</td>\n",
       "    </tr>\n",
       "    <tr>\n",
       "      <th>0.4</th>\n",
       "      <td>63</td>\n",
       "    </tr>\n",
       "    <tr>\n",
       "      <th>0.5</th>\n",
       "      <td>36</td>\n",
       "    </tr>\n",
       "    <tr>\n",
       "      <th>0.6</th>\n",
       "      <td>48</td>\n",
       "    </tr>\n",
       "    <tr>\n",
       "      <th>0.7</th>\n",
       "      <td>31</td>\n",
       "    </tr>\n",
       "    <tr>\n",
       "      <th>0.8</th>\n",
       "      <td>37</td>\n",
       "    </tr>\n",
       "    <tr>\n",
       "      <th>0.9</th>\n",
       "      <td>51</td>\n",
       "    </tr>\n",
       "    <tr>\n",
       "      <th>1.0</th>\n",
       "      <td>353</td>\n",
       "    </tr>\n",
       "  </tbody>\n",
       "</table>\n",
       "</div>"
      ],
      "text/plain": [
       "                               ens_svm_bayes_cb\n",
       "tensor_flow_pred_redond_decim                  \n",
       "0.1                                         238\n",
       "0.2                                         232\n",
       "0.3                                         129\n",
       "0.4                                          63\n",
       "0.5                                          36\n",
       "0.6                                          48\n",
       "0.7                                          31\n",
       "0.8                                          37\n",
       "0.9                                          51\n",
       "1.0                                         353"
      ]
     },
     "execution_count": 256,
     "metadata": {},
     "output_type": "execute_result"
    }
   ],
   "source": [
    "dis_ens_svm_bayes_cb = valores_mal_predichos_ens.groupby('tensor_flow_pred_redond_decim').agg({'ens_svm_bayes_cb':'count'})\n",
    "dis_ens_svm_bayes_cb"
   ]
  },
  {
   "cell_type": "markdown",
   "metadata": {},
   "source": [
    "# Junto todos"
   ]
  },
  {
   "cell_type": "code",
   "execution_count": 257,
   "metadata": {},
   "outputs": [
    {
     "data": {
      "text/html": [
       "<div>\n",
       "<style scoped>\n",
       "    .dataframe tbody tr th:only-of-type {\n",
       "        vertical-align: middle;\n",
       "    }\n",
       "\n",
       "    .dataframe tbody tr th {\n",
       "        vertical-align: top;\n",
       "    }\n",
       "\n",
       "    .dataframe thead th {\n",
       "        text-align: right;\n",
       "    }\n",
       "</style>\n",
       "<table border=\"1\" class=\"dataframe\">\n",
       "  <thead>\n",
       "    <tr style=\"text-align: right;\">\n",
       "      <th></th>\n",
       "      <th>tensor_flow_pred_redond</th>\n",
       "      <th>pred_cb</th>\n",
       "      <th>pred_bayes</th>\n",
       "      <th>pred_svm</th>\n",
       "      <th>pred_ens_tf_cb_svm</th>\n",
       "      <th>ens_tf_bayes_svm</th>\n",
       "      <th>ens_tf_bayes_cb</th>\n",
       "      <th>ens_svm_bayes_cb</th>\n",
       "    </tr>\n",
       "    <tr>\n",
       "      <th>tensor_flow_pred_redond_decim</th>\n",
       "      <th></th>\n",
       "      <th></th>\n",
       "      <th></th>\n",
       "      <th></th>\n",
       "      <th></th>\n",
       "      <th></th>\n",
       "      <th></th>\n",
       "      <th></th>\n",
       "    </tr>\n",
       "  </thead>\n",
       "  <tbody>\n",
       "    <tr>\n",
       "      <th>0.1</th>\n",
       "      <td>239</td>\n",
       "      <td>231</td>\n",
       "      <td>237</td>\n",
       "      <td>237</td>\n",
       "      <td>238</td>\n",
       "      <td>238</td>\n",
       "      <td>238</td>\n",
       "      <td>238</td>\n",
       "    </tr>\n",
       "    <tr>\n",
       "      <th>0.2</th>\n",
       "      <td>234</td>\n",
       "      <td>225</td>\n",
       "      <td>230</td>\n",
       "      <td>230</td>\n",
       "      <td>234</td>\n",
       "      <td>232</td>\n",
       "      <td>234</td>\n",
       "      <td>232</td>\n",
       "    </tr>\n",
       "    <tr>\n",
       "      <th>0.3</th>\n",
       "      <td>127</td>\n",
       "      <td>122</td>\n",
       "      <td>126</td>\n",
       "      <td>126</td>\n",
       "      <td>130</td>\n",
       "      <td>129</td>\n",
       "      <td>130</td>\n",
       "      <td>129</td>\n",
       "    </tr>\n",
       "    <tr>\n",
       "      <th>0.4</th>\n",
       "      <td>67</td>\n",
       "      <td>62</td>\n",
       "      <td>60</td>\n",
       "      <td>60</td>\n",
       "      <td>67</td>\n",
       "      <td>62</td>\n",
       "      <td>68</td>\n",
       "      <td>63</td>\n",
       "    </tr>\n",
       "    <tr>\n",
       "      <th>0.5</th>\n",
       "      <td>28</td>\n",
       "      <td>27</td>\n",
       "      <td>33</td>\n",
       "      <td>33</td>\n",
       "      <td>31</td>\n",
       "      <td>34</td>\n",
       "      <td>29</td>\n",
       "      <td>36</td>\n",
       "    </tr>\n",
       "    <tr>\n",
       "      <th>0.6</th>\n",
       "      <td>40</td>\n",
       "      <td>47</td>\n",
       "      <td>48</td>\n",
       "      <td>48</td>\n",
       "      <td>49</td>\n",
       "      <td>47</td>\n",
       "      <td>48</td>\n",
       "      <td>48</td>\n",
       "    </tr>\n",
       "    <tr>\n",
       "      <th>0.7</th>\n",
       "      <td>38</td>\n",
       "      <td>32</td>\n",
       "      <td>33</td>\n",
       "      <td>33</td>\n",
       "      <td>33</td>\n",
       "      <td>32</td>\n",
       "      <td>34</td>\n",
       "      <td>31</td>\n",
       "    </tr>\n",
       "    <tr>\n",
       "      <th>0.8</th>\n",
       "      <td>33</td>\n",
       "      <td>31</td>\n",
       "      <td>33</td>\n",
       "      <td>33</td>\n",
       "      <td>35</td>\n",
       "      <td>32</td>\n",
       "      <td>32</td>\n",
       "      <td>37</td>\n",
       "    </tr>\n",
       "    <tr>\n",
       "      <th>0.9</th>\n",
       "      <td>61</td>\n",
       "      <td>52</td>\n",
       "      <td>53</td>\n",
       "      <td>53</td>\n",
       "      <td>54</td>\n",
       "      <td>55</td>\n",
       "      <td>58</td>\n",
       "      <td>51</td>\n",
       "    </tr>\n",
       "    <tr>\n",
       "      <th>1.0</th>\n",
       "      <td>370</td>\n",
       "      <td>340</td>\n",
       "      <td>352</td>\n",
       "      <td>352</td>\n",
       "      <td>368</td>\n",
       "      <td>367</td>\n",
       "      <td>366</td>\n",
       "      <td>353</td>\n",
       "    </tr>\n",
       "  </tbody>\n",
       "</table>\n",
       "</div>"
      ],
      "text/plain": [
       "                               tensor_flow_pred_redond  pred_cb  pred_bayes  \\\n",
       "tensor_flow_pred_redond_decim                                                 \n",
       "0.1                                                239      231         237   \n",
       "0.2                                                234      225         230   \n",
       "0.3                                                127      122         126   \n",
       "0.4                                                 67       62          60   \n",
       "0.5                                                 28       27          33   \n",
       "0.6                                                 40       47          48   \n",
       "0.7                                                 38       32          33   \n",
       "0.8                                                 33       31          33   \n",
       "0.9                                                 61       52          53   \n",
       "1.0                                                370      340         352   \n",
       "\n",
       "                               pred_svm  pred_ens_tf_cb_svm  ens_tf_bayes_svm  \\\n",
       "tensor_flow_pred_redond_decim                                                   \n",
       "0.1                                 237                 238               238   \n",
       "0.2                                 230                 234               232   \n",
       "0.3                                 126                 130               129   \n",
       "0.4                                  60                  67                62   \n",
       "0.5                                  33                  31                34   \n",
       "0.6                                  48                  49                47   \n",
       "0.7                                  33                  33                32   \n",
       "0.8                                  33                  35                32   \n",
       "0.9                                  53                  54                55   \n",
       "1.0                                 352                 368               367   \n",
       "\n",
       "                               ens_tf_bayes_cb  ens_svm_bayes_cb  \n",
       "tensor_flow_pred_redond_decim                                     \n",
       "0.1                                        238               238  \n",
       "0.2                                        234               232  \n",
       "0.3                                        130               129  \n",
       "0.4                                         68                63  \n",
       "0.5                                         29                36  \n",
       "0.6                                         48                48  \n",
       "0.7                                         34                31  \n",
       "0.8                                         32                37  \n",
       "0.9                                         58                51  \n",
       "1.0                                        366               353  "
      ]
     },
     "execution_count": 257,
     "metadata": {},
     "output_type": "execute_result"
    }
   ],
   "source": [
    "dis_tf['pred_cb'] = dis_cb['pred_catbooost']\n",
    "dis_tf['pred_bayes'] = dis_bay['pred_bayes']\n",
    "dis_tf['pred_svm'] = dis_svm['pred_svm']\n",
    "dis_tf['pred_ens_tf_cb_svm'] = dis_ens_tf_cb_svm['ens_tf_cb_svm']\n",
    "dis_tf['ens_tf_bayes_svm'] = dis_ens_tf_bayes_svm['ens_tf_bayes_svm']\n",
    "dis_tf['ens_tf_bayes_cb'] = dis_ens_tf_bayes_cb['ens_tf_bayes_cb']\n",
    "dis_tf['ens_svm_bayes_cb'] = dis_ens_svm_bayes_cb['ens_svm_bayes_cb']\n",
    "dis_tf"
   ]
  },
  {
   "cell_type": "markdown",
   "metadata": {},
   "source": [
    "# La moraleja de esto: En los valores cuya prediccion de tensor flow esta entre 0.4<x<=0.6, me conviene hacer un ensamble, lo pruebo con test y lo subo"
   ]
  },
  {
   "cell_type": "code",
   "execution_count": 258,
   "metadata": {
    "scrolled": false
   },
   "outputs": [],
   "source": [
    "test_df['ens'] = (test_df['pred_tf']+test_df['pred_catboost']+test_df['pred_svm'])/3"
   ]
  },
  {
   "cell_type": "code",
   "execution_count": 259,
   "metadata": {},
   "outputs": [],
   "source": [
    "test_df['target'] = np.where(((test_df['pred_tf']>0.4) & (test_df['pred_tf']<=0.6)), test_df['ens'], test_df['pred_tf'])"
   ]
  },
  {
   "cell_type": "code",
   "execution_count": 260,
   "metadata": {
    "scrolled": true
   },
   "outputs": [],
   "source": [
    "test_df['target'] = test_df['target'].apply(lambda x: redond(x))"
   ]
  },
  {
   "cell_type": "code",
   "execution_count": 261,
   "metadata": {},
   "outputs": [],
   "source": [
    "sample.target = test_df.target"
   ]
  },
  {
   "cell_type": "code",
   "execution_count": 262,
   "metadata": {},
   "outputs": [
    {
     "data": {
      "text/plain": [
       "0    2094\n",
       "1    1169\n",
       "Name: target, dtype: int64"
      ]
     },
     "execution_count": 262,
     "metadata": {},
     "output_type": "execute_result"
    }
   ],
   "source": [
    "sample.target.value_counts()"
   ]
  },
  {
   "cell_type": "code",
   "execution_count": 263,
   "metadata": {},
   "outputs": [],
   "source": [
    "sample.to_csv('neural_network_with_ens.csv', index=False)"
   ]
  }
 ],
 "metadata": {
  "kernelspec": {
   "display_name": "Python 3",
   "language": "python",
   "name": "python3"
  },
  "language_info": {
   "codemirror_mode": {
    "name": "ipython",
    "version": 3
   },
   "file_extension": ".py",
   "mimetype": "text/x-python",
   "name": "python",
   "nbconvert_exporter": "python",
   "pygments_lexer": "ipython3",
   "version": "3.7.6"
  }
 },
 "nbformat": 4,
 "nbformat_minor": 4
}
