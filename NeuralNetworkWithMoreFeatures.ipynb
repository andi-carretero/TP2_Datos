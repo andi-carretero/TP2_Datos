{
 "cells": [
  {
   "cell_type": "code",
   "execution_count": 1,
   "metadata": {},
   "outputs": [],
   "source": [
    "import numpy as np\n",
    "import pandas as pd\n",
    "import matplotlib.pyplot as plt"
   ]
  },
  {
   "cell_type": "code",
   "execution_count": 2,
   "metadata": {},
   "outputs": [
    {
     "data": {
      "text/html": [
       "<div>\n",
       "<style scoped>\n",
       "    .dataframe tbody tr th:only-of-type {\n",
       "        vertical-align: middle;\n",
       "    }\n",
       "\n",
       "    .dataframe tbody tr th {\n",
       "        vertical-align: top;\n",
       "    }\n",
       "\n",
       "    .dataframe thead th {\n",
       "        text-align: right;\n",
       "    }\n",
       "</style>\n",
       "<table border=\"1\" class=\"dataframe\">\n",
       "  <thead>\n",
       "    <tr style=\"text-align: right;\">\n",
       "      <th></th>\n",
       "      <th>text</th>\n",
       "      <th>target</th>\n",
       "      <th>cantidad_links</th>\n",
       "      <th>cantidad_signos_pregunta</th>\n",
       "      <th>repeticiones</th>\n",
       "      <th>longitud_tweet</th>\n",
       "      <th>letras_seguidas</th>\n",
       "      <th>sentimiento</th>\n",
       "      <th>objetividad</th>\n",
       "      <th>the</th>\n",
       "      <th>...</th>\n",
       "      <th>he is</th>\n",
       "      <th>insultos_por_tweet</th>\n",
       "      <th>expresiones_por_tweet</th>\n",
       "      <th>bombing</th>\n",
       "      <th>suicide</th>\n",
       "      <th>accident</th>\n",
       "      <th>disaster</th>\n",
       "      <th>police</th>\n",
       "      <th>died</th>\n",
       "      <th>years</th>\n",
       "    </tr>\n",
       "  </thead>\n",
       "  <tbody>\n",
       "    <tr>\n",
       "      <th>0</th>\n",
       "      <td>our deed are the reason of this earthquak may ...</td>\n",
       "      <td>1</td>\n",
       "      <td>0</td>\n",
       "      <td>0</td>\n",
       "      <td>1</td>\n",
       "      <td>70</td>\n",
       "      <td>2</td>\n",
       "      <td>0.0</td>\n",
       "      <td>0.0</td>\n",
       "      <td>1</td>\n",
       "      <td>...</td>\n",
       "      <td>0</td>\n",
       "      <td>0</td>\n",
       "      <td>0</td>\n",
       "      <td>0</td>\n",
       "      <td>0</td>\n",
       "      <td>0</td>\n",
       "      <td>0</td>\n",
       "      <td>0</td>\n",
       "      <td>0</td>\n",
       "      <td>0</td>\n",
       "    </tr>\n",
       "  </tbody>\n",
       "</table>\n",
       "<p>1 rows × 818 columns</p>\n",
       "</div>"
      ],
      "text/plain": [
       "                                                text  target  cantidad_links  \\\n",
       "0  our deed are the reason of this earthquak may ...       1               0   \n",
       "\n",
       "   cantidad_signos_pregunta  repeticiones  longitud_tweet  letras_seguidas  \\\n",
       "0                         0             1              70                2   \n",
       "\n",
       "   sentimiento  objetividad  the  ...  he is  insultos_por_tweet  \\\n",
       "0          0.0          0.0    1  ...      0                   0   \n",
       "\n",
       "   expresiones_por_tweet  bombing  suicide  accident  disaster  police  died  \\\n",
       "0                      0        0        0         0         0       0     0   \n",
       "\n",
       "   years  \n",
       "0      0  \n",
       "\n",
       "[1 rows x 818 columns]"
      ]
     },
     "execution_count": 2,
     "metadata": {},
     "output_type": "execute_result"
    }
   ],
   "source": [
    "train_limpio = pd.read_csv(\"train_limpio_con_stemming.csv\",encoding = \"ISO-8859-1\")\n",
    "train_limpio.head(1)"
   ]
  }
 ],
 "metadata": {
  "kernelspec": {
   "display_name": "Python 3",
   "language": "python",
   "name": "python3"
  },
  "language_info": {
   "codemirror_mode": {
    "name": "ipython",
    "version": 3
   },
   "file_extension": ".py",
   "mimetype": "text/x-python",
   "name": "python",
   "nbconvert_exporter": "python",
   "pygments_lexer": "ipython3",
   "version": "3.6.9"
  }
 },
 "nbformat": 4,
 "nbformat_minor": 4
}
