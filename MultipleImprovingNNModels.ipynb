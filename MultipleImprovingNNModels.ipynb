{
 "cells": [
  {
   "cell_type": "code",
   "execution_count": 51,
   "metadata": {},
   "outputs": [],
   "source": [
    "import numpy as np # linear algebra\n",
    "import pandas as pd # data processing, CSV file I/O (e.g. pd.read_csv)\n",
    "import matplotlib.pyplot as plt\n",
    "plt.style.use('ggplot')\n",
    "\n",
    "from sklearn.feature_extraction.text import CountVectorizer\n",
    "from sklearn.model_selection import train_test_split\n",
    "from sklearn.linear_model import LogisticRegression\n",
    "from sklearn.preprocessing import LabelEncoder\n",
    "from sklearn.preprocessing import OneHotEncoder\n",
    "from sklearn.model_selection import RandomizedSearchCV\n",
    "\n",
    "from sklearn import preprocessing\n",
    "\n",
    "from tensorflow.keras.models import Sequential\n",
    "from tensorflow.keras import layers\n",
    "from tensorflow.keras.layers import Conv2D\n",
    "from tensorflow.keras.preprocessing.text import Tokenizer\n",
    "from tensorflow.keras.preprocessing.sequence import pad_sequences\n",
    "from tensorflow.keras.wrappers.scikit_learn import KerasClassifier"
   ]
  },
  {
   "cell_type": "code",
   "execution_count": 52,
   "metadata": {},
   "outputs": [],
   "source": [
    "train_limpio = pd.read_csv(\"train_limpio_con_BOW_de_5000_y_Stemming_noDrops.csv\",encoding = \"ISO-8859-1\").sample(frac=1).reset_index(drop=True)\n",
    "test_limpio = pd.read_csv(\"test_limpio_con_BOW_de_5000_y_Stemming_noDrops.csv\",encoding = \"ISO-8859-1\").sample(frac=1).reset_index(drop=True)"
   ]
  },
  {
   "cell_type": "code",
   "execution_count": 53,
   "metadata": {},
   "outputs": [],
   "source": [
    "train_limpio[\"text\"] = train_limpio[\"text\"].map(lambda x : \"null\" if(x is None) else x)\n",
    "test_limpio[\"text\"] = test_limpio[\"text\"].map(lambda x : \"null\" if(x is None) else x)"
   ]
  },
  {
   "cell_type": "code",
   "execution_count": 54,
   "metadata": {},
   "outputs": [],
   "source": [
    "train_limpio_true = train_limpio.loc[train_limpio[\"target\"] == 1]\n",
    "train_limpio_false = train_limpio.loc[train_limpio[\"target\"] == 0]"
   ]
  },
  {
   "cell_type": "code",
   "execution_count": 55,
   "metadata": {},
   "outputs": [
    {
     "name": "stdout",
     "output_type": "stream",
     "text": [
      "Tenemos  3271.00 verdaderos y  4342.00 falsos\n"
     ]
    }
   ],
   "source": [
    "print(\"Tenemos {cant_verdaderos: .2f} verdaderos y {cant_falsos: .2f} falsos\".format(cant_verdaderos=len(train_limpio_true), cant_falsos=len(train_limpio_false)))"
   ]
  },
  {
   "cell_type": "markdown",
   "metadata": {},
   "source": [
    "## Voy a balancear el train y el validation, misma cantidad de falsos y verdaderos en ambos"
   ]
  },
  {
   "cell_type": "code",
   "execution_count": 56,
   "metadata": {},
   "outputs": [],
   "source": [
    "train = pd.concat([train_limpio_true.iloc[:2616], train_limpio_false.iloc[:3473]])\n",
    "val = pd.concat([train_limpio_true.iloc[2616:3000], train_limpio_false.iloc[3473:3850]])\n",
    "test = pd.concat([train_limpio_true.iloc[3000:], train_limpio_false.iloc[3850:]])"
   ]
  },
  {
   "cell_type": "code",
   "execution_count": 57,
   "metadata": {},
   "outputs": [
    {
     "data": {
      "text/html": [
       "<div>\n",
       "<style scoped>\n",
       "    .dataframe tbody tr th:only-of-type {\n",
       "        vertical-align: middle;\n",
       "    }\n",
       "\n",
       "    .dataframe tbody tr th {\n",
       "        vertical-align: top;\n",
       "    }\n",
       "\n",
       "    .dataframe thead th {\n",
       "        text-align: right;\n",
       "    }\n",
       "</style>\n",
       "<table border=\"1\" class=\"dataframe\">\n",
       "  <thead>\n",
       "    <tr style=\"text-align: right;\">\n",
       "      <th></th>\n",
       "      <th>aa</th>\n",
       "      <th>ab</th>\n",
       "      <th>aba</th>\n",
       "      <th>abandon</th>\n",
       "      <th>abbott</th>\n",
       "      <th>abbswinston</th>\n",
       "      <th>abc</th>\n",
       "      <th>abcnew</th>\n",
       "      <th>abe</th>\n",
       "      <th>abil</th>\n",
       "      <th>...</th>\n",
       "      <th>y\\/e\\/l-location</th>\n",
       "      <th>yorkshire\\\\n-location</th>\n",
       "      <th>youtube\\.com\\/channel\\/UCHWTLC9B4ZjUGh7yDlb55Iw-location</th>\n",
       "      <th>zboyer\\@washingtontimes\\.com-location</th>\n",
       "      <th>longitud_tweet</th>\n",
       "      <th>letras_seguidas</th>\n",
       "      <th>sentimiento</th>\n",
       "      <th>objetividad</th>\n",
       "      <th>keyword</th>\n",
       "      <th>location</th>\n",
       "    </tr>\n",
       "  </thead>\n",
       "  <tbody>\n",
       "    <tr>\n",
       "      <th>1</th>\n",
       "      <td>0</td>\n",
       "      <td>0</td>\n",
       "      <td>0</td>\n",
       "      <td>0</td>\n",
       "      <td>0</td>\n",
       "      <td>0</td>\n",
       "      <td>0</td>\n",
       "      <td>0</td>\n",
       "      <td>0</td>\n",
       "      <td>0</td>\n",
       "      <td>...</td>\n",
       "      <td>False</td>\n",
       "      <td>False</td>\n",
       "      <td>False</td>\n",
       "      <td>False</td>\n",
       "      <td>90</td>\n",
       "      <td>2</td>\n",
       "      <td>0.0</td>\n",
       "      <td>1.0</td>\n",
       "      <td>catastroph</td>\n",
       "      <td>NaN</td>\n",
       "    </tr>\n",
       "    <tr>\n",
       "      <th>4</th>\n",
       "      <td>0</td>\n",
       "      <td>0</td>\n",
       "      <td>0</td>\n",
       "      <td>0</td>\n",
       "      <td>0</td>\n",
       "      <td>0</td>\n",
       "      <td>0</td>\n",
       "      <td>0</td>\n",
       "      <td>0</td>\n",
       "      <td>0</td>\n",
       "      <td>...</td>\n",
       "      <td>False</td>\n",
       "      <td>False</td>\n",
       "      <td>False</td>\n",
       "      <td>False</td>\n",
       "      <td>60</td>\n",
       "      <td>2</td>\n",
       "      <td>0.0</td>\n",
       "      <td>1.0</td>\n",
       "      <td>mass%20murder</td>\n",
       "      <td>West\\ Hollywood\\,\\ CA</td>\n",
       "    </tr>\n",
       "  </tbody>\n",
       "</table>\n",
       "<p>2 rows × 7852 columns</p>\n",
       "</div>"
      ],
      "text/plain": [
       "   aa  ab  aba  abandon  abbott  abbswinston  abc  abcnew  abe  abil  ...  \\\n",
       "1   0   0    0        0       0            0    0       0    0     0  ...   \n",
       "4   0   0    0        0       0            0    0       0    0     0  ...   \n",
       "\n",
       "   y\\/e\\/l-location  yorkshire\\\\n-location  \\\n",
       "1             False                  False   \n",
       "4             False                  False   \n",
       "\n",
       "   youtube\\.com\\/channel\\/UCHWTLC9B4ZjUGh7yDlb55Iw-location  \\\n",
       "1                                              False          \n",
       "4                                              False          \n",
       "\n",
       "   zboyer\\@washingtontimes\\.com-location  longitud_tweet  letras_seguidas  \\\n",
       "1                                  False              90                2   \n",
       "4                                  False              60                2   \n",
       "\n",
       "   sentimiento  objetividad        keyword               location  \n",
       "1          0.0          1.0     catastroph                    NaN  \n",
       "4          0.0          1.0  mass%20murder  West\\ Hollywood\\,\\ CA  \n",
       "\n",
       "[2 rows x 7852 columns]"
      ]
     },
     "execution_count": 57,
     "metadata": {},
     "output_type": "execute_result"
    }
   ],
   "source": [
    "train.head(2)"
   ]
  },
  {
   "cell_type": "code",
   "execution_count": 58,
   "metadata": {},
   "outputs": [],
   "source": [
    "vectorizer = CountVectorizer()\n",
    "vectorizer.fit(train_limpio[\"text\"].values.astype('U'))\n",
    "\n",
    "X_train = vectorizer.transform(train[\"text\"].values.astype('U'))\n",
    "X_val  = vectorizer.transform(val[\"text\"].values.astype('U'))\n",
    "X_test = vectorizer.transform(test[\"text\"].values.astype('U'))\n",
    "\n",
    "actual_tp_test_only_text = vectorizer.transform(test_limpio[\"text\"].values.astype('U'))"
   ]
  },
  {
   "cell_type": "code",
   "execution_count": 59,
   "metadata": {},
   "outputs": [],
   "source": [
    "def plot_history(history):\n",
    "    acc = history.history['acc']\n",
    "    val_acc = history.history['val_acc']\n",
    "    loss = history.history['loss']\n",
    "    val_loss = history.history['val_loss']\n",
    "    x = range(1, len(acc) + 1)\n",
    "\n",
    "    plt.figure(figsize=(12, 5))\n",
    "    plt.subplot(1, 2, 1)\n",
    "    plt.plot(x, acc, 'b', label='Training acc')\n",
    "    plt.plot(x, val_acc, 'r', label='Validation acc')\n",
    "    plt.title('Training and validation accuracy')\n",
    "    plt.legend()\n",
    "    plt.subplot(1, 2, 2)\n",
    "    plt.plot(x, loss, 'b', label='Training loss')\n",
    "    plt.plot(x, val_loss, 'r', label='Validation loss')\n",
    "    plt.title('Training and validation loss')\n",
    "    plt.legend()"
   ]
  },
  {
   "cell_type": "markdown",
   "metadata": {},
   "source": [
    "## Primer modelo simple"
   ]
  },
  {
   "cell_type": "code",
   "execution_count": 60,
   "metadata": {},
   "outputs": [
    {
     "name": "stdout",
     "output_type": "stream",
     "text": [
      "Model: \"sequential_5\"\n",
      "_________________________________________________________________\n",
      "Layer (type)                 Output Shape              Param #   \n",
      "=================================================================\n",
      "dense_10 (Dense)             (None, 10)                133800    \n",
      "_________________________________________________________________\n",
      "dense_11 (Dense)             (None, 1)                 11        \n",
      "=================================================================\n",
      "Total params: 133,811\n",
      "Trainable params: 133,811\n",
      "Non-trainable params: 0\n",
      "_________________________________________________________________\n"
     ]
    }
   ],
   "source": [
    "input_dim = X_train.shape[1]  # Number of features\n",
    "\n",
    "model = Sequential()\n",
    "model.add(layers.Dense(10, input_dim=input_dim, activation='relu'))\n",
    "model.add(layers.Dense(1, activation='sigmoid'))\n",
    "\n",
    "model.compile(loss='binary_crossentropy', \n",
    "              optimizer='adam', \n",
    "              metrics=['acc'])\n",
    "model.summary()"
   ]
  },
  {
   "cell_type": "code",
   "execution_count": 61,
   "metadata": {
    "scrolled": true
   },
   "outputs": [
    {
     "name": "stdout",
     "output_type": "stream",
     "text": [
      "Epoch 1/100\n",
      "609/609 [==============================] - 1s 1ms/step - loss: 0.5368 - acc: 0.7640 - val_loss: 0.4729 - val_acc: 0.7963\n",
      "Epoch 2/100\n",
      "609/609 [==============================] - 1s 1ms/step - loss: 0.3354 - acc: 0.8747 - val_loss: 0.4698 - val_acc: 0.8108\n",
      "Epoch 3/100\n",
      "609/609 [==============================] - 1s 1ms/step - loss: 0.2289 - acc: 0.9182 - val_loss: 0.4929 - val_acc: 0.8016\n",
      "Epoch 4/100\n",
      "609/609 [==============================] - 1s 2ms/step - loss: 0.1653 - acc: 0.9414 - val_loss: 0.5418 - val_acc: 0.7806\n",
      "Epoch 5/100\n",
      "609/609 [==============================] - 1s 1ms/step - loss: 0.1247 - acc: 0.9596 - val_loss: 0.6034 - val_acc: 0.7766\n",
      "Epoch 6/100\n",
      "609/609 [==============================] - 1s 1ms/step - loss: 0.0996 - acc: 0.9665 - val_loss: 0.6402 - val_acc: 0.7766\n",
      "Epoch 7/100\n",
      "609/609 [==============================] - 1s 1ms/step - loss: 0.0820 - acc: 0.9713 - val_loss: 0.6999 - val_acc: 0.7766\n",
      "Epoch 8/100\n",
      "609/609 [==============================] - 1s 1ms/step - loss: 0.0714 - acc: 0.9734 - val_loss: 0.7546 - val_acc: 0.7674\n",
      "Epoch 9/100\n",
      "609/609 [==============================] - 1s 1ms/step - loss: 0.0643 - acc: 0.9767 - val_loss: 0.8023 - val_acc: 0.7595\n",
      "Epoch 10/100\n",
      "609/609 [==============================] - 1s 1ms/step - loss: 0.0584 - acc: 0.9778 - val_loss: 0.8468 - val_acc: 0.7608\n",
      "Epoch 11/100\n",
      "609/609 [==============================] - 1s 1ms/step - loss: 0.0534 - acc: 0.9793 - val_loss: 0.8942 - val_acc: 0.7464\n",
      "Epoch 12/100\n",
      "609/609 [==============================] - 1s 1ms/step - loss: 0.0523 - acc: 0.9805 - val_loss: 0.9436 - val_acc: 0.7464\n",
      "Epoch 13/100\n",
      "609/609 [==============================] - 1s 1ms/step - loss: 0.0511 - acc: 0.9782 - val_loss: 1.0037 - val_acc: 0.7556\n",
      "Epoch 14/100\n",
      "609/609 [==============================] - 1s 1ms/step - loss: 0.0490 - acc: 0.9809 - val_loss: 1.0387 - val_acc: 0.7438\n",
      "Epoch 15/100\n",
      "609/609 [==============================] - 1s 1ms/step - loss: 0.0466 - acc: 0.9806 - val_loss: 1.0506 - val_acc: 0.7556\n",
      "Epoch 16/100\n",
      "609/609 [==============================] - 1s 1ms/step - loss: 0.0457 - acc: 0.9795 - val_loss: 1.1132 - val_acc: 0.7398\n",
      "Epoch 17/100\n",
      "609/609 [==============================] - 1s 1ms/step - loss: 0.0444 - acc: 0.9809 - val_loss: 1.1431 - val_acc: 0.7424\n",
      "Epoch 18/100\n",
      "609/609 [==============================] - 1s 1ms/step - loss: 0.0427 - acc: 0.9811 - val_loss: 1.2168 - val_acc: 0.7424\n",
      "Epoch 19/100\n",
      "609/609 [==============================] - 1s 1ms/step - loss: 0.0424 - acc: 0.9809 - val_loss: 1.1968 - val_acc: 0.7398\n",
      "Epoch 20/100\n",
      "609/609 [==============================] - 1s 1ms/step - loss: 0.0421 - acc: 0.9818 - val_loss: 1.2335 - val_acc: 0.7346\n",
      "Epoch 21/100\n",
      "609/609 [==============================] - 1s 1ms/step - loss: 0.0418 - acc: 0.9814 - val_loss: 1.2663 - val_acc: 0.7346\n",
      "Epoch 22/100\n",
      "609/609 [==============================] - 1s 1ms/step - loss: 0.0422 - acc: 0.9819 - val_loss: 1.3007 - val_acc: 0.7267\n",
      "Epoch 23/100\n",
      "609/609 [==============================] - 1s 1ms/step - loss: 0.0403 - acc: 0.9824 - val_loss: 1.3152 - val_acc: 0.7254\n",
      "Epoch 24/100\n",
      "609/609 [==============================] - 1s 1ms/step - loss: 0.0402 - acc: 0.9828 - val_loss: 1.3656 - val_acc: 0.7332\n",
      "Epoch 25/100\n",
      "609/609 [==============================] - 1s 1ms/step - loss: 0.0392 - acc: 0.9821 - val_loss: 1.4175 - val_acc: 0.7280\n",
      "Epoch 26/100\n",
      "609/609 [==============================] - 1s 1ms/step - loss: 0.0399 - acc: 0.9816 - val_loss: 1.4142 - val_acc: 0.7280\n",
      "Epoch 27/100\n",
      "609/609 [==============================] - 1s 1ms/step - loss: 0.0384 - acc: 0.9819 - val_loss: 1.4723 - val_acc: 0.7267\n",
      "Epoch 28/100\n",
      "609/609 [==============================] - 1s 1ms/step - loss: 0.0395 - acc: 0.9814 - val_loss: 1.4989 - val_acc: 0.7359\n",
      "Epoch 29/100\n",
      "609/609 [==============================] - 1s 1ms/step - loss: 0.0382 - acc: 0.9823 - val_loss: 1.5424 - val_acc: 0.7332\n",
      "Epoch 30/100\n",
      "609/609 [==============================] - 1s 1ms/step - loss: 0.0380 - acc: 0.9818 - val_loss: 1.5574 - val_acc: 0.7280\n",
      "Epoch 31/100\n",
      "609/609 [==============================] - 1s 1ms/step - loss: 0.0379 - acc: 0.9818 - val_loss: 1.5635 - val_acc: 0.7162\n",
      "Epoch 32/100\n",
      "609/609 [==============================] - 1s 1ms/step - loss: 0.0383 - acc: 0.9819 - val_loss: 1.6011 - val_acc: 0.7188\n",
      "Epoch 33/100\n",
      "609/609 [==============================] - 1s 1ms/step - loss: 0.0370 - acc: 0.9821 - val_loss: 1.6322 - val_acc: 0.7214\n",
      "Epoch 34/100\n",
      "609/609 [==============================] - 1s 1ms/step - loss: 0.0375 - acc: 0.9819 - val_loss: 1.6543 - val_acc: 0.7201\n",
      "Epoch 35/100\n",
      "609/609 [==============================] - 1s 1ms/step - loss: 0.0368 - acc: 0.9814 - val_loss: 1.6541 - val_acc: 0.7148\n",
      "Epoch 36/100\n",
      "609/609 [==============================] - 1s 1ms/step - loss: 0.0360 - acc: 0.9805 - val_loss: 1.6839 - val_acc: 0.7227\n",
      "Epoch 37/100\n",
      "609/609 [==============================] - 1s 1ms/step - loss: 0.0360 - acc: 0.9823 - val_loss: 1.6927 - val_acc: 0.7188\n",
      "Epoch 38/100\n",
      "609/609 [==============================] - 1s 1ms/step - loss: 0.0357 - acc: 0.9837 - val_loss: 1.6940 - val_acc: 0.7162\n",
      "Epoch 39/100\n",
      "609/609 [==============================] - 1s 1ms/step - loss: 0.0348 - acc: 0.9829 - val_loss: 1.7128 - val_acc: 0.7175\n",
      "Epoch 40/100\n",
      "609/609 [==============================] - 1s 1ms/step - loss: 0.0352 - acc: 0.9819 - val_loss: 1.7570 - val_acc: 0.7175\n",
      "Epoch 41/100\n",
      "609/609 [==============================] - 1s 1ms/step - loss: 0.0351 - acc: 0.9818 - val_loss: 1.7454 - val_acc: 0.7148\n",
      "Epoch 42/100\n",
      "609/609 [==============================] - 1s 1ms/step - loss: 0.0343 - acc: 0.9824 - val_loss: 1.7580 - val_acc: 0.7030\n",
      "Epoch 43/100\n",
      "609/609 [==============================] - 1s 1ms/step - loss: 0.0346 - acc: 0.9824 - val_loss: 1.7702 - val_acc: 0.7109\n",
      "Epoch 44/100\n",
      "609/609 [==============================] - 1s 1ms/step - loss: 0.0341 - acc: 0.9824 - val_loss: 1.8018 - val_acc: 0.7188\n",
      "Epoch 45/100\n",
      "609/609 [==============================] - 1s 1ms/step - loss: 0.0342 - acc: 0.9818 - val_loss: 1.8077 - val_acc: 0.7188\n",
      "Epoch 46/100\n",
      "609/609 [==============================] - 1s 1ms/step - loss: 0.0341 - acc: 0.9816 - val_loss: 1.7978 - val_acc: 0.7083\n",
      "Epoch 47/100\n",
      "609/609 [==============================] - 1s 1ms/step - loss: 0.0337 - acc: 0.9828 - val_loss: 1.8006 - val_acc: 0.7096\n",
      "Epoch 48/100\n",
      "609/609 [==============================] - 1s 1ms/step - loss: 0.0331 - acc: 0.9823 - val_loss: 1.8457 - val_acc: 0.7162\n",
      "Epoch 49/100\n",
      "609/609 [==============================] - 1s 1ms/step - loss: 0.0341 - acc: 0.9814 - val_loss: 1.8291 - val_acc: 0.7122\n",
      "Epoch 50/100\n",
      "609/609 [==============================] - 1s 1ms/step - loss: 0.0333 - acc: 0.9826 - val_loss: 1.8350 - val_acc: 0.7148\n",
      "Epoch 51/100\n",
      "609/609 [==============================] - 1s 1ms/step - loss: 0.0330 - acc: 0.9818 - val_loss: 1.8373 - val_acc: 0.7109\n",
      "Epoch 52/100\n",
      "609/609 [==============================] - 1s 1ms/step - loss: 0.0330 - acc: 0.9819 - val_loss: 1.8430 - val_acc: 0.7148\n",
      "Epoch 53/100\n",
      "609/609 [==============================] - 1s 1ms/step - loss: 0.0330 - acc: 0.9829 - val_loss: 1.8362 - val_acc: 0.7057\n",
      "Epoch 54/100\n",
      "609/609 [==============================] - 1s 1ms/step - loss: 0.0326 - acc: 0.9824 - val_loss: 1.8411 - val_acc: 0.7122\n",
      "Epoch 55/100\n",
      "609/609 [==============================] - 1s 1ms/step - loss: 0.0326 - acc: 0.9821 - val_loss: 1.8543 - val_acc: 0.7096\n",
      "Epoch 56/100\n",
      "609/609 [==============================] - 1s 1ms/step - loss: 0.0318 - acc: 0.9837 - val_loss: 1.8313 - val_acc: 0.7096\n",
      "Epoch 57/100\n",
      "609/609 [==============================] - 1s 1ms/step - loss: 0.0320 - acc: 0.9828 - val_loss: 1.8438 - val_acc: 0.7135\n",
      "Epoch 58/100\n",
      "609/609 [==============================] - 1s 1ms/step - loss: 0.0321 - acc: 0.9829 - val_loss: 1.8320 - val_acc: 0.7122\n",
      "Epoch 59/100\n",
      "609/609 [==============================] - 1s 1ms/step - loss: 0.0315 - acc: 0.9831 - val_loss: 1.8574 - val_acc: 0.7083\n",
      "Epoch 60/100\n",
      "609/609 [==============================] - 1s 1ms/step - loss: 0.0313 - acc: 0.9836 - val_loss: 1.8538 - val_acc: 0.7122\n",
      "Epoch 61/100\n",
      "609/609 [==============================] - 1s 1ms/step - loss: 0.0319 - acc: 0.9828 - val_loss: 1.8865 - val_acc: 0.7083\n",
      "Epoch 62/100\n",
      "609/609 [==============================] - 1s 1ms/step - loss: 0.0312 - acc: 0.9828 - val_loss: 1.8542 - val_acc: 0.7135\n",
      "Epoch 63/100\n",
      "609/609 [==============================] - 1s 1ms/step - loss: 0.0315 - acc: 0.9839 - val_loss: 1.8758 - val_acc: 0.7083\n",
      "Epoch 64/100\n",
      "609/609 [==============================] - 1s 1ms/step - loss: 0.0317 - acc: 0.9828 - val_loss: 1.8679 - val_acc: 0.7109\n",
      "Epoch 65/100\n",
      "609/609 [==============================] - 1s 1ms/step - loss: 0.0310 - acc: 0.9818 - val_loss: 1.8864 - val_acc: 0.7096\n",
      "Epoch 66/100\n",
      "609/609 [==============================] - 1s 1ms/step - loss: 0.0313 - acc: 0.9831 - val_loss: 1.8688 - val_acc: 0.7122\n",
      "Epoch 67/100\n",
      "609/609 [==============================] - 1s 1ms/step - loss: 0.0313 - acc: 0.9832 - val_loss: 1.8559 - val_acc: 0.7109\n",
      "Epoch 68/100\n",
      "609/609 [==============================] - 1s 1ms/step - loss: 0.0310 - acc: 0.9814 - val_loss: 1.8937 - val_acc: 0.7122\n",
      "Epoch 69/100\n",
      "609/609 [==============================] - 1s 1ms/step - loss: 0.0305 - acc: 0.9839 - val_loss: 1.9013 - val_acc: 0.7122\n",
      "Epoch 70/100\n",
      "609/609 [==============================] - 1s 1ms/step - loss: 0.0307 - acc: 0.9828 - val_loss: 1.8965 - val_acc: 0.7122\n",
      "Epoch 71/100\n",
      "609/609 [==============================] - 1s 1ms/step - loss: 0.0304 - acc: 0.9832 - val_loss: 1.8725 - val_acc: 0.7030\n",
      "Epoch 72/100\n",
      "609/609 [==============================] - 1s 1ms/step - loss: 0.0303 - acc: 0.9829 - val_loss: 1.9148 - val_acc: 0.7122\n",
      "Epoch 73/100\n",
      "609/609 [==============================] - 1s 1ms/step - loss: 0.0307 - acc: 0.9828 - val_loss: 1.8867 - val_acc: 0.7109\n",
      "Epoch 74/100\n",
      "609/609 [==============================] - 1s 1ms/step - loss: 0.0306 - acc: 0.9834 - val_loss: 1.8923 - val_acc: 0.7043\n",
      "Epoch 75/100\n",
      "609/609 [==============================] - 1s 1ms/step - loss: 0.0303 - acc: 0.9829 - val_loss: 1.9288 - val_acc: 0.7109\n",
      "Epoch 76/100\n",
      "609/609 [==============================] - 1s 1ms/step - loss: 0.0306 - acc: 0.9829 - val_loss: 1.9039 - val_acc: 0.7109\n",
      "Epoch 77/100\n",
      "609/609 [==============================] - 1s 1ms/step - loss: 0.0302 - acc: 0.9837 - val_loss: 1.9084 - val_acc: 0.7083\n",
      "Epoch 78/100\n",
      "609/609 [==============================] - 1s 1ms/step - loss: 0.0301 - acc: 0.9829 - val_loss: 1.9080 - val_acc: 0.7070\n",
      "Epoch 79/100\n",
      "609/609 [==============================] - 1s 1ms/step - loss: 0.0301 - acc: 0.9823 - val_loss: 1.9479 - val_acc: 0.7109\n",
      "Epoch 80/100\n",
      "609/609 [==============================] - 1s 1ms/step - loss: 0.0299 - acc: 0.9826 - val_loss: 1.9235 - val_acc: 0.6978\n",
      "Epoch 81/100\n",
      "609/609 [==============================] - 1s 1ms/step - loss: 0.0301 - acc: 0.9834 - val_loss: 1.9472 - val_acc: 0.7083\n",
      "Epoch 82/100\n",
      "609/609 [==============================] - 1s 1ms/step - loss: 0.0302 - acc: 0.9834 - val_loss: 1.9169 - val_acc: 0.7070\n",
      "Epoch 83/100\n",
      "609/609 [==============================] - 1s 1ms/step - loss: 0.0299 - acc: 0.9828 - val_loss: 1.9333 - val_acc: 0.7070\n",
      "Epoch 84/100\n",
      "609/609 [==============================] - 1s 1ms/step - loss: 0.0300 - acc: 0.9832 - val_loss: 1.9517 - val_acc: 0.7083\n",
      "Epoch 85/100\n",
      "609/609 [==============================] - 1s 1ms/step - loss: 0.0296 - acc: 0.9847 - val_loss: 1.9154 - val_acc: 0.7017\n",
      "Epoch 86/100\n",
      "609/609 [==============================] - 1s 1ms/step - loss: 0.0298 - acc: 0.9824 - val_loss: 1.9467 - val_acc: 0.7043\n",
      "Epoch 87/100\n",
      "609/609 [==============================] - 1s 1ms/step - loss: 0.0295 - acc: 0.9832 - val_loss: 1.9541 - val_acc: 0.7017\n",
      "Epoch 88/100\n",
      "609/609 [==============================] - 1s 1ms/step - loss: 0.0292 - acc: 0.9847 - val_loss: 1.9393 - val_acc: 0.7004\n",
      "Epoch 89/100\n",
      "609/609 [==============================] - 1s 1ms/step - loss: 0.0298 - acc: 0.9828 - val_loss: 1.9429 - val_acc: 0.7017\n",
      "Epoch 90/100\n",
      "609/609 [==============================] - 1s 1ms/step - loss: 0.0294 - acc: 0.9832 - val_loss: 1.9546 - val_acc: 0.7030\n",
      "Epoch 91/100\n",
      "609/609 [==============================] - 1s 1ms/step - loss: 0.0289 - acc: 0.9823 - val_loss: 1.9719 - val_acc: 0.7057\n",
      "Epoch 92/100\n",
      "609/609 [==============================] - 1s 1ms/step - loss: 0.0292 - acc: 0.9836 - val_loss: 1.9665 - val_acc: 0.7083\n",
      "Epoch 93/100\n",
      "609/609 [==============================] - 1s 1ms/step - loss: 0.0292 - acc: 0.9826 - val_loss: 2.0042 - val_acc: 0.7109\n",
      "Epoch 94/100\n",
      "609/609 [==============================] - 1s 1ms/step - loss: 0.0291 - acc: 0.9842 - val_loss: 2.0026 - val_acc: 0.7096\n",
      "Epoch 95/100\n",
      "609/609 [==============================] - 1s 1ms/step - loss: 0.0292 - acc: 0.9834 - val_loss: 1.9878 - val_acc: 0.7043\n",
      "Epoch 96/100\n",
      "609/609 [==============================] - 1s 1ms/step - loss: 0.0291 - acc: 0.9824 - val_loss: 1.9921 - val_acc: 0.7083\n",
      "Epoch 97/100\n",
      "609/609 [==============================] - 1s 1ms/step - loss: 0.0292 - acc: 0.9826 - val_loss: 2.0003 - val_acc: 0.7070\n",
      "Epoch 98/100\n",
      "609/609 [==============================] - 1s 1ms/step - loss: 0.0294 - acc: 0.9826 - val_loss: 1.9919 - val_acc: 0.7057\n",
      "Epoch 99/100\n",
      "609/609 [==============================] - 1s 1ms/step - loss: 0.0289 - acc: 0.9847 - val_loss: 2.0026 - val_acc: 0.7030\n",
      "Epoch 100/100\n",
      "609/609 [==============================] - 1s 1ms/step - loss: 0.0288 - acc: 0.9844 - val_loss: 2.0307 - val_acc: 0.7083\n"
     ]
    }
   ],
   "source": [
    "first_history = model.fit(X_train, train[\"target\"].to_numpy(),\n",
    "                    epochs=100,\n",
    "                    verbose=True,\n",
    "                    validation_data=(X_val, val[\"target\"].to_numpy()),\n",
    "                    batch_size=10)"
   ]
  },
  {
   "cell_type": "code",
   "execution_count": 62,
   "metadata": {},
   "outputs": [
    {
     "data": {
      "image/png": "[encoded data removed]",
      "text/plain": [
       "<Figure size 864x360 with 2 Axes>"
      ]
     },
     "metadata": {},
     "output_type": "display_data"
    }
   ],
   "source": [
    "plot_history(first_history)"
   ]
  },
  {
   "cell_type": "code",
   "execution_count": 63,
   "metadata": {},
   "outputs": [
    {
     "name": "stdout",
     "output_type": "stream",
     "text": [
      "Testing Accuracy:  0.7025\n"
     ]
    }
   ],
   "source": [
    "loss, accuracy = model.evaluate(X_test, test[\"target\"].to_numpy(), verbose=False)\n",
    "print(\"Testing Accuracy:  {:.4f}\".format(accuracy))"
   ]
  },
  {
   "cell_type": "code",
   "execution_count": 64,
   "metadata": {},
   "outputs": [],
   "source": [
    "firstPredictions = list(map(lambda x: x[0], model.predict_classes(actual_tp_test_only_text)))"
   ]
  },
  {
   "cell_type": "code",
   "execution_count": 65,
   "metadata": {},
   "outputs": [
    {
     "data": {
      "text/html": [
       "<div>\n",
       "<style scoped>\n",
       "    .dataframe tbody tr th:only-of-type {\n",
       "        vertical-align: middle;\n",
       "    }\n",
       "\n",
       "    .dataframe tbody tr th {\n",
       "        vertical-align: top;\n",
       "    }\n",
       "\n",
       "    .dataframe thead th {\n",
       "        text-align: right;\n",
       "    }\n",
       "</style>\n",
       "<table border=\"1\" class=\"dataframe\">\n",
       "  <thead>\n",
       "    <tr style=\"text-align: right;\">\n",
       "      <th></th>\n",
       "      <th>id</th>\n",
       "      <th>target</th>\n",
       "    </tr>\n",
       "  </thead>\n",
       "  <tbody>\n",
       "    <tr>\n",
       "      <th>0</th>\n",
       "      <td>2626</td>\n",
       "      <td>0</td>\n",
       "    </tr>\n",
       "    <tr>\n",
       "      <th>1</th>\n",
       "      <td>1359</td>\n",
       "      <td>0</td>\n",
       "    </tr>\n",
       "    <tr>\n",
       "      <th>2</th>\n",
       "      <td>3541</td>\n",
       "      <td>1</td>\n",
       "    </tr>\n",
       "    <tr>\n",
       "      <th>3</th>\n",
       "      <td>5718</td>\n",
       "      <td>1</td>\n",
       "    </tr>\n",
       "    <tr>\n",
       "      <th>4</th>\n",
       "      <td>6531</td>\n",
       "      <td>1</td>\n",
       "    </tr>\n",
       "    <tr>\n",
       "      <th>5</th>\n",
       "      <td>6887</td>\n",
       "      <td>0</td>\n",
       "    </tr>\n",
       "    <tr>\n",
       "      <th>6</th>\n",
       "      <td>10190</td>\n",
       "      <td>0</td>\n",
       "    </tr>\n",
       "    <tr>\n",
       "      <th>7</th>\n",
       "      <td>8876</td>\n",
       "      <td>0</td>\n",
       "    </tr>\n",
       "    <tr>\n",
       "      <th>8</th>\n",
       "      <td>2652</td>\n",
       "      <td>1</td>\n",
       "    </tr>\n",
       "    <tr>\n",
       "      <th>9</th>\n",
       "      <td>6713</td>\n",
       "      <td>0</td>\n",
       "    </tr>\n",
       "  </tbody>\n",
       "</table>\n",
       "</div>"
      ],
      "text/plain": [
       "      id  target\n",
       "0   2626       0\n",
       "1   1359       0\n",
       "2   3541       1\n",
       "3   5718       1\n",
       "4   6531       1\n",
       "5   6887       0\n",
       "6  10190       0\n",
       "7   8876       0\n",
       "8   2652       1\n",
       "9   6713       0"
      ]
     },
     "execution_count": 65,
     "metadata": {},
     "output_type": "execute_result"
    }
   ],
   "source": [
    "firstPredictionsDF = pd.DataFrame(data={'id': test_limpio[\"id\"], 'target': firstPredictions})\n",
    "firstPredictionsDF.head(10)"
   ]
  },
  {
   "cell_type": "code",
   "execution_count": 66,
   "metadata": {},
   "outputs": [],
   "source": [
    "firstPredictionsDF.to_csv('NN_predictions_first_model.csv', index=False)"
   ]
  },
  {
   "cell_type": "markdown",
   "metadata": {},
   "source": [
    "## Segundo modelo, agrego ciudades y Tokenizer en vez de count para las words"
   ]
  },
  {
   "cell_type": "code",
   "execution_count": 67,
   "metadata": {},
   "outputs": [
    {
     "data": {
      "text/plain": [
       "array(['Washington', 'Roppongi\\\\,\\\\ Minato\\\\,\\\\ Tokyo\\\\ ',\n",
       "       'West\\\\ Hollywood\\\\,\\\\ CA', ..., 'South Africa', 'Heathrow',\n",
       "       'The\\\\ green\\\\ and\\\\ pleasant\\\\ land\\\\.'], dtype=object)"
      ]
     },
     "execution_count": 67,
     "metadata": {},
     "output_type": "execute_result"
    }
   ],
   "source": [
    "non_null_locations = train_limpio[train_limpio.location.notnull()][\"location\"].to_numpy()\n",
    "non_null_locations"
   ]
  },
  {
   "cell_type": "code",
   "execution_count": 68,
   "metadata": {},
   "outputs": [
    {
     "data": {
      "text/plain": [
       "5080"
      ]
     },
     "execution_count": 68,
     "metadata": {},
     "output_type": "execute_result"
    }
   ],
   "source": [
    "encoder = LabelEncoder()\n",
    "locations = encoder.fit_transform(non_null_locations)\n",
    "len(locations)"
   ]
  },
  {
   "cell_type": "code",
   "execution_count": 69,
   "metadata": {},
   "outputs": [
    {
     "data": {
      "text/plain": [
       "array([[0., 0., 0., ..., 0., 0., 0.],\n",
       "       [0., 0., 0., ..., 0., 0., 0.],\n",
       "       [0., 0., 0., ..., 0., 0., 0.],\n",
       "       ...,\n",
       "       [0., 0., 0., ..., 0., 0., 0.],\n",
       "       [0., 0., 0., ..., 0., 0., 0.],\n",
       "       [0., 0., 0., ..., 0., 0., 0.]])"
      ]
     },
     "execution_count": 69,
     "metadata": {},
     "output_type": "execute_result"
    }
   ],
   "source": [
    "encoder = OneHotEncoder(sparse=False)\n",
    "locations = locations.reshape((5080, 1))\n",
    "encoder.fit_transform(locations)"
   ]
  },
  {
   "cell_type": "code",
   "execution_count": 70,
   "metadata": {},
   "outputs": [
    {
     "name": "stdout",
     "output_type": "stream",
     "text": [
      "pxnatosil renunciedilma fatal\n",
      "[124, 59, 8, 41, 585, 14, 96, 586, 5, 156, 259, 462, 30, 3009, 3011, 318, 2190, 242]\n"
     ]
    }
   ],
   "source": [
    "tokenizer = Tokenizer(num_words=5000)\n",
    "tokenizer.fit_on_texts(train_limpio[\"text\"].values.astype('U'))\n",
    "\n",
    "X_train = tokenizer.texts_to_sequences(train[\"text\"].values.astype('U'))\n",
    "X_val = tokenizer.texts_to_sequences(val[\"text\"].values.astype('U'))\n",
    "X_test = tokenizer.texts_to_sequences(test[\"text\"].values.astype('U'))\n",
    "\n",
    "vocab_size = len(tokenizer.word_index) + 1  # Adding 1 because of reserved 0 index\n",
    "\n",
    "print(train_limpio[\"text\"].values[2])\n",
    "print(X_train[2])"
   ]
  },
  {
   "cell_type": "code",
   "execution_count": 71,
   "metadata": {},
   "outputs": [],
   "source": [
    "maxlen = 100\n",
    "\n",
    "X_train = pad_sequences(X_train, padding='post', maxlen=maxlen)\n",
    "X_val = pad_sequences(X_val, padding='post', maxlen=maxlen)\n",
    "X_test = pad_sequences(X_test, padding='post', maxlen=maxlen)"
   ]
  },
  {
   "cell_type": "markdown",
   "metadata": {},
   "source": [
    "## Pruebo solo texto, modelo mas complejo con maxPooling y mejor embedding"
   ]
  },
  {
   "cell_type": "code",
   "execution_count": 72,
   "metadata": {},
   "outputs": [
    {
     "name": "stdout",
     "output_type": "stream",
     "text": [
      "Model: \"sequential_6\"\n",
      "_________________________________________________________________\n",
      "Layer (type)                 Output Shape              Param #   \n",
      "=================================================================\n",
      "embedding_2 (Embedding)      (None, 100, 50)           675500    \n",
      "_________________________________________________________________\n",
      "global_max_pooling1d_2 (Glob (None, 50)                0         \n",
      "_________________________________________________________________\n",
      "dense_12 (Dense)             (None, 10)                510       \n",
      "_________________________________________________________________\n",
      "dense_13 (Dense)             (None, 1)                 11        \n",
      "=================================================================\n",
      "Total params: 676,021\n",
      "Trainable params: 676,021\n",
      "Non-trainable params: 0\n",
      "_________________________________________________________________\n"
     ]
    }
   ],
   "source": [
    "embedding_dim = 50\n",
    "\n",
    "model1 = Sequential()\n",
    "model1.add(layers.Embedding(input_dim=vocab_size, \n",
    "                           output_dim=embedding_dim, \n",
    "                           input_length=maxlen))\n",
    "model1.add(layers.GlobalMaxPool1D())\n",
    "model1.add(layers.Dense(10, activation='relu'))\n",
    "model1.add(layers.Dense(1, activation='sigmoid'))\n",
    "model1.compile(optimizer='adam',\n",
    "              loss='binary_crossentropy',\n",
    "              metrics=['acc'])\n",
    "model1.summary()"
   ]
  },
  {
   "cell_type": "code",
   "execution_count": 73,
   "metadata": {},
   "outputs": [
    {
     "name": "stdout",
     "output_type": "stream",
     "text": [
      "Testing Accuracy:  0.7261\n"
     ]
    },
    {
     "data": {
      "image/png": "[encoded data removed]",
      "text/plain": [
       "<Figure size 864x360 with 2 Axes>"
      ]
     },
     "metadata": {},
     "output_type": "display_data"
    }
   ],
   "source": [
    "second_history = model1.fit(X_train, train[\"target\"].to_numpy(),\n",
    "                    epochs=50,\n",
    "                    verbose=False,\n",
    "                    validation_data=(X_val, val[\"target\"].to_numpy()),\n",
    "                    batch_size=10)\n",
    "\n",
    "loss, accuracy = model1.evaluate(X_test, test[\"target\"].to_numpy(), verbose=False)\n",
    "print(\"Testing Accuracy:  {:.4f}\".format(accuracy))\n",
    "plot_history(second_history)"
   ]
  },
  {
   "cell_type": "markdown",
   "metadata": {},
   "source": [
    "## Tercer modelo"
   ]
  },
  {
   "cell_type": "code",
   "execution_count": 74,
   "metadata": {},
   "outputs": [
    {
     "name": "stdout",
     "output_type": "stream",
     "text": [
      "Model: \"sequential_7\"\n",
      "_________________________________________________________________\n",
      "Layer (type)                 Output Shape              Param #   \n",
      "=================================================================\n",
      "embedding_3 (Embedding)      (None, 100, 100)          1351000   \n",
      "_________________________________________________________________\n",
      "conv1d_1 (Conv1D)            (None, 96, 128)           64128     \n",
      "_________________________________________________________________\n",
      "global_max_pooling1d_3 (Glob (None, 128)               0         \n",
      "_________________________________________________________________\n",
      "dense_14 (Dense)             (None, 10)                1290      \n",
      "_________________________________________________________________\n",
      "dense_15 (Dense)             (None, 1)                 11        \n",
      "=================================================================\n",
      "Total params: 1,416,429\n",
      "Trainable params: 1,416,429\n",
      "Non-trainable params: 0\n",
      "_________________________________________________________________\n"
     ]
    }
   ],
   "source": [
    "embedding_dim = 100\n",
    "\n",
    "model2 = Sequential()\n",
    "model2.add(layers.Embedding(vocab_size, embedding_dim, input_length=maxlen))\n",
    "model2.add(layers.Conv1D(128, 5, activation='relu'))\n",
    "model2.add(layers.GlobalMaxPooling1D())\n",
    "model2.add(layers.Dense(10, activation='relu'))\n",
    "model2.add(layers.Dense(1, activation='sigmoid'))\n",
    "model2.compile(optimizer='adam',\n",
    "              loss='binary_crossentropy',\n",
    "              metrics=['acc'])\n",
    "model2.summary()"
   ]
  },
  {
   "cell_type": "code",
   "execution_count": 75,
   "metadata": {},
   "outputs": [
    {
     "name": "stdout",
     "output_type": "stream",
     "text": [
      "Epoch 1/10\n",
      "609/609 [==============================] - 8s 14ms/step - loss: 0.5251 - acc: 0.7385 - val_loss: 0.4647 - val_acc: 0.7819\n",
      "Epoch 2/10\n",
      "609/609 [==============================] - 8s 13ms/step - loss: 0.3263 - acc: 0.8711 - val_loss: 0.4852 - val_acc: 0.7806\n",
      "Epoch 3/10\n",
      "609/609 [==============================] - 8s 12ms/step - loss: 0.2031 - acc: 0.9256 - val_loss: 0.6430 - val_acc: 0.7753\n",
      "Epoch 4/10\n",
      "609/609 [==============================] - 8s 14ms/step - loss: 0.1238 - acc: 0.9566 - val_loss: 0.7375 - val_acc: 0.7700\n",
      "Epoch 5/10\n",
      "609/609 [==============================] - 8s 12ms/step - loss: 0.0897 - acc: 0.9722 - val_loss: 0.7805 - val_acc: 0.7516\n",
      "Epoch 6/10\n",
      "609/609 [==============================] - 8s 13ms/step - loss: 0.0768 - acc: 0.9744 - val_loss: 0.7622 - val_acc: 0.7451\n",
      "Epoch 7/10\n",
      "609/609 [==============================] - 8s 12ms/step - loss: 0.0698 - acc: 0.9734 - val_loss: 0.8874 - val_acc: 0.7661\n",
      "Epoch 8/10\n",
      "609/609 [==============================] - 8s 13ms/step - loss: 0.0579 - acc: 0.9762 - val_loss: 0.9614 - val_acc: 0.7569\n",
      "Epoch 9/10\n",
      "609/609 [==============================] - 8s 12ms/step - loss: 0.0466 - acc: 0.9782 - val_loss: 1.0422 - val_acc: 0.7582\n",
      "Epoch 10/10\n",
      "609/609 [==============================] - 8s 13ms/step - loss: 0.0429 - acc: 0.9793 - val_loss: 1.0410 - val_acc: 0.7556\n",
      "Training Accuracy: 0.9839\n",
      "Testing Accuracy:  0.7405\n"
     ]
    },
    {
     "data": {
      "image/png": "[encoded data removed]",
      "text/plain": [
       "<Figure size 864x360 with 2 Axes>"
      ]
     },
     "metadata": {},
     "output_type": "display_data"
    }
   ],
   "source": [
    "third_history = model2.fit(X_train, train[\"target\"].to_numpy(),\n",
    "                    epochs=10,\n",
    "                    verbose=True,\n",
    "                    validation_data=(X_val, val[\"target\"].to_numpy()),\n",
    "                    batch_size=10)\n",
    "loss, accuracy = model2.evaluate(X_train, train[\"target\"].to_numpy(), verbose=False)\n",
    "print(\"Training Accuracy: {:.4f}\".format(accuracy))\n",
    "loss, accuracy = model2.evaluate(X_test, test[\"target\"].to_numpy(), verbose=False)\n",
    "print(\"Testing Accuracy:  {:.4f}\".format(accuracy))\n",
    "plot_history(third_history)\n"
   ]
  },
  {
   "cell_type": "markdown",
   "metadata": {},
   "source": [
    "## Cuarto Modelo"
   ]
  },
  {
   "cell_type": "code",
   "execution_count": 76,
   "metadata": {},
   "outputs": [],
   "source": [
    "def create_model(num_filters, kernel_size, vocab_size, embedding_dim, maxlen):\n",
    "    model3 = Sequential()\n",
    "    model3.add(layers.Embedding(vocab_size, embedding_dim, input_length=maxlen))\n",
    "    model3.add(layers.Conv1D(num_filters, kernel_size, activation='relu'))\n",
    "    model3.add(layers.GlobalMaxPooling1D())\n",
    "    model3.add(layers.Dense(10, activation='relu'))\n",
    "    model3.add(layers.Dense(1, activation='sigmoid'))\n",
    "    model3.compile(optimizer='adam',\n",
    "                  loss='binary_crossentropy',\n",
    "                  metrics=['accuracy'])\n",
    "    return model3\n",
    "\n",
    "param_grid = dict(num_filters=[32, 64, 128],\n",
    "                  kernel_size=[3, 5, 7],\n",
    "                  vocab_size=[5000], \n",
    "                  embedding_dim=[50],\n",
    "                  maxlen=[100])"
   ]
  },
  {
   "cell_type": "code",
   "execution_count": 77,
   "metadata": {},
   "outputs": [],
   "source": [
    "# # Main settings\n",
    "# epochs = 20\n",
    "# embedding_dim = 50\n",
    "# maxlen = 100\n",
    "# output_file = 'output.txt'\n",
    "\n",
    "# source = \"twitter\"\n",
    "# # Run grid search for each source (yelp, amazon, imdb)\n",
    "# print('Running grid search for data set :', \"twitter\")\n",
    "# sentences = train_limpio[\"text\"].values.astype('U')\n",
    "# # Train-test split\n",
    "# train = pd.concat([train_limpio_true.iloc[:3000], train_limpio_false.iloc[:4000]]).sample(frac=1).reset_index(drop=True)\n",
    "# test = pd.concat([train_limpio_true.iloc[3000:], train_limpio_false.iloc[4000:]]).sample(frac=1).reset_index(drop=True)\n",
    "\n",
    "# # Tokenize words\n",
    "# tokenizer = Tokenizer(num_words=5000)\n",
    "# tokenizer.fit_on_texts(sentences)\n",
    "# X_train = tokenizer.texts_to_sequences(train[\"text\"].values.astype('U'))\n",
    "# X_test = tokenizer.texts_to_sequences(test[\"text\"].values.astype('U'))\n",
    "\n",
    "# # Adding 1 because of reserved 0 index\n",
    "# vocab_size = len(tokenizer.word_index) + 1\n",
    "\n",
    "# # Pad sequences with zeros\n",
    "# X_train = pad_sequences(X_train, padding='post', maxlen=maxlen)\n",
    "# X_test = pad_sequences(X_test, padding='post', maxlen=maxlen)\n",
    "\n",
    "# # Parameter grid for grid search\n",
    "# param_grid = dict(num_filters=[32, 64, 128],\n",
    "#                       kernel_size=[3, 5, 7],\n",
    "#                       vocab_size=[vocab_size],\n",
    "#                       embedding_dim=[embedding_dim],\n",
    "#                       maxlen=[maxlen])\n",
    "# model3 = KerasClassifier(build_fn=create_model,\n",
    "#                         epochs=epochs, batch_size=10,\n",
    "#                             verbose=False)\n",
    "# grid = RandomizedSearchCV(estimator=model3, param_distributions=param_grid,\n",
    "#                               cv=10, verbose=1, n_iter=10)\n",
    "# grid_result = grid.fit(X_train, train[\"target\"])\n",
    "\n",
    "# # Evaluate testing set\n",
    "# test_accuracy = grid.score(X_test, test[\"target\"])\n",
    "\n",
    "# # Save and evaluate results\n",
    "# #     prompt = input(f'finished {source}; write to file and proceed? [y/n]')\n",
    "# #     if prompt.lower() not in {'y', 'true', 'yes'}:\n",
    "# #         break\n",
    "# #     with open(output_file, 'w+') as f:\n",
    "# s = ('Running {} data set\\nBest Accuracy : '\n",
    "#              '{:.4f}\\n{}\\nTest Accuracy : {:.4f}\\n\\n')\n",
    "# output_string = s.format(\n",
    "#         source,\n",
    "#         grid_result.best_score_,\n",
    "#         grid_result.best_params_,\n",
    "#         test_accuracy)\n",
    "# print(output_string)\n",
    "# #         f.write(output_string)"
   ]
  },
  {
   "cell_type": "markdown",
   "metadata": {},
   "source": [
    "# Modelo con tf idf"
   ]
  },
  {
   "cell_type": "code",
   "execution_count": 78,
   "metadata": {},
   "outputs": [],
   "source": [
    "train_limpio_tf_idf = pd.read_csv(\"train_limpio_con_Tf-Idf.csv\",encoding = \"ISO-8859-1\").sample(frac=1).reset_index(drop=True)\n",
    "test_limpio_tf_idf = pd.read_csv(\"test_limpio_con_Tf-Idf.csv\",encoding = \"ISO-8859-1\").sample(frac=1).reset_index(drop=True)"
   ]
  },
  {
   "cell_type": "code",
   "execution_count": 79,
   "metadata": {},
   "outputs": [],
   "source": [
    "train_limpio_tf_idf = train_limpio_tf_idf.drop(columns=[\"id\"])"
   ]
  },
  {
   "cell_type": "code",
   "execution_count": 80,
   "metadata": {},
   "outputs": [],
   "source": [
    "train_limpio_tf_idf_true = train_limpio_tf_idf.loc[train_limpio_tf_idf[\"target\"] == 1]\n",
    "train_limpio_tf_idf_false = train_limpio_tf_idf.loc[train_limpio_tf_idf[\"target\"] == 0]"
   ]
  },
  {
   "cell_type": "code",
   "execution_count": 81,
   "metadata": {},
   "outputs": [],
   "source": [
    "train_tf_idf = pd.concat([train_limpio_tf_idf_true.iloc[:2616], train_limpio_tf_idf_false.iloc[:3473]])\n",
    "val_tf_idf = pd.concat([train_limpio_tf_idf_true.iloc[2616:3000], train_limpio_tf_idf_false.iloc[3473:3850]])\n",
    "test_tf_idf = pd.concat([train_limpio_tf_idf_true.iloc[3000:], train_limpio_tf_idf_false.iloc[3850:]])"
   ]
  },
  {
   "cell_type": "code",
   "execution_count": 82,
   "metadata": {},
   "outputs": [],
   "source": [
    "x_train_tf_idf = train_tf_idf.iloc[:, :2392]\n",
    "x_val_tf_idf = val_tf_idf.iloc[:, :2392]\n",
    "x_test_tf_idf = test_tf_idf.iloc[:, :2392]"
   ]
  },
  {
   "cell_type": "code",
   "execution_count": 83,
   "metadata": {},
   "outputs": [
    {
     "name": "stdout",
     "output_type": "stream",
     "text": [
      "Model: \"sequential_8\"\n",
      "_________________________________________________________________\n",
      "Layer (type)                 Output Shape              Param #   \n",
      "=================================================================\n",
      "dense_16 (Dense)             (None, 10)                23930     \n",
      "_________________________________________________________________\n",
      "dense_17 (Dense)             (None, 1)                 11        \n",
      "=================================================================\n",
      "Total params: 23,941\n",
      "Trainable params: 23,941\n",
      "Non-trainable params: 0\n",
      "_________________________________________________________________\n"
     ]
    }
   ],
   "source": [
    "input_dim_tf_idf = x_train_tf_idf.shape[1]  # Number of features\n",
    "\n",
    "modelTfIdf = Sequential()\n",
    "modelTfIdf.add(layers.Dense(10, input_dim=input_dim_tf_idf, activation='relu'))\n",
    "modelTfIdf.add(layers.Dense(1, activation='sigmoid'))\n",
    "\n",
    "modelTfIdf.compile(loss='binary_crossentropy', \n",
    "              optimizer='adam', \n",
    "              metrics=['acc'])\n",
    "modelTfIdf.summary()"
   ]
  },
  {
   "cell_type": "code",
   "execution_count": 84,
   "metadata": {
    "scrolled": true
   },
   "outputs": [
    {
     "name": "stdout",
     "output_type": "stream",
     "text": [
      "Epoch 1/22\n",
      "609/609 [==============================] - 1s 1ms/step - loss: 0.6070 - acc: 0.7039 - val_loss: 0.5437 - val_acc: 0.7424\n",
      "Epoch 2/22\n",
      "609/609 [==============================] - 1s 1ms/step - loss: 0.4333 - acc: 0.8312 - val_loss: 0.4978 - val_acc: 0.7556\n",
      "Epoch 3/22\n",
      "609/609 [==============================] - 1s 1ms/step - loss: 0.3639 - acc: 0.8520 - val_loss: 0.4785 - val_acc: 0.7661\n",
      "Epoch 4/22\n",
      "609/609 [==============================] - 1s 1ms/step - loss: 0.3291 - acc: 0.8657 - val_loss: 0.5068 - val_acc: 0.7687\n",
      "Epoch 5/22\n",
      "609/609 [==============================] - 1s 1ms/step - loss: 0.3048 - acc: 0.8772 - val_loss: 0.5257 - val_acc: 0.7700\n",
      "Epoch 6/22\n",
      "609/609 [==============================] - 1s 1ms/step - loss: 0.2869 - acc: 0.8836 - val_loss: 0.5376 - val_acc: 0.7674\n",
      "Epoch 7/22\n",
      "609/609 [==============================] - 1s 1ms/step - loss: 0.2718 - acc: 0.8898 - val_loss: 0.5523 - val_acc: 0.7674\n",
      "Epoch 8/22\n",
      "609/609 [==============================] - 1s 1ms/step - loss: 0.2584 - acc: 0.8975 - val_loss: 0.5915 - val_acc: 0.7661\n",
      "Epoch 9/22\n",
      "609/609 [==============================] - 1s 1ms/step - loss: 0.2487 - acc: 0.8970 - val_loss: 0.5994 - val_acc: 0.7674\n",
      "Epoch 10/22\n",
      "609/609 [==============================] - 1s 1ms/step - loss: 0.2388 - acc: 0.9018 - val_loss: 0.6221 - val_acc: 0.7714\n",
      "Epoch 11/22\n",
      "609/609 [==============================] - 1s 1ms/step - loss: 0.2304 - acc: 0.9041 - val_loss: 0.6444 - val_acc: 0.7635\n",
      "Epoch 12/22\n",
      "609/609 [==============================] - 1s 1ms/step - loss: 0.2223 - acc: 0.9067 - val_loss: 0.6665 - val_acc: 0.7608\n",
      "Epoch 13/22\n",
      "609/609 [==============================] - 1s 985us/step - loss: 0.2155 - acc: 0.9116 - val_loss: 0.6995 - val_acc: 0.7543\n",
      "Epoch 14/22\n",
      "609/609 [==============================] - 1s 1ms/step - loss: 0.2084 - acc: 0.9138 - val_loss: 0.7236 - val_acc: 0.7556\n",
      "Epoch 15/22\n",
      "609/609 [==============================] - 1s 1ms/step - loss: 0.2021 - acc: 0.9184 - val_loss: 0.7605 - val_acc: 0.7595\n",
      "Epoch 16/22\n",
      "609/609 [==============================] - 1s 966us/step - loss: 0.1967 - acc: 0.9207 - val_loss: 0.7843 - val_acc: 0.7530\n",
      "Epoch 17/22\n",
      "609/609 [==============================] - 1s 1ms/step - loss: 0.1914 - acc: 0.9218 - val_loss: 0.8144 - val_acc: 0.7530\n",
      "Epoch 18/22\n",
      "609/609 [==============================] - 1s 1ms/step - loss: 0.1862 - acc: 0.9243 - val_loss: 0.8480 - val_acc: 0.7556\n",
      "Epoch 19/22\n",
      "609/609 [==============================] - 1s 1ms/step - loss: 0.1811 - acc: 0.9251 - val_loss: 0.8772 - val_acc: 0.7595\n",
      "Epoch 20/22\n",
      "609/609 [==============================] - 1s 1ms/step - loss: 0.1757 - acc: 0.9305 - val_loss: 0.9111 - val_acc: 0.7543\n",
      "Epoch 21/22\n",
      "609/609 [==============================] - 1s 1ms/step - loss: 0.1720 - acc: 0.9295 - val_loss: 0.9392 - val_acc: 0.7582\n",
      "Epoch 22/22\n",
      "609/609 [==============================] - 1s 987us/step - loss: 0.1671 - acc: 0.9360 - val_loss: 0.9832 - val_acc: 0.7451\n"
     ]
    }
   ],
   "source": [
    "first_history_tf_idf = modelTfIdf.fit(x_train_tf_idf.values, train_tf_idf[\"target\"].to_numpy(),\n",
    "                    epochs=22,\n",
    "                    verbose=True,\n",
    "                    validation_data=(x_val_tf_idf.values, val_tf_idf[\"target\"].to_numpy()),\n",
    "                    batch_size=10)"
   ]
  },
  {
   "cell_type": "code",
   "execution_count": 85,
   "metadata": {},
   "outputs": [
    {
     "name": "stdout",
     "output_type": "stream",
     "text": [
      "Testing Accuracy:  0.7798\n"
     ]
    }
   ],
   "source": [
    "loss, accuracy = modelTfIdf.evaluate(x_test_tf_idf.values, test_tf_idf[\"target\"].to_numpy(), verbose=False)\n",
    "print(\"Testing Accuracy:  {:.4f}\".format(accuracy))"
   ]
  },
  {
   "cell_type": "code",
   "execution_count": 86,
   "metadata": {},
   "outputs": [
    {
     "data": {
      "image/png": "[encoded data removed]",
      "text/plain": [
       "<Figure size 864x360 with 2 Axes>"
      ]
     },
     "metadata": {},
     "output_type": "display_data"
    }
   ],
   "source": [
    "plot_history(first_history_tf_idf)"
   ]
  },
  {
   "cell_type": "markdown",
   "metadata": {},
   "source": [
    "## Segundo modelo, con conv1D y maxPooling (anda muy mal)"
   ]
  },
  {
   "cell_type": "code",
   "execution_count": 87,
   "metadata": {},
   "outputs": [],
   "source": [
    "# embedding_dim = 100\n",
    "# model2_tf_idf = Sequential()\n",
    "# model2_tf_idf.add(layers.Embedding(2400, embedding_dim, input_length=2392))\n",
    "# model2_tf_idf.add(layers.Conv1D(128, 5, activation='relu'))\n",
    "# model2_tf_idf.add(layers.GlobalMaxPooling1D())\n",
    "# model2_tf_idf.add(layers.Dense(10, activation='relu'))\n",
    "# model2_tf_idf.add(layers.Dense(1, activation='sigmoid'))\n",
    "# model2_tf_idf.compile(optimizer='adam',\n",
    "#               loss='binary_crossentropy',\n",
    "#               metrics=['acc'])\n",
    "# model2_tf_idf.summary()"
   ]
  },
  {
   "cell_type": "code",
   "execution_count": 88,
   "metadata": {},
   "outputs": [],
   "source": [
    "# second_history_tf_idf = model2_tf_idf.fit(x_train_tf_idf.values, train_tf_idf[\"target\"].to_numpy(),\n",
    "#                     epochs=3,\n",
    "#                     verbose=True,\n",
    "#                     validation_data=(x_val_tf_idf.values, val_tf_idf[\"target\"].to_numpy()),\n",
    "#                     batch_size=10)"
   ]
  },
  {
   "cell_type": "code",
   "execution_count": 89,
   "metadata": {},
   "outputs": [],
   "source": [
    "# loss, accuracy = model2_tf_idf.evaluate(x_test_tf_idf.values, test_tf_idf[\"target\"].to_numpy(), verbose=False)\n",
    "# print(\"Testing Accuracy:  {:.4f}\".format(accuracy))"
   ]
  },
  {
   "cell_type": "markdown",
   "metadata": {},
   "source": [
    "## Modelo con más features, usando set de datos comun"
   ]
  },
  {
   "cell_type": "code",
   "execution_count": 144,
   "metadata": {},
   "outputs": [
    {
     "data": {
      "text/html": [
       "<div>\n",
       "<style scoped>\n",
       "    .dataframe tbody tr th:only-of-type {\n",
       "        vertical-align: middle;\n",
       "    }\n",
       "\n",
       "    .dataframe tbody tr th {\n",
       "        vertical-align: top;\n",
       "    }\n",
       "\n",
       "    .dataframe thead th {\n",
       "        text-align: right;\n",
       "    }\n",
       "</style>\n",
       "<table border=\"1\" class=\"dataframe\">\n",
       "  <thead>\n",
       "    <tr style=\"text-align: right;\">\n",
       "      <th></th>\n",
       "      <th>aa</th>\n",
       "      <th>ab</th>\n",
       "      <th>aba</th>\n",
       "      <th>abandon</th>\n",
       "      <th>abbott</th>\n",
       "      <th>abbswinston</th>\n",
       "      <th>abc</th>\n",
       "      <th>abcnew</th>\n",
       "      <th>abe</th>\n",
       "      <th>abil</th>\n",
       "      <th>...</th>\n",
       "      <th>www\\.twitch\\.tv\\/PKSparkxx-location</th>\n",
       "      <th>www\\.youtube\\.com\\?Malkavius2-location</th>\n",
       "      <th>xiumin\\'s\\ nonexistent\\ solos-location</th>\n",
       "      <th>y\\(our\\)\\ boyfriends\\ legs\\ -location</th>\n",
       "      <th>y\\/e\\/l-location</th>\n",
       "      <th>yorkshire\\\\n-location</th>\n",
       "      <th>youtube\\.com\\/channel\\/UCHWTLC9B4ZjUGh7yDlb55Iw-location</th>\n",
       "      <th>zboyer\\@washingtontimes\\.com-location</th>\n",
       "      <th>longitud_tweet</th>\n",
       "      <th>letras_seguidas</th>\n",
       "    </tr>\n",
       "  </thead>\n",
       "  <tbody>\n",
       "    <tr>\n",
       "      <th>0</th>\n",
       "      <td>0</td>\n",
       "      <td>0</td>\n",
       "      <td>0</td>\n",
       "      <td>0</td>\n",
       "      <td>0</td>\n",
       "      <td>0</td>\n",
       "      <td>0</td>\n",
       "      <td>0</td>\n",
       "      <td>0</td>\n",
       "      <td>0</td>\n",
       "      <td>...</td>\n",
       "      <td>False</td>\n",
       "      <td>False</td>\n",
       "      <td>False</td>\n",
       "      <td>False</td>\n",
       "      <td>False</td>\n",
       "      <td>False</td>\n",
       "      <td>False</td>\n",
       "      <td>False</td>\n",
       "      <td>40</td>\n",
       "      <td>2</td>\n",
       "    </tr>\n",
       "  </tbody>\n",
       "</table>\n",
       "<p>1 rows × 7847 columns</p>\n",
       "</div>"
      ],
      "text/plain": [
       "   aa  ab  aba  abandon  abbott  abbswinston  abc  abcnew  abe  abil  ...  \\\n",
       "0   0   0    0        0       0            0    0       0    0     0  ...   \n",
       "\n",
       "   www\\.twitch\\.tv\\/PKSparkxx-location  \\\n",
       "0                                False   \n",
       "\n",
       "   www\\.youtube\\.com\\?Malkavius2-location  \\\n",
       "0                                   False   \n",
       "\n",
       "   xiumin\\'s\\ nonexistent\\ solos-location  \\\n",
       "0                                   False   \n",
       "\n",
       "   y\\(our\\)\\ boyfriends\\ legs\\ -location  y\\/e\\/l-location  \\\n",
       "0                                  False             False   \n",
       "\n",
       "   yorkshire\\\\n-location  \\\n",
       "0                  False   \n",
       "\n",
       "   youtube\\.com\\/channel\\/UCHWTLC9B4ZjUGh7yDlb55Iw-location  \\\n",
       "0                                              False          \n",
       "\n",
       "   zboyer\\@washingtontimes\\.com-location  longitud_tweet  letras_seguidas  \n",
       "0                                  False              40                2  \n",
       "\n",
       "[1 rows x 7847 columns]"
      ]
     },
     "execution_count": 144,
     "metadata": {},
     "output_type": "execute_result"
    }
   ],
   "source": [
    "test_limpio = pd.read_csv(\"test_limpio_con_BOW_de_5000_y_Stemming.csv\",encoding = \"ISO-8859-1\")\n",
    "test_limpio = test_limpio.drop(columns=[\"sentimiento\", \"objetividad\"])\n",
    "test_limpio.head(1)"
   ]
  },
  {
   "cell_type": "code",
   "execution_count": 145,
   "metadata": {
    "scrolled": true
   },
   "outputs": [
    {
     "data": {
      "text/html": [
       "<div>\n",
       "<style scoped>\n",
       "    .dataframe tbody tr th:only-of-type {\n",
       "        vertical-align: middle;\n",
       "    }\n",
       "\n",
       "    .dataframe tbody tr th {\n",
       "        vertical-align: top;\n",
       "    }\n",
       "\n",
       "    .dataframe thead th {\n",
       "        text-align: right;\n",
       "    }\n",
       "</style>\n",
       "<table border=\"1\" class=\"dataframe\">\n",
       "  <thead>\n",
       "    <tr style=\"text-align: right;\">\n",
       "      <th></th>\n",
       "      <th>aa</th>\n",
       "      <th>ab</th>\n",
       "      <th>aba</th>\n",
       "      <th>abandon</th>\n",
       "      <th>abbott</th>\n",
       "      <th>abbswinston</th>\n",
       "      <th>abc</th>\n",
       "      <th>abcnew</th>\n",
       "      <th>abe</th>\n",
       "      <th>abil</th>\n",
       "      <th>...</th>\n",
       "      <th>www\\.twitch\\.tv\\/PKSparkxx-location</th>\n",
       "      <th>www\\.youtube\\.com\\?Malkavius2-location</th>\n",
       "      <th>xiumin\\'s\\ nonexistent\\ solos-location</th>\n",
       "      <th>y\\(our\\)\\ boyfriends\\ legs\\ -location</th>\n",
       "      <th>y\\/e\\/l-location</th>\n",
       "      <th>yorkshire\\\\n-location</th>\n",
       "      <th>youtube\\.com\\/channel\\/UCHWTLC9B4ZjUGh7yDlb55Iw-location</th>\n",
       "      <th>zboyer\\@washingtontimes\\.com-location</th>\n",
       "      <th>longitud_tweet</th>\n",
       "      <th>letras_seguidas</th>\n",
       "    </tr>\n",
       "  </thead>\n",
       "  <tbody>\n",
       "    <tr>\n",
       "      <th>0</th>\n",
       "      <td>0</td>\n",
       "      <td>0</td>\n",
       "      <td>0</td>\n",
       "      <td>0</td>\n",
       "      <td>0</td>\n",
       "      <td>0</td>\n",
       "      <td>0</td>\n",
       "      <td>0</td>\n",
       "      <td>0</td>\n",
       "      <td>0</td>\n",
       "      <td>...</td>\n",
       "      <td>False</td>\n",
       "      <td>False</td>\n",
       "      <td>False</td>\n",
       "      <td>False</td>\n",
       "      <td>False</td>\n",
       "      <td>False</td>\n",
       "      <td>False</td>\n",
       "      <td>False</td>\n",
       "      <td>70</td>\n",
       "      <td>2</td>\n",
       "    </tr>\n",
       "  </tbody>\n",
       "</table>\n",
       "<p>1 rows × 7847 columns</p>\n",
       "</div>"
      ],
      "text/plain": [
       "   aa  ab  aba  abandon  abbott  abbswinston  abc  abcnew  abe  abil  ...  \\\n",
       "0   0   0    0        0       0            0    0       0    0     0  ...   \n",
       "\n",
       "   www\\.twitch\\.tv\\/PKSparkxx-location  \\\n",
       "0                                False   \n",
       "\n",
       "   www\\.youtube\\.com\\?Malkavius2-location  \\\n",
       "0                                   False   \n",
       "\n",
       "   xiumin\\'s\\ nonexistent\\ solos-location  \\\n",
       "0                                   False   \n",
       "\n",
       "   y\\(our\\)\\ boyfriends\\ legs\\ -location  y\\/e\\/l-location  \\\n",
       "0                                  False             False   \n",
       "\n",
       "   yorkshire\\\\n-location  \\\n",
       "0                  False   \n",
       "\n",
       "   youtube\\.com\\/channel\\/UCHWTLC9B4ZjUGh7yDlb55Iw-location  \\\n",
       "0                                              False          \n",
       "\n",
       "   zboyer\\@washingtontimes\\.com-location  longitud_tweet  letras_seguidas  \n",
       "0                                  False              70                2  \n",
       "\n",
       "[1 rows x 7847 columns]"
      ]
     },
     "execution_count": 145,
     "metadata": {},
     "output_type": "execute_result"
    }
   ],
   "source": [
    "train_limpio = pd.read_csv(\"train_limpio_con_BOW_de_5000_y_Stemming.csv\",encoding = \"ISO-8859-1\")\n",
    "train_limpio = train_limpio.drop(columns=[\"sentimiento\", \"objetividad\", \"id\"])\n",
    "train_limpio.head(1)"
   ]
  },
  {
   "cell_type": "code",
   "execution_count": 146,
   "metadata": {},
   "outputs": [],
   "source": [
    "train_limpio_more_features_true = train_limpio.loc[train_limpio[\"target\"] == 1].sample(frac=1).reset_index(drop=True)\n",
    "train_limpio_more_features_false = train_limpio.loc[train_limpio[\"target\"] == 0].sample(frac=1).reset_index(drop=True)"
   ]
  },
  {
   "cell_type": "code",
   "execution_count": 147,
   "metadata": {},
   "outputs": [],
   "source": [
    "train_more_feature = pd.concat([train_limpio_more_features_true.iloc[:2616], train_limpio_more_features_false.iloc[:3473]])\n",
    "val_more_feature = pd.concat([train_limpio_more_features_true.iloc[2616:3000], train_limpio_more_features_false.iloc[3473:3850]])\n",
    "test_more_feature = pd.concat([train_limpio_more_features_true.iloc[3000:], train_limpio_more_features_false.iloc[3850:]])\n",
    "\n",
    "train_more_feature_target = train_more_feature.pop(\"target\")\n",
    "val_more_feature_target = val_more_feature.pop(\"target\")\n",
    "test_more_feature_target = test_more_feature.pop(\"target\")"
   ]
  },
  {
   "cell_type": "code",
   "execution_count": 148,
   "metadata": {},
   "outputs": [],
   "source": [
    "actual_test_ids = test_limpio.pop(\"id\")\n",
    "actual_test_limpio = pd.DataFrame(test_limpio.values)"
   ]
  },
  {
   "cell_type": "code",
   "execution_count": 95,
   "metadata": {},
   "outputs": [
    {
     "name": "stdout",
     "output_type": "stream",
     "text": [
      "Model: \"sequential_9\"\n",
      "_________________________________________________________________\n",
      "Layer (type)                 Output Shape              Param #   \n",
      "=================================================================\n",
      "dense_18 (Dense)             (None, 10)                78470     \n",
      "_________________________________________________________________\n",
      "dense_19 (Dense)             (None, 1)                 11        \n",
      "=================================================================\n",
      "Total params: 78,481\n",
      "Trainable params: 78,481\n",
      "Non-trainable params: 0\n",
      "_________________________________________________________________\n"
     ]
    }
   ],
   "source": [
    "input_dim = train_more_feature.shape[1]  # Number of features\n",
    "\n",
    "modelFeatures = Sequential()\n",
    "modelFeatures.add(layers.Dense(10, input_dim=input_dim, activation='relu'))\n",
    "modelFeatures.add(layers.Dense(1, activation='sigmoid'))\n",
    "\n",
    "modelFeatures.compile(loss='binary_crossentropy', \n",
    "              optimizer='adam', \n",
    "              metrics=['acc'])\n",
    "modelFeatures.summary()"
   ]
  },
  {
   "cell_type": "code",
   "execution_count": 96,
   "metadata": {
    "scrolled": false
   },
   "outputs": [
    {
     "name": "stdout",
     "output_type": "stream",
     "text": [
      "Epoch 1/10\n",
      "609/609 [==============================] - 1s 1ms/step - loss: 0.6355 - acc: 0.6408 - val_loss: 0.6130 - val_acc: 0.7438\n",
      "Epoch 2/10\n",
      "609/609 [==============================] - 1s 1ms/step - loss: 0.5349 - acc: 0.7995 - val_loss: 0.5766 - val_acc: 0.7464\n",
      "Epoch 3/10\n",
      "609/609 [==============================] - 1s 1ms/step - loss: 0.4605 - acc: 0.8464 - val_loss: 0.5287 - val_acc: 0.7924\n",
      "Epoch 4/10\n",
      "609/609 [==============================] - 1s 1ms/step - loss: 0.4033 - acc: 0.8676 - val_loss: 0.4954 - val_acc: 0.7989\n",
      "Epoch 5/10\n",
      "609/609 [==============================] - 1s 1ms/step - loss: 0.3553 - acc: 0.8850 - val_loss: 0.4937 - val_acc: 0.7924\n",
      "Epoch 6/10\n",
      "609/609 [==============================] - 1s 1ms/step - loss: 0.3159 - acc: 0.8982 - val_loss: 0.5539 - val_acc: 0.7884\n",
      "Epoch 7/10\n",
      "609/609 [==============================] - 1s 1ms/step - loss: 0.2827 - acc: 0.9115 - val_loss: 0.5671 - val_acc: 0.7858\n",
      "Epoch 8/10\n",
      "609/609 [==============================] - 1s 1ms/step - loss: 0.2580 - acc: 0.9200 - val_loss: 0.5030 - val_acc: 0.7884\n",
      "Epoch 9/10\n",
      "609/609 [==============================] - 1s 1ms/step - loss: 0.2334 - acc: 0.9264 - val_loss: 0.5356 - val_acc: 0.7924\n",
      "Epoch 10/10\n",
      "609/609 [==============================] - 1s 2ms/step - loss: 0.2126 - acc: 0.9338 - val_loss: 0.6044 - val_acc: 0.7806\n",
      "Training Accuracy: 0.9417\n",
      "Testing Accuracy:  0.7942\n"
     ]
    },
    {
     "data": {
      "image/png": "[encoded data removed]",
      "text/plain": [
       "<Figure size 864x360 with 2 Axes>"
      ]
     },
     "metadata": {},
     "output_type": "display_data"
    }
   ],
   "source": [
    "features_history = modelFeatures.fit(train_more_feature.to_numpy(dtype=\"float32\"), train_more_feature_target.to_numpy(dtype=\"float32\"),\n",
    "                    epochs=10,\n",
    "                    verbose=True,\n",
    "                    validation_data=(val_more_feature.to_numpy(dtype=\"float32\"), val_more_feature_target.to_numpy(dtype=\"float32\")),\n",
    "                    batch_size=10)\n",
    "loss, accuracy = modelFeatures.evaluate(train_more_feature.to_numpy(dtype=\"float32\"), train_more_feature_target.to_numpy(dtype=\"float32\"), verbose=False)\n",
    "print(\"Training Accuracy: {:.4f}\".format(accuracy))\n",
    "loss, accuracy = modelFeatures.evaluate(test_more_feature.to_numpy(dtype=\"float32\"), test_more_feature_target.to_numpy(dtype=\"float32\"), verbose=False)\n",
    "print(\"Testing Accuracy:  {:.4f}\".format(accuracy))\n",
    "plot_history(features_history)"
   ]
  },
  {
   "cell_type": "code",
   "execution_count": 97,
   "metadata": {},
   "outputs": [],
   "source": [
    "moreFeaturesPredictions = list(map(lambda x: x[0], modelFeatures.predict_classes(actual_test_limpio.to_numpy(dtype=\"float32\"))))"
   ]
  },
  {
   "cell_type": "code",
   "execution_count": 98,
   "metadata": {},
   "outputs": [
    {
     "data": {
      "text/html": [
       "<div>\n",
       "<style scoped>\n",
       "    .dataframe tbody tr th:only-of-type {\n",
       "        vertical-align: middle;\n",
       "    }\n",
       "\n",
       "    .dataframe tbody tr th {\n",
       "        vertical-align: top;\n",
       "    }\n",
       "\n",
       "    .dataframe thead th {\n",
       "        text-align: right;\n",
       "    }\n",
       "</style>\n",
       "<table border=\"1\" class=\"dataframe\">\n",
       "  <thead>\n",
       "    <tr style=\"text-align: right;\">\n",
       "      <th></th>\n",
       "      <th>id</th>\n",
       "      <th>target</th>\n",
       "    </tr>\n",
       "  </thead>\n",
       "  <tbody>\n",
       "    <tr>\n",
       "      <th>0</th>\n",
       "      <td>0</td>\n",
       "      <td>1</td>\n",
       "    </tr>\n",
       "    <tr>\n",
       "      <th>1</th>\n",
       "      <td>2</td>\n",
       "      <td>0</td>\n",
       "    </tr>\n",
       "    <tr>\n",
       "      <th>2</th>\n",
       "      <td>3</td>\n",
       "      <td>1</td>\n",
       "    </tr>\n",
       "    <tr>\n",
       "      <th>3</th>\n",
       "      <td>9</td>\n",
       "      <td>1</td>\n",
       "    </tr>\n",
       "    <tr>\n",
       "      <th>4</th>\n",
       "      <td>11</td>\n",
       "      <td>1</td>\n",
       "    </tr>\n",
       "    <tr>\n",
       "      <th>5</th>\n",
       "      <td>12</td>\n",
       "      <td>1</td>\n",
       "    </tr>\n",
       "    <tr>\n",
       "      <th>6</th>\n",
       "      <td>21</td>\n",
       "      <td>0</td>\n",
       "    </tr>\n",
       "    <tr>\n",
       "      <th>7</th>\n",
       "      <td>22</td>\n",
       "      <td>0</td>\n",
       "    </tr>\n",
       "    <tr>\n",
       "      <th>8</th>\n",
       "      <td>27</td>\n",
       "      <td>0</td>\n",
       "    </tr>\n",
       "    <tr>\n",
       "      <th>9</th>\n",
       "      <td>29</td>\n",
       "      <td>0</td>\n",
       "    </tr>\n",
       "  </tbody>\n",
       "</table>\n",
       "</div>"
      ],
      "text/plain": [
       "   id  target\n",
       "0   0       1\n",
       "1   2       0\n",
       "2   3       1\n",
       "3   9       1\n",
       "4  11       1\n",
       "5  12       1\n",
       "6  21       0\n",
       "7  22       0\n",
       "8  27       0\n",
       "9  29       0"
      ]
     },
     "execution_count": 98,
     "metadata": {},
     "output_type": "execute_result"
    }
   ],
   "source": [
    "moreFeaturesPredictionsDF = pd.DataFrame(data={'id': actual_test_ids, 'target': moreFeaturesPredictions})\n",
    "moreFeaturesPredictionsDF.head(10)"
   ]
  },
  {
   "cell_type": "code",
   "execution_count": 99,
   "metadata": {},
   "outputs": [],
   "source": [
    "moreFeaturesPredictionsDF.to_csv('NN_predictions_more_features.csv', index=False)"
   ]
  },
  {
   "cell_type": "code",
   "execution_count": 120,
   "metadata": {},
   "outputs": [
    {
     "data": {
      "text/plain": [
       "(6089, 32, 246)"
      ]
     },
     "execution_count": 120,
     "metadata": {},
     "output_type": "execute_result"
    }
   ],
   "source": [
    "train_more_feature_reshaped.shape"
   ]
  },
  {
   "cell_type": "markdown",
   "metadata": {},
   "source": [
    "## Mismos features que arriba pero con modelo más complejo"
   ]
  },
  {
   "cell_type": "code",
   "execution_count": 149,
   "metadata": {},
   "outputs": [
    {
     "ename": "ValueError",
     "evalue": "cannot reshape array of size 47932608 into shape (10,608,32,246)",
     "output_type": "error",
     "traceback": [
      "\u001b[0;31m---------------------------------------------------------------------------\u001b[0m",
      "\u001b[0;31mValueError\u001b[0m                                Traceback (most recent call last)",
      "\u001b[0;32m<ipython-input-149-7581a36d8823>\u001b[0m in \u001b[0;36m<module>\u001b[0;34m\u001b[0m\n\u001b[1;32m     12\u001b[0m \u001b[0;34m\u001b[0m\u001b[0m\n\u001b[1;32m     13\u001b[0m \u001b[0;34m\u001b[0m\u001b[0m\n\u001b[0;32m---> 14\u001b[0;31m \u001b[0mtrain_more_feature_reshaped\u001b[0m \u001b[0;34m=\u001b[0m \u001b[0mtrain_more_feature_resized\u001b[0m\u001b[0;34m.\u001b[0m\u001b[0mreshape\u001b[0m\u001b[0;34m(\u001b[0m\u001b[0;36m10\u001b[0m\u001b[0;34m,\u001b[0m \u001b[0mtrain_more_feature\u001b[0m\u001b[0;34m.\u001b[0m\u001b[0mshape\u001b[0m\u001b[0;34m[\u001b[0m\u001b[0;36m0\u001b[0m\u001b[0;34m]\u001b[0m \u001b[0;34m//\u001b[0m \u001b[0;36m10\u001b[0m\u001b[0;34m,\u001b[0m \u001b[0;36m32\u001b[0m\u001b[0;34m,\u001b[0m \u001b[0mtrain_more_feature\u001b[0m\u001b[0;34m.\u001b[0m\u001b[0mshape\u001b[0m\u001b[0;34m[\u001b[0m\u001b[0;36m1\u001b[0m\u001b[0;34m]\u001b[0m \u001b[0;34m//\u001b[0m \u001b[0;36m32\u001b[0m\u001b[0;34m)\u001b[0m\u001b[0;34m\u001b[0m\u001b[0;34m\u001b[0m\u001b[0m\n\u001b[0m\u001b[1;32m     15\u001b[0m \u001b[0mval_more_feature_reshaped\u001b[0m \u001b[0;34m=\u001b[0m \u001b[0mval_more_feature_resized\u001b[0m\u001b[0;34m.\u001b[0m\u001b[0mreshape\u001b[0m\u001b[0;34m(\u001b[0m\u001b[0;36m10\u001b[0m\u001b[0;34m,\u001b[0m \u001b[0mval_more_feature\u001b[0m\u001b[0;34m.\u001b[0m\u001b[0mshape\u001b[0m\u001b[0;34m[\u001b[0m\u001b[0;36m0\u001b[0m\u001b[0;34m]\u001b[0m \u001b[0;34m//\u001b[0m \u001b[0;36m10\u001b[0m\u001b[0;34m,\u001b[0m \u001b[0;36m32\u001b[0m\u001b[0;34m,\u001b[0m \u001b[0mval_more_feature\u001b[0m\u001b[0;34m.\u001b[0m\u001b[0mshape\u001b[0m\u001b[0;34m[\u001b[0m\u001b[0;36m1\u001b[0m\u001b[0;34m]\u001b[0m \u001b[0;34m//\u001b[0m \u001b[0;36m32\u001b[0m\u001b[0;34m)\u001b[0m\u001b[0;34m\u001b[0m\u001b[0;34m\u001b[0m\u001b[0m\n\u001b[1;32m     16\u001b[0m \u001b[0mtest_more_feature_reshaped\u001b[0m \u001b[0;34m=\u001b[0m \u001b[0mtest_more_feature_resized\u001b[0m\u001b[0;34m.\u001b[0m\u001b[0mreshape\u001b[0m\u001b[0;34m(\u001b[0m\u001b[0;36m10\u001b[0m\u001b[0;34m,\u001b[0m \u001b[0mtest_more_feature\u001b[0m\u001b[0;34m.\u001b[0m\u001b[0mshape\u001b[0m\u001b[0;34m[\u001b[0m\u001b[0;36m0\u001b[0m\u001b[0;34m]\u001b[0m \u001b[0;34m//\u001b[0m \u001b[0;36m10\u001b[0m\u001b[0;34m,\u001b[0m \u001b[0;36m32\u001b[0m\u001b[0;34m,\u001b[0m \u001b[0mtest_more_feature\u001b[0m\u001b[0;34m.\u001b[0m\u001b[0mshape\u001b[0m\u001b[0;34m[\u001b[0m\u001b[0;36m1\u001b[0m\u001b[0;34m]\u001b[0m \u001b[0;34m//\u001b[0m \u001b[0;36m32\u001b[0m\u001b[0;34m)\u001b[0m\u001b[0;34m\u001b[0m\u001b[0;34m\u001b[0m\u001b[0m\n",
      "\u001b[0;31mValueError\u001b[0m: cannot reshape array of size 47932608 into shape (10,608,32,246)"
     ]
    }
   ],
   "source": [
    "#Necesito reshape para usar conv\n",
    "#Voy a padear para tener más dimensiones\n",
    "def addZeroFilledColumns(dataframe):\n",
    "    for col in range(26):\n",
    "        dataframe['{}-{}'.format(col, col)] = 0\n",
    "    return dataframe\n",
    "\n",
    "train_more_feature_resized = addZeroFilledColumns(train_more_feature).to_numpy(dtype=\"float32\")\n",
    "val_more_feature_resized = addZeroFilledColumns(val_more_feature).to_numpy(dtype=\"float32\")\n",
    "test_more_feature_resized = addZeroFilledColumns(test_more_feature).to_numpy(dtype=\"float32\")\n",
    "actual_test_limpio_resized = addZeroFilledColumns(actual_test_limpio).to_numpy(dtype=\"float32\")\n",
    "\n",
    "\n",
    "train_more_feature_reshaped = train_more_feature_resized.reshape(4, train_more_feature.shape[0] // 10, 32, train_more_feature.shape[1] // 32)\n",
    "val_more_feature_reshaped = val_more_feature_resized.reshape(4, val_more_feature.shape[0] // 10, 32, val_more_feature.shape[1] // 32)\n",
    "test_more_feature_reshaped = test_more_feature_resized.reshape(4, test_more_feature.shape[0] // 10, 32, test_more_feature.shape[1] // 32)\n",
    "\n",
    "actual_test_limpio_reshaped = actual_test_limpio_resized.reshape(4, actual_test_limpio.shape[0] // 10, 32, actual_test_limpio.shape[1] // 32)"
   ]
  },
  {
   "cell_type": "code",
   "execution_count": 133,
   "metadata": {},
   "outputs": [
    {
     "name": "stdout",
     "output_type": "stream",
     "text": [
      "Model: \"sequential_19\"\n",
      "_________________________________________________________________\n",
      "Layer (type)                 Output Shape              Param #   \n",
      "=================================================================\n",
      "conv2d_9 (Conv2D)            (None, 64, 244, 30)       640       \n",
      "_________________________________________________________________\n",
      "dense_28 (Dense)             (None, 64, 244, 10)       310       \n",
      "_________________________________________________________________\n",
      "dense_29 (Dense)             (None, 64, 244, 1)        11        \n",
      "=================================================================\n",
      "Total params: 961\n",
      "Trainable params: 961\n",
      "Non-trainable params: 0\n",
      "_________________________________________________________________\n"
     ]
    }
   ],
   "source": [
    "height = train_more_feature_reshaped.shape[1]\n",
    "width = train_more_feature_reshaped.shape[2]\n",
    "channel = 1\n",
    "\n",
    "modelFeaturesWithConv = Sequential()\n",
    "modelFeaturesWithConv.add(Conv2D(filters=64, kernel_size=3, activation='relu', input_shape=(10, 1, width, height), data_format='channels_first'))\n",
    "modelFeaturesWithConv.add(layers.Dense(10, activation='relu'))\n",
    "modelFeaturesWithConv.add(layers.Dense(1, activation='sigmoid'))\n",
    "\n",
    "modelFeaturesWithConv.compile(loss='binary_crossentropy', \n",
    "              optimizer='adam', \n",
    "              metrics=['acc'])\n",
    "modelFeaturesWithConv.summary()"
   ]
  },
  {
   "cell_type": "code",
   "execution_count": 134,
   "metadata": {},
   "outputs": [
    {
     "name": "stdout",
     "output_type": "stream",
     "text": [
      "Epoch 1/10\n"
     ]
    },
    {
     "ename": "ValueError",
     "evalue": "in user code:\n\n    /home/lucasotero/datos/lib/python3.6/site-packages/tensorflow/python/keras/engine/training.py:571 train_function  *\n        outputs = self.distribute_strategy.run(\n    /home/lucasotero/datos/lib/python3.6/site-packages/tensorflow/python/distribute/distribute_lib.py:951 run  **\n        return self._extended.call_for_each_replica(fn, args=args, kwargs=kwargs)\n    /home/lucasotero/datos/lib/python3.6/site-packages/tensorflow/python/distribute/distribute_lib.py:2290 call_for_each_replica\n        return self._call_for_each_replica(fn, args, kwargs)\n    /home/lucasotero/datos/lib/python3.6/site-packages/tensorflow/python/distribute/distribute_lib.py:2649 _call_for_each_replica\n        return fn(*args, **kwargs)\n    /home/lucasotero/datos/lib/python3.6/site-packages/tensorflow/python/keras/engine/training.py:531 train_step  **\n        y_pred = self(x, training=True)\n    /home/lucasotero/datos/lib/python3.6/site-packages/tensorflow/python/keras/engine/base_layer.py:886 __call__\n        self.name)\n    /home/lucasotero/datos/lib/python3.6/site-packages/tensorflow/python/keras/engine/input_spec.py:180 assert_input_compatibility\n        str(x.shape.as_list()))\n\n    ValueError: Input 0 of layer sequential_19 is incompatible with the layer: expected ndim=4, found ndim=3. Full shape received: [None, 32, 246]\n",
     "output_type": "error",
     "traceback": [
      "\u001b[0;31m---------------------------------------------------------------------------\u001b[0m",
      "\u001b[0;31mValueError\u001b[0m                                Traceback (most recent call last)",
      "\u001b[0;32m<ipython-input-134-d278558b34fc>\u001b[0m in \u001b[0;36m<module>\u001b[0;34m\u001b[0m\n\u001b[1;32m      2\u001b[0m                     \u001b[0mepochs\u001b[0m\u001b[0;34m=\u001b[0m\u001b[0;36m10\u001b[0m\u001b[0;34m,\u001b[0m\u001b[0;34m\u001b[0m\u001b[0;34m\u001b[0m\u001b[0m\n\u001b[1;32m      3\u001b[0m                     \u001b[0mverbose\u001b[0m\u001b[0;34m=\u001b[0m\u001b[0;32mTrue\u001b[0m\u001b[0;34m,\u001b[0m\u001b[0;34m\u001b[0m\u001b[0;34m\u001b[0m\u001b[0m\n\u001b[0;32m----> 4\u001b[0;31m                     validation_data=(val_more_feature_reshaped, val_more_feature_target.to_numpy(dtype=\"float32\")))\n\u001b[0m\u001b[1;32m      5\u001b[0m \u001b[0mloss\u001b[0m\u001b[0;34m,\u001b[0m \u001b[0maccuracy\u001b[0m \u001b[0;34m=\u001b[0m \u001b[0mmodelFeaturesWithConv\u001b[0m\u001b[0;34m.\u001b[0m\u001b[0mevaluate\u001b[0m\u001b[0;34m(\u001b[0m\u001b[0mtrain_more_feature_reshaped\u001b[0m\u001b[0;34m,\u001b[0m \u001b[0mtrain_more_feature_target\u001b[0m\u001b[0;34m.\u001b[0m\u001b[0mto_numpy\u001b[0m\u001b[0;34m(\u001b[0m\u001b[0mdtype\u001b[0m\u001b[0;34m=\u001b[0m\u001b[0;34m\"float32\"\u001b[0m\u001b[0;34m)\u001b[0m\u001b[0;34m,\u001b[0m \u001b[0mverbose\u001b[0m\u001b[0;34m=\u001b[0m\u001b[0;32mFalse\u001b[0m\u001b[0;34m)\u001b[0m\u001b[0;34m\u001b[0m\u001b[0;34m\u001b[0m\u001b[0m\n\u001b[1;32m      6\u001b[0m \u001b[0mprint\u001b[0m\u001b[0;34m(\u001b[0m\u001b[0;34m\"Training Accuracy: {:.4f}\"\u001b[0m\u001b[0;34m.\u001b[0m\u001b[0mformat\u001b[0m\u001b[0;34m(\u001b[0m\u001b[0maccuracy\u001b[0m\u001b[0;34m)\u001b[0m\u001b[0;34m)\u001b[0m\u001b[0;34m\u001b[0m\u001b[0;34m\u001b[0m\u001b[0m\n",
      "\u001b[0;32m~/datos/lib/python3.6/site-packages/tensorflow/python/keras/engine/training.py\u001b[0m in \u001b[0;36m_method_wrapper\u001b[0;34m(self, *args, **kwargs)\u001b[0m\n\u001b[1;32m     64\u001b[0m   \u001b[0;32mdef\u001b[0m \u001b[0m_method_wrapper\u001b[0m\u001b[0;34m(\u001b[0m\u001b[0mself\u001b[0m\u001b[0;34m,\u001b[0m \u001b[0;34m*\u001b[0m\u001b[0margs\u001b[0m\u001b[0;34m,\u001b[0m \u001b[0;34m**\u001b[0m\u001b[0mkwargs\u001b[0m\u001b[0;34m)\u001b[0m\u001b[0;34m:\u001b[0m\u001b[0;34m\u001b[0m\u001b[0;34m\u001b[0m\u001b[0m\n\u001b[1;32m     65\u001b[0m     \u001b[0;32mif\u001b[0m \u001b[0;32mnot\u001b[0m \u001b[0mself\u001b[0m\u001b[0;34m.\u001b[0m\u001b[0m_in_multi_worker_mode\u001b[0m\u001b[0;34m(\u001b[0m\u001b[0;34m)\u001b[0m\u001b[0;34m:\u001b[0m  \u001b[0;31m# pylint: disable=protected-access\u001b[0m\u001b[0;34m\u001b[0m\u001b[0;34m\u001b[0m\u001b[0m\n\u001b[0;32m---> 66\u001b[0;31m       \u001b[0;32mreturn\u001b[0m \u001b[0mmethod\u001b[0m\u001b[0;34m(\u001b[0m\u001b[0mself\u001b[0m\u001b[0;34m,\u001b[0m \u001b[0;34m*\u001b[0m\u001b[0margs\u001b[0m\u001b[0;34m,\u001b[0m \u001b[0;34m**\u001b[0m\u001b[0mkwargs\u001b[0m\u001b[0;34m)\u001b[0m\u001b[0;34m\u001b[0m\u001b[0;34m\u001b[0m\u001b[0m\n\u001b[0m\u001b[1;32m     67\u001b[0m \u001b[0;34m\u001b[0m\u001b[0m\n\u001b[1;32m     68\u001b[0m     \u001b[0;31m# Running inside `run_distribute_coordinator` already.\u001b[0m\u001b[0;34m\u001b[0m\u001b[0;34m\u001b[0m\u001b[0;34m\u001b[0m\u001b[0m\n",
      "\u001b[0;32m~/datos/lib/python3.6/site-packages/tensorflow/python/keras/engine/training.py\u001b[0m in \u001b[0;36mfit\u001b[0;34m(self, x, y, batch_size, epochs, verbose, callbacks, validation_split, validation_data, shuffle, class_weight, sample_weight, initial_epoch, steps_per_epoch, validation_steps, validation_batch_size, validation_freq, max_queue_size, workers, use_multiprocessing)\u001b[0m\n\u001b[1;32m    846\u001b[0m                 batch_size=batch_size):\n\u001b[1;32m    847\u001b[0m               \u001b[0mcallbacks\u001b[0m\u001b[0;34m.\u001b[0m\u001b[0mon_train_batch_begin\u001b[0m\u001b[0;34m(\u001b[0m\u001b[0mstep\u001b[0m\u001b[0;34m)\u001b[0m\u001b[0;34m\u001b[0m\u001b[0;34m\u001b[0m\u001b[0m\n\u001b[0;32m--> 848\u001b[0;31m               \u001b[0mtmp_logs\u001b[0m \u001b[0;34m=\u001b[0m \u001b[0mtrain_function\u001b[0m\u001b[0;34m(\u001b[0m\u001b[0miterator\u001b[0m\u001b[0;34m)\u001b[0m\u001b[0;34m\u001b[0m\u001b[0;34m\u001b[0m\u001b[0m\n\u001b[0m\u001b[1;32m    849\u001b[0m               \u001b[0;31m# Catch OutOfRangeError for Datasets of unknown size.\u001b[0m\u001b[0;34m\u001b[0m\u001b[0;34m\u001b[0m\u001b[0;34m\u001b[0m\u001b[0m\n\u001b[1;32m    850\u001b[0m               \u001b[0;31m# This blocks until the batch has finished executing.\u001b[0m\u001b[0;34m\u001b[0m\u001b[0;34m\u001b[0m\u001b[0;34m\u001b[0m\u001b[0m\n",
      "\u001b[0;32m~/datos/lib/python3.6/site-packages/tensorflow/python/eager/def_function.py\u001b[0m in \u001b[0;36m__call__\u001b[0;34m(self, *args, **kwds)\u001b[0m\n\u001b[1;32m    578\u001b[0m         \u001b[0mxla_context\u001b[0m\u001b[0;34m.\u001b[0m\u001b[0mExit\u001b[0m\u001b[0;34m(\u001b[0m\u001b[0;34m)\u001b[0m\u001b[0;34m\u001b[0m\u001b[0;34m\u001b[0m\u001b[0m\n\u001b[1;32m    579\u001b[0m     \u001b[0;32melse\u001b[0m\u001b[0;34m:\u001b[0m\u001b[0;34m\u001b[0m\u001b[0;34m\u001b[0m\u001b[0m\n\u001b[0;32m--> 580\u001b[0;31m       \u001b[0mresult\u001b[0m \u001b[0;34m=\u001b[0m \u001b[0mself\u001b[0m\u001b[0;34m.\u001b[0m\u001b[0m_call\u001b[0m\u001b[0;34m(\u001b[0m\u001b[0;34m*\u001b[0m\u001b[0margs\u001b[0m\u001b[0;34m,\u001b[0m \u001b[0;34m**\u001b[0m\u001b[0mkwds\u001b[0m\u001b[0;34m)\u001b[0m\u001b[0;34m\u001b[0m\u001b[0;34m\u001b[0m\u001b[0m\n\u001b[0m\u001b[1;32m    581\u001b[0m \u001b[0;34m\u001b[0m\u001b[0m\n\u001b[1;32m    582\u001b[0m     \u001b[0;32mif\u001b[0m \u001b[0mtracing_count\u001b[0m \u001b[0;34m==\u001b[0m \u001b[0mself\u001b[0m\u001b[0;34m.\u001b[0m\u001b[0m_get_tracing_count\u001b[0m\u001b[0;34m(\u001b[0m\u001b[0;34m)\u001b[0m\u001b[0;34m:\u001b[0m\u001b[0;34m\u001b[0m\u001b[0;34m\u001b[0m\u001b[0m\n",
      "\u001b[0;32m~/datos/lib/python3.6/site-packages/tensorflow/python/eager/def_function.py\u001b[0m in \u001b[0;36m_call\u001b[0;34m(self, *args, **kwds)\u001b[0m\n\u001b[1;32m    625\u001b[0m       \u001b[0;31m# This is the first call of __call__, so we have to initialize.\u001b[0m\u001b[0;34m\u001b[0m\u001b[0;34m\u001b[0m\u001b[0;34m\u001b[0m\u001b[0m\n\u001b[1;32m    626\u001b[0m       \u001b[0minitializers\u001b[0m \u001b[0;34m=\u001b[0m \u001b[0;34m[\u001b[0m\u001b[0;34m]\u001b[0m\u001b[0;34m\u001b[0m\u001b[0;34m\u001b[0m\u001b[0m\n\u001b[0;32m--> 627\u001b[0;31m       \u001b[0mself\u001b[0m\u001b[0;34m.\u001b[0m\u001b[0m_initialize\u001b[0m\u001b[0;34m(\u001b[0m\u001b[0margs\u001b[0m\u001b[0;34m,\u001b[0m \u001b[0mkwds\u001b[0m\u001b[0;34m,\u001b[0m \u001b[0madd_initializers_to\u001b[0m\u001b[0;34m=\u001b[0m\u001b[0minitializers\u001b[0m\u001b[0;34m)\u001b[0m\u001b[0;34m\u001b[0m\u001b[0;34m\u001b[0m\u001b[0m\n\u001b[0m\u001b[1;32m    628\u001b[0m     \u001b[0;32mfinally\u001b[0m\u001b[0;34m:\u001b[0m\u001b[0;34m\u001b[0m\u001b[0;34m\u001b[0m\u001b[0m\n\u001b[1;32m    629\u001b[0m       \u001b[0;31m# At this point we know that the initialization is complete (or less\u001b[0m\u001b[0;34m\u001b[0m\u001b[0;34m\u001b[0m\u001b[0;34m\u001b[0m\u001b[0m\n",
      "\u001b[0;32m~/datos/lib/python3.6/site-packages/tensorflow/python/eager/def_function.py\u001b[0m in \u001b[0;36m_initialize\u001b[0;34m(self, args, kwds, add_initializers_to)\u001b[0m\n\u001b[1;32m    504\u001b[0m     self._concrete_stateful_fn = (\n\u001b[1;32m    505\u001b[0m         self._stateful_fn._get_concrete_function_internal_garbage_collected(  # pylint: disable=protected-access\n\u001b[0;32m--> 506\u001b[0;31m             *args, **kwds))\n\u001b[0m\u001b[1;32m    507\u001b[0m \u001b[0;34m\u001b[0m\u001b[0m\n\u001b[1;32m    508\u001b[0m     \u001b[0;32mdef\u001b[0m \u001b[0minvalid_creator_scope\u001b[0m\u001b[0;34m(\u001b[0m\u001b[0;34m*\u001b[0m\u001b[0munused_args\u001b[0m\u001b[0;34m,\u001b[0m \u001b[0;34m**\u001b[0m\u001b[0munused_kwds\u001b[0m\u001b[0;34m)\u001b[0m\u001b[0;34m:\u001b[0m\u001b[0;34m\u001b[0m\u001b[0;34m\u001b[0m\u001b[0m\n",
      "\u001b[0;32m~/datos/lib/python3.6/site-packages/tensorflow/python/eager/function.py\u001b[0m in \u001b[0;36m_get_concrete_function_internal_garbage_collected\u001b[0;34m(self, *args, **kwargs)\u001b[0m\n\u001b[1;32m   2444\u001b[0m       \u001b[0margs\u001b[0m\u001b[0;34m,\u001b[0m \u001b[0mkwargs\u001b[0m \u001b[0;34m=\u001b[0m \u001b[0;32mNone\u001b[0m\u001b[0;34m,\u001b[0m \u001b[0;32mNone\u001b[0m\u001b[0;34m\u001b[0m\u001b[0;34m\u001b[0m\u001b[0m\n\u001b[1;32m   2445\u001b[0m     \u001b[0;32mwith\u001b[0m \u001b[0mself\u001b[0m\u001b[0;34m.\u001b[0m\u001b[0m_lock\u001b[0m\u001b[0;34m:\u001b[0m\u001b[0;34m\u001b[0m\u001b[0;34m\u001b[0m\u001b[0m\n\u001b[0;32m-> 2446\u001b[0;31m       \u001b[0mgraph_function\u001b[0m\u001b[0;34m,\u001b[0m \u001b[0m_\u001b[0m\u001b[0;34m,\u001b[0m \u001b[0m_\u001b[0m \u001b[0;34m=\u001b[0m \u001b[0mself\u001b[0m\u001b[0;34m.\u001b[0m\u001b[0m_maybe_define_function\u001b[0m\u001b[0;34m(\u001b[0m\u001b[0margs\u001b[0m\u001b[0;34m,\u001b[0m \u001b[0mkwargs\u001b[0m\u001b[0;34m)\u001b[0m\u001b[0;34m\u001b[0m\u001b[0;34m\u001b[0m\u001b[0m\n\u001b[0m\u001b[1;32m   2447\u001b[0m     \u001b[0;32mreturn\u001b[0m \u001b[0mgraph_function\u001b[0m\u001b[0;34m\u001b[0m\u001b[0;34m\u001b[0m\u001b[0m\n\u001b[1;32m   2448\u001b[0m \u001b[0;34m\u001b[0m\u001b[0m\n",
      "\u001b[0;32m~/datos/lib/python3.6/site-packages/tensorflow/python/eager/function.py\u001b[0m in \u001b[0;36m_maybe_define_function\u001b[0;34m(self, args, kwargs)\u001b[0m\n\u001b[1;32m   2775\u001b[0m \u001b[0;34m\u001b[0m\u001b[0m\n\u001b[1;32m   2776\u001b[0m       \u001b[0mself\u001b[0m\u001b[0;34m.\u001b[0m\u001b[0m_function_cache\u001b[0m\u001b[0;34m.\u001b[0m\u001b[0mmissed\u001b[0m\u001b[0;34m.\u001b[0m\u001b[0madd\u001b[0m\u001b[0;34m(\u001b[0m\u001b[0mcall_context_key\u001b[0m\u001b[0;34m)\u001b[0m\u001b[0;34m\u001b[0m\u001b[0;34m\u001b[0m\u001b[0m\n\u001b[0;32m-> 2777\u001b[0;31m       \u001b[0mgraph_function\u001b[0m \u001b[0;34m=\u001b[0m \u001b[0mself\u001b[0m\u001b[0;34m.\u001b[0m\u001b[0m_create_graph_function\u001b[0m\u001b[0;34m(\u001b[0m\u001b[0margs\u001b[0m\u001b[0;34m,\u001b[0m \u001b[0mkwargs\u001b[0m\u001b[0;34m)\u001b[0m\u001b[0;34m\u001b[0m\u001b[0;34m\u001b[0m\u001b[0m\n\u001b[0m\u001b[1;32m   2778\u001b[0m       \u001b[0mself\u001b[0m\u001b[0;34m.\u001b[0m\u001b[0m_function_cache\u001b[0m\u001b[0;34m.\u001b[0m\u001b[0mprimary\u001b[0m\u001b[0;34m[\u001b[0m\u001b[0mcache_key\u001b[0m\u001b[0;34m]\u001b[0m \u001b[0;34m=\u001b[0m \u001b[0mgraph_function\u001b[0m\u001b[0;34m\u001b[0m\u001b[0;34m\u001b[0m\u001b[0m\n\u001b[1;32m   2779\u001b[0m       \u001b[0;32mreturn\u001b[0m \u001b[0mgraph_function\u001b[0m\u001b[0;34m,\u001b[0m \u001b[0margs\u001b[0m\u001b[0;34m,\u001b[0m \u001b[0mkwargs\u001b[0m\u001b[0;34m\u001b[0m\u001b[0;34m\u001b[0m\u001b[0m\n",
      "\u001b[0;32m~/datos/lib/python3.6/site-packages/tensorflow/python/eager/function.py\u001b[0m in \u001b[0;36m_create_graph_function\u001b[0;34m(self, args, kwargs, override_flat_arg_shapes)\u001b[0m\n\u001b[1;32m   2665\u001b[0m             \u001b[0marg_names\u001b[0m\u001b[0;34m=\u001b[0m\u001b[0marg_names\u001b[0m\u001b[0;34m,\u001b[0m\u001b[0;34m\u001b[0m\u001b[0;34m\u001b[0m\u001b[0m\n\u001b[1;32m   2666\u001b[0m             \u001b[0moverride_flat_arg_shapes\u001b[0m\u001b[0;34m=\u001b[0m\u001b[0moverride_flat_arg_shapes\u001b[0m\u001b[0;34m,\u001b[0m\u001b[0;34m\u001b[0m\u001b[0;34m\u001b[0m\u001b[0m\n\u001b[0;32m-> 2667\u001b[0;31m             capture_by_value=self._capture_by_value),\n\u001b[0m\u001b[1;32m   2668\u001b[0m         \u001b[0mself\u001b[0m\u001b[0;34m.\u001b[0m\u001b[0m_function_attributes\u001b[0m\u001b[0;34m,\u001b[0m\u001b[0;34m\u001b[0m\u001b[0;34m\u001b[0m\u001b[0m\n\u001b[1;32m   2669\u001b[0m         \u001b[0;31m# Tell the ConcreteFunction to clean up its graph once it goes out of\u001b[0m\u001b[0;34m\u001b[0m\u001b[0;34m\u001b[0m\u001b[0;34m\u001b[0m\u001b[0m\n",
      "\u001b[0;32m~/datos/lib/python3.6/site-packages/tensorflow/python/framework/func_graph.py\u001b[0m in \u001b[0;36mfunc_graph_from_py_func\u001b[0;34m(name, python_func, args, kwargs, signature, func_graph, autograph, autograph_options, add_control_dependencies, arg_names, op_return_value, collections, capture_by_value, override_flat_arg_shapes)\u001b[0m\n\u001b[1;32m    979\u001b[0m         \u001b[0m_\u001b[0m\u001b[0;34m,\u001b[0m \u001b[0moriginal_func\u001b[0m \u001b[0;34m=\u001b[0m \u001b[0mtf_decorator\u001b[0m\u001b[0;34m.\u001b[0m\u001b[0munwrap\u001b[0m\u001b[0;34m(\u001b[0m\u001b[0mpython_func\u001b[0m\u001b[0;34m)\u001b[0m\u001b[0;34m\u001b[0m\u001b[0;34m\u001b[0m\u001b[0m\n\u001b[1;32m    980\u001b[0m \u001b[0;34m\u001b[0m\u001b[0m\n\u001b[0;32m--> 981\u001b[0;31m       \u001b[0mfunc_outputs\u001b[0m \u001b[0;34m=\u001b[0m \u001b[0mpython_func\u001b[0m\u001b[0;34m(\u001b[0m\u001b[0;34m*\u001b[0m\u001b[0mfunc_args\u001b[0m\u001b[0;34m,\u001b[0m \u001b[0;34m**\u001b[0m\u001b[0mfunc_kwargs\u001b[0m\u001b[0;34m)\u001b[0m\u001b[0;34m\u001b[0m\u001b[0;34m\u001b[0m\u001b[0m\n\u001b[0m\u001b[1;32m    982\u001b[0m \u001b[0;34m\u001b[0m\u001b[0m\n\u001b[1;32m    983\u001b[0m       \u001b[0;31m# invariant: `func_outputs` contains only Tensors, CompositeTensors,\u001b[0m\u001b[0;34m\u001b[0m\u001b[0;34m\u001b[0m\u001b[0;34m\u001b[0m\u001b[0m\n",
      "\u001b[0;32m~/datos/lib/python3.6/site-packages/tensorflow/python/eager/def_function.py\u001b[0m in \u001b[0;36mwrapped_fn\u001b[0;34m(*args, **kwds)\u001b[0m\n\u001b[1;32m    439\u001b[0m         \u001b[0;31m# __wrapped__ allows AutoGraph to swap in a converted function. We give\u001b[0m\u001b[0;34m\u001b[0m\u001b[0;34m\u001b[0m\u001b[0;34m\u001b[0m\u001b[0m\n\u001b[1;32m    440\u001b[0m         \u001b[0;31m# the function a weak reference to itself to avoid a reference cycle.\u001b[0m\u001b[0;34m\u001b[0m\u001b[0;34m\u001b[0m\u001b[0;34m\u001b[0m\u001b[0m\n\u001b[0;32m--> 441\u001b[0;31m         \u001b[0;32mreturn\u001b[0m \u001b[0mweak_wrapped_fn\u001b[0m\u001b[0;34m(\u001b[0m\u001b[0;34m)\u001b[0m\u001b[0;34m.\u001b[0m\u001b[0m__wrapped__\u001b[0m\u001b[0;34m(\u001b[0m\u001b[0;34m*\u001b[0m\u001b[0margs\u001b[0m\u001b[0;34m,\u001b[0m \u001b[0;34m**\u001b[0m\u001b[0mkwds\u001b[0m\u001b[0;34m)\u001b[0m\u001b[0;34m\u001b[0m\u001b[0;34m\u001b[0m\u001b[0m\n\u001b[0m\u001b[1;32m    442\u001b[0m     \u001b[0mweak_wrapped_fn\u001b[0m \u001b[0;34m=\u001b[0m \u001b[0mweakref\u001b[0m\u001b[0;34m.\u001b[0m\u001b[0mref\u001b[0m\u001b[0;34m(\u001b[0m\u001b[0mwrapped_fn\u001b[0m\u001b[0;34m)\u001b[0m\u001b[0;34m\u001b[0m\u001b[0;34m\u001b[0m\u001b[0m\n\u001b[1;32m    443\u001b[0m \u001b[0;34m\u001b[0m\u001b[0m\n",
      "\u001b[0;32m~/datos/lib/python3.6/site-packages/tensorflow/python/framework/func_graph.py\u001b[0m in \u001b[0;36mwrapper\u001b[0;34m(*args, **kwargs)\u001b[0m\n\u001b[1;32m    966\u001b[0m           \u001b[0;32mexcept\u001b[0m \u001b[0mException\u001b[0m \u001b[0;32mas\u001b[0m \u001b[0me\u001b[0m\u001b[0;34m:\u001b[0m  \u001b[0;31m# pylint:disable=broad-except\u001b[0m\u001b[0;34m\u001b[0m\u001b[0;34m\u001b[0m\u001b[0m\n\u001b[1;32m    967\u001b[0m             \u001b[0;32mif\u001b[0m \u001b[0mhasattr\u001b[0m\u001b[0;34m(\u001b[0m\u001b[0me\u001b[0m\u001b[0;34m,\u001b[0m \u001b[0;34m\"ag_error_metadata\"\u001b[0m\u001b[0;34m)\u001b[0m\u001b[0;34m:\u001b[0m\u001b[0;34m\u001b[0m\u001b[0;34m\u001b[0m\u001b[0m\n\u001b[0;32m--> 968\u001b[0;31m               \u001b[0;32mraise\u001b[0m \u001b[0me\u001b[0m\u001b[0;34m.\u001b[0m\u001b[0mag_error_metadata\u001b[0m\u001b[0;34m.\u001b[0m\u001b[0mto_exception\u001b[0m\u001b[0;34m(\u001b[0m\u001b[0me\u001b[0m\u001b[0;34m)\u001b[0m\u001b[0;34m\u001b[0m\u001b[0;34m\u001b[0m\u001b[0m\n\u001b[0m\u001b[1;32m    969\u001b[0m             \u001b[0;32melse\u001b[0m\u001b[0;34m:\u001b[0m\u001b[0;34m\u001b[0m\u001b[0;34m\u001b[0m\u001b[0m\n\u001b[1;32m    970\u001b[0m               \u001b[0;32mraise\u001b[0m\u001b[0;34m\u001b[0m\u001b[0;34m\u001b[0m\u001b[0m\n",
      "\u001b[0;31mValueError\u001b[0m: in user code:\n\n    /home/lucasotero/datos/lib/python3.6/site-packages/tensorflow/python/keras/engine/training.py:571 train_function  *\n        outputs = self.distribute_strategy.run(\n    /home/lucasotero/datos/lib/python3.6/site-packages/tensorflow/python/distribute/distribute_lib.py:951 run  **\n        return self._extended.call_for_each_replica(fn, args=args, kwargs=kwargs)\n    /home/lucasotero/datos/lib/python3.6/site-packages/tensorflow/python/distribute/distribute_lib.py:2290 call_for_each_replica\n        return self._call_for_each_replica(fn, args, kwargs)\n    /home/lucasotero/datos/lib/python3.6/site-packages/tensorflow/python/distribute/distribute_lib.py:2649 _call_for_each_replica\n        return fn(*args, **kwargs)\n    /home/lucasotero/datos/lib/python3.6/site-packages/tensorflow/python/keras/engine/training.py:531 train_step  **\n        y_pred = self(x, training=True)\n    /home/lucasotero/datos/lib/python3.6/site-packages/tensorflow/python/keras/engine/base_layer.py:886 __call__\n        self.name)\n    /home/lucasotero/datos/lib/python3.6/site-packages/tensorflow/python/keras/engine/input_spec.py:180 assert_input_compatibility\n        str(x.shape.as_list()))\n\n    ValueError: Input 0 of layer sequential_19 is incompatible with the layer: expected ndim=4, found ndim=3. Full shape received: [None, 32, 246]\n"
     ]
    }
   ],
   "source": [
    "features_withConv_history = modelFeaturesWithConv.fit(train_more_feature_reshaped, train_more_feature_target.to_numpy(dtype=\"float32\"),\n",
    "                    epochs=10,\n",
    "                    verbose=True,\n",
    "                    validation_data=(val_more_feature_reshaped, val_more_feature_target.to_numpy(dtype=\"float32\")),\n",
    "                    batch_size=10)\n",
    "loss, accuracy = modelFeaturesWithConv.evaluate(train_more_feature_reshaped, train_more_feature_target.to_numpy(dtype=\"float32\"), verbose=False)\n",
    "print(\"Training Accuracy: {:.4f}\".format(accuracy))\n",
    "loss, accuracy = modelFeaturesWithConv.evaluate(test_more_feature_reshaped, test_more_feature_target.to_numpy(dtype=\"float32\"), verbose=False)\n",
    "print(\"Testing Accuracy:  {:.4f}\".format(accuracy))\n",
    "plot_history(features_withConv_history)"
   ]
  },
  {
   "cell_type": "code",
   "execution_count": null,
   "metadata": {},
   "outputs": [],
   "source": [
    "moreFeaturesConvPredictions = list(map(lambda x: x[0][0], modelFeaturesWithConv.predict_classes(actual_test_limpio_reshaped)))"
   ]
  },
  {
   "cell_type": "code",
   "execution_count": null,
   "metadata": {},
   "outputs": [],
   "source": [
    "moreFeaturesPredictionsConvDF = pd.DataFrame(data={'id': actual_test_ids, 'target': moreFeaturesConvPredictions})\n",
    "moreFeaturesPredictionsConvDF.head(10)"
   ]
  },
  {
   "cell_type": "code",
   "execution_count": null,
   "metadata": {},
   "outputs": [],
   "source": [
    "moreFeaturesPredictionsConvDF.to_csv('NN_predictions_more_features_conv.csv', index=False)"
   ]
  }
 ],
 "metadata": {
  "kernelspec": {
   "display_name": "Python 3",
   "language": "python",
   "name": "python3"
  }
 },
 "nbformat": 4,
 "nbformat_minor": 4
}
