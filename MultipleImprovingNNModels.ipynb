{
 "cells": [
  {
   "cell_type": "code",
   "execution_count": 1,
   "metadata": {},
   "outputs": [],
   "source": [
    "import numpy as np # linear algebra\n",
    "import pandas as pd # data processing, CSV file I/O (e.g. pd.read_csv)\n",
    "import matplotlib.pyplot as plt\n",
    "plt.style.use('ggplot')\n",
    "\n",
    "from sklearn.feature_extraction.text import CountVectorizer\n",
    "from sklearn.model_selection import train_test_split\n",
    "from sklearn.linear_model import LogisticRegression\n",
    "from sklearn.preprocessing import LabelEncoder\n",
    "from sklearn.preprocessing import OneHotEncoder\n",
    "from sklearn.model_selection import RandomizedSearchCV\n",
    "\n",
    "from tensorflow.keras.models import Sequential\n",
    "from tensorflow.keras import layers\n",
    "from tensorflow.keras.preprocessing.text import Tokenizer\n",
    "from tensorflow.keras.preprocessing.sequence import pad_sequences\n",
    "from tensorflow.keras.wrappers.scikit_learn import KerasClassifier"
   ]
  },
  {
   "cell_type": "code",
   "execution_count": 2,
   "metadata": {},
   "outputs": [],
   "source": [
    "train_limpio = pd.read_csv(\"train_limpio_con_BOW_de_5000_y_Stemming_noDrops.csv\",encoding = \"ISO-8859-1\").sample(frac=1).reset_index(drop=True)\n",
    "test_limpio = pd.read_csv(\"test_limpio_con_BOW_de_5000_y_Stemming_noDrops.csv\",encoding = \"ISO-8859-1\").sample(frac=1).reset_index(drop=True)"
   ]
  },
  {
   "cell_type": "code",
   "execution_count": 3,
   "metadata": {},
   "outputs": [],
   "source": [
    "train_limpio[\"text\"] = train_limpio[\"text\"].map(lambda x : \"null\" if(x is None) else x)\n",
    "test_limpio[\"text\"] = test_limpio[\"text\"].map(lambda x : \"null\" if(x is None) else x)"
   ]
  },
  {
   "cell_type": "code",
   "execution_count": 4,
   "metadata": {},
   "outputs": [],
   "source": [
    "train_limpio_true = train_limpio.loc[train_limpio[\"target\"] == 1]\n",
    "train_limpio_false = train_limpio.loc[train_limpio[\"target\"] == 0]"
   ]
  },
  {
   "cell_type": "code",
   "execution_count": 5,
   "metadata": {},
   "outputs": [
    {
     "name": "stdout",
     "output_type": "stream",
     "text": [
      "Tenemos  3271.00 verdaderos y  4342.00 falsos\n"
     ]
    }
   ],
   "source": [
    "print(\"Tenemos {cant_verdaderos: .2f} verdaderos y {cant_falsos: .2f} falsos\".format(cant_verdaderos=len(train_limpio_true), cant_falsos=len(train_limpio_false)))"
   ]
  },
  {
   "cell_type": "markdown",
   "metadata": {},
   "source": [
    "## Voy a balancear el train y el validation, misma cantidad de falsos y verdaderos en ambos"
   ]
  },
  {
   "cell_type": "code",
   "execution_count": 6,
   "metadata": {},
   "outputs": [],
   "source": [
    "train = pd.concat([train_limpio_true.iloc[:2616], train_limpio_false.iloc[:3473]])\n",
    "val = pd.concat([train_limpio_true.iloc[2616:3000], train_limpio_false.iloc[3473:3850]])\n",
    "test = pd.concat([train_limpio_true.iloc[3000:], train_limpio_false.iloc[3850:]])"
   ]
  },
  {
   "cell_type": "code",
   "execution_count": 7,
   "metadata": {},
   "outputs": [
    {
     "data": {
      "text/html": [
       "<div>\n",
       "<style scoped>\n",
       "    .dataframe tbody tr th:only-of-type {\n",
       "        vertical-align: middle;\n",
       "    }\n",
       "\n",
       "    .dataframe tbody tr th {\n",
       "        vertical-align: top;\n",
       "    }\n",
       "\n",
       "    .dataframe thead th {\n",
       "        text-align: right;\n",
       "    }\n",
       "</style>\n",
       "<table border=\"1\" class=\"dataframe\">\n",
       "  <thead>\n",
       "    <tr style=\"text-align: right;\">\n",
       "      <th></th>\n",
       "      <th>aa</th>\n",
       "      <th>ab</th>\n",
       "      <th>aba</th>\n",
       "      <th>abandon</th>\n",
       "      <th>abbott</th>\n",
       "      <th>abbswinston</th>\n",
       "      <th>abc</th>\n",
       "      <th>abcnew</th>\n",
       "      <th>abe</th>\n",
       "      <th>abil</th>\n",
       "      <th>...</th>\n",
       "      <th>wound-keyword</th>\n",
       "      <th>wreck-keyword</th>\n",
       "      <th>wreckag-keyword</th>\n",
       "      <th>isRealPlace</th>\n",
       "      <th>longitud_tweet</th>\n",
       "      <th>letras_seguidas</th>\n",
       "      <th>sentimiento</th>\n",
       "      <th>objetividad</th>\n",
       "      <th>keyword</th>\n",
       "      <th>location</th>\n",
       "    </tr>\n",
       "  </thead>\n",
       "  <tbody>\n",
       "    <tr>\n",
       "      <th>0</th>\n",
       "      <td>0</td>\n",
       "      <td>0</td>\n",
       "      <td>0</td>\n",
       "      <td>0</td>\n",
       "      <td>0</td>\n",
       "      <td>0</td>\n",
       "      <td>0</td>\n",
       "      <td>0</td>\n",
       "      <td>0</td>\n",
       "      <td>0</td>\n",
       "      <td>...</td>\n",
       "      <td>False</td>\n",
       "      <td>False</td>\n",
       "      <td>False</td>\n",
       "      <td>False</td>\n",
       "      <td>90</td>\n",
       "      <td>2</td>\n",
       "      <td>0.1000</td>\n",
       "      <td>0.2</td>\n",
       "      <td>NaN</td>\n",
       "      <td>NaN</td>\n",
       "    </tr>\n",
       "    <tr>\n",
       "      <th>1</th>\n",
       "      <td>0</td>\n",
       "      <td>0</td>\n",
       "      <td>0</td>\n",
       "      <td>0</td>\n",
       "      <td>0</td>\n",
       "      <td>0</td>\n",
       "      <td>0</td>\n",
       "      <td>0</td>\n",
       "      <td>0</td>\n",
       "      <td>0</td>\n",
       "      <td>...</td>\n",
       "      <td>False</td>\n",
       "      <td>False</td>\n",
       "      <td>False</td>\n",
       "      <td>False</td>\n",
       "      <td>130</td>\n",
       "      <td>2</td>\n",
       "      <td>-0.1875</td>\n",
       "      <td>0.5</td>\n",
       "      <td>attack</td>\n",
       "      <td>London.</td>\n",
       "    </tr>\n",
       "  </tbody>\n",
       "</table>\n",
       "<p>2 rows × 5184 columns</p>\n",
       "</div>"
      ],
      "text/plain": [
       "   aa  ab  aba  abandon  abbott  abbswinston  abc  abcnew  abe  abil  ...  \\\n",
       "0   0   0    0        0       0            0    0       0    0     0  ...   \n",
       "1   0   0    0        0       0            0    0       0    0     0  ...   \n",
       "\n",
       "   wound-keyword  wreck-keyword  wreckag-keyword  isRealPlace  longitud_tweet  \\\n",
       "0          False          False            False        False              90   \n",
       "1          False          False            False        False             130   \n",
       "\n",
       "   letras_seguidas  sentimiento  objetividad  keyword  location  \n",
       "0                2       0.1000          0.2      NaN       NaN  \n",
       "1                2      -0.1875          0.5   attack   London.  \n",
       "\n",
       "[2 rows x 5184 columns]"
      ]
     },
     "execution_count": 7,
     "metadata": {},
     "output_type": "execute_result"
    }
   ],
   "source": [
    "train.head(2)"
   ]
  },
  {
   "cell_type": "code",
   "execution_count": 8,
   "metadata": {},
   "outputs": [],
   "source": [
    "vectorizer = CountVectorizer()\n",
    "vectorizer.fit(train_limpio[\"text\"].values.astype('U'))\n",
    "\n",
    "X_train = vectorizer.transform(train[\"text\"].values.astype('U'))\n",
    "X_val  = vectorizer.transform(val[\"text\"].values.astype('U'))\n",
    "X_test = vectorizer.transform(test[\"text\"].values.astype('U'))\n",
    "\n",
    "actual_tp_test_only_text = vectorizer.transform(test_limpio[\"text\"].values.astype('U'))"
   ]
  },
  {
   "cell_type": "code",
   "execution_count": 9,
   "metadata": {},
   "outputs": [],
   "source": [
    "def plot_history(history):\n",
    "    acc = history.history['acc']\n",
    "    val_acc = history.history['val_acc']\n",
    "    loss = history.history['loss']\n",
    "    val_loss = history.history['val_loss']\n",
    "    x = range(1, len(acc) + 1)\n",
    "\n",
    "    plt.figure(figsize=(12, 5))\n",
    "    plt.subplot(1, 2, 1)\n",
    "    plt.plot(x, acc, 'b', label='Training acc')\n",
    "    plt.plot(x, val_acc, 'r', label='Validation acc')\n",
    "    plt.title('Training and validation accuracy')\n",
    "    plt.legend()\n",
    "    plt.subplot(1, 2, 2)\n",
    "    plt.plot(x, loss, 'b', label='Training loss')\n",
    "    plt.plot(x, val_loss, 'r', label='Validation loss')\n",
    "    plt.title('Training and validation loss')\n",
    "    plt.legend()"
   ]
  },
  {
   "cell_type": "markdown",
   "metadata": {},
   "source": [
    "## Primer modelo simple"
   ]
  },
  {
   "cell_type": "code",
   "execution_count": 10,
   "metadata": {},
   "outputs": [
    {
     "name": "stdout",
     "output_type": "stream",
     "text": [
      "Model: \"sequential\"\n",
      "_________________________________________________________________\n",
      "Layer (type)                 Output Shape              Param #   \n",
      "=================================================================\n",
      "dense (Dense)                (None, 10)                133800    \n",
      "_________________________________________________________________\n",
      "dense_1 (Dense)              (None, 1)                 11        \n",
      "=================================================================\n",
      "Total params: 133,811\n",
      "Trainable params: 133,811\n",
      "Non-trainable params: 0\n",
      "_________________________________________________________________\n"
     ]
    }
   ],
   "source": [
    "input_dim = X_train.shape[1]  # Number of features\n",
    "\n",
    "model = Sequential()\n",
    "model.add(layers.Dense(10, input_dim=input_dim, activation='relu'))\n",
    "model.add(layers.Dense(1, activation='sigmoid'))\n",
    "\n",
    "model.compile(loss='binary_crossentropy', \n",
    "              optimizer='adam', \n",
    "              metrics=['acc'])\n",
    "model.summary()"
   ]
  },
  {
   "cell_type": "code",
   "execution_count": 11,
   "metadata": {
    "scrolled": true
   },
   "outputs": [
    {
     "name": "stdout",
     "output_type": "stream",
     "text": [
      "Epoch 1/100\n",
      "609/609 [==============================] - 1s 1ms/step - loss: 0.5378 - acc: 0.7620 - val_loss: 0.4828 - val_acc: 0.7753\n",
      "Epoch 2/100\n",
      "609/609 [==============================] - 1s 1ms/step - loss: 0.3392 - acc: 0.8680 - val_loss: 0.4808 - val_acc: 0.7806\n",
      "Epoch 3/100\n",
      "609/609 [==============================] - 1s 1ms/step - loss: 0.2323 - acc: 0.9190 - val_loss: 0.5097 - val_acc: 0.7806\n",
      "Epoch 4/100\n",
      "609/609 [==============================] - 1s 862us/step - loss: 0.1662 - acc: 0.9409 - val_loss: 0.5546 - val_acc: 0.7700\n",
      "Epoch 5/100\n",
      "609/609 [==============================] - 1s 972us/step - loss: 0.1230 - acc: 0.9594 - val_loss: 0.6038 - val_acc: 0.7582\n",
      "Epoch 6/100\n",
      "609/609 [==============================] - 1s 1ms/step - loss: 0.0952 - acc: 0.9668 - val_loss: 0.6668 - val_acc: 0.7556\n",
      "Epoch 7/100\n",
      "609/609 [==============================] - 1s 1ms/step - loss: 0.0791 - acc: 0.9732 - val_loss: 0.7187 - val_acc: 0.7464\n",
      "Epoch 8/100\n",
      "609/609 [==============================] - 1s 1ms/step - loss: 0.0683 - acc: 0.9745 - val_loss: 0.7662 - val_acc: 0.7490\n",
      "Epoch 9/100\n",
      "609/609 [==============================] - 1s 1ms/step - loss: 0.0592 - acc: 0.9773 - val_loss: 0.8285 - val_acc: 0.7385\n",
      "Epoch 10/100\n",
      "609/609 [==============================] - 1s 1ms/step - loss: 0.0540 - acc: 0.9768 - val_loss: 0.8700 - val_acc: 0.7438\n",
      "Epoch 11/100\n",
      "609/609 [==============================] - 1s 880us/step - loss: 0.0509 - acc: 0.9775 - val_loss: 0.9149 - val_acc: 0.7411\n",
      "Epoch 12/100\n",
      "609/609 [==============================] - 1s 1ms/step - loss: 0.0486 - acc: 0.9801 - val_loss: 0.9459 - val_acc: 0.7516\n",
      "Epoch 13/100\n",
      "609/609 [==============================] - 1s 1ms/step - loss: 0.0465 - acc: 0.9806 - val_loss: 0.9910 - val_acc: 0.7543\n",
      "Epoch 14/100\n",
      "609/609 [==============================] - 1s 1ms/step - loss: 0.0449 - acc: 0.9818 - val_loss: 1.0397 - val_acc: 0.7424\n",
      "Epoch 15/100\n",
      "609/609 [==============================] - 1s 1ms/step - loss: 0.0435 - acc: 0.9821 - val_loss: 1.0725 - val_acc: 0.7424\n",
      "Epoch 16/100\n",
      "609/609 [==============================] - 1s 1ms/step - loss: 0.0418 - acc: 0.9832 - val_loss: 1.0936 - val_acc: 0.7490\n",
      "Epoch 17/100\n",
      "609/609 [==============================] - 1s 849us/step - loss: 0.0418 - acc: 0.9828 - val_loss: 1.1358 - val_acc: 0.7503\n",
      "Epoch 18/100\n",
      "609/609 [==============================] - 1s 995us/step - loss: 0.0411 - acc: 0.9832 - val_loss: 1.1751 - val_acc: 0.7464\n",
      "Epoch 19/100\n",
      "609/609 [==============================] - 1s 893us/step - loss: 0.0389 - acc: 0.9837 - val_loss: 1.2005 - val_acc: 0.7438\n",
      "Epoch 20/100\n",
      "609/609 [==============================] - 1s 830us/step - loss: 0.0398 - acc: 0.9828 - val_loss: 1.2397 - val_acc: 0.7385\n",
      "Epoch 21/100\n",
      "609/609 [==============================] - 1s 825us/step - loss: 0.0393 - acc: 0.9836 - val_loss: 1.2801 - val_acc: 0.7346\n",
      "Epoch 22/100\n",
      "609/609 [==============================] - 1s 992us/step - loss: 0.0391 - acc: 0.9839 - val_loss: 1.2882 - val_acc: 0.7438\n",
      "Epoch 23/100\n",
      "609/609 [==============================] - 1s 1ms/step - loss: 0.0384 - acc: 0.9844 - val_loss: 1.3315 - val_acc: 0.7372\n",
      "Epoch 24/100\n",
      "609/609 [==============================] - 1s 1ms/step - loss: 0.0371 - acc: 0.9844 - val_loss: 1.3665 - val_acc: 0.7319\n",
      "Epoch 25/100\n",
      "609/609 [==============================] - 1s 1ms/step - loss: 0.0366 - acc: 0.9839 - val_loss: 1.4069 - val_acc: 0.7346\n",
      "Epoch 26/100\n",
      "609/609 [==============================] - 1s 1ms/step - loss: 0.0388 - acc: 0.9839 - val_loss: 1.4155 - val_acc: 0.7359\n",
      "Epoch 27/100\n",
      "609/609 [==============================] - 1s 1ms/step - loss: 0.0358 - acc: 0.9844 - val_loss: 1.4468 - val_acc: 0.7306\n",
      "Epoch 28/100\n",
      "609/609 [==============================] - 1s 1ms/step - loss: 0.0353 - acc: 0.9834 - val_loss: 1.4851 - val_acc: 0.7280\n",
      "Epoch 29/100\n",
      "609/609 [==============================] - 1s 1ms/step - loss: 0.0350 - acc: 0.9846 - val_loss: 1.5242 - val_acc: 0.7293\n",
      "Epoch 30/100\n",
      "609/609 [==============================] - 1s 1ms/step - loss: 0.0353 - acc: 0.9836 - val_loss: 1.5536 - val_acc: 0.7254\n",
      "Epoch 31/100\n",
      "609/609 [==============================] - 1s 1ms/step - loss: 0.0345 - acc: 0.9842 - val_loss: 1.5679 - val_acc: 0.7280\n",
      "Epoch 32/100\n",
      "609/609 [==============================] - 1s 1ms/step - loss: 0.0354 - acc: 0.9837 - val_loss: 1.6113 - val_acc: 0.7267\n",
      "Epoch 33/100\n",
      "609/609 [==============================] - 1s 871us/step - loss: 0.0344 - acc: 0.9844 - val_loss: 1.6077 - val_acc: 0.7267\n",
      "Epoch 34/100\n",
      "609/609 [==============================] - 1s 1ms/step - loss: 0.0340 - acc: 0.9846 - val_loss: 1.6370 - val_acc: 0.7254\n",
      "Epoch 35/100\n",
      "609/609 [==============================] - 1s 1ms/step - loss: 0.0337 - acc: 0.9851 - val_loss: 1.6722 - val_acc: 0.7267\n",
      "Epoch 36/100\n",
      "609/609 [==============================] - 1s 1ms/step - loss: 0.0322 - acc: 0.9859 - val_loss: 1.6946 - val_acc: 0.7214\n",
      "Epoch 37/100\n",
      "609/609 [==============================] - 1s 1ms/step - loss: 0.0334 - acc: 0.9852 - val_loss: 1.6960 - val_acc: 0.7254\n",
      "Epoch 38/100\n",
      "609/609 [==============================] - 1s 884us/step - loss: 0.0333 - acc: 0.9849 - val_loss: 1.7283 - val_acc: 0.7280\n",
      "Epoch 39/100\n",
      "609/609 [==============================] - 1s 827us/step - loss: 0.0337 - acc: 0.9837 - val_loss: 1.7553 - val_acc: 0.7214\n",
      "Epoch 40/100\n",
      "609/609 [==============================] - 1s 826us/step - loss: 0.0320 - acc: 0.9859 - val_loss: 1.7660 - val_acc: 0.7214\n",
      "Epoch 41/100\n",
      "609/609 [==============================] - 1s 825us/step - loss: 0.0321 - acc: 0.9841 - val_loss: 1.7715 - val_acc: 0.7280\n",
      "Epoch 42/100\n",
      "609/609 [==============================] - 1s 838us/step - loss: 0.0318 - acc: 0.9855 - val_loss: 1.8414 - val_acc: 0.7254\n",
      "Epoch 43/100\n",
      "609/609 [==============================] - 0s 813us/step - loss: 0.0324 - acc: 0.9851 - val_loss: 1.8020 - val_acc: 0.7240\n",
      "Epoch 44/100\n",
      "609/609 [==============================] - 1s 902us/step - loss: 0.0313 - acc: 0.9844 - val_loss: 1.8197 - val_acc: 0.7214\n",
      "Epoch 45/100\n",
      "609/609 [==============================] - 1s 1ms/step - loss: 0.0309 - acc: 0.9854 - val_loss: 1.8280 - val_acc: 0.7201\n",
      "Epoch 46/100\n",
      "609/609 [==============================] - 1s 1ms/step - loss: 0.0316 - acc: 0.9847 - val_loss: 1.8387 - val_acc: 0.7188\n",
      "Epoch 47/100\n",
      "609/609 [==============================] - 1s 1ms/step - loss: 0.0314 - acc: 0.9844 - val_loss: 1.8554 - val_acc: 0.7175\n",
      "Epoch 48/100\n",
      "609/609 [==============================] - 1s 1ms/step - loss: 0.0317 - acc: 0.9841 - val_loss: 1.8553 - val_acc: 0.7109\n",
      "Epoch 49/100\n",
      "609/609 [==============================] - 1s 1ms/step - loss: 0.0305 - acc: 0.9855 - val_loss: 1.8621 - val_acc: 0.7162\n",
      "Epoch 50/100\n",
      "609/609 [==============================] - 1s 1ms/step - loss: 0.0305 - acc: 0.9851 - val_loss: 1.8635 - val_acc: 0.7201\n",
      "Epoch 51/100\n",
      "609/609 [==============================] - 1s 1ms/step - loss: 0.0309 - acc: 0.9839 - val_loss: 1.8833 - val_acc: 0.7162\n",
      "Epoch 52/100\n",
      "609/609 [==============================] - 1s 1ms/step - loss: 0.0298 - acc: 0.9851 - val_loss: 1.8843 - val_acc: 0.7175\n",
      "Epoch 53/100\n",
      "609/609 [==============================] - 1s 965us/step - loss: 0.0299 - acc: 0.9857 - val_loss: 1.8862 - val_acc: 0.7175\n",
      "Epoch 54/100\n",
      "609/609 [==============================] - 1s 900us/step - loss: 0.0296 - acc: 0.9844 - val_loss: 1.9045 - val_acc: 0.7162\n",
      "Epoch 55/100\n",
      "609/609 [==============================] - 1s 1ms/step - loss: 0.0303 - acc: 0.9859 - val_loss: 1.9001 - val_acc: 0.7135\n",
      "Epoch 56/100\n",
      "609/609 [==============================] - 1s 929us/step - loss: 0.0303 - acc: 0.9841 - val_loss: 1.9125 - val_acc: 0.7188\n",
      "Epoch 57/100\n",
      "609/609 [==============================] - 1s 1ms/step - loss: 0.0297 - acc: 0.9849 - val_loss: 1.9108 - val_acc: 0.7148\n",
      "Epoch 58/100\n",
      "609/609 [==============================] - 1s 1ms/step - loss: 0.0289 - acc: 0.9851 - val_loss: 1.9112 - val_acc: 0.7122\n",
      "Epoch 59/100\n",
      "609/609 [==============================] - 1s 1ms/step - loss: 0.0296 - acc: 0.9846 - val_loss: 1.9048 - val_acc: 0.7201\n",
      "Epoch 60/100\n",
      "609/609 [==============================] - 1s 855us/step - loss: 0.0289 - acc: 0.9855 - val_loss: 1.9345 - val_acc: 0.7109\n",
      "Epoch 61/100\n",
      "609/609 [==============================] - 1s 1ms/step - loss: 0.0291 - acc: 0.9857 - val_loss: 1.9176 - val_acc: 0.7135\n"
     ]
    },
    {
     "name": "stdout",
     "output_type": "stream",
     "text": [
      "Epoch 62/100\n",
      "609/609 [==============================] - 1s 1ms/step - loss: 0.0290 - acc: 0.9851 - val_loss: 1.9334 - val_acc: 0.7083\n",
      "Epoch 63/100\n",
      "609/609 [==============================] - 1s 1ms/step - loss: 0.0287 - acc: 0.9852 - val_loss: 1.9320 - val_acc: 0.7122\n",
      "Epoch 64/100\n",
      "609/609 [==============================] - 1s 1ms/step - loss: 0.0283 - acc: 0.9846 - val_loss: 1.9366 - val_acc: 0.7122\n",
      "Epoch 65/100\n",
      "609/609 [==============================] - 1s 1ms/step - loss: 0.0289 - acc: 0.9847 - val_loss: 1.9497 - val_acc: 0.7122\n",
      "Epoch 66/100\n",
      "609/609 [==============================] - 1s 1ms/step - loss: 0.0289 - acc: 0.9844 - val_loss: 1.9375 - val_acc: 0.7148\n",
      "Epoch 67/100\n",
      "609/609 [==============================] - 1s 1ms/step - loss: 0.0284 - acc: 0.9852 - val_loss: 1.9207 - val_acc: 0.7135\n",
      "Epoch 68/100\n",
      "609/609 [==============================] - 1s 1ms/step - loss: 0.0283 - acc: 0.9860 - val_loss: 1.9367 - val_acc: 0.7148\n",
      "Epoch 69/100\n",
      "609/609 [==============================] - 1s 887us/step - loss: 0.0280 - acc: 0.9860 - val_loss: 1.9369 - val_acc: 0.7162\n",
      "Epoch 70/100\n",
      "609/609 [==============================] - 1s 896us/step - loss: 0.0285 - acc: 0.9842 - val_loss: 1.9506 - val_acc: 0.7148\n",
      "Epoch 71/100\n",
      "609/609 [==============================] - 1s 945us/step - loss: 0.0278 - acc: 0.9857 - val_loss: 1.9470 - val_acc: 0.7109\n",
      "Epoch 72/100\n",
      "609/609 [==============================] - 1s 1ms/step - loss: 0.0282 - acc: 0.9842 - val_loss: 1.9523 - val_acc: 0.7148\n",
      "Epoch 73/100\n",
      "609/609 [==============================] - 1s 1ms/step - loss: 0.0277 - acc: 0.9854 - val_loss: 1.9516 - val_acc: 0.7083\n",
      "Epoch 74/100\n",
      "609/609 [==============================] - 1s 1ms/step - loss: 0.0278 - acc: 0.9851 - val_loss: 1.9636 - val_acc: 0.7148\n",
      "Epoch 75/100\n",
      "609/609 [==============================] - 1s 1ms/step - loss: 0.0277 - acc: 0.9855 - val_loss: 1.9704 - val_acc: 0.7148\n",
      "Epoch 76/100\n",
      "609/609 [==============================] - 1s 855us/step - loss: 0.0276 - acc: 0.9852 - val_loss: 1.9836 - val_acc: 0.7096\n",
      "Epoch 77/100\n",
      "609/609 [==============================] - 1s 932us/step - loss: 0.0276 - acc: 0.9857 - val_loss: 1.9972 - val_acc: 0.7162\n",
      "Epoch 78/100\n",
      "609/609 [==============================] - 1s 911us/step - loss: 0.0276 - acc: 0.9851 - val_loss: 2.0216 - val_acc: 0.7175\n",
      "Epoch 79/100\n",
      "609/609 [==============================] - 1s 1ms/step - loss: 0.0276 - acc: 0.9851 - val_loss: 1.9701 - val_acc: 0.7070\n",
      "Epoch 80/100\n",
      "609/609 [==============================] - 1s 1ms/step - loss: 0.0279 - acc: 0.9849 - val_loss: 1.9713 - val_acc: 0.7122\n",
      "Epoch 81/100\n",
      "609/609 [==============================] - 1s 966us/step - loss: 0.0275 - acc: 0.9854 - val_loss: 1.9692 - val_acc: 0.7096\n",
      "Epoch 82/100\n",
      "609/609 [==============================] - 1s 1ms/step - loss: 0.0273 - acc: 0.9847 - val_loss: 1.9917 - val_acc: 0.7122\n",
      "Epoch 83/100\n",
      "609/609 [==============================] - 1s 1ms/step - loss: 0.0276 - acc: 0.9849 - val_loss: 1.9870 - val_acc: 0.7135\n",
      "Epoch 84/100\n",
      "609/609 [==============================] - 1s 1ms/step - loss: 0.0274 - acc: 0.9851 - val_loss: 1.9766 - val_acc: 0.7122\n",
      "Epoch 85/100\n",
      "609/609 [==============================] - 1s 1ms/step - loss: 0.0271 - acc: 0.9847 - val_loss: 1.9737 - val_acc: 0.7096\n",
      "Epoch 86/100\n",
      "609/609 [==============================] - 1s 919us/step - loss: 0.0272 - acc: 0.9849 - val_loss: 1.9967 - val_acc: 0.7109\n",
      "Epoch 87/100\n",
      "609/609 [==============================] - 1s 1ms/step - loss: 0.0272 - acc: 0.9857 - val_loss: 1.9902 - val_acc: 0.7096\n",
      "Epoch 88/100\n",
      "609/609 [==============================] - 1s 1ms/step - loss: 0.0272 - acc: 0.9851 - val_loss: 1.9896 - val_acc: 0.7122\n",
      "Epoch 89/100\n",
      "609/609 [==============================] - 1s 1ms/step - loss: 0.0267 - acc: 0.9852 - val_loss: 2.0033 - val_acc: 0.7135\n",
      "Epoch 90/100\n",
      "609/609 [==============================] - 1s 1ms/step - loss: 0.0269 - acc: 0.9855 - val_loss: 2.0199 - val_acc: 0.7135\n",
      "Epoch 91/100\n",
      "609/609 [==============================] - 1s 2ms/step - loss: 0.0266 - acc: 0.9862 - val_loss: 2.0190 - val_acc: 0.7109\n",
      "Epoch 92/100\n",
      "609/609 [==============================] - 1s 1ms/step - loss: 0.0268 - acc: 0.9857 - val_loss: 2.0495 - val_acc: 0.7135\n",
      "Epoch 93/100\n",
      "609/609 [==============================] - 1s 1ms/step - loss: 0.0264 - acc: 0.9854 - val_loss: 2.0496 - val_acc: 0.7122\n",
      "Epoch 94/100\n",
      "609/609 [==============================] - 1s 1ms/step - loss: 0.0266 - acc: 0.9847 - val_loss: 2.0831 - val_acc: 0.7162\n",
      "Epoch 95/100\n",
      "609/609 [==============================] - 1s 1ms/step - loss: 0.0265 - acc: 0.9864 - val_loss: 2.0579 - val_acc: 0.7083\n",
      "Epoch 96/100\n",
      "609/609 [==============================] - 1s 1ms/step - loss: 0.0266 - acc: 0.9849 - val_loss: 2.0679 - val_acc: 0.7135\n",
      "Epoch 97/100\n",
      "609/609 [==============================] - 1s 1ms/step - loss: 0.0265 - acc: 0.9855 - val_loss: 2.0852 - val_acc: 0.7135\n",
      "Epoch 98/100\n",
      "609/609 [==============================] - 1s 1ms/step - loss: 0.0263 - acc: 0.9854 - val_loss: 2.1102 - val_acc: 0.7162\n",
      "Epoch 99/100\n",
      "609/609 [==============================] - 1s 1ms/step - loss: 0.0265 - acc: 0.9857 - val_loss: 2.0960 - val_acc: 0.7122\n",
      "Epoch 100/100\n",
      "609/609 [==============================] - 1s 1ms/step - loss: 0.0262 - acc: 0.9857 - val_loss: 2.1340 - val_acc: 0.7175\n"
     ]
    }
   ],
   "source": [
    "first_history = model.fit(X_train, train[\"target\"].to_numpy(),\n",
    "                    epochs=100,\n",
    "                    verbose=True,\n",
    "                    validation_data=(X_val, val[\"target\"].to_numpy()),\n",
    "                    batch_size=10)"
   ]
  },
  {
   "cell_type": "code",
   "execution_count": 12,
   "metadata": {},
   "outputs": [
    {
     "data": {
      "image/png": "[encoded data removed]",
      "text/plain": [
       "<Figure size 864x360 with 2 Axes>"
      ]
     },
     "metadata": {},
     "output_type": "display_data"
    }
   ],
   "source": [
    "plot_history(first_history)"
   ]
  },
  {
   "cell_type": "code",
   "execution_count": 13,
   "metadata": {},
   "outputs": [
    {
     "name": "stdout",
     "output_type": "stream",
     "text": [
      "Testing Accuracy:  0.7261\n"
     ]
    }
   ],
   "source": [
    "loss, accuracy = model.evaluate(X_test, test[\"target\"].to_numpy(), verbose=False)\n",
    "print(\"Testing Accuracy:  {:.4f}\".format(accuracy))"
   ]
  },
  {
   "cell_type": "code",
   "execution_count": 14,
   "metadata": {},
   "outputs": [
    {
     "name": "stdout",
     "output_type": "stream",
     "text": [
      "WARNING:tensorflow:From <ipython-input-14-d15e367cbfe8>:1: Sequential.predict_classes (from tensorflow.python.keras.engine.sequential) is deprecated and will be removed after 2021-01-01.\n",
      "Instructions for updating:\n",
      "Please use instead:* `np.argmax(model.predict(x), axis=-1)`,   if your model does multi-class classification   (e.g. if it uses a `softmax` last-layer activation).* `(model.predict(x) > 0.5).astype(\"int32\")`,   if your model does binary classification   (e.g. if it uses a `sigmoid` last-layer activation).\n"
     ]
    }
   ],
   "source": [
    "firstPredictions = list(map(lambda x: x[0], model.predict_classes(actual_tp_test_only_text)))"
   ]
  },
  {
   "cell_type": "code",
   "execution_count": 15,
   "metadata": {},
   "outputs": [
    {
     "data": {
      "text/html": [
       "<div>\n",
       "<style scoped>\n",
       "    .dataframe tbody tr th:only-of-type {\n",
       "        vertical-align: middle;\n",
       "    }\n",
       "\n",
       "    .dataframe tbody tr th {\n",
       "        vertical-align: top;\n",
       "    }\n",
       "\n",
       "    .dataframe thead th {\n",
       "        text-align: right;\n",
       "    }\n",
       "</style>\n",
       "<table border=\"1\" class=\"dataframe\">\n",
       "  <thead>\n",
       "    <tr style=\"text-align: right;\">\n",
       "      <th></th>\n",
       "      <th>id</th>\n",
       "      <th>target</th>\n",
       "    </tr>\n",
       "  </thead>\n",
       "  <tbody>\n",
       "    <tr>\n",
       "      <th>0</th>\n",
       "      <td>1695</td>\n",
       "      <td>1</td>\n",
       "    </tr>\n",
       "    <tr>\n",
       "      <th>1</th>\n",
       "      <td>4818</td>\n",
       "      <td>1</td>\n",
       "    </tr>\n",
       "    <tr>\n",
       "      <th>2</th>\n",
       "      <td>2904</td>\n",
       "      <td>1</td>\n",
       "    </tr>\n",
       "    <tr>\n",
       "      <th>3</th>\n",
       "      <td>4999</td>\n",
       "      <td>0</td>\n",
       "    </tr>\n",
       "    <tr>\n",
       "      <th>4</th>\n",
       "      <td>9891</td>\n",
       "      <td>0</td>\n",
       "    </tr>\n",
       "    <tr>\n",
       "      <th>5</th>\n",
       "      <td>3931</td>\n",
       "      <td>0</td>\n",
       "    </tr>\n",
       "    <tr>\n",
       "      <th>6</th>\n",
       "      <td>6117</td>\n",
       "      <td>0</td>\n",
       "    </tr>\n",
       "    <tr>\n",
       "      <th>7</th>\n",
       "      <td>9189</td>\n",
       "      <td>1</td>\n",
       "    </tr>\n",
       "    <tr>\n",
       "      <th>8</th>\n",
       "      <td>6471</td>\n",
       "      <td>1</td>\n",
       "    </tr>\n",
       "    <tr>\n",
       "      <th>9</th>\n",
       "      <td>10324</td>\n",
       "      <td>1</td>\n",
       "    </tr>\n",
       "  </tbody>\n",
       "</table>\n",
       "</div>"
      ],
      "text/plain": [
       "      id  target\n",
       "0   1695       1\n",
       "1   4818       1\n",
       "2   2904       1\n",
       "3   4999       0\n",
       "4   9891       0\n",
       "5   3931       0\n",
       "6   6117       0\n",
       "7   9189       1\n",
       "8   6471       1\n",
       "9  10324       1"
      ]
     },
     "execution_count": 15,
     "metadata": {},
     "output_type": "execute_result"
    }
   ],
   "source": [
    "firstPredictionsDF = pd.DataFrame(data={'id': test_limpio[\"id\"], 'target': firstPredictions})\n",
    "firstPredictionsDF.head(10)"
   ]
  },
  {
   "cell_type": "code",
   "execution_count": 16,
   "metadata": {},
   "outputs": [],
   "source": [
    "firstPredictionsDF.to_csv('NN_predictions_first_model.csv', index=False)"
   ]
  },
  {
   "cell_type": "markdown",
   "metadata": {},
   "source": [
    "## Segundo modelo, agrego ciudades y Tokenizer en vez de count para las words"
   ]
  },
  {
   "cell_type": "code",
   "execution_count": 17,
   "metadata": {},
   "outputs": [
    {
     "data": {
      "text/plain": [
       "array(['London.', 'Nairobi-KENYA', 'USA', ..., 'denmark', 'sweden',\n",
       "       'Hong Kong'], dtype=object)"
      ]
     },
     "execution_count": 17,
     "metadata": {},
     "output_type": "execute_result"
    }
   ],
   "source": [
    "non_null_locations = train_limpio[train_limpio.location.notnull()][\"location\"].to_numpy()\n",
    "non_null_locations"
   ]
  },
  {
   "cell_type": "code",
   "execution_count": 18,
   "metadata": {},
   "outputs": [
    {
     "data": {
      "text/plain": [
       "5080"
      ]
     },
     "execution_count": 18,
     "metadata": {},
     "output_type": "execute_result"
    }
   ],
   "source": [
    "encoder = LabelEncoder()\n",
    "locations = encoder.fit_transform(non_null_locations)\n",
    "len(locations)"
   ]
  },
  {
   "cell_type": "code",
   "execution_count": 19,
   "metadata": {},
   "outputs": [
    {
     "data": {
      "text/plain": [
       "array([[0., 0., 0., ..., 0., 0., 0.],\n",
       "       [0., 0., 0., ..., 0., 0., 0.],\n",
       "       [0., 0., 0., ..., 0., 0., 0.],\n",
       "       ...,\n",
       "       [0., 0., 0., ..., 0., 0., 0.],\n",
       "       [0., 0., 0., ..., 0., 0., 0.],\n",
       "       [0., 0., 0., ..., 0., 0., 0.]])"
      ]
     },
     "execution_count": 19,
     "metadata": {},
     "output_type": "execute_result"
    }
   ],
   "source": [
    "encoder = OneHotEncoder(sparse=False)\n",
    "locations = locations.reshape((5080, 1))\n",
    "encoder.fit_transform(locations)"
   ]
  },
  {
   "cell_type": "code",
   "execution_count": 20,
   "metadata": {},
   "outputs": [
    {
     "name": "stdout",
     "output_type": "stream",
     "text": [
      "cartoon bear without them we would qave no knowlddg of forest fire or toilet paper\n",
      "[69, 3, 140, 3781, 1372, 75, 27, 3009, 72, 115, 1, 140, 99, 609, 1579]\n"
     ]
    }
   ],
   "source": [
    "tokenizer = Tokenizer(num_words=5000)\n",
    "tokenizer.fit_on_texts(train_limpio[\"text\"].values.astype('U'))\n",
    "\n",
    "X_train = tokenizer.texts_to_sequences(train[\"text\"].values.astype('U'))\n",
    "X_val = tokenizer.texts_to_sequences(val[\"text\"].values.astype('U'))\n",
    "X_test = tokenizer.texts_to_sequences(test[\"text\"].values.astype('U'))\n",
    "\n",
    "vocab_size = len(tokenizer.word_index) + 1  # Adding 1 because of reserved 0 index\n",
    "\n",
    "print(train_limpio[\"text\"].values[2])\n",
    "print(X_train[2])"
   ]
  },
  {
   "cell_type": "code",
   "execution_count": 21,
   "metadata": {},
   "outputs": [],
   "source": [
    "maxlen = 100\n",
    "\n",
    "X_train = pad_sequences(X_train, padding='post', maxlen=maxlen)\n",
    "X_val = pad_sequences(X_val, padding='post', maxlen=maxlen)\n",
    "X_test = pad_sequences(X_test, padding='post', maxlen=maxlen)"
   ]
  },
  {
   "cell_type": "markdown",
   "metadata": {},
   "source": [
    "## Pruebo solo texto, modelo mas complejo con maxPooling y mejor embedding"
   ]
  },
  {
   "cell_type": "code",
   "execution_count": 22,
   "metadata": {},
   "outputs": [
    {
     "name": "stdout",
     "output_type": "stream",
     "text": [
      "Model: \"sequential_1\"\n",
      "_________________________________________________________________\n",
      "Layer (type)                 Output Shape              Param #   \n",
      "=================================================================\n",
      "embedding (Embedding)        (None, 100, 50)           675500    \n",
      "_________________________________________________________________\n",
      "global_max_pooling1d (Global (None, 50)                0         \n",
      "_________________________________________________________________\n",
      "dense_2 (Dense)              (None, 10)                510       \n",
      "_________________________________________________________________\n",
      "dense_3 (Dense)              (None, 1)                 11        \n",
      "=================================================================\n",
      "Total params: 676,021\n",
      "Trainable params: 676,021\n",
      "Non-trainable params: 0\n",
      "_________________________________________________________________\n"
     ]
    }
   ],
   "source": [
    "embedding_dim = 50\n",
    "\n",
    "model1 = Sequential()\n",
    "model1.add(layers.Embedding(input_dim=vocab_size, \n",
    "                           output_dim=embedding_dim, \n",
    "                           input_length=maxlen))\n",
    "model1.add(layers.GlobalMaxPool1D())\n",
    "model1.add(layers.Dense(10, activation='relu'))\n",
    "model1.add(layers.Dense(1, activation='sigmoid'))\n",
    "model1.compile(optimizer='adam',\n",
    "              loss='binary_crossentropy',\n",
    "              metrics=['acc'])\n",
    "model1.summary()"
   ]
  },
  {
   "cell_type": "code",
   "execution_count": 23,
   "metadata": {},
   "outputs": [
    {
     "name": "stdout",
     "output_type": "stream",
     "text": [
      "Testing Accuracy:  0.7785\n"
     ]
    },
    {
     "data": {
      "image/png": "[encoded data removed]",
      "text/plain": [
       "<Figure size 864x360 with 2 Axes>"
      ]
     },
     "metadata": {},
     "output_type": "display_data"
    }
   ],
   "source": [
    "second_history = model1.fit(X_train, train[\"target\"].to_numpy(),\n",
    "                    epochs=50,\n",
    "                    verbose=False,\n",
    "                    validation_data=(X_val, val[\"target\"].to_numpy()),\n",
    "                    batch_size=10)\n",
    "\n",
    "loss, accuracy = model1.evaluate(X_test, test[\"target\"].to_numpy(), verbose=False)\n",
    "print(\"Testing Accuracy:  {:.4f}\".format(accuracy))\n",
    "plot_history(second_history)"
   ]
  },
  {
   "cell_type": "markdown",
   "metadata": {},
   "source": [
    "## Tercer modelo"
   ]
  },
  {
   "cell_type": "code",
   "execution_count": 24,
   "metadata": {},
   "outputs": [
    {
     "name": "stdout",
     "output_type": "stream",
     "text": [
      "Model: \"sequential_2\"\n",
      "_________________________________________________________________\n",
      "Layer (type)                 Output Shape              Param #   \n",
      "=================================================================\n",
      "embedding_1 (Embedding)      (None, 100, 100)          1351000   \n",
      "_________________________________________________________________\n",
      "conv1d (Conv1D)              (None, 96, 128)           64128     \n",
      "_________________________________________________________________\n",
      "global_max_pooling1d_1 (Glob (None, 128)               0         \n",
      "_________________________________________________________________\n",
      "dense_4 (Dense)              (None, 10)                1290      \n",
      "_________________________________________________________________\n",
      "dense_5 (Dense)              (None, 1)                 11        \n",
      "=================================================================\n",
      "Total params: 1,416,429\n",
      "Trainable params: 1,416,429\n",
      "Non-trainable params: 0\n",
      "_________________________________________________________________\n"
     ]
    }
   ],
   "source": [
    "embedding_dim = 100\n",
    "\n",
    "model2 = Sequential()\n",
    "model2.add(layers.Embedding(vocab_size, embedding_dim, input_length=maxlen))\n",
    "model2.add(layers.Conv1D(128, 5, activation='relu'))\n",
    "model2.add(layers.GlobalMaxPooling1D())\n",
    "model2.add(layers.Dense(10, activation='relu'))\n",
    "model2.add(layers.Dense(1, activation='sigmoid'))\n",
    "model2.compile(optimizer='adam',\n",
    "              loss='binary_crossentropy',\n",
    "              metrics=['acc'])\n",
    "model2.summary()"
   ]
  },
  {
   "cell_type": "code",
   "execution_count": 25,
   "metadata": {},
   "outputs": [
    {
     "name": "stdout",
     "output_type": "stream",
     "text": [
      "Epoch 1/10\n",
      "609/609 [==============================] - 8s 13ms/step - loss: 0.5230 - acc: 0.7336 - val_loss: 0.4824 - val_acc: 0.7819\n",
      "Epoch 2/10\n",
      "609/609 [==============================] - 10s 16ms/step - loss: 0.3224 - acc: 0.8694 - val_loss: 0.5006 - val_acc: 0.7924\n",
      "Epoch 3/10\n",
      "609/609 [==============================] - 8s 14ms/step - loss: 0.2015 - acc: 0.9274 - val_loss: 0.5841 - val_acc: 0.7687\n",
      "Epoch 4/10\n",
      "609/609 [==============================] - 7s 12ms/step - loss: 0.1269 - acc: 0.9583 - val_loss: 0.6831 - val_acc: 0.7608\n",
      "Epoch 5/10\n",
      "609/609 [==============================] - 8s 13ms/step - loss: 0.0857 - acc: 0.9721 - val_loss: 0.6507 - val_acc: 0.7569\n",
      "Epoch 6/10\n",
      "609/609 [==============================] - 8s 13ms/step - loss: 0.0615 - acc: 0.9777 - val_loss: 0.8789 - val_acc: 0.7556\n",
      "Epoch 7/10\n",
      "609/609 [==============================] - 7s 11ms/step - loss: 0.0474 - acc: 0.9800 - val_loss: 0.9585 - val_acc: 0.7635\n",
      "Epoch 8/10\n",
      "609/609 [==============================] - 7s 12ms/step - loss: 0.0384 - acc: 0.9816 - val_loss: 1.1701 - val_acc: 0.7556\n",
      "Epoch 9/10\n",
      "609/609 [==============================] - 7s 11ms/step - loss: 0.0356 - acc: 0.9821 - val_loss: 1.2103 - val_acc: 0.7543\n",
      "Epoch 10/10\n",
      "609/609 [==============================] - 7s 12ms/step - loss: 0.0354 - acc: 0.9824 - val_loss: 1.2080 - val_acc: 0.7477\n",
      "Training Accuracy: 0.9837\n",
      "Testing Accuracy:  0.7680\n"
     ]
    },
    {
     "data": {
      "image/png": "[encoded data removed]",
      "text/plain": [
       "<Figure size 864x360 with 2 Axes>"
      ]
     },
     "metadata": {},
     "output_type": "display_data"
    }
   ],
   "source": [
    "third_history = model2.fit(X_train, train[\"target\"].to_numpy(),\n",
    "                    epochs=10,\n",
    "                    verbose=True,\n",
    "                    validation_data=(X_val, val[\"target\"].to_numpy()),\n",
    "                    batch_size=10)\n",
    "loss, accuracy = model2.evaluate(X_train, train[\"target\"].to_numpy(), verbose=False)\n",
    "print(\"Training Accuracy: {:.4f}\".format(accuracy))\n",
    "loss, accuracy = model2.evaluate(X_test, test[\"target\"].to_numpy(), verbose=False)\n",
    "print(\"Testing Accuracy:  {:.4f}\".format(accuracy))\n",
    "plot_history(third_history)\n"
   ]
  },
  {
   "cell_type": "markdown",
   "metadata": {},
   "source": [
    "## Cuarto Modelo"
   ]
  },
  {
   "cell_type": "code",
   "execution_count": 26,
   "metadata": {},
   "outputs": [],
   "source": [
    "def create_model(num_filters, kernel_size, vocab_size, embedding_dim, maxlen):\n",
    "    model3 = Sequential()\n",
    "    model3.add(layers.Embedding(vocab_size, embedding_dim, input_length=maxlen))\n",
    "    model3.add(layers.Conv1D(num_filters, kernel_size, activation='relu'))\n",
    "    model3.add(layers.GlobalMaxPooling1D())\n",
    "    model3.add(layers.Dense(10, activation='relu'))\n",
    "    model3.add(layers.Dense(1, activation='sigmoid'))\n",
    "    model3.compile(optimizer='adam',\n",
    "                  loss='binary_crossentropy',\n",
    "                  metrics=['accuracy'])\n",
    "    return model3\n",
    "\n",
    "param_grid = dict(num_filters=[32, 64, 128],\n",
    "                  kernel_size=[3, 5, 7],\n",
    "                  vocab_size=[5000], \n",
    "                  embedding_dim=[50],\n",
    "                  maxlen=[100])"
   ]
  },
  {
   "cell_type": "code",
   "execution_count": 27,
   "metadata": {},
   "outputs": [],
   "source": [
    "# # Main settings\n",
    "# epochs = 20\n",
    "# embedding_dim = 50\n",
    "# maxlen = 100\n",
    "# output_file = 'output.txt'\n",
    "\n",
    "# source = \"twitter\"\n",
    "# # Run grid search for each source (yelp, amazon, imdb)\n",
    "# print('Running grid search for data set :', \"twitter\")\n",
    "# sentences = train_limpio[\"text\"].values.astype('U')\n",
    "# # Train-test split\n",
    "# train = pd.concat([train_limpio_true.iloc[:3000], train_limpio_false.iloc[:4000]]).sample(frac=1).reset_index(drop=True)\n",
    "# test = pd.concat([train_limpio_true.iloc[3000:], train_limpio_false.iloc[4000:]]).sample(frac=1).reset_index(drop=True)\n",
    "\n",
    "# # Tokenize words\n",
    "# tokenizer = Tokenizer(num_words=5000)\n",
    "# tokenizer.fit_on_texts(sentences)\n",
    "# X_train = tokenizer.texts_to_sequences(train[\"text\"].values.astype('U'))\n",
    "# X_test = tokenizer.texts_to_sequences(test[\"text\"].values.astype('U'))\n",
    "\n",
    "# # Adding 1 because of reserved 0 index\n",
    "# vocab_size = len(tokenizer.word_index) + 1\n",
    "\n",
    "# # Pad sequences with zeros\n",
    "# X_train = pad_sequences(X_train, padding='post', maxlen=maxlen)\n",
    "# X_test = pad_sequences(X_test, padding='post', maxlen=maxlen)\n",
    "\n",
    "# # Parameter grid for grid search\n",
    "# param_grid = dict(num_filters=[32, 64, 128],\n",
    "#                       kernel_size=[3, 5, 7],\n",
    "#                       vocab_size=[vocab_size],\n",
    "#                       embedding_dim=[embedding_dim],\n",
    "#                       maxlen=[maxlen])\n",
    "# model3 = KerasClassifier(build_fn=create_model,\n",
    "#                         epochs=epochs, batch_size=10,\n",
    "#                             verbose=False)\n",
    "# grid = RandomizedSearchCV(estimator=model3, param_distributions=param_grid,\n",
    "#                               cv=10, verbose=1, n_iter=10)\n",
    "# grid_result = grid.fit(X_train, train[\"target\"])\n",
    "\n",
    "# # Evaluate testing set\n",
    "# test_accuracy = grid.score(X_test, test[\"target\"])\n",
    "\n",
    "# # Save and evaluate results\n",
    "# #     prompt = input(f'finished {source}; write to file and proceed? [y/n]')\n",
    "# #     if prompt.lower() not in {'y', 'true', 'yes'}:\n",
    "# #         break\n",
    "# #     with open(output_file, 'w+') as f:\n",
    "# s = ('Running {} data set\\nBest Accuracy : '\n",
    "#              '{:.4f}\\n{}\\nTest Accuracy : {:.4f}\\n\\n')\n",
    "# output_string = s.format(\n",
    "#         source,\n",
    "#         grid_result.best_score_,\n",
    "#         grid_result.best_params_,\n",
    "#         test_accuracy)\n",
    "# print(output_string)\n",
    "# #         f.write(output_string)"
   ]
  },
  {
   "cell_type": "markdown",
   "metadata": {},
   "source": [
    "# Modelo con tf idf"
   ]
  },
  {
   "cell_type": "code",
   "execution_count": 28,
   "metadata": {},
   "outputs": [],
   "source": [
    "train_limpio_tf_idf = pd.read_csv(\"train_limpio_con_Tf-Idf.csv\",encoding = \"ISO-8859-1\").sample(frac=1).reset_index(drop=True)\n",
    "test_limpio_tf_idf = pd.read_csv(\"test_limpio_con_Tf-Idf.csv\",encoding = \"ISO-8859-1\").sample(frac=1).reset_index(drop=True)"
   ]
  },
  {
   "cell_type": "code",
   "execution_count": 29,
   "metadata": {},
   "outputs": [],
   "source": [
    "train_limpio_tf_idf = train_limpio_tf_idf.drop(columns=[\"id\"])"
   ]
  },
  {
   "cell_type": "code",
   "execution_count": 30,
   "metadata": {},
   "outputs": [],
   "source": [
    "train_limpio_tf_idf_true = train_limpio_tf_idf.loc[train_limpio_tf_idf[\"target\"] == 1]\n",
    "train_limpio_tf_idf_false = train_limpio_tf_idf.loc[train_limpio_tf_idf[\"target\"] == 0]"
   ]
  },
  {
   "cell_type": "code",
   "execution_count": 31,
   "metadata": {},
   "outputs": [],
   "source": [
    "train_tf_idf = pd.concat([train_limpio_tf_idf_true.iloc[:2616], train_limpio_tf_idf_false.iloc[:3473]])\n",
    "val_tf_idf = pd.concat([train_limpio_tf_idf_true.iloc[2616:3000], train_limpio_tf_idf_false.iloc[3473:3850]])\n",
    "test_tf_idf = pd.concat([train_limpio_tf_idf_true.iloc[3000:], train_limpio_tf_idf_false.iloc[3850:]])"
   ]
  },
  {
   "cell_type": "code",
   "execution_count": 32,
   "metadata": {},
   "outputs": [],
   "source": [
    "x_train_tf_idf = train_tf_idf.iloc[:, :2392]\n",
    "x_val_tf_idf = val_tf_idf.iloc[:, :2392]\n",
    "x_test_tf_idf = test_tf_idf.iloc[:, :2392]"
   ]
  },
  {
   "cell_type": "code",
   "execution_count": 33,
   "metadata": {},
   "outputs": [
    {
     "name": "stdout",
     "output_type": "stream",
     "text": [
      "Model: \"sequential_3\"\n",
      "_________________________________________________________________\n",
      "Layer (type)                 Output Shape              Param #   \n",
      "=================================================================\n",
      "dense_6 (Dense)              (None, 10)                23930     \n",
      "_________________________________________________________________\n",
      "dense_7 (Dense)              (None, 1)                 11        \n",
      "=================================================================\n",
      "Total params: 23,941\n",
      "Trainable params: 23,941\n",
      "Non-trainable params: 0\n",
      "_________________________________________________________________\n"
     ]
    }
   ],
   "source": [
    "input_dim_tf_idf = x_train_tf_idf.shape[1]  # Number of features\n",
    "\n",
    "modelTfIdf = Sequential()\n",
    "modelTfIdf.add(layers.Dense(10, input_dim=input_dim_tf_idf, activation='relu'))\n",
    "modelTfIdf.add(layers.Dense(1, activation='sigmoid'))\n",
    "\n",
    "modelTfIdf.compile(loss='binary_crossentropy', \n",
    "              optimizer='adam', \n",
    "              metrics=['acc'])\n",
    "modelTfIdf.summary()"
   ]
  },
  {
   "cell_type": "code",
   "execution_count": 34,
   "metadata": {
    "scrolled": true
   },
   "outputs": [
    {
     "name": "stdout",
     "output_type": "stream",
     "text": [
      "Epoch 1/22\n",
      "609/609 [==============================] - 1s 941us/step - loss: 0.6040 - acc: 0.7096 - val_loss: 0.5220 - val_acc: 0.7648\n",
      "Epoch 2/22\n",
      "609/609 [==============================] - 0s 799us/step - loss: 0.4325 - acc: 0.8290 - val_loss: 0.4484 - val_acc: 0.7911\n",
      "Epoch 3/22\n",
      "609/609 [==============================] - 1s 842us/step - loss: 0.3624 - acc: 0.8487 - val_loss: 0.4455 - val_acc: 0.7937\n",
      "Epoch 4/22\n",
      "609/609 [==============================] - 1s 1ms/step - loss: 0.3253 - acc: 0.8681 - val_loss: 0.4527 - val_acc: 0.7924\n",
      "Epoch 5/22\n",
      "609/609 [==============================] - 1s 1ms/step - loss: 0.3002 - acc: 0.8781 - val_loss: 0.4722 - val_acc: 0.7819\n",
      "Epoch 6/22\n",
      "609/609 [==============================] - 1s 1ms/step - loss: 0.2811 - acc: 0.8844 - val_loss: 0.4928 - val_acc: 0.7845\n",
      "Epoch 7/22\n",
      "609/609 [==============================] - 1s 993us/step - loss: 0.2657 - acc: 0.8910 - val_loss: 0.5119 - val_acc: 0.7766\n",
      "Epoch 8/22\n",
      "609/609 [==============================] - 1s 835us/step - loss: 0.2525 - acc: 0.8957 - val_loss: 0.5387 - val_acc: 0.7740\n",
      "Epoch 9/22\n",
      "609/609 [==============================] - 0s 783us/step - loss: 0.2416 - acc: 0.8993 - val_loss: 0.5594 - val_acc: 0.7727\n",
      "Epoch 10/22\n",
      "609/609 [==============================] - 0s 795us/step - loss: 0.2313 - acc: 0.9039 - val_loss: 0.5820 - val_acc: 0.7687\n",
      "Epoch 11/22\n",
      "609/609 [==============================] - 1s 870us/step - loss: 0.2229 - acc: 0.9087 - val_loss: 0.6080 - val_acc: 0.7595\n",
      "Epoch 12/22\n",
      "609/609 [==============================] - 1s 846us/step - loss: 0.2149 - acc: 0.9103 - val_loss: 0.6366 - val_acc: 0.7661\n",
      "Epoch 13/22\n",
      "609/609 [==============================] - 0s 773us/step - loss: 0.2074 - acc: 0.9097 - val_loss: 0.6532 - val_acc: 0.7556\n",
      "Epoch 14/22\n",
      "609/609 [==============================] - 1s 914us/step - loss: 0.2003 - acc: 0.9172 - val_loss: 0.6877 - val_acc: 0.7714\n",
      "Epoch 15/22\n",
      "609/609 [==============================] - 1s 1ms/step - loss: 0.1946 - acc: 0.9203 - val_loss: 0.7186 - val_acc: 0.7714\n",
      "Epoch 16/22\n",
      "609/609 [==============================] - 1s 1ms/step - loss: 0.1883 - acc: 0.9230 - val_loss: 0.7457 - val_acc: 0.7740\n",
      "Epoch 17/22\n",
      "609/609 [==============================] - 1s 1ms/step - loss: 0.1824 - acc: 0.9284 - val_loss: 0.7871 - val_acc: 0.7700\n",
      "Epoch 18/22\n",
      "609/609 [==============================] - 1s 1ms/step - loss: 0.1774 - acc: 0.9305 - val_loss: 0.8110 - val_acc: 0.7700\n",
      "Epoch 19/22\n",
      "609/609 [==============================] - 1s 1ms/step - loss: 0.1734 - acc: 0.9300 - val_loss: 0.8334 - val_acc: 0.7674\n",
      "Epoch 20/22\n",
      "609/609 [==============================] - 1s 1ms/step - loss: 0.1682 - acc: 0.9353 - val_loss: 0.8603 - val_acc: 0.7635\n",
      "Epoch 21/22\n",
      "609/609 [==============================] - 1s 923us/step - loss: 0.1639 - acc: 0.9335 - val_loss: 0.8975 - val_acc: 0.7700\n",
      "Epoch 22/22\n",
      "609/609 [==============================] - 1s 1ms/step - loss: 0.1592 - acc: 0.9363 - val_loss: 0.9265 - val_acc: 0.7569\n"
     ]
    }
   ],
   "source": [
    "first_history_tf_idf = modelTfIdf.fit(x_train_tf_idf.values, train_tf_idf[\"target\"].to_numpy(),\n",
    "                    epochs=22,\n",
    "                    verbose=True,\n",
    "                    validation_data=(x_val_tf_idf.values, val_tf_idf[\"target\"].to_numpy()),\n",
    "                    batch_size=10)"
   ]
  },
  {
   "cell_type": "code",
   "execution_count": 35,
   "metadata": {},
   "outputs": [
    {
     "name": "stdout",
     "output_type": "stream",
     "text": [
      "Testing Accuracy:  0.7667\n"
     ]
    }
   ],
   "source": [
    "loss, accuracy = modelTfIdf.evaluate(x_test_tf_idf.values, test_tf_idf[\"target\"].to_numpy(), verbose=False)\n",
    "print(\"Testing Accuracy:  {:.4f}\".format(accuracy))"
   ]
  },
  {
   "cell_type": "code",
   "execution_count": 36,
   "metadata": {},
   "outputs": [
    {
     "data": {
      "image/png": "[encoded data removed]",
      "text/plain": [
       "<Figure size 864x360 with 2 Axes>"
      ]
     },
     "metadata": {},
     "output_type": "display_data"
    }
   ],
   "source": [
    "plot_history(first_history_tf_idf)"
   ]
  },
  {
   "cell_type": "markdown",
   "metadata": {},
   "source": [
    "## Segundo modelo, con conv1D y maxPooling (anda muy mal)"
   ]
  },
  {
   "cell_type": "code",
   "execution_count": 39,
   "metadata": {},
   "outputs": [],
   "source": [
    "# embedding_dim = 100\n",
    "# model2_tf_idf = Sequential()\n",
    "# model2_tf_idf.add(layers.Embedding(2400, embedding_dim, input_length=2392))\n",
    "# model2_tf_idf.add(layers.Conv1D(128, 5, activation='relu'))\n",
    "# model2_tf_idf.add(layers.GlobalMaxPooling1D())\n",
    "# model2_tf_idf.add(layers.Dense(10, activation='relu'))\n",
    "# model2_tf_idf.add(layers.Dense(1, activation='sigmoid'))\n",
    "# model2_tf_idf.compile(optimizer='adam',\n",
    "#               loss='binary_crossentropy',\n",
    "#               metrics=['acc'])\n",
    "# model2_tf_idf.summary()"
   ]
  },
  {
   "cell_type": "code",
   "execution_count": 38,
   "metadata": {
    "collapsed": true
   },
   "outputs": [
    {
     "name": "stdout",
     "output_type": "stream",
     "text": [
      "Epoch 1/3\n",
      "609/609 [==============================] - 41s 67ms/step - loss: 0.6835 - acc: 0.5704 - val_loss: 0.7006 - val_acc: 0.4954\n",
      "Epoch 2/3\n",
      "230/609 [==========>...................] - ETA: 27s - loss: 0.6826 - acc: 0.5687"
     ]
    },
    {
     "ename": "KeyboardInterrupt",
     "evalue": "",
     "output_type": "error",
     "traceback": [
      "\u001b[0;31m---------------------------------------------------------------------------\u001b[0m",
      "\u001b[0;31mKeyboardInterrupt\u001b[0m                         Traceback (most recent call last)",
      "\u001b[0;32m<ipython-input-38-a295deb1ffb2>\u001b[0m in \u001b[0;36m<module>\u001b[0;34m\u001b[0m\n\u001b[1;32m      3\u001b[0m                     \u001b[0mverbose\u001b[0m\u001b[0;34m=\u001b[0m\u001b[0;32mTrue\u001b[0m\u001b[0;34m,\u001b[0m\u001b[0;34m\u001b[0m\u001b[0;34m\u001b[0m\u001b[0m\n\u001b[1;32m      4\u001b[0m                     \u001b[0mvalidation_data\u001b[0m\u001b[0;34m=\u001b[0m\u001b[0;34m(\u001b[0m\u001b[0mx_val_tf_idf\u001b[0m\u001b[0;34m.\u001b[0m\u001b[0mvalues\u001b[0m\u001b[0;34m,\u001b[0m \u001b[0mval_tf_idf\u001b[0m\u001b[0;34m[\u001b[0m\u001b[0;34m\"target\"\u001b[0m\u001b[0;34m]\u001b[0m\u001b[0;34m.\u001b[0m\u001b[0mto_numpy\u001b[0m\u001b[0;34m(\u001b[0m\u001b[0;34m)\u001b[0m\u001b[0;34m)\u001b[0m\u001b[0;34m,\u001b[0m\u001b[0;34m\u001b[0m\u001b[0;34m\u001b[0m\u001b[0m\n\u001b[0;32m----> 5\u001b[0;31m                     batch_size=10)\n\u001b[0m",
      "\u001b[0;32m~/datos/lib/python3.6/site-packages/tensorflow/python/keras/engine/training.py\u001b[0m in \u001b[0;36m_method_wrapper\u001b[0;34m(self, *args, **kwargs)\u001b[0m\n\u001b[1;32m     64\u001b[0m   \u001b[0;32mdef\u001b[0m \u001b[0m_method_wrapper\u001b[0m\u001b[0;34m(\u001b[0m\u001b[0mself\u001b[0m\u001b[0;34m,\u001b[0m \u001b[0;34m*\u001b[0m\u001b[0margs\u001b[0m\u001b[0;34m,\u001b[0m \u001b[0;34m**\u001b[0m\u001b[0mkwargs\u001b[0m\u001b[0;34m)\u001b[0m\u001b[0;34m:\u001b[0m\u001b[0;34m\u001b[0m\u001b[0;34m\u001b[0m\u001b[0m\n\u001b[1;32m     65\u001b[0m     \u001b[0;32mif\u001b[0m \u001b[0;32mnot\u001b[0m \u001b[0mself\u001b[0m\u001b[0;34m.\u001b[0m\u001b[0m_in_multi_worker_mode\u001b[0m\u001b[0;34m(\u001b[0m\u001b[0;34m)\u001b[0m\u001b[0;34m:\u001b[0m  \u001b[0;31m# pylint: disable=protected-access\u001b[0m\u001b[0;34m\u001b[0m\u001b[0;34m\u001b[0m\u001b[0m\n\u001b[0;32m---> 66\u001b[0;31m       \u001b[0;32mreturn\u001b[0m \u001b[0mmethod\u001b[0m\u001b[0;34m(\u001b[0m\u001b[0mself\u001b[0m\u001b[0;34m,\u001b[0m \u001b[0;34m*\u001b[0m\u001b[0margs\u001b[0m\u001b[0;34m,\u001b[0m \u001b[0;34m**\u001b[0m\u001b[0mkwargs\u001b[0m\u001b[0;34m)\u001b[0m\u001b[0;34m\u001b[0m\u001b[0;34m\u001b[0m\u001b[0m\n\u001b[0m\u001b[1;32m     67\u001b[0m \u001b[0;34m\u001b[0m\u001b[0m\n\u001b[1;32m     68\u001b[0m     \u001b[0;31m# Running inside `run_distribute_coordinator` already.\u001b[0m\u001b[0;34m\u001b[0m\u001b[0;34m\u001b[0m\u001b[0;34m\u001b[0m\u001b[0m\n",
      "\u001b[0;32m~/datos/lib/python3.6/site-packages/tensorflow/python/keras/engine/training.py\u001b[0m in \u001b[0;36mfit\u001b[0;34m(self, x, y, batch_size, epochs, verbose, callbacks, validation_split, validation_data, shuffle, class_weight, sample_weight, initial_epoch, steps_per_epoch, validation_steps, validation_batch_size, validation_freq, max_queue_size, workers, use_multiprocessing)\u001b[0m\n\u001b[1;32m    846\u001b[0m                 batch_size=batch_size):\n\u001b[1;32m    847\u001b[0m               \u001b[0mcallbacks\u001b[0m\u001b[0;34m.\u001b[0m\u001b[0mon_train_batch_begin\u001b[0m\u001b[0;34m(\u001b[0m\u001b[0mstep\u001b[0m\u001b[0;34m)\u001b[0m\u001b[0;34m\u001b[0m\u001b[0;34m\u001b[0m\u001b[0m\n\u001b[0;32m--> 848\u001b[0;31m               \u001b[0mtmp_logs\u001b[0m \u001b[0;34m=\u001b[0m \u001b[0mtrain_function\u001b[0m\u001b[0;34m(\u001b[0m\u001b[0miterator\u001b[0m\u001b[0;34m)\u001b[0m\u001b[0;34m\u001b[0m\u001b[0;34m\u001b[0m\u001b[0m\n\u001b[0m\u001b[1;32m    849\u001b[0m               \u001b[0;31m# Catch OutOfRangeError for Datasets of unknown size.\u001b[0m\u001b[0;34m\u001b[0m\u001b[0;34m\u001b[0m\u001b[0;34m\u001b[0m\u001b[0m\n\u001b[1;32m    850\u001b[0m               \u001b[0;31m# This blocks until the batch has finished executing.\u001b[0m\u001b[0;34m\u001b[0m\u001b[0;34m\u001b[0m\u001b[0;34m\u001b[0m\u001b[0m\n",
      "\u001b[0;32m~/datos/lib/python3.6/site-packages/tensorflow/python/eager/def_function.py\u001b[0m in \u001b[0;36m__call__\u001b[0;34m(self, *args, **kwds)\u001b[0m\n\u001b[1;32m    578\u001b[0m         \u001b[0mxla_context\u001b[0m\u001b[0;34m.\u001b[0m\u001b[0mExit\u001b[0m\u001b[0;34m(\u001b[0m\u001b[0;34m)\u001b[0m\u001b[0;34m\u001b[0m\u001b[0;34m\u001b[0m\u001b[0m\n\u001b[1;32m    579\u001b[0m     \u001b[0;32melse\u001b[0m\u001b[0;34m:\u001b[0m\u001b[0;34m\u001b[0m\u001b[0;34m\u001b[0m\u001b[0m\n\u001b[0;32m--> 580\u001b[0;31m       \u001b[0mresult\u001b[0m \u001b[0;34m=\u001b[0m \u001b[0mself\u001b[0m\u001b[0;34m.\u001b[0m\u001b[0m_call\u001b[0m\u001b[0;34m(\u001b[0m\u001b[0;34m*\u001b[0m\u001b[0margs\u001b[0m\u001b[0;34m,\u001b[0m \u001b[0;34m**\u001b[0m\u001b[0mkwds\u001b[0m\u001b[0;34m)\u001b[0m\u001b[0;34m\u001b[0m\u001b[0;34m\u001b[0m\u001b[0m\n\u001b[0m\u001b[1;32m    581\u001b[0m \u001b[0;34m\u001b[0m\u001b[0m\n\u001b[1;32m    582\u001b[0m     \u001b[0;32mif\u001b[0m \u001b[0mtracing_count\u001b[0m \u001b[0;34m==\u001b[0m \u001b[0mself\u001b[0m\u001b[0;34m.\u001b[0m\u001b[0m_get_tracing_count\u001b[0m\u001b[0;34m(\u001b[0m\u001b[0;34m)\u001b[0m\u001b[0;34m:\u001b[0m\u001b[0;34m\u001b[0m\u001b[0;34m\u001b[0m\u001b[0m\n",
      "\u001b[0;32m~/datos/lib/python3.6/site-packages/tensorflow/python/eager/def_function.py\u001b[0m in \u001b[0;36m_call\u001b[0;34m(self, *args, **kwds)\u001b[0m\n\u001b[1;32m    609\u001b[0m       \u001b[0;31m# In this case we have created variables on the first call, so we run the\u001b[0m\u001b[0;34m\u001b[0m\u001b[0;34m\u001b[0m\u001b[0;34m\u001b[0m\u001b[0m\n\u001b[1;32m    610\u001b[0m       \u001b[0;31m# defunned version which is guaranteed to never create variables.\u001b[0m\u001b[0;34m\u001b[0m\u001b[0;34m\u001b[0m\u001b[0;34m\u001b[0m\u001b[0m\n\u001b[0;32m--> 611\u001b[0;31m       \u001b[0;32mreturn\u001b[0m \u001b[0mself\u001b[0m\u001b[0;34m.\u001b[0m\u001b[0m_stateless_fn\u001b[0m\u001b[0;34m(\u001b[0m\u001b[0;34m*\u001b[0m\u001b[0margs\u001b[0m\u001b[0;34m,\u001b[0m \u001b[0;34m**\u001b[0m\u001b[0mkwds\u001b[0m\u001b[0;34m)\u001b[0m  \u001b[0;31m# pylint: disable=not-callable\u001b[0m\u001b[0;34m\u001b[0m\u001b[0;34m\u001b[0m\u001b[0m\n\u001b[0m\u001b[1;32m    612\u001b[0m     \u001b[0;32melif\u001b[0m \u001b[0mself\u001b[0m\u001b[0;34m.\u001b[0m\u001b[0m_stateful_fn\u001b[0m \u001b[0;32mis\u001b[0m \u001b[0;32mnot\u001b[0m \u001b[0;32mNone\u001b[0m\u001b[0;34m:\u001b[0m\u001b[0;34m\u001b[0m\u001b[0;34m\u001b[0m\u001b[0m\n\u001b[1;32m    613\u001b[0m       \u001b[0;31m# Release the lock early so that multiple threads can perform the call\u001b[0m\u001b[0;34m\u001b[0m\u001b[0;34m\u001b[0m\u001b[0;34m\u001b[0m\u001b[0m\n",
      "\u001b[0;32m~/datos/lib/python3.6/site-packages/tensorflow/python/eager/function.py\u001b[0m in \u001b[0;36m__call__\u001b[0;34m(self, *args, **kwargs)\u001b[0m\n\u001b[1;32m   2418\u001b[0m     \u001b[0;32mwith\u001b[0m \u001b[0mself\u001b[0m\u001b[0;34m.\u001b[0m\u001b[0m_lock\u001b[0m\u001b[0;34m:\u001b[0m\u001b[0;34m\u001b[0m\u001b[0;34m\u001b[0m\u001b[0m\n\u001b[1;32m   2419\u001b[0m       \u001b[0mgraph_function\u001b[0m\u001b[0;34m,\u001b[0m \u001b[0margs\u001b[0m\u001b[0;34m,\u001b[0m \u001b[0mkwargs\u001b[0m \u001b[0;34m=\u001b[0m \u001b[0mself\u001b[0m\u001b[0;34m.\u001b[0m\u001b[0m_maybe_define_function\u001b[0m\u001b[0;34m(\u001b[0m\u001b[0margs\u001b[0m\u001b[0;34m,\u001b[0m \u001b[0mkwargs\u001b[0m\u001b[0;34m)\u001b[0m\u001b[0;34m\u001b[0m\u001b[0;34m\u001b[0m\u001b[0m\n\u001b[0;32m-> 2420\u001b[0;31m     \u001b[0;32mreturn\u001b[0m \u001b[0mgraph_function\u001b[0m\u001b[0;34m.\u001b[0m\u001b[0m_filtered_call\u001b[0m\u001b[0;34m(\u001b[0m\u001b[0margs\u001b[0m\u001b[0;34m,\u001b[0m \u001b[0mkwargs\u001b[0m\u001b[0;34m)\u001b[0m  \u001b[0;31m# pylint: disable=protected-access\u001b[0m\u001b[0;34m\u001b[0m\u001b[0;34m\u001b[0m\u001b[0m\n\u001b[0m\u001b[1;32m   2421\u001b[0m \u001b[0;34m\u001b[0m\u001b[0m\n\u001b[1;32m   2422\u001b[0m   \u001b[0;34m@\u001b[0m\u001b[0mproperty\u001b[0m\u001b[0;34m\u001b[0m\u001b[0;34m\u001b[0m\u001b[0m\n",
      "\u001b[0;32m~/datos/lib/python3.6/site-packages/tensorflow/python/eager/function.py\u001b[0m in \u001b[0;36m_filtered_call\u001b[0;34m(self, args, kwargs)\u001b[0m\n\u001b[1;32m   1663\u001b[0m          if isinstance(t, (ops.Tensor,\n\u001b[1;32m   1664\u001b[0m                            resource_variable_ops.BaseResourceVariable))),\n\u001b[0;32m-> 1665\u001b[0;31m         self.captured_inputs)\n\u001b[0m\u001b[1;32m   1666\u001b[0m \u001b[0;34m\u001b[0m\u001b[0m\n\u001b[1;32m   1667\u001b[0m   \u001b[0;32mdef\u001b[0m \u001b[0m_call_flat\u001b[0m\u001b[0;34m(\u001b[0m\u001b[0mself\u001b[0m\u001b[0;34m,\u001b[0m \u001b[0margs\u001b[0m\u001b[0;34m,\u001b[0m \u001b[0mcaptured_inputs\u001b[0m\u001b[0;34m,\u001b[0m \u001b[0mcancellation_manager\u001b[0m\u001b[0;34m=\u001b[0m\u001b[0;32mNone\u001b[0m\u001b[0;34m)\u001b[0m\u001b[0;34m:\u001b[0m\u001b[0;34m\u001b[0m\u001b[0;34m\u001b[0m\u001b[0m\n",
      "\u001b[0;32m~/datos/lib/python3.6/site-packages/tensorflow/python/eager/function.py\u001b[0m in \u001b[0;36m_call_flat\u001b[0;34m(self, args, captured_inputs, cancellation_manager)\u001b[0m\n\u001b[1;32m   1744\u001b[0m       \u001b[0;31m# No tape is watching; skip to running the function.\u001b[0m\u001b[0;34m\u001b[0m\u001b[0;34m\u001b[0m\u001b[0;34m\u001b[0m\u001b[0m\n\u001b[1;32m   1745\u001b[0m       return self._build_call_outputs(self._inference_function.call(\n\u001b[0;32m-> 1746\u001b[0;31m           ctx, args, cancellation_manager=cancellation_manager))\n\u001b[0m\u001b[1;32m   1747\u001b[0m     forward_backward = self._select_forward_and_backward_functions(\n\u001b[1;32m   1748\u001b[0m         \u001b[0margs\u001b[0m\u001b[0;34m,\u001b[0m\u001b[0;34m\u001b[0m\u001b[0;34m\u001b[0m\u001b[0m\n",
      "\u001b[0;32m~/datos/lib/python3.6/site-packages/tensorflow/python/eager/function.py\u001b[0m in \u001b[0;36mcall\u001b[0;34m(self, ctx, args, cancellation_manager)\u001b[0m\n\u001b[1;32m    596\u001b[0m               \u001b[0minputs\u001b[0m\u001b[0;34m=\u001b[0m\u001b[0margs\u001b[0m\u001b[0;34m,\u001b[0m\u001b[0;34m\u001b[0m\u001b[0;34m\u001b[0m\u001b[0m\n\u001b[1;32m    597\u001b[0m               \u001b[0mattrs\u001b[0m\u001b[0;34m=\u001b[0m\u001b[0mattrs\u001b[0m\u001b[0;34m,\u001b[0m\u001b[0;34m\u001b[0m\u001b[0;34m\u001b[0m\u001b[0m\n\u001b[0;32m--> 598\u001b[0;31m               ctx=ctx)\n\u001b[0m\u001b[1;32m    599\u001b[0m         \u001b[0;32melse\u001b[0m\u001b[0;34m:\u001b[0m\u001b[0;34m\u001b[0m\u001b[0;34m\u001b[0m\u001b[0m\n\u001b[1;32m    600\u001b[0m           outputs = execute.execute_with_cancellation(\n",
      "\u001b[0;32m~/datos/lib/python3.6/site-packages/tensorflow/python/eager/execute.py\u001b[0m in \u001b[0;36mquick_execute\u001b[0;34m(op_name, num_outputs, inputs, attrs, ctx, name)\u001b[0m\n\u001b[1;32m     58\u001b[0m     \u001b[0mctx\u001b[0m\u001b[0;34m.\u001b[0m\u001b[0mensure_initialized\u001b[0m\u001b[0;34m(\u001b[0m\u001b[0;34m)\u001b[0m\u001b[0;34m\u001b[0m\u001b[0;34m\u001b[0m\u001b[0m\n\u001b[1;32m     59\u001b[0m     tensors = pywrap_tfe.TFE_Py_Execute(ctx._handle, device_name, op_name,\n\u001b[0;32m---> 60\u001b[0;31m                                         inputs, attrs, num_outputs)\n\u001b[0m\u001b[1;32m     61\u001b[0m   \u001b[0;32mexcept\u001b[0m \u001b[0mcore\u001b[0m\u001b[0;34m.\u001b[0m\u001b[0m_NotOkStatusException\u001b[0m \u001b[0;32mas\u001b[0m \u001b[0me\u001b[0m\u001b[0;34m:\u001b[0m\u001b[0;34m\u001b[0m\u001b[0;34m\u001b[0m\u001b[0m\n\u001b[1;32m     62\u001b[0m     \u001b[0;32mif\u001b[0m \u001b[0mname\u001b[0m \u001b[0;32mis\u001b[0m \u001b[0;32mnot\u001b[0m \u001b[0;32mNone\u001b[0m\u001b[0;34m:\u001b[0m\u001b[0;34m\u001b[0m\u001b[0;34m\u001b[0m\u001b[0m\n",
      "\u001b[0;31mKeyboardInterrupt\u001b[0m: "
     ]
    }
   ],
   "source": [
    "# second_history_tf_idf = model2_tf_idf.fit(x_train_tf_idf.values, train_tf_idf[\"target\"].to_numpy(),\n",
    "#                     epochs=3,\n",
    "#                     verbose=True,\n",
    "#                     validation_data=(x_val_tf_idf.values, val_tf_idf[\"target\"].to_numpy()),\n",
    "#                     batch_size=10)"
   ]
  },
  {
   "cell_type": "code",
   "execution_count": null,
   "metadata": {},
   "outputs": [],
   "source": [
    "# loss, accuracy = model2_tf_idf.evaluate(x_test_tf_idf.values, test_tf_idf[\"target\"].to_numpy(), verbose=False)\n",
    "# print(\"Testing Accuracy:  {:.4f}\".format(accuracy))"
   ]
  },
  {
   "cell_type": "markdown",
   "metadata": {},
   "source": [
    "## Modelo con más features, usando set de datos comun"
   ]
  },
  {
   "cell_type": "code",
   "execution_count": 99,
   "metadata": {},
   "outputs": [
    {
     "data": {
      "text/html": [
       "<div>\n",
       "<style scoped>\n",
       "    .dataframe tbody tr th:only-of-type {\n",
       "        vertical-align: middle;\n",
       "    }\n",
       "\n",
       "    .dataframe tbody tr th {\n",
       "        vertical-align: top;\n",
       "    }\n",
       "\n",
       "    .dataframe thead th {\n",
       "        text-align: right;\n",
       "    }\n",
       "</style>\n",
       "<table border=\"1\" class=\"dataframe\">\n",
       "  <thead>\n",
       "    <tr style=\"text-align: right;\">\n",
       "      <th></th>\n",
       "      <th>aa</th>\n",
       "      <th>ab</th>\n",
       "      <th>aba</th>\n",
       "      <th>abandon</th>\n",
       "      <th>abbott</th>\n",
       "      <th>abbswinston</th>\n",
       "      <th>abc</th>\n",
       "      <th>abcnew</th>\n",
       "      <th>abe</th>\n",
       "      <th>abil</th>\n",
       "      <th>...</th>\n",
       "      <th>www\\.twitch\\.tv\\/PKSparkxx-location</th>\n",
       "      <th>www\\.youtube\\.com\\?Malkavius2-location</th>\n",
       "      <th>xiumin\\'s\\ nonexistent\\ solos-location</th>\n",
       "      <th>y\\(our\\)\\ boyfriends\\ legs\\ -location</th>\n",
       "      <th>y\\/e\\/l-location</th>\n",
       "      <th>yorkshire\\\\n-location</th>\n",
       "      <th>youtube\\.com\\/channel\\/UCHWTLC9B4ZjUGh7yDlb55Iw-location</th>\n",
       "      <th>zboyer\\@washingtontimes\\.com-location</th>\n",
       "      <th>longitud_tweet</th>\n",
       "      <th>letras_seguidas</th>\n",
       "    </tr>\n",
       "  </thead>\n",
       "  <tbody>\n",
       "    <tr>\n",
       "      <th>0</th>\n",
       "      <td>0</td>\n",
       "      <td>0</td>\n",
       "      <td>0</td>\n",
       "      <td>0</td>\n",
       "      <td>0</td>\n",
       "      <td>0</td>\n",
       "      <td>0</td>\n",
       "      <td>0</td>\n",
       "      <td>0</td>\n",
       "      <td>0</td>\n",
       "      <td>...</td>\n",
       "      <td>False</td>\n",
       "      <td>False</td>\n",
       "      <td>False</td>\n",
       "      <td>False</td>\n",
       "      <td>False</td>\n",
       "      <td>False</td>\n",
       "      <td>False</td>\n",
       "      <td>False</td>\n",
       "      <td>40</td>\n",
       "      <td>2</td>\n",
       "    </tr>\n",
       "  </tbody>\n",
       "</table>\n",
       "<p>1 rows × 7846 columns</p>\n",
       "</div>"
      ],
      "text/plain": [
       "   aa  ab  aba  abandon  abbott  abbswinston  abc  abcnew  abe  abil  ...  \\\n",
       "0   0   0    0        0       0            0    0       0    0     0  ...   \n",
       "\n",
       "   www\\.twitch\\.tv\\/PKSparkxx-location  \\\n",
       "0                                False   \n",
       "\n",
       "   www\\.youtube\\.com\\?Malkavius2-location  \\\n",
       "0                                   False   \n",
       "\n",
       "   xiumin\\'s\\ nonexistent\\ solos-location  \\\n",
       "0                                   False   \n",
       "\n",
       "   y\\(our\\)\\ boyfriends\\ legs\\ -location  y\\/e\\/l-location  \\\n",
       "0                                  False             False   \n",
       "\n",
       "   yorkshire\\\\n-location  \\\n",
       "0                  False   \n",
       "\n",
       "   youtube\\.com\\/channel\\/UCHWTLC9B4ZjUGh7yDlb55Iw-location  \\\n",
       "0                                              False          \n",
       "\n",
       "   zboyer\\@washingtontimes\\.com-location  longitud_tweet  letras_seguidas  \n",
       "0                                  False              40                2  \n",
       "\n",
       "[1 rows x 7846 columns]"
      ]
     },
     "execution_count": 99,
     "metadata": {},
     "output_type": "execute_result"
    }
   ],
   "source": [
    "test_limpio = pd.read_csv(\"test_limpio_con_BOW_de_5000_y_Stemming.csv\",encoding = \"ISO-8859-1\")\n",
    "test_limpio = test_limpio.drop(columns=[\"sentimiento\", \"objetividad\"])\n",
    "test_limpio.head(1)"
   ]
  },
  {
   "cell_type": "code",
   "execution_count": 100,
   "metadata": {
    "scrolled": true
   },
   "outputs": [
    {
     "data": {
      "text/html": [
       "<div>\n",
       "<style scoped>\n",
       "    .dataframe tbody tr th:only-of-type {\n",
       "        vertical-align: middle;\n",
       "    }\n",
       "\n",
       "    .dataframe tbody tr th {\n",
       "        vertical-align: top;\n",
       "    }\n",
       "\n",
       "    .dataframe thead th {\n",
       "        text-align: right;\n",
       "    }\n",
       "</style>\n",
       "<table border=\"1\" class=\"dataframe\">\n",
       "  <thead>\n",
       "    <tr style=\"text-align: right;\">\n",
       "      <th></th>\n",
       "      <th>aa</th>\n",
       "      <th>ab</th>\n",
       "      <th>aba</th>\n",
       "      <th>abandon</th>\n",
       "      <th>abbott</th>\n",
       "      <th>abbswinston</th>\n",
       "      <th>abc</th>\n",
       "      <th>abcnew</th>\n",
       "      <th>abe</th>\n",
       "      <th>abil</th>\n",
       "      <th>...</th>\n",
       "      <th>www\\.twitch\\.tv\\/PKSparkxx-location</th>\n",
       "      <th>www\\.youtube\\.com\\?Malkavius2-location</th>\n",
       "      <th>xiumin\\'s\\ nonexistent\\ solos-location</th>\n",
       "      <th>y\\(our\\)\\ boyfriends\\ legs\\ -location</th>\n",
       "      <th>y\\/e\\/l-location</th>\n",
       "      <th>yorkshire\\\\n-location</th>\n",
       "      <th>youtube\\.com\\/channel\\/UCHWTLC9B4ZjUGh7yDlb55Iw-location</th>\n",
       "      <th>zboyer\\@washingtontimes\\.com-location</th>\n",
       "      <th>longitud_tweet</th>\n",
       "      <th>letras_seguidas</th>\n",
       "    </tr>\n",
       "  </thead>\n",
       "  <tbody>\n",
       "    <tr>\n",
       "      <th>0</th>\n",
       "      <td>0</td>\n",
       "      <td>0</td>\n",
       "      <td>0</td>\n",
       "      <td>0</td>\n",
       "      <td>0</td>\n",
       "      <td>0</td>\n",
       "      <td>0</td>\n",
       "      <td>0</td>\n",
       "      <td>0</td>\n",
       "      <td>0</td>\n",
       "      <td>...</td>\n",
       "      <td>False</td>\n",
       "      <td>False</td>\n",
       "      <td>False</td>\n",
       "      <td>False</td>\n",
       "      <td>False</td>\n",
       "      <td>False</td>\n",
       "      <td>False</td>\n",
       "      <td>False</td>\n",
       "      <td>70</td>\n",
       "      <td>2</td>\n",
       "    </tr>\n",
       "  </tbody>\n",
       "</table>\n",
       "<p>1 rows × 7846 columns</p>\n",
       "</div>"
      ],
      "text/plain": [
       "   aa  ab  aba  abandon  abbott  abbswinston  abc  abcnew  abe  abil  ...  \\\n",
       "0   0   0    0        0       0            0    0       0    0     0  ...   \n",
       "\n",
       "   www\\.twitch\\.tv\\/PKSparkxx-location  \\\n",
       "0                                False   \n",
       "\n",
       "   www\\.youtube\\.com\\?Malkavius2-location  \\\n",
       "0                                   False   \n",
       "\n",
       "   xiumin\\'s\\ nonexistent\\ solos-location  \\\n",
       "0                                   False   \n",
       "\n",
       "   y\\(our\\)\\ boyfriends\\ legs\\ -location  y\\/e\\/l-location  \\\n",
       "0                                  False             False   \n",
       "\n",
       "   yorkshire\\\\n-location  \\\n",
       "0                  False   \n",
       "\n",
       "   youtube\\.com\\/channel\\/UCHWTLC9B4ZjUGh7yDlb55Iw-location  \\\n",
       "0                                              False          \n",
       "\n",
       "   zboyer\\@washingtontimes\\.com-location  longitud_tweet  letras_seguidas  \n",
       "0                                  False              70                2  \n",
       "\n",
       "[1 rows x 7846 columns]"
      ]
     },
     "execution_count": 100,
     "metadata": {},
     "output_type": "execute_result"
    }
   ],
   "source": [
    "train_limpio = pd.read_csv(\"train_limpio_con_BOW_de_5000_y_Stemming.csv\",encoding = \"ISO-8859-1\")\n",
    "train_limpio = train_limpio.drop(columns=[\"sentimiento\", \"objetividad\", \"id\"])\n",
    "train_limpio.head(1)"
   ]
  },
  {
   "cell_type": "code",
   "execution_count": 101,
   "metadata": {},
   "outputs": [],
   "source": [
    "train_limpio_more_features_true = train_limpio.loc[train_limpio[\"target\"] == 1].sample(frac=1).reset_index(drop=True)\n",
    "train_limpio_more_features_false = train_limpio.loc[train_limpio[\"target\"] == 0].sample(frac=1).reset_index(drop=True)"
   ]
  },
  {
   "cell_type": "code",
   "execution_count": 102,
   "metadata": {},
   "outputs": [],
   "source": [
    "train_more_feature = pd.concat([train_limpio_more_features_true.iloc[:2616], train_limpio_more_features_false.iloc[:3473]])\n",
    "val_more_feature = pd.concat([train_limpio_more_features_true.iloc[2616:3000], train_limpio_more_features_false.iloc[3473:3850]])\n",
    "test_more_feature = pd.concat([train_limpio_more_features_true.iloc[3000:], train_limpio_more_features_false.iloc[3850:]])"
   ]
  },
  {
   "cell_type": "code",
   "execution_count": 103,
   "metadata": {},
   "outputs": [
    {
     "name": "stdout",
     "output_type": "stream",
     "text": [
      "Model: \"sequential_18\"\n",
      "_________________________________________________________________\n",
      "Layer (type)                 Output Shape              Param #   \n",
      "=================================================================\n",
      "dense_36 (Dense)             (None, 10)                78460     \n",
      "_________________________________________________________________\n",
      "dense_37 (Dense)             (None, 1)                 11        \n",
      "=================================================================\n",
      "Total params: 78,471\n",
      "Trainable params: 78,471\n",
      "Non-trainable params: 0\n",
      "_________________________________________________________________\n"
     ]
    }
   ],
   "source": [
    "input_dim = train_more_feature.drop(columns=[\"target\"]).shape[1]  # Number of features\n",
    "\n",
    "modelFeatures = Sequential()\n",
    "modelFeatures.add(layers.Dense(10, input_dim=input_dim, activation='relu'))\n",
    "modelFeatures.add(layers.Dense(1, activation='sigmoid'))\n",
    "\n",
    "modelFeatures.compile(loss='binary_crossentropy', \n",
    "              optimizer='adam', \n",
    "              metrics=['acc'])\n",
    "modelFeatures.summary()"
   ]
  },
  {
   "cell_type": "code",
   "execution_count": 104,
   "metadata": {
    "scrolled": false
   },
   "outputs": [
    {
     "name": "stdout",
     "output_type": "stream",
     "text": [
      "Epoch 1/10\n",
      "609/609 [==============================] - 1s 1ms/step - loss: 0.6119 - acc: 0.7018 - val_loss: 0.5357 - val_acc: 0.7503\n",
      "Epoch 2/10\n",
      "609/609 [==============================] - 1s 1ms/step - loss: 0.4483 - acc: 0.8248 - val_loss: 0.4633 - val_acc: 0.7792\n",
      "Epoch 3/10\n",
      "609/609 [==============================] - 1s 1ms/step - loss: 0.3696 - acc: 0.8550 - val_loss: 0.4503 - val_acc: 0.7976\n",
      "Epoch 4/10\n",
      "609/609 [==============================] - 1s 1ms/step - loss: 0.3229 - acc: 0.8752 - val_loss: 0.4765 - val_acc: 0.7898\n",
      "Epoch 5/10\n",
      "609/609 [==============================] - 1s 1ms/step - loss: 0.2880 - acc: 0.8875 - val_loss: 0.4541 - val_acc: 0.7924\n",
      "Epoch 6/10\n",
      "609/609 [==============================] - 1s 1ms/step - loss: 0.2624 - acc: 0.9008 - val_loss: 0.4674 - val_acc: 0.8029\n",
      "Epoch 7/10\n",
      "609/609 [==============================] - 1s 1ms/step - loss: 0.2390 - acc: 0.9103 - val_loss: 0.4783 - val_acc: 0.7989\n",
      "Epoch 8/10\n",
      "609/609 [==============================] - 1s 1ms/step - loss: 0.2187 - acc: 0.9161 - val_loss: 0.4960 - val_acc: 0.8003\n",
      "Epoch 9/10\n",
      "609/609 [==============================] - 1s 1ms/step - loss: 0.2008 - acc: 0.9254 - val_loss: 0.5254 - val_acc: 0.8068\n",
      "Epoch 10/10\n",
      "609/609 [==============================] - 1s 1ms/step - loss: 0.1844 - acc: 0.9330 - val_loss: 0.5600 - val_acc: 0.8121\n",
      "Training Accuracy: 0.9399\n",
      "Testing Accuracy:  0.7851\n"
     ]
    },
    {
     "data": {
      "image/png": "[encoded data removed]",
      "text/plain": [
       "<Figure size 864x360 with 2 Axes>"
      ]
     },
     "metadata": {},
     "output_type": "display_data"
    }
   ],
   "source": [
    "features_history = modelFeatures.fit(train_more_feature.drop(columns=[\"target\"]).to_numpy(dtype=\"float32\"), train_more_feature[[\"target\"]].to_numpy(dtype=\"float32\"),\n",
    "                    epochs=10,\n",
    "                    verbose=True,\n",
    "                    validation_data=(val_more_feature.drop(columns=[\"target\"]).to_numpy(dtype=\"float32\"), val_more_feature[[\"target\"]].to_numpy(dtype=\"float32\")),\n",
    "                    batch_size=10)\n",
    "loss, accuracy = modelFeatures.evaluate(train_more_feature.drop(columns=[\"target\"]).to_numpy(dtype=\"float32\"), train_more_feature[[\"target\"]].to_numpy(dtype=\"float32\"), verbose=False)\n",
    "print(\"Training Accuracy: {:.4f}\".format(accuracy))\n",
    "loss, accuracy = modelFeatures.evaluate(test_more_feature.drop(columns=[\"target\"]).to_numpy(dtype=\"float32\"), test_more_feature[[\"target\"]].to_numpy(dtype=\"float32\"), verbose=False)\n",
    "print(\"Testing Accuracy:  {:.4f}\".format(accuracy))\n",
    "plot_history(features_history)"
   ]
  },
  {
   "cell_type": "code",
   "execution_count": 105,
   "metadata": {},
   "outputs": [],
   "source": [
    "moreFeaturesPredictions = list(map(lambda x: x[0], modelFeatures.predict_classes(test_limpio.drop(columns=[\"id\"]).to_numpy(dtype=\"float32\"))))"
   ]
  },
  {
   "cell_type": "code",
   "execution_count": 106,
   "metadata": {},
   "outputs": [
    {
     "data": {
      "text/html": [
       "<div>\n",
       "<style scoped>\n",
       "    .dataframe tbody tr th:only-of-type {\n",
       "        vertical-align: middle;\n",
       "    }\n",
       "\n",
       "    .dataframe tbody tr th {\n",
       "        vertical-align: top;\n",
       "    }\n",
       "\n",
       "    .dataframe thead th {\n",
       "        text-align: right;\n",
       "    }\n",
       "</style>\n",
       "<table border=\"1\" class=\"dataframe\">\n",
       "  <thead>\n",
       "    <tr style=\"text-align: right;\">\n",
       "      <th></th>\n",
       "      <th>id</th>\n",
       "      <th>target</th>\n",
       "    </tr>\n",
       "  </thead>\n",
       "  <tbody>\n",
       "    <tr>\n",
       "      <th>0</th>\n",
       "      <td>0</td>\n",
       "      <td>1</td>\n",
       "    </tr>\n",
       "    <tr>\n",
       "      <th>1</th>\n",
       "      <td>2</td>\n",
       "      <td>1</td>\n",
       "    </tr>\n",
       "    <tr>\n",
       "      <th>2</th>\n",
       "      <td>3</td>\n",
       "      <td>1</td>\n",
       "    </tr>\n",
       "    <tr>\n",
       "      <th>3</th>\n",
       "      <td>9</td>\n",
       "      <td>1</td>\n",
       "    </tr>\n",
       "    <tr>\n",
       "      <th>4</th>\n",
       "      <td>11</td>\n",
       "      <td>1</td>\n",
       "    </tr>\n",
       "    <tr>\n",
       "      <th>5</th>\n",
       "      <td>12</td>\n",
       "      <td>1</td>\n",
       "    </tr>\n",
       "    <tr>\n",
       "      <th>6</th>\n",
       "      <td>21</td>\n",
       "      <td>0</td>\n",
       "    </tr>\n",
       "    <tr>\n",
       "      <th>7</th>\n",
       "      <td>22</td>\n",
       "      <td>0</td>\n",
       "    </tr>\n",
       "    <tr>\n",
       "      <th>8</th>\n",
       "      <td>27</td>\n",
       "      <td>0</td>\n",
       "    </tr>\n",
       "    <tr>\n",
       "      <th>9</th>\n",
       "      <td>29</td>\n",
       "      <td>0</td>\n",
       "    </tr>\n",
       "  </tbody>\n",
       "</table>\n",
       "</div>"
      ],
      "text/plain": [
       "   id  target\n",
       "0   0       1\n",
       "1   2       1\n",
       "2   3       1\n",
       "3   9       1\n",
       "4  11       1\n",
       "5  12       1\n",
       "6  21       0\n",
       "7  22       0\n",
       "8  27       0\n",
       "9  29       0"
      ]
     },
     "execution_count": 106,
     "metadata": {},
     "output_type": "execute_result"
    }
   ],
   "source": [
    "moreFeaturesPredictionsDF = pd.DataFrame(data={'id': test_limpio[\"id\"], 'target': moreFeaturesPredictions})\n",
    "moreFeaturesPredictionsDF.head(10)"
   ]
  },
  {
   "cell_type": "code",
   "execution_count": 107,
   "metadata": {},
   "outputs": [],
   "source": [
    "moreFeaturesPredictionsDF.to_csv('NN_predictions_more_features.csv', index=False)"
   ]
  }
 ],
 "metadata": {
  "kernelspec": {
   "display_name": "Python 3",
   "language": "python",
   "name": "python3"
  },
  "language_info": {
   "codemirror_mode": {
    "name": "ipython",
    "version": 3
   },
   "file_extension": ".py",
   "mimetype": "text/x-python",
   "name": "python",
   "nbconvert_exporter": "python",
   "pygments_lexer": "ipython3",
   "version": "3.6.9"
  }
 },
 "nbformat": 4,
 "nbformat_minor": 4
}
