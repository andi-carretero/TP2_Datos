{
 "cells": [
  {
   "cell_type": "code",
   "execution_count": 270,
   "metadata": {},
   "outputs": [],
   "source": [
    "import numpy as np # linear algebra\n",
    "import pandas as pd # data processing, CSV file I/O (e.g. pd.read_csv)\n",
    "import matplotlib.pyplot as plt\n",
    "plt.style.use('ggplot')\n",
    "\n",
    "from sklearn.feature_extraction.text import CountVectorizer\n",
    "from sklearn.model_selection import train_test_split\n",
    "from sklearn.linear_model import LogisticRegression\n",
    "from sklearn.preprocessing import LabelEncoder\n",
    "from sklearn.preprocessing import OneHotEncoder\n",
    "from sklearn.model_selection import RandomizedSearchCV\n",
    "\n",
    "from tensorflow.keras.models import Sequential\n",
    "from tensorflow.keras import layers\n",
    "from tensorflow.keras.preprocessing.text import Tokenizer\n",
    "from tensorflow.keras.preprocessing.sequence import pad_sequences\n",
    "from tensorflow.keras.wrappers.scikit_learn import KerasClassifier"
   ]
  },
  {
   "cell_type": "code",
   "execution_count": 271,
   "metadata": {},
   "outputs": [],
   "source": [
    "train_limpio = pd.read_csv(\"train_limpio_con_BOW_de_5000_y_Stemming_noDrops.csv\",encoding = \"ISO-8859-1\")\n",
    "test_limpio = pd.read_csv(\"test_limpio_con_BOW_de_5000_y_Stemming_noDrops.csv\",encoding = \"ISO-8859-1\")"
   ]
  },
  {
   "cell_type": "code",
   "execution_count": 272,
   "metadata": {},
   "outputs": [],
   "source": [
    "train_limpio[\"text\"] = train_limpio[\"text\"].map(lambda x : \"null\" if(x is None) else x)\n",
    "test_limpio[\"text\"] = test_limpio[\"text\"].map(lambda x : \"null\" if(x is None) else x)"
   ]
  },
  {
   "cell_type": "code",
   "execution_count": 273,
   "metadata": {},
   "outputs": [],
   "source": [
    "train_limpio_true = train_limpio.loc[train_limpio[\"target\"] == 1].sample(frac=1).reset_index(drop=True)\n",
    "train_limpio_false = train_limpio.loc[train_limpio[\"target\"] == 0].sample(frac=1).reset_index(drop=True)"
   ]
  },
  {
   "cell_type": "code",
   "execution_count": 274,
   "metadata": {},
   "outputs": [
    {
     "name": "stdout",
     "output_type": "stream",
     "text": [
      "Tenemos  3271.00 verdaderos y  4342.00 falsos\n"
     ]
    }
   ],
   "source": [
    "print(\"Tenemos {cant_verdaderos: .2f} verdaderos y {cant_falsos: .2f} falsos\".format(cant_verdaderos=len(train_limpio_true), cant_falsos=len(train_limpio_false)))"
   ]
  },
  {
   "cell_type": "markdown",
   "metadata": {},
   "source": [
    "## Voy a balancear el train y el validation, misma cantidad de falsos y verdaderos en ambos"
   ]
  },
  {
   "cell_type": "code",
   "execution_count": 275,
   "metadata": {},
   "outputs": [],
   "source": [
    "train = pd.concat([train_limpio_true.iloc[:2616], train_limpio_false.iloc[:3473]])\n",
    "val = pd.concat([train_limpio_true.iloc[2616:3000], train_limpio_false.iloc[3473:3850]])\n",
    "test = pd.concat([train_limpio_true.iloc[3000:], train_limpio_false.iloc[3850:]])"
   ]
  },
  {
   "cell_type": "code",
   "execution_count": 276,
   "metadata": {},
   "outputs": [
    {
     "data": {
      "text/html": [
       "<div>\n",
       "<style scoped>\n",
       "    .dataframe tbody tr th:only-of-type {\n",
       "        vertical-align: middle;\n",
       "    }\n",
       "\n",
       "    .dataframe tbody tr th {\n",
       "        vertical-align: top;\n",
       "    }\n",
       "\n",
       "    .dataframe thead th {\n",
       "        text-align: right;\n",
       "    }\n",
       "</style>\n",
       "<table border=\"1\" class=\"dataframe\">\n",
       "  <thead>\n",
       "    <tr style=\"text-align: right;\">\n",
       "      <th></th>\n",
       "      <th>aa</th>\n",
       "      <th>ab</th>\n",
       "      <th>aba</th>\n",
       "      <th>abandon</th>\n",
       "      <th>abbott</th>\n",
       "      <th>abbswinston</th>\n",
       "      <th>abc</th>\n",
       "      <th>abcnew</th>\n",
       "      <th>abe</th>\n",
       "      <th>abil</th>\n",
       "      <th>...</th>\n",
       "      <th>wound-keyword</th>\n",
       "      <th>wreck-keyword</th>\n",
       "      <th>wreckag-keyword</th>\n",
       "      <th>isRealPlace</th>\n",
       "      <th>longitud_tweet</th>\n",
       "      <th>letras_seguidas</th>\n",
       "      <th>sentimiento</th>\n",
       "      <th>objetividad</th>\n",
       "      <th>keyword</th>\n",
       "      <th>location</th>\n",
       "    </tr>\n",
       "  </thead>\n",
       "  <tbody>\n",
       "    <tr>\n",
       "      <th>0</th>\n",
       "      <td>0</td>\n",
       "      <td>0</td>\n",
       "      <td>0</td>\n",
       "      <td>0</td>\n",
       "      <td>0</td>\n",
       "      <td>0</td>\n",
       "      <td>0</td>\n",
       "      <td>0</td>\n",
       "      <td>0</td>\n",
       "      <td>0</td>\n",
       "      <td>...</td>\n",
       "      <td>False</td>\n",
       "      <td>False</td>\n",
       "      <td>False</td>\n",
       "      <td>False</td>\n",
       "      <td>50</td>\n",
       "      <td>2</td>\n",
       "      <td>0.0</td>\n",
       "      <td>0.0</td>\n",
       "      <td>fear</td>\n",
       "      <td>NaN</td>\n",
       "    </tr>\n",
       "    <tr>\n",
       "      <th>1</th>\n",
       "      <td>0</td>\n",
       "      <td>0</td>\n",
       "      <td>0</td>\n",
       "      <td>0</td>\n",
       "      <td>0</td>\n",
       "      <td>0</td>\n",
       "      <td>0</td>\n",
       "      <td>0</td>\n",
       "      <td>0</td>\n",
       "      <td>0</td>\n",
       "      <td>...</td>\n",
       "      <td>False</td>\n",
       "      <td>False</td>\n",
       "      <td>False</td>\n",
       "      <td>False</td>\n",
       "      <td>110</td>\n",
       "      <td>2</td>\n",
       "      <td>0.0</td>\n",
       "      <td>1.0</td>\n",
       "      <td>quarantin</td>\n",
       "      <td>Karolinska vÃÂ_gen 18, Solna</td>\n",
       "    </tr>\n",
       "  </tbody>\n",
       "</table>\n",
       "<p>2 rows × 5184 columns</p>\n",
       "</div>"
      ],
      "text/plain": [
       "   aa  ab  aba  abandon  abbott  abbswinston  abc  abcnew  abe  abil  ...  \\\n",
       "0   0   0    0        0       0            0    0       0    0     0  ...   \n",
       "1   0   0    0        0       0            0    0       0    0     0  ...   \n",
       "\n",
       "   wound-keyword  wreck-keyword  wreckag-keyword  isRealPlace  longitud_tweet  \\\n",
       "0          False          False            False        False              50   \n",
       "1          False          False            False        False             110   \n",
       "\n",
       "   letras_seguidas  sentimiento  objetividad    keyword  \\\n",
       "0                2          0.0          0.0       fear   \n",
       "1                2          0.0          1.0  quarantin   \n",
       "\n",
       "                         location  \n",
       "0                             NaN  \n",
       "1  Karolinska vÃÂ_gen 18, Solna  \n",
       "\n",
       "[2 rows x 5184 columns]"
      ]
     },
     "execution_count": 276,
     "metadata": {},
     "output_type": "execute_result"
    }
   ],
   "source": [
    "train.head(2)"
   ]
  },
  {
   "cell_type": "code",
   "execution_count": 277,
   "metadata": {},
   "outputs": [],
   "source": [
    "vectorizer = CountVectorizer()\n",
    "vectorizer.fit(train_limpio[\"text\"].values.astype('U'))\n",
    "\n",
    "X_train = vectorizer.transform(train[\"text\"].values.astype('U'))\n",
    "X_val  = vectorizer.transform(val[\"text\"].values.astype('U'))\n",
    "X_test = vectorizer.transform(test[\"text\"].values.astype('U'))\n",
    "\n",
    "actual_tp_test_only_text = vectorizer.transform(test_limpio[\"text\"].values.astype('U'))"
   ]
  },
  {
   "cell_type": "code",
   "execution_count": 278,
   "metadata": {},
   "outputs": [],
   "source": [
    "def plot_history(history):\n",
    "    acc = history.history['acc']\n",
    "    val_acc = history.history['val_acc']\n",
    "    loss = history.history['loss']\n",
    "    val_loss = history.history['val_loss']\n",
    "    x = range(1, len(acc) + 1)\n",
    "\n",
    "    plt.figure(figsize=(12, 5))\n",
    "    plt.subplot(1, 2, 1)\n",
    "    plt.plot(x, acc, 'b', label='Training acc')\n",
    "    plt.plot(x, val_acc, 'r', label='Validation acc')\n",
    "    plt.title('Training and validation accuracy')\n",
    "    plt.legend()\n",
    "    plt.subplot(1, 2, 2)\n",
    "    plt.plot(x, loss, 'b', label='Training loss')\n",
    "    plt.plot(x, val_loss, 'r', label='Validation loss')\n",
    "    plt.title('Training and validation loss')\n",
    "    plt.legend()"
   ]
  },
  {
   "cell_type": "markdown",
   "metadata": {},
   "source": [
    "## Primer modelo simple"
   ]
  },
  {
   "cell_type": "code",
   "execution_count": 279,
   "metadata": {},
   "outputs": [
    {
     "name": "stdout",
     "output_type": "stream",
     "text": [
      "Model: \"sequential_8\"\n",
      "_________________________________________________________________\n",
      "Layer (type)                 Output Shape              Param #   \n",
      "=================================================================\n",
      "dense_16 (Dense)             (None, 10)                133800    \n",
      "_________________________________________________________________\n",
      "dense_17 (Dense)             (None, 1)                 11        \n",
      "=================================================================\n",
      "Total params: 133,811\n",
      "Trainable params: 133,811\n",
      "Non-trainable params: 0\n",
      "_________________________________________________________________\n"
     ]
    }
   ],
   "source": [
    "input_dim = X_train.shape[1]  # Number of features\n",
    "\n",
    "model = Sequential()\n",
    "model.add(layers.Dense(10, input_dim=input_dim, activation='relu'))\n",
    "model.add(layers.Dense(1, activation='sigmoid'))\n",
    "\n",
    "model.compile(loss='binary_crossentropy', \n",
    "              optimizer='adam', \n",
    "              metrics=['acc'])\n",
    "model.summary()"
   ]
  },
  {
   "cell_type": "code",
   "execution_count": 280,
   "metadata": {
    "scrolled": true
   },
   "outputs": [
    {
     "name": "stdout",
     "output_type": "stream",
     "text": [
      "Epoch 1/100\n",
      "609/609 [==============================] - 1s 1ms/step - loss: 0.5459 - acc: 0.7573 - val_loss: 0.4599 - val_acc: 0.8016\n",
      "Epoch 2/100\n",
      "609/609 [==============================] - 1s 1ms/step - loss: 0.3401 - acc: 0.8675 - val_loss: 0.4493 - val_acc: 0.8108\n",
      "Epoch 3/100\n",
      "609/609 [==============================] - 1s 1ms/step - loss: 0.2338 - acc: 0.9177 - val_loss: 0.4780 - val_acc: 0.8042\n",
      "Epoch 4/100\n",
      "609/609 [==============================] - 1s 1ms/step - loss: 0.1672 - acc: 0.9433 - val_loss: 0.5220 - val_acc: 0.8055\n",
      "Epoch 5/100\n",
      "609/609 [==============================] - 1s 1ms/step - loss: 0.1260 - acc: 0.9557 - val_loss: 0.5707 - val_acc: 0.7989\n",
      "Epoch 6/100\n",
      "609/609 [==============================] - 1s 1ms/step - loss: 0.0990 - acc: 0.9658 - val_loss: 0.6121 - val_acc: 0.7924\n",
      "Epoch 7/100\n",
      "609/609 [==============================] - 1s 1ms/step - loss: 0.0820 - acc: 0.9711 - val_loss: 0.6730 - val_acc: 0.7924\n",
      "Epoch 8/100\n",
      "609/609 [==============================] - 1s 1ms/step - loss: 0.0685 - acc: 0.9765 - val_loss: 0.7244 - val_acc: 0.7792\n",
      "Epoch 9/100\n",
      "609/609 [==============================] - 1s 1ms/step - loss: 0.0630 - acc: 0.9762 - val_loss: 0.7578 - val_acc: 0.7819\n",
      "Epoch 10/100\n",
      "609/609 [==============================] - 1s 1ms/step - loss: 0.0578 - acc: 0.9777 - val_loss: 0.8034 - val_acc: 0.7779\n",
      "Epoch 11/100\n",
      "609/609 [==============================] - 1s 1ms/step - loss: 0.0520 - acc: 0.9791 - val_loss: 0.8845 - val_acc: 0.7700\n",
      "Epoch 12/100\n",
      "609/609 [==============================] - 1s 1ms/step - loss: 0.0491 - acc: 0.9814 - val_loss: 0.8962 - val_acc: 0.7766\n",
      "Epoch 13/100\n",
      "609/609 [==============================] - 1s 1ms/step - loss: 0.0489 - acc: 0.9795 - val_loss: 0.9222 - val_acc: 0.7700\n",
      "Epoch 14/100\n",
      "609/609 [==============================] - 1s 1ms/step - loss: 0.0439 - acc: 0.9818 - val_loss: 0.9919 - val_acc: 0.7740\n",
      "Epoch 15/100\n",
      "609/609 [==============================] - 1s 1ms/step - loss: 0.0428 - acc: 0.9821 - val_loss: 1.0249 - val_acc: 0.7740\n",
      "Epoch 16/100\n",
      "609/609 [==============================] - 1s 1ms/step - loss: 0.0439 - acc: 0.9828 - val_loss: 1.0572 - val_acc: 0.7674\n",
      "Epoch 17/100\n",
      "609/609 [==============================] - 1s 1ms/step - loss: 0.0399 - acc: 0.9832 - val_loss: 1.0418 - val_acc: 0.7700\n",
      "Epoch 18/100\n",
      "609/609 [==============================] - 1s 1ms/step - loss: 0.0411 - acc: 0.9818 - val_loss: 1.0951 - val_acc: 0.7674\n",
      "Epoch 19/100\n",
      "609/609 [==============================] - 1s 1ms/step - loss: 0.0391 - acc: 0.9826 - val_loss: 1.1538 - val_acc: 0.7714\n",
      "Epoch 20/100\n",
      "609/609 [==============================] - 1s 1ms/step - loss: 0.0382 - acc: 0.9831 - val_loss: 1.1506 - val_acc: 0.7648\n",
      "Epoch 21/100\n",
      "609/609 [==============================] - 1s 1ms/step - loss: 0.0375 - acc: 0.9824 - val_loss: 1.1988 - val_acc: 0.7569\n",
      "Epoch 22/100\n",
      "609/609 [==============================] - 1s 1ms/step - loss: 0.0385 - acc: 0.9824 - val_loss: 1.2591 - val_acc: 0.7569\n",
      "Epoch 23/100\n",
      "609/609 [==============================] - 1s 1ms/step - loss: 0.0369 - acc: 0.9836 - val_loss: 1.2425 - val_acc: 0.7569\n",
      "Epoch 24/100\n",
      "609/609 [==============================] - 1s 1ms/step - loss: 0.0367 - acc: 0.9823 - val_loss: 1.2833 - val_acc: 0.7582\n",
      "Epoch 25/100\n",
      "609/609 [==============================] - 1s 1ms/step - loss: 0.0348 - acc: 0.9846 - val_loss: 1.2732 - val_acc: 0.7543\n",
      "Epoch 26/100\n",
      "609/609 [==============================] - 1s 1ms/step - loss: 0.0352 - acc: 0.9829 - val_loss: 1.2869 - val_acc: 0.7622\n",
      "Epoch 27/100\n",
      "609/609 [==============================] - 1s 1ms/step - loss: 0.0358 - acc: 0.9832 - val_loss: 1.3074 - val_acc: 0.7556\n",
      "Epoch 28/100\n",
      "609/609 [==============================] - 1s 1ms/step - loss: 0.0349 - acc: 0.9826 - val_loss: 1.3398 - val_acc: 0.7569\n",
      "Epoch 29/100\n",
      "609/609 [==============================] - 1s 1ms/step - loss: 0.0340 - acc: 0.9847 - val_loss: 1.3882 - val_acc: 0.7464\n",
      "Epoch 30/100\n",
      "609/609 [==============================] - 1s 1ms/step - loss: 0.0332 - acc: 0.9837 - val_loss: 1.4047 - val_acc: 0.7569\n",
      "Epoch 31/100\n",
      "609/609 [==============================] - 1s 1ms/step - loss: 0.0336 - acc: 0.9829 - val_loss: 1.4702 - val_acc: 0.7543\n",
      "Epoch 32/100\n",
      "609/609 [==============================] - 1s 1ms/step - loss: 0.0344 - acc: 0.9839 - val_loss: 1.4606 - val_acc: 0.7503\n",
      "Epoch 33/100\n",
      "609/609 [==============================] - 1s 1ms/step - loss: 0.0326 - acc: 0.9829 - val_loss: 1.5175 - val_acc: 0.7569\n",
      "Epoch 34/100\n",
      "609/609 [==============================] - 1s 1ms/step - loss: 0.0335 - acc: 0.9846 - val_loss: 1.4844 - val_acc: 0.7477\n",
      "Epoch 35/100\n",
      "609/609 [==============================] - 1s 1ms/step - loss: 0.0324 - acc: 0.9849 - val_loss: 1.5128 - val_acc: 0.7569\n",
      "Epoch 36/100\n",
      "609/609 [==============================] - 1s 1ms/step - loss: 0.0322 - acc: 0.9839 - val_loss: 1.5268 - val_acc: 0.7543\n",
      "Epoch 37/100\n",
      "609/609 [==============================] - 1s 1ms/step - loss: 0.0320 - acc: 0.9832 - val_loss: 1.5836 - val_acc: 0.7530\n",
      "Epoch 38/100\n",
      "609/609 [==============================] - 1s 1ms/step - loss: 0.0320 - acc: 0.9824 - val_loss: 1.6173 - val_acc: 0.7530\n",
      "Epoch 39/100\n",
      "609/609 [==============================] - 1s 1ms/step - loss: 0.0320 - acc: 0.9841 - val_loss: 1.5861 - val_acc: 0.7530\n",
      "Epoch 40/100\n",
      "609/609 [==============================] - 1s 1ms/step - loss: 0.0311 - acc: 0.9842 - val_loss: 1.5765 - val_acc: 0.7530\n",
      "Epoch 41/100\n",
      "609/609 [==============================] - 1s 1ms/step - loss: 0.0310 - acc: 0.9839 - val_loss: 1.6799 - val_acc: 0.7464\n",
      "Epoch 42/100\n",
      "609/609 [==============================] - 1s 1ms/step - loss: 0.0306 - acc: 0.9844 - val_loss: 1.6412 - val_acc: 0.7595\n",
      "Epoch 43/100\n",
      "609/609 [==============================] - 1s 1ms/step - loss: 0.0310 - acc: 0.9842 - val_loss: 1.6539 - val_acc: 0.7477\n",
      "Epoch 44/100\n",
      "609/609 [==============================] - 1s 1ms/step - loss: 0.0306 - acc: 0.9837 - val_loss: 1.6486 - val_acc: 0.7556\n",
      "Epoch 45/100\n",
      "609/609 [==============================] - 1s 1ms/step - loss: 0.0304 - acc: 0.9831 - val_loss: 1.6906 - val_acc: 0.7451\n",
      "Epoch 46/100\n",
      "609/609 [==============================] - 1s 1ms/step - loss: 0.0307 - acc: 0.9839 - val_loss: 1.6841 - val_acc: 0.7464\n",
      "Epoch 47/100\n",
      "609/609 [==============================] - 1s 1ms/step - loss: 0.0291 - acc: 0.9849 - val_loss: 1.6589 - val_acc: 0.7516\n",
      "Epoch 48/100\n",
      "609/609 [==============================] - 1s 1ms/step - loss: 0.0302 - acc: 0.9851 - val_loss: 1.7031 - val_acc: 0.7464\n",
      "Epoch 49/100\n",
      "609/609 [==============================] - 1s 1ms/step - loss: 0.0299 - acc: 0.9839 - val_loss: 1.6942 - val_acc: 0.7490\n",
      "Epoch 50/100\n",
      "609/609 [==============================] - 1s 1ms/step - loss: 0.0294 - acc: 0.9841 - val_loss: 1.6978 - val_acc: 0.7490\n",
      "Epoch 51/100\n",
      "609/609 [==============================] - 1s 1ms/step - loss: 0.0288 - acc: 0.9852 - val_loss: 1.7202 - val_acc: 0.7451\n",
      "Epoch 52/100\n",
      "609/609 [==============================] - 1s 1ms/step - loss: 0.0288 - acc: 0.9851 - val_loss: 1.7543 - val_acc: 0.7385\n",
      "Epoch 53/100\n",
      "609/609 [==============================] - 1s 1ms/step - loss: 0.0283 - acc: 0.9852 - val_loss: 1.7541 - val_acc: 0.7451\n",
      "Epoch 54/100\n",
      "609/609 [==============================] - 1s 1ms/step - loss: 0.0287 - acc: 0.9847 - val_loss: 1.7082 - val_acc: 0.7438\n",
      "Epoch 55/100\n",
      "609/609 [==============================] - 1s 1ms/step - loss: 0.0284 - acc: 0.9847 - val_loss: 1.7538 - val_acc: 0.7398\n",
      "Epoch 56/100\n",
      "609/609 [==============================] - 1s 1ms/step - loss: 0.0282 - acc: 0.9851 - val_loss: 1.7345 - val_acc: 0.7438\n",
      "Epoch 57/100\n",
      "609/609 [==============================] - 1s 1ms/step - loss: 0.0281 - acc: 0.9852 - val_loss: 1.7707 - val_acc: 0.7372\n",
      "Epoch 58/100\n",
      "609/609 [==============================] - 1s 1ms/step - loss: 0.0281 - acc: 0.9860 - val_loss: 1.7698 - val_acc: 0.7306\n",
      "Epoch 59/100\n",
      "609/609 [==============================] - 1s 1ms/step - loss: 0.0285 - acc: 0.9842 - val_loss: 1.7799 - val_acc: 0.7359\n",
      "Epoch 60/100\n",
      "609/609 [==============================] - 1s 1ms/step - loss: 0.0279 - acc: 0.9846 - val_loss: 1.7614 - val_acc: 0.7411\n",
      "Epoch 61/100\n",
      "609/609 [==============================] - 1s 1ms/step - loss: 0.0282 - acc: 0.9842 - val_loss: 1.7635 - val_acc: 0.7359\n",
      "Epoch 62/100\n"
     ]
    },
    {
     "name": "stdout",
     "output_type": "stream",
     "text": [
      "609/609 [==============================] - 1s 1ms/step - loss: 0.0280 - acc: 0.9854 - val_loss: 1.7448 - val_acc: 0.7385\n",
      "Epoch 63/100\n",
      "609/609 [==============================] - 1s 1ms/step - loss: 0.0275 - acc: 0.9852 - val_loss: 1.7573 - val_acc: 0.7346\n",
      "Epoch 64/100\n",
      "609/609 [==============================] - 1s 1ms/step - loss: 0.0272 - acc: 0.9852 - val_loss: 1.7325 - val_acc: 0.7424\n",
      "Epoch 65/100\n",
      "609/609 [==============================] - 1s 1ms/step - loss: 0.0273 - acc: 0.9846 - val_loss: 1.7376 - val_acc: 0.7385\n",
      "Epoch 66/100\n",
      "609/609 [==============================] - 1s 1ms/step - loss: 0.0272 - acc: 0.9852 - val_loss: 1.7746 - val_acc: 0.7385\n",
      "Epoch 67/100\n",
      "609/609 [==============================] - 1s 1ms/step - loss: 0.0274 - acc: 0.9849 - val_loss: 1.7560 - val_acc: 0.7332\n",
      "Epoch 68/100\n",
      "609/609 [==============================] - 1s 1ms/step - loss: 0.0272 - acc: 0.9849 - val_loss: 1.7523 - val_acc: 0.7411\n",
      "Epoch 69/100\n",
      "609/609 [==============================] - 1s 1ms/step - loss: 0.0268 - acc: 0.9857 - val_loss: 1.8065 - val_acc: 0.7280\n",
      "Epoch 70/100\n",
      "609/609 [==============================] - 1s 1ms/step - loss: 0.0267 - acc: 0.9859 - val_loss: 1.8325 - val_acc: 0.7254\n",
      "Epoch 71/100\n",
      "609/609 [==============================] - 1s 1ms/step - loss: 0.0271 - acc: 0.9841 - val_loss: 1.7943 - val_acc: 0.7332\n",
      "Epoch 72/100\n",
      "609/609 [==============================] - 1s 1ms/step - loss: 0.0266 - acc: 0.9855 - val_loss: 1.8137 - val_acc: 0.7306\n",
      "Epoch 73/100\n",
      "609/609 [==============================] - 1s 1ms/step - loss: 0.0267 - acc: 0.9851 - val_loss: 1.8154 - val_acc: 0.7319\n",
      "Epoch 74/100\n",
      "609/609 [==============================] - 1s 1ms/step - loss: 0.0270 - acc: 0.9846 - val_loss: 1.8023 - val_acc: 0.7319\n",
      "Epoch 75/100\n",
      "609/609 [==============================] - 1s 1ms/step - loss: 0.0268 - acc: 0.9852 - val_loss: 1.7995 - val_acc: 0.7346\n",
      "Epoch 76/100\n",
      "609/609 [==============================] - 1s 1ms/step - loss: 0.0265 - acc: 0.9854 - val_loss: 1.8241 - val_acc: 0.7267\n",
      "Epoch 77/100\n",
      "609/609 [==============================] - 1s 1ms/step - loss: 0.0269 - acc: 0.9855 - val_loss: 1.7876 - val_acc: 0.7319\n",
      "Epoch 78/100\n",
      "609/609 [==============================] - 1s 1ms/step - loss: 0.0261 - acc: 0.9857 - val_loss: 1.8148 - val_acc: 0.7293\n",
      "Epoch 79/100\n",
      "609/609 [==============================] - 1s 1ms/step - loss: 0.0262 - acc: 0.9842 - val_loss: 1.8484 - val_acc: 0.7280\n",
      "Epoch 80/100\n",
      "609/609 [==============================] - 1s 1ms/step - loss: 0.0263 - acc: 0.9854 - val_loss: 1.8202 - val_acc: 0.7346\n",
      "Epoch 81/100\n",
      "609/609 [==============================] - 1s 1ms/step - loss: 0.0265 - acc: 0.9849 - val_loss: 1.8563 - val_acc: 0.7267\n",
      "Epoch 82/100\n",
      "609/609 [==============================] - 1s 1ms/step - loss: 0.0260 - acc: 0.9857 - val_loss: 1.8481 - val_acc: 0.7240\n",
      "Epoch 83/100\n",
      "609/609 [==============================] - 1s 1ms/step - loss: 0.0258 - acc: 0.9847 - val_loss: 1.8157 - val_acc: 0.7346\n",
      "Epoch 84/100\n",
      "609/609 [==============================] - 1s 1ms/step - loss: 0.0258 - acc: 0.9852 - val_loss: 1.8341 - val_acc: 0.7346\n",
      "Epoch 85/100\n",
      "609/609 [==============================] - 1s 1ms/step - loss: 0.0255 - acc: 0.9859 - val_loss: 1.8111 - val_acc: 0.7359\n",
      "Epoch 86/100\n",
      "609/609 [==============================] - 1s 1ms/step - loss: 0.0260 - acc: 0.9859 - val_loss: 1.8837 - val_acc: 0.7254\n",
      "Epoch 87/100\n",
      "609/609 [==============================] - 1s 1ms/step - loss: 0.0256 - acc: 0.9862 - val_loss: 1.8834 - val_acc: 0.7306\n",
      "Epoch 88/100\n",
      "609/609 [==============================] - 1s 1ms/step - loss: 0.0257 - acc: 0.9860 - val_loss: 1.8859 - val_acc: 0.7293\n",
      "Epoch 89/100\n",
      "609/609 [==============================] - 1s 1ms/step - loss: 0.0256 - acc: 0.9855 - val_loss: 1.8843 - val_acc: 0.7306\n",
      "Epoch 90/100\n",
      "609/609 [==============================] - 1s 1ms/step - loss: 0.0257 - acc: 0.9857 - val_loss: 1.8673 - val_acc: 0.7267\n",
      "Epoch 91/100\n",
      "609/609 [==============================] - 1s 1ms/step - loss: 0.0255 - acc: 0.9854 - val_loss: 1.8762 - val_acc: 0.7254\n",
      "Epoch 92/100\n",
      "609/609 [==============================] - 1s 1ms/step - loss: 0.0255 - acc: 0.9846 - val_loss: 1.8635 - val_acc: 0.7293\n",
      "Epoch 93/100\n",
      "609/609 [==============================] - 1s 1ms/step - loss: 0.0256 - acc: 0.9860 - val_loss: 1.8741 - val_acc: 0.7319\n",
      "Epoch 94/100\n",
      "609/609 [==============================] - 1s 1ms/step - loss: 0.0255 - acc: 0.9852 - val_loss: 1.8754 - val_acc: 0.7293\n",
      "Epoch 95/100\n",
      "609/609 [==============================] - 1s 1ms/step - loss: 0.0256 - acc: 0.9851 - val_loss: 1.9172 - val_acc: 0.7254\n",
      "Epoch 96/100\n",
      "609/609 [==============================] - 1s 1ms/step - loss: 0.0255 - acc: 0.9854 - val_loss: 1.9143 - val_acc: 0.7293\n",
      "Epoch 97/100\n",
      "609/609 [==============================] - 1s 1ms/step - loss: 0.0252 - acc: 0.9855 - val_loss: 1.8858 - val_acc: 0.7319\n",
      "Epoch 98/100\n",
      "609/609 [==============================] - 1s 1ms/step - loss: 0.0254 - acc: 0.9847 - val_loss: 1.9167 - val_acc: 0.7306\n",
      "Epoch 99/100\n",
      "609/609 [==============================] - 1s 1ms/step - loss: 0.0250 - acc: 0.9862 - val_loss: 1.9268 - val_acc: 0.7306\n",
      "Epoch 100/100\n",
      "609/609 [==============================] - 1s 1ms/step - loss: 0.0253 - acc: 0.9855 - val_loss: 1.9032 - val_acc: 0.7293\n"
     ]
    }
   ],
   "source": [
    "first_history = model.fit(X_train, train[\"target\"].to_numpy(),\n",
    "                    epochs=100,\n",
    "                    verbose=True,\n",
    "                    validation_data=(X_val, val[\"target\"].to_numpy()),\n",
    "                    batch_size=10)"
   ]
  },
  {
   "cell_type": "code",
   "execution_count": 281,
   "metadata": {},
   "outputs": [
    {
     "data": {
      "image/png": "[encoded data removed]",
      "text/plain": [
       "<Figure size 864x360 with 2 Axes>"
      ]
     },
     "metadata": {},
     "output_type": "display_data"
    }
   ],
   "source": [
    "plot_history(first_history)"
   ]
  },
  {
   "cell_type": "code",
   "execution_count": 282,
   "metadata": {},
   "outputs": [
    {
     "name": "stdout",
     "output_type": "stream",
     "text": [
      "Testing Accuracy:  0.7130\n"
     ]
    }
   ],
   "source": [
    "loss, accuracy = model.evaluate(X_test, test[\"target\"].to_numpy(), verbose=False)\n",
    "print(\"Testing Accuracy:  {:.4f}\".format(accuracy))"
   ]
  },
  {
   "cell_type": "code",
   "execution_count": 283,
   "metadata": {},
   "outputs": [],
   "source": [
    "firstPredictions = list(map(lambda x: x[0], model.predict_classes(actual_tp_test_only_text)))"
   ]
  },
  {
   "cell_type": "code",
   "execution_count": 284,
   "metadata": {},
   "outputs": [
    {
     "data": {
      "text/html": [
       "<div>\n",
       "<style scoped>\n",
       "    .dataframe tbody tr th:only-of-type {\n",
       "        vertical-align: middle;\n",
       "    }\n",
       "\n",
       "    .dataframe tbody tr th {\n",
       "        vertical-align: top;\n",
       "    }\n",
       "\n",
       "    .dataframe thead th {\n",
       "        text-align: right;\n",
       "    }\n",
       "</style>\n",
       "<table border=\"1\" class=\"dataframe\">\n",
       "  <thead>\n",
       "    <tr style=\"text-align: right;\">\n",
       "      <th></th>\n",
       "      <th>id</th>\n",
       "      <th>target</th>\n",
       "    </tr>\n",
       "  </thead>\n",
       "  <tbody>\n",
       "    <tr>\n",
       "      <th>0</th>\n",
       "      <td>0</td>\n",
       "      <td>1</td>\n",
       "    </tr>\n",
       "    <tr>\n",
       "      <th>1</th>\n",
       "      <td>2</td>\n",
       "      <td>0</td>\n",
       "    </tr>\n",
       "    <tr>\n",
       "      <th>2</th>\n",
       "      <td>3</td>\n",
       "      <td>1</td>\n",
       "    </tr>\n",
       "    <tr>\n",
       "      <th>3</th>\n",
       "      <td>9</td>\n",
       "      <td>1</td>\n",
       "    </tr>\n",
       "    <tr>\n",
       "      <th>4</th>\n",
       "      <td>11</td>\n",
       "      <td>1</td>\n",
       "    </tr>\n",
       "    <tr>\n",
       "      <th>5</th>\n",
       "      <td>12</td>\n",
       "      <td>1</td>\n",
       "    </tr>\n",
       "    <tr>\n",
       "      <th>6</th>\n",
       "      <td>21</td>\n",
       "      <td>0</td>\n",
       "    </tr>\n",
       "    <tr>\n",
       "      <th>7</th>\n",
       "      <td>22</td>\n",
       "      <td>1</td>\n",
       "    </tr>\n",
       "    <tr>\n",
       "      <th>8</th>\n",
       "      <td>27</td>\n",
       "      <td>0</td>\n",
       "    </tr>\n",
       "    <tr>\n",
       "      <th>9</th>\n",
       "      <td>29</td>\n",
       "      <td>1</td>\n",
       "    </tr>\n",
       "  </tbody>\n",
       "</table>\n",
       "</div>"
      ],
      "text/plain": [
       "   id  target\n",
       "0   0       1\n",
       "1   2       0\n",
       "2   3       1\n",
       "3   9       1\n",
       "4  11       1\n",
       "5  12       1\n",
       "6  21       0\n",
       "7  22       1\n",
       "8  27       0\n",
       "9  29       1"
      ]
     },
     "execution_count": 284,
     "metadata": {},
     "output_type": "execute_result"
    }
   ],
   "source": [
    "firstPredictionsDF = pd.DataFrame(data={'id': test_limpio[\"id\"], 'target': firstPredictions})\n",
    "firstPredictionsDF.head(10)"
   ]
  },
  {
   "cell_type": "code",
   "execution_count": 285,
   "metadata": {},
   "outputs": [],
   "source": [
    "firstPredictionsDF.to_csv('NN_predictions_first_model.csv', index=False)"
   ]
  },
  {
   "cell_type": "markdown",
   "metadata": {},
   "source": [
    "## Segundo modelo, agrego ciudades y Tokenizer en vez de count para las words"
   ]
  },
  {
   "cell_type": "code",
   "execution_count": 286,
   "metadata": {},
   "outputs": [
    {
     "data": {
      "text/plain": [
       "array(['Birmingham', 'Est. September 2012 - Bristol', 'AFRICA', ...,\n",
       "       'Vancouver', 'UK', 'Lincoln'], dtype=object)"
      ]
     },
     "execution_count": 286,
     "metadata": {},
     "output_type": "execute_result"
    }
   ],
   "source": [
    "non_null_locations = train_limpio[train_limpio.location.notnull()][\"location\"].to_numpy()\n",
    "non_null_locations"
   ]
  },
  {
   "cell_type": "code",
   "execution_count": 287,
   "metadata": {},
   "outputs": [
    {
     "data": {
      "text/plain": [
       "5080"
      ]
     },
     "execution_count": 287,
     "metadata": {},
     "output_type": "execute_result"
    }
   ],
   "source": [
    "encoder = LabelEncoder()\n",
    "locations = encoder.fit_transform(non_null_locations)\n",
    "len(locations)"
   ]
  },
  {
   "cell_type": "code",
   "execution_count": 288,
   "metadata": {},
   "outputs": [
    {
     "data": {
      "text/plain": [
       "array([[0., 0., 0., ..., 0., 0., 0.],\n",
       "       [0., 0., 0., ..., 0., 0., 0.],\n",
       "       [0., 0., 0., ..., 0., 0., 0.],\n",
       "       ...,\n",
       "       [0., 0., 0., ..., 0., 0., 0.],\n",
       "       [0., 0., 0., ..., 0., 0., 0.],\n",
       "       [0., 0., 0., ..., 0., 0., 0.]])"
      ]
     },
     "execution_count": 288,
     "metadata": {},
     "output_type": "execute_result"
    }
   ],
   "source": [
    "encoder = OneHotEncoder(sparse=False)\n",
    "locations = locations.reshape((5080, 1))\n",
    "encoder.fit_transform(locations)"
   ]
  },
  {
   "cell_type": "code",
   "execution_count": 289,
   "metadata": {},
   "outputs": [
    {
     "name": "stdout",
     "output_type": "stream",
     "text": [
      "all resid ask to shelter in place are be notifi by offic no other evacu or shelter in place order are expect\n",
      "[144, 880, 806, 2002, 107, 3517, 727, 3518, 3519]\n"
     ]
    }
   ],
   "source": [
    "tokenizer = Tokenizer(num_words=5000)\n",
    "tokenizer.fit_on_texts(train_limpio[\"text\"].values.astype('U'))\n",
    "\n",
    "X_train = tokenizer.texts_to_sequences(train[\"text\"].values.astype('U'))\n",
    "X_val = tokenizer.texts_to_sequences(val[\"text\"].values.astype('U'))\n",
    "X_test = tokenizer.texts_to_sequences(test[\"text\"].values.astype('U'))\n",
    "\n",
    "vocab_size = len(tokenizer.word_index) + 1  # Adding 1 because of reserved 0 index\n",
    "\n",
    "print(train_limpio[\"text\"].values[2])\n",
    "print(X_train[2])"
   ]
  },
  {
   "cell_type": "code",
   "execution_count": 290,
   "metadata": {},
   "outputs": [],
   "source": [
    "maxlen = 280\n",
    "\n",
    "X_train = pad_sequences(X_train, padding='post', maxlen=maxlen)\n",
    "X_val = pad_sequences(X_val, padding='post', maxlen=maxlen)\n",
    "X_test = pad_sequences(X_test, padding='post', maxlen=maxlen)"
   ]
  },
  {
   "cell_type": "markdown",
   "metadata": {},
   "source": [
    "## Pruebo solo texto, modelo mas complejo con maxPooling y mejor embedding"
   ]
  },
  {
   "cell_type": "code",
   "execution_count": 291,
   "metadata": {},
   "outputs": [
    {
     "name": "stdout",
     "output_type": "stream",
     "text": [
      "Model: \"sequential_9\"\n",
      "_________________________________________________________________\n",
      "Layer (type)                 Output Shape              Param #   \n",
      "=================================================================\n",
      "embedding_1 (Embedding)      (None, 280, 50)           675500    \n",
      "_________________________________________________________________\n",
      "global_max_pooling1d_1 (Glob (None, 50)                0         \n",
      "_________________________________________________________________\n",
      "dense_18 (Dense)             (None, 10)                510       \n",
      "_________________________________________________________________\n",
      "dense_19 (Dense)             (None, 1)                 11        \n",
      "=================================================================\n",
      "Total params: 676,021\n",
      "Trainable params: 676,021\n",
      "Non-trainable params: 0\n",
      "_________________________________________________________________\n"
     ]
    }
   ],
   "source": [
    "embedding_dim = 50\n",
    "\n",
    "model1 = Sequential()\n",
    "model1.add(layers.Embedding(input_dim=vocab_size, \n",
    "                           output_dim=embedding_dim, \n",
    "                           input_length=maxlen))\n",
    "model1.add(layers.GlobalMaxPool1D())\n",
    "model1.add(layers.Dense(10, activation='relu'))\n",
    "model1.add(layers.Dense(1, activation='sigmoid'))\n",
    "model1.compile(optimizer='adam',\n",
    "              loss='binary_crossentropy',\n",
    "              metrics=['acc'])\n",
    "model1.summary()"
   ]
  },
  {
   "cell_type": "code",
   "execution_count": 292,
   "metadata": {},
   "outputs": [
    {
     "name": "stdout",
     "output_type": "stream",
     "text": [
      "Testing Accuracy:  0.7693\n"
     ]
    },
    {
     "ename": "KeyError",
     "evalue": "'acc'",
     "output_type": "error",
     "traceback": [
      "\u001b[0;31m---------------------------------------------------------------------------\u001b[0m",
      "\u001b[0;31mKeyError\u001b[0m                                  Traceback (most recent call last)",
      "\u001b[0;32m<ipython-input-292-114ac31cf0df>\u001b[0m in \u001b[0;36m<module>\u001b[0;34m\u001b[0m\n\u001b[1;32m      7\u001b[0m \u001b[0mloss\u001b[0m\u001b[0;34m,\u001b[0m \u001b[0maccuracy\u001b[0m \u001b[0;34m=\u001b[0m \u001b[0mmodel1\u001b[0m\u001b[0;34m.\u001b[0m\u001b[0mevaluate\u001b[0m\u001b[0;34m(\u001b[0m\u001b[0mX_test\u001b[0m\u001b[0;34m,\u001b[0m \u001b[0mtest\u001b[0m\u001b[0;34m[\u001b[0m\u001b[0;34m\"target\"\u001b[0m\u001b[0;34m]\u001b[0m\u001b[0;34m.\u001b[0m\u001b[0mto_numpy\u001b[0m\u001b[0;34m(\u001b[0m\u001b[0;34m)\u001b[0m\u001b[0;34m,\u001b[0m \u001b[0mverbose\u001b[0m\u001b[0;34m=\u001b[0m\u001b[0;32mFalse\u001b[0m\u001b[0;34m)\u001b[0m\u001b[0;34m\u001b[0m\u001b[0;34m\u001b[0m\u001b[0m\n\u001b[1;32m      8\u001b[0m \u001b[0mprint\u001b[0m\u001b[0;34m(\u001b[0m\u001b[0;34m\"Testing Accuracy:  {:.4f}\"\u001b[0m\u001b[0;34m.\u001b[0m\u001b[0mformat\u001b[0m\u001b[0;34m(\u001b[0m\u001b[0maccuracy\u001b[0m\u001b[0;34m)\u001b[0m\u001b[0;34m)\u001b[0m\u001b[0;34m\u001b[0m\u001b[0;34m\u001b[0m\u001b[0m\n\u001b[0;32m----> 9\u001b[0;31m \u001b[0mplot_history\u001b[0m\u001b[0;34m(\u001b[0m\u001b[0mhistory\u001b[0m\u001b[0;34m)\u001b[0m\u001b[0;34m\u001b[0m\u001b[0;34m\u001b[0m\u001b[0m\n\u001b[0m",
      "\u001b[0;32m<ipython-input-278-b8f9387078b8>\u001b[0m in \u001b[0;36mplot_history\u001b[0;34m(history)\u001b[0m\n\u001b[1;32m      1\u001b[0m \u001b[0;32mdef\u001b[0m \u001b[0mplot_history\u001b[0m\u001b[0;34m(\u001b[0m\u001b[0mhistory\u001b[0m\u001b[0;34m)\u001b[0m\u001b[0;34m:\u001b[0m\u001b[0;34m\u001b[0m\u001b[0;34m\u001b[0m\u001b[0m\n\u001b[0;32m----> 2\u001b[0;31m     \u001b[0macc\u001b[0m \u001b[0;34m=\u001b[0m \u001b[0mhistory\u001b[0m\u001b[0;34m.\u001b[0m\u001b[0mhistory\u001b[0m\u001b[0;34m[\u001b[0m\u001b[0;34m'acc'\u001b[0m\u001b[0;34m]\u001b[0m\u001b[0;34m\u001b[0m\u001b[0;34m\u001b[0m\u001b[0m\n\u001b[0m\u001b[1;32m      3\u001b[0m     \u001b[0mval_acc\u001b[0m \u001b[0;34m=\u001b[0m \u001b[0mhistory\u001b[0m\u001b[0;34m.\u001b[0m\u001b[0mhistory\u001b[0m\u001b[0;34m[\u001b[0m\u001b[0;34m'val_acc'\u001b[0m\u001b[0;34m]\u001b[0m\u001b[0;34m\u001b[0m\u001b[0;34m\u001b[0m\u001b[0m\n\u001b[1;32m      4\u001b[0m     \u001b[0mloss\u001b[0m \u001b[0;34m=\u001b[0m \u001b[0mhistory\u001b[0m\u001b[0;34m.\u001b[0m\u001b[0mhistory\u001b[0m\u001b[0;34m[\u001b[0m\u001b[0;34m'loss'\u001b[0m\u001b[0;34m]\u001b[0m\u001b[0;34m\u001b[0m\u001b[0;34m\u001b[0m\u001b[0m\n\u001b[1;32m      5\u001b[0m     \u001b[0mval_loss\u001b[0m \u001b[0;34m=\u001b[0m \u001b[0mhistory\u001b[0m\u001b[0;34m.\u001b[0m\u001b[0mhistory\u001b[0m\u001b[0;34m[\u001b[0m\u001b[0;34m'val_loss'\u001b[0m\u001b[0;34m]\u001b[0m\u001b[0;34m\u001b[0m\u001b[0;34m\u001b[0m\u001b[0m\n",
      "\u001b[0;31mKeyError\u001b[0m: 'acc'"
     ]
    }
   ],
   "source": [
    "second_history = model1.fit(X_train, train[\"target\"].to_numpy(),\n",
    "                    epochs=50,\n",
    "                    verbose=False,\n",
    "                    validation_data=(X_val, val[\"target\"].to_numpy()),\n",
    "                    batch_size=10)\n",
    "\n",
    "loss, accuracy = model1.evaluate(X_test, test[\"target\"].to_numpy(), verbose=False)\n",
    "print(\"Testing Accuracy:  {:.4f}\".format(accuracy))\n",
    "plot_history(second_history)"
   ]
  }
 ],
 "metadata": {
  "kernelspec": {
   "display_name": "Python 3",
   "language": "python",
   "name": "python3"
  },
  "language_info": {
   "codemirror_mode": {
    "name": "ipython",
    "version": 3
   },
   "file_extension": ".py",
   "mimetype": "text/x-python",
   "name": "python",
   "nbconvert_exporter": "python",
   "pygments_lexer": "ipython3",
   "version": "3.6.9"
  }
 },
 "nbformat": 4,
 "nbformat_minor": 4
}
