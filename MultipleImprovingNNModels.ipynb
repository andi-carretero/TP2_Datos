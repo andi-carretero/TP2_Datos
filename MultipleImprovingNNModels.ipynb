{
 "cells": [
  {
   "cell_type": "code",
   "execution_count": 84,
   "metadata": {},
   "outputs": [],
   "source": [
    "import numpy as np # linear algebra\n",
    "import pandas as pd # data processing, CSV file I/O (e.g. pd.read_csv)\n",
    "import matplotlib.pyplot as plt\n",
    "plt.style.use('ggplot')\n",
    "\n",
    "from sklearn.feature_extraction.text import CountVectorizer\n",
    "from sklearn.model_selection import train_test_split\n",
    "from sklearn.linear_model import LogisticRegression\n",
    "from sklearn.preprocessing import LabelEncoder\n",
    "from sklearn.preprocessing import OneHotEncoder\n",
    "from sklearn.model_selection import RandomizedSearchCV\n",
    "\n",
    "from tensorflow.keras.models import Sequential\n",
    "from tensorflow.keras import layers\n",
    "from tensorflow.keras.preprocessing.text import Tokenizer\n",
    "from tensorflow.keras.preprocessing.sequence import pad_sequences\n",
    "from tensorflow.keras.wrappers.scikit_learn import KerasClassifier"
   ]
  },
  {
   "cell_type": "code",
   "execution_count": 85,
   "metadata": {},
   "outputs": [],
   "source": [
    "train_limpio = pd.read_csv(\"train_limpio_con_BOW_de_5000_y_Stemming_noDrops.csv\",encoding = \"ISO-8859-1\").sample(frac=1).reset_index(drop=True)\n",
    "test_limpio = pd.read_csv(\"test_limpio_con_BOW_de_5000_y_Stemming_noDrops.csv\",encoding = \"ISO-8859-1\").sample(frac=1).reset_index(drop=True)"
   ]
  },
  {
   "cell_type": "code",
   "execution_count": 86,
   "metadata": {},
   "outputs": [],
   "source": [
    "train_limpio[\"text\"] = train_limpio[\"text\"].map(lambda x : \"null\" if(x is None) else x)\n",
    "test_limpio[\"text\"] = test_limpio[\"text\"].map(lambda x : \"null\" if(x is None) else x)"
   ]
  },
  {
   "cell_type": "code",
   "execution_count": 87,
   "metadata": {},
   "outputs": [],
   "source": [
    "train_limpio_true = train_limpio.loc[train_limpio[\"target\"] == 1]\n",
    "train_limpio_false = train_limpio.loc[train_limpio[\"target\"] == 0]"
   ]
  },
  {
   "cell_type": "code",
   "execution_count": 88,
   "metadata": {},
   "outputs": [
    {
     "name": "stdout",
     "output_type": "stream",
     "text": [
      "Tenemos  3271.00 verdaderos y  4342.00 falsos\n"
     ]
    }
   ],
   "source": [
    "print(\"Tenemos {cant_verdaderos: .2f} verdaderos y {cant_falsos: .2f} falsos\".format(cant_verdaderos=len(train_limpio_true), cant_falsos=len(train_limpio_false)))"
   ]
  },
  {
   "cell_type": "markdown",
   "metadata": {},
   "source": [
    "## Voy a balancear el train y el validation, misma cantidad de falsos y verdaderos en ambos"
   ]
  },
  {
   "cell_type": "code",
   "execution_count": 89,
   "metadata": {},
   "outputs": [],
   "source": [
    "train = pd.concat([train_limpio_true.iloc[:2616], train_limpio_false.iloc[:3473]])\n",
    "val = pd.concat([train_limpio_true.iloc[2616:3000], train_limpio_false.iloc[3473:3850]])\n",
    "test = pd.concat([train_limpio_true.iloc[3000:], train_limpio_false.iloc[3850:]])"
   ]
  },
  {
   "cell_type": "code",
   "execution_count": 90,
   "metadata": {},
   "outputs": [
    {
     "data": {
      "text/html": [
       "<div>\n",
       "<style scoped>\n",
       "    .dataframe tbody tr th:only-of-type {\n",
       "        vertical-align: middle;\n",
       "    }\n",
       "\n",
       "    .dataframe tbody tr th {\n",
       "        vertical-align: top;\n",
       "    }\n",
       "\n",
       "    .dataframe thead th {\n",
       "        text-align: right;\n",
       "    }\n",
       "</style>\n",
       "<table border=\"1\" class=\"dataframe\">\n",
       "  <thead>\n",
       "    <tr style=\"text-align: right;\">\n",
       "      <th></th>\n",
       "      <th>aa</th>\n",
       "      <th>ab</th>\n",
       "      <th>aba</th>\n",
       "      <th>abandon</th>\n",
       "      <th>abbott</th>\n",
       "      <th>abbswinston</th>\n",
       "      <th>abc</th>\n",
       "      <th>abcnew</th>\n",
       "      <th>abe</th>\n",
       "      <th>abil</th>\n",
       "      <th>...</th>\n",
       "      <th>wound-keyword</th>\n",
       "      <th>wreck-keyword</th>\n",
       "      <th>wreckag-keyword</th>\n",
       "      <th>isRealPlace</th>\n",
       "      <th>longitud_tweet</th>\n",
       "      <th>letras_seguidas</th>\n",
       "      <th>sentimiento</th>\n",
       "      <th>objetividad</th>\n",
       "      <th>keyword</th>\n",
       "      <th>location</th>\n",
       "    </tr>\n",
       "  </thead>\n",
       "  <tbody>\n",
       "    <tr>\n",
       "      <th>1</th>\n",
       "      <td>0</td>\n",
       "      <td>0</td>\n",
       "      <td>0</td>\n",
       "      <td>0</td>\n",
       "      <td>0</td>\n",
       "      <td>0</td>\n",
       "      <td>0</td>\n",
       "      <td>0</td>\n",
       "      <td>0</td>\n",
       "      <td>0</td>\n",
       "      <td>...</td>\n",
       "      <td>False</td>\n",
       "      <td>False</td>\n",
       "      <td>False</td>\n",
       "      <td>False</td>\n",
       "      <td>110</td>\n",
       "      <td>2</td>\n",
       "      <td>0.5</td>\n",
       "      <td>0.5</td>\n",
       "      <td>outbreak</td>\n",
       "      <td>LAGOS</td>\n",
       "    </tr>\n",
       "    <tr>\n",
       "      <th>2</th>\n",
       "      <td>0</td>\n",
       "      <td>0</td>\n",
       "      <td>0</td>\n",
       "      <td>0</td>\n",
       "      <td>0</td>\n",
       "      <td>0</td>\n",
       "      <td>0</td>\n",
       "      <td>0</td>\n",
       "      <td>0</td>\n",
       "      <td>0</td>\n",
       "      <td>...</td>\n",
       "      <td>False</td>\n",
       "      <td>False</td>\n",
       "      <td>False</td>\n",
       "      <td>False</td>\n",
       "      <td>110</td>\n",
       "      <td>2</td>\n",
       "      <td>0.0</td>\n",
       "      <td>0.0</td>\n",
       "      <td>fatal</td>\n",
       "      <td>NaN</td>\n",
       "    </tr>\n",
       "  </tbody>\n",
       "</table>\n",
       "<p>2 rows × 5184 columns</p>\n",
       "</div>"
      ],
      "text/plain": [
       "   aa  ab  aba  abandon  abbott  abbswinston  abc  abcnew  abe  abil  ...  \\\n",
       "1   0   0    0        0       0            0    0       0    0     0  ...   \n",
       "2   0   0    0        0       0            0    0       0    0     0  ...   \n",
       "\n",
       "   wound-keyword  wreck-keyword  wreckag-keyword  isRealPlace  longitud_tweet  \\\n",
       "1          False          False            False        False             110   \n",
       "2          False          False            False        False             110   \n",
       "\n",
       "   letras_seguidas  sentimiento  objetividad   keyword  location  \n",
       "1                2          0.5          0.5  outbreak     LAGOS  \n",
       "2                2          0.0          0.0     fatal       NaN  \n",
       "\n",
       "[2 rows x 5184 columns]"
      ]
     },
     "execution_count": 90,
     "metadata": {},
     "output_type": "execute_result"
    }
   ],
   "source": [
    "train.head(2)"
   ]
  },
  {
   "cell_type": "code",
   "execution_count": 91,
   "metadata": {},
   "outputs": [],
   "source": [
    "vectorizer = CountVectorizer()\n",
    "vectorizer.fit(train_limpio[\"text\"].values.astype('U'))\n",
    "\n",
    "X_train = vectorizer.transform(train[\"text\"].values.astype('U'))\n",
    "X_val  = vectorizer.transform(val[\"text\"].values.astype('U'))\n",
    "X_test = vectorizer.transform(test[\"text\"].values.astype('U'))\n",
    "\n",
    "actual_tp_test_only_text = vectorizer.transform(test_limpio[\"text\"].values.astype('U'))"
   ]
  },
  {
   "cell_type": "code",
   "execution_count": 92,
   "metadata": {},
   "outputs": [],
   "source": [
    "def plot_history(history):\n",
    "    acc = history.history['acc']\n",
    "    val_acc = history.history['val_acc']\n",
    "    loss = history.history['loss']\n",
    "    val_loss = history.history['val_loss']\n",
    "    x = range(1, len(acc) + 1)\n",
    "\n",
    "    plt.figure(figsize=(12, 5))\n",
    "    plt.subplot(1, 2, 1)\n",
    "    plt.plot(x, acc, 'b', label='Training acc')\n",
    "    plt.plot(x, val_acc, 'r', label='Validation acc')\n",
    "    plt.title('Training and validation accuracy')\n",
    "    plt.legend()\n",
    "    plt.subplot(1, 2, 2)\n",
    "    plt.plot(x, loss, 'b', label='Training loss')\n",
    "    plt.plot(x, val_loss, 'r', label='Validation loss')\n",
    "    plt.title('Training and validation loss')\n",
    "    plt.legend()"
   ]
  },
  {
   "cell_type": "markdown",
   "metadata": {},
   "source": [
    "## Primer modelo simple"
   ]
  },
  {
   "cell_type": "code",
   "execution_count": 93,
   "metadata": {},
   "outputs": [
    {
     "name": "stdout",
     "output_type": "stream",
     "text": [
      "Model: \"sequential_30\"\n",
      "_________________________________________________________________\n",
      "Layer (type)                 Output Shape              Param #   \n",
      "=================================================================\n",
      "dense_60 (Dense)             (None, 10)                133800    \n",
      "_________________________________________________________________\n",
      "dense_61 (Dense)             (None, 1)                 11        \n",
      "=================================================================\n",
      "Total params: 133,811\n",
      "Trainable params: 133,811\n",
      "Non-trainable params: 0\n",
      "_________________________________________________________________\n"
     ]
    }
   ],
   "source": [
    "input_dim = X_train.shape[1]  # Number of features\n",
    "\n",
    "model = Sequential()\n",
    "model.add(layers.Dense(10, input_dim=input_dim, activation='relu'))\n",
    "model.add(layers.Dense(1, activation='sigmoid'))\n",
    "\n",
    "model.compile(loss='binary_crossentropy', \n",
    "              optimizer='adam', \n",
    "              metrics=['acc'])\n",
    "model.summary()"
   ]
  },
  {
   "cell_type": "code",
   "execution_count": 94,
   "metadata": {
    "scrolled": true
   },
   "outputs": [
    {
     "name": "stdout",
     "output_type": "stream",
     "text": [
      "Epoch 1/100\n",
      "609/609 [==============================] - 1s 1ms/step - loss: 0.5423 - acc: 0.7561 - val_loss: 0.4759 - val_acc: 0.8081\n",
      "Epoch 2/100\n",
      "609/609 [==============================] - 1s 1ms/step - loss: 0.3402 - acc: 0.8666 - val_loss: 0.4653 - val_acc: 0.8016\n",
      "Epoch 3/100\n",
      "609/609 [==============================] - 1s 1ms/step - loss: 0.2358 - acc: 0.9162 - val_loss: 0.4808 - val_acc: 0.8029\n",
      "Epoch 4/100\n",
      "609/609 [==============================] - 1s 1ms/step - loss: 0.1721 - acc: 0.9397 - val_loss: 0.5118 - val_acc: 0.7937\n",
      "Epoch 5/100\n",
      "609/609 [==============================] - 1s 1ms/step - loss: 0.1295 - acc: 0.9560 - val_loss: 0.5473 - val_acc: 0.7950\n",
      "Epoch 6/100\n",
      "609/609 [==============================] - 1s 1ms/step - loss: 0.1026 - acc: 0.9644 - val_loss: 0.5951 - val_acc: 0.7832\n",
      "Epoch 7/100\n",
      "609/609 [==============================] - 1s 1ms/step - loss: 0.0866 - acc: 0.9691 - val_loss: 0.6355 - val_acc: 0.7858\n",
      "Epoch 8/100\n",
      "609/609 [==============================] - 1s 1ms/step - loss: 0.0726 - acc: 0.9732 - val_loss: 0.6835 - val_acc: 0.7806\n",
      "Epoch 9/100\n",
      "609/609 [==============================] - 1s 1ms/step - loss: 0.0667 - acc: 0.9742 - val_loss: 0.7180 - val_acc: 0.7753\n",
      "Epoch 10/100\n",
      "609/609 [==============================] - 1s 1ms/step - loss: 0.0600 - acc: 0.9750 - val_loss: 0.7568 - val_acc: 0.7727\n",
      "Epoch 11/100\n",
      "609/609 [==============================] - 1s 1ms/step - loss: 0.0572 - acc: 0.9750 - val_loss: 0.7848 - val_acc: 0.7700\n",
      "Epoch 12/100\n",
      "609/609 [==============================] - 1s 1ms/step - loss: 0.0540 - acc: 0.9754 - val_loss: 0.8341 - val_acc: 0.7714\n",
      "Epoch 13/100\n",
      "609/609 [==============================] - 1s 1ms/step - loss: 0.0514 - acc: 0.9755 - val_loss: 0.8536 - val_acc: 0.7753\n",
      "Epoch 14/100\n",
      "609/609 [==============================] - 1s 1ms/step - loss: 0.0472 - acc: 0.9778 - val_loss: 0.8986 - val_acc: 0.7753\n",
      "Epoch 15/100\n",
      "609/609 [==============================] - 1s 1ms/step - loss: 0.0490 - acc: 0.9760 - val_loss: 0.9201 - val_acc: 0.7740\n",
      "Epoch 16/100\n",
      "609/609 [==============================] - 1s 1ms/step - loss: 0.0466 - acc: 0.9772 - val_loss: 0.9574 - val_acc: 0.7700\n",
      "Epoch 17/100\n",
      "609/609 [==============================] - 1s 1ms/step - loss: 0.0443 - acc: 0.9791 - val_loss: 0.9745 - val_acc: 0.7740\n",
      "Epoch 18/100\n",
      "609/609 [==============================] - 1s 1ms/step - loss: 0.0448 - acc: 0.9801 - val_loss: 0.9979 - val_acc: 0.7700\n",
      "Epoch 19/100\n",
      "609/609 [==============================] - 1s 1ms/step - loss: 0.0437 - acc: 0.9814 - val_loss: 1.0372 - val_acc: 0.7687\n",
      "Epoch 20/100\n",
      "609/609 [==============================] - 1s 1ms/step - loss: 0.0419 - acc: 0.9823 - val_loss: 1.0747 - val_acc: 0.7674\n",
      "Epoch 21/100\n",
      "609/609 [==============================] - 1s 1ms/step - loss: 0.0414 - acc: 0.9826 - val_loss: 1.0870 - val_acc: 0.7687\n",
      "Epoch 22/100\n",
      "609/609 [==============================] - 1s 1ms/step - loss: 0.0434 - acc: 0.9801 - val_loss: 1.1016 - val_acc: 0.7635\n",
      "Epoch 23/100\n",
      "609/609 [==============================] - 1s 987us/step - loss: 0.0413 - acc: 0.9821 - val_loss: 1.1494 - val_acc: 0.7608\n",
      "Epoch 24/100\n",
      "609/609 [==============================] - 1s 1ms/step - loss: 0.0387 - acc: 0.9826 - val_loss: 1.1471 - val_acc: 0.7661\n",
      "Epoch 25/100\n",
      "609/609 [==============================] - 1s 1ms/step - loss: 0.0415 - acc: 0.9809 - val_loss: 1.1630 - val_acc: 0.7635\n",
      "Epoch 26/100\n",
      "609/609 [==============================] - 1s 1ms/step - loss: 0.0405 - acc: 0.9821 - val_loss: 1.1916 - val_acc: 0.7622\n",
      "Epoch 27/100\n",
      "609/609 [==============================] - 1s 1ms/step - loss: 0.0400 - acc: 0.9814 - val_loss: 1.2102 - val_acc: 0.7727\n",
      "Epoch 28/100\n",
      "609/609 [==============================] - 1s 1ms/step - loss: 0.0379 - acc: 0.9818 - val_loss: 1.2489 - val_acc: 0.7622\n",
      "Epoch 29/100\n",
      "609/609 [==============================] - 1s 1ms/step - loss: 0.0398 - acc: 0.9809 - val_loss: 1.2564 - val_acc: 0.7635\n",
      "Epoch 30/100\n",
      "609/609 [==============================] - 1s 1ms/step - loss: 0.0383 - acc: 0.9805 - val_loss: 1.2889 - val_acc: 0.7608\n",
      "Epoch 31/100\n",
      "609/609 [==============================] - 1s 1ms/step - loss: 0.0383 - acc: 0.9816 - val_loss: 1.2904 - val_acc: 0.7635\n",
      "Epoch 32/100\n",
      "609/609 [==============================] - 1s 1ms/step - loss: 0.0392 - acc: 0.9805 - val_loss: 1.3196 - val_acc: 0.7608\n",
      "Epoch 33/100\n",
      "609/609 [==============================] - 1s 1ms/step - loss: 0.0364 - acc: 0.9826 - val_loss: 1.3421 - val_acc: 0.7543\n",
      "Epoch 34/100\n",
      "609/609 [==============================] - 1s 1ms/step - loss: 0.0377 - acc: 0.9818 - val_loss: 1.3680 - val_acc: 0.7569\n",
      "Epoch 35/100\n",
      "609/609 [==============================] - 1s 1ms/step - loss: 0.0376 - acc: 0.9814 - val_loss: 1.3586 - val_acc: 0.7595\n",
      "Epoch 36/100\n",
      "609/609 [==============================] - 1s 1ms/step - loss: 0.0356 - acc: 0.9819 - val_loss: 1.3806 - val_acc: 0.7582\n",
      "Epoch 37/100\n",
      "609/609 [==============================] - 1s 1ms/step - loss: 0.0356 - acc: 0.9823 - val_loss: 1.4232 - val_acc: 0.7556\n",
      "Epoch 38/100\n",
      "609/609 [==============================] - 1s 1ms/step - loss: 0.0362 - acc: 0.9829 - val_loss: 1.4230 - val_acc: 0.7543\n",
      "Epoch 39/100\n",
      "609/609 [==============================] - 1s 1ms/step - loss: 0.0354 - acc: 0.9821 - val_loss: 1.4257 - val_acc: 0.7530\n",
      "Epoch 40/100\n",
      "609/609 [==============================] - 1s 1ms/step - loss: 0.0353 - acc: 0.9823 - val_loss: 1.4536 - val_acc: 0.7543\n",
      "Epoch 41/100\n",
      "609/609 [==============================] - 1s 1ms/step - loss: 0.0347 - acc: 0.9828 - val_loss: 1.4571 - val_acc: 0.7490\n",
      "Epoch 42/100\n",
      "609/609 [==============================] - 1s 1ms/step - loss: 0.0347 - acc: 0.9826 - val_loss: 1.4456 - val_acc: 0.7451\n",
      "Epoch 43/100\n",
      "609/609 [==============================] - 1s 1ms/step - loss: 0.0348 - acc: 0.9819 - val_loss: 1.4549 - val_acc: 0.7530\n",
      "Epoch 44/100\n",
      "609/609 [==============================] - 1s 1ms/step - loss: 0.0347 - acc: 0.9821 - val_loss: 1.4656 - val_acc: 0.7477\n",
      "Epoch 45/100\n",
      "609/609 [==============================] - 1s 1ms/step - loss: 0.0345 - acc: 0.9826 - val_loss: 1.4829 - val_acc: 0.7530\n",
      "Epoch 46/100\n",
      "609/609 [==============================] - 1s 1ms/step - loss: 0.0348 - acc: 0.9813 - val_loss: 1.4978 - val_acc: 0.7503\n",
      "Epoch 47/100\n",
      "609/609 [==============================] - 1s 1ms/step - loss: 0.0345 - acc: 0.9823 - val_loss: 1.5057 - val_acc: 0.7490\n",
      "Epoch 48/100\n",
      "609/609 [==============================] - 1s 1ms/step - loss: 0.0339 - acc: 0.9826 - val_loss: 1.5070 - val_acc: 0.7424\n",
      "Epoch 49/100\n",
      "609/609 [==============================] - 1s 1ms/step - loss: 0.0336 - acc: 0.9823 - val_loss: 1.5152 - val_acc: 0.7477\n",
      "Epoch 50/100\n",
      "609/609 [==============================] - 1s 1ms/step - loss: 0.0328 - acc: 0.9828 - val_loss: 1.5004 - val_acc: 0.7477\n",
      "Epoch 51/100\n",
      "609/609 [==============================] - 1s 1ms/step - loss: 0.0332 - acc: 0.9824 - val_loss: 1.5103 - val_acc: 0.7464\n",
      "Epoch 52/100\n",
      "609/609 [==============================] - 1s 1ms/step - loss: 0.0336 - acc: 0.9814 - val_loss: 1.5256 - val_acc: 0.7438\n",
      "Epoch 53/100\n",
      "609/609 [==============================] - 1s 1ms/step - loss: 0.0333 - acc: 0.9819 - val_loss: 1.5360 - val_acc: 0.7438\n",
      "Epoch 54/100\n",
      "609/609 [==============================] - 1s 1ms/step - loss: 0.0325 - acc: 0.9828 - val_loss: 1.5326 - val_acc: 0.7398\n",
      "Epoch 55/100\n",
      "609/609 [==============================] - 1s 1ms/step - loss: 0.0320 - acc: 0.9832 - val_loss: 1.5380 - val_acc: 0.7424\n",
      "Epoch 56/100\n",
      "609/609 [==============================] - 1s 1ms/step - loss: 0.0325 - acc: 0.9829 - val_loss: 1.5387 - val_acc: 0.7490\n",
      "Epoch 57/100\n",
      "609/609 [==============================] - 1s 1ms/step - loss: 0.0322 - acc: 0.9829 - val_loss: 1.5646 - val_acc: 0.7385\n",
      "Epoch 58/100\n",
      "609/609 [==============================] - 1s 1ms/step - loss: 0.0323 - acc: 0.9821 - val_loss: 1.5265 - val_acc: 0.7438\n",
      "Epoch 59/100\n",
      "609/609 [==============================] - 1s 1ms/step - loss: 0.0322 - acc: 0.9811 - val_loss: 1.5448 - val_acc: 0.7438\n",
      "Epoch 60/100\n",
      "609/609 [==============================] - 1s 1ms/step - loss: 0.0322 - acc: 0.9826 - val_loss: 1.5391 - val_acc: 0.7411\n",
      "Epoch 61/100\n",
      "609/609 [==============================] - 1s 1ms/step - loss: 0.0316 - acc: 0.9821 - val_loss: 1.5418 - val_acc: 0.7464\n",
      "Epoch 62/100\n"
     ]
    },
    {
     "name": "stdout",
     "output_type": "stream",
     "text": [
      "609/609 [==============================] - 1s 1ms/step - loss: 0.0319 - acc: 0.9813 - val_loss: 1.5513 - val_acc: 0.7372\n",
      "Epoch 63/100\n",
      "609/609 [==============================] - 1s 1ms/step - loss: 0.0315 - acc: 0.9824 - val_loss: 1.5467 - val_acc: 0.7385\n",
      "Epoch 64/100\n",
      "609/609 [==============================] - 1s 1ms/step - loss: 0.0309 - acc: 0.9841 - val_loss: 1.5425 - val_acc: 0.7385\n",
      "Epoch 65/100\n",
      "609/609 [==============================] - 1s 1ms/step - loss: 0.0320 - acc: 0.9813 - val_loss: 1.5507 - val_acc: 0.7398\n",
      "Epoch 66/100\n",
      "609/609 [==============================] - 1s 1ms/step - loss: 0.0314 - acc: 0.9839 - val_loss: 1.5513 - val_acc: 0.7411\n",
      "Epoch 67/100\n",
      "609/609 [==============================] - 1s 1ms/step - loss: 0.0317 - acc: 0.9826 - val_loss: 1.5652 - val_acc: 0.7424\n",
      "Epoch 68/100\n",
      "609/609 [==============================] - 1s 1ms/step - loss: 0.0309 - acc: 0.9832 - val_loss: 1.5675 - val_acc: 0.7438\n",
      "Epoch 69/100\n",
      "609/609 [==============================] - 1s 1ms/step - loss: 0.0307 - acc: 0.9832 - val_loss: 1.5727 - val_acc: 0.7385\n",
      "Epoch 70/100\n",
      "609/609 [==============================] - 1s 1ms/step - loss: 0.0308 - acc: 0.9834 - val_loss: 1.5985 - val_acc: 0.7424\n",
      "Epoch 71/100\n",
      "609/609 [==============================] - 1s 1ms/step - loss: 0.0312 - acc: 0.9826 - val_loss: 1.5769 - val_acc: 0.7398\n",
      "Epoch 72/100\n",
      "609/609 [==============================] - 1s 1ms/step - loss: 0.0308 - acc: 0.9826 - val_loss: 1.5714 - val_acc: 0.7385\n",
      "Epoch 73/100\n",
      "609/609 [==============================] - 1s 1ms/step - loss: 0.0307 - acc: 0.9832 - val_loss: 1.5634 - val_acc: 0.7372\n",
      "Epoch 74/100\n",
      "609/609 [==============================] - 1s 1ms/step - loss: 0.0302 - acc: 0.9821 - val_loss: 1.5904 - val_acc: 0.7424\n",
      "Epoch 75/100\n",
      "609/609 [==============================] - 1s 1ms/step - loss: 0.0304 - acc: 0.9824 - val_loss: 1.5897 - val_acc: 0.7359\n",
      "Epoch 76/100\n",
      "609/609 [==============================] - 1s 1ms/step - loss: 0.0306 - acc: 0.9834 - val_loss: 1.5864 - val_acc: 0.7372\n",
      "Epoch 77/100\n",
      "609/609 [==============================] - 1s 1ms/step - loss: 0.0306 - acc: 0.9834 - val_loss: 1.5676 - val_acc: 0.7372\n",
      "Epoch 78/100\n",
      "609/609 [==============================] - 1s 1ms/step - loss: 0.0305 - acc: 0.9818 - val_loss: 1.5864 - val_acc: 0.7372\n",
      "Epoch 79/100\n",
      "609/609 [==============================] - 1s 1ms/step - loss: 0.0306 - acc: 0.9824 - val_loss: 1.5934 - val_acc: 0.7438\n",
      "Epoch 80/100\n",
      "609/609 [==============================] - 1s 1ms/step - loss: 0.0295 - acc: 0.9826 - val_loss: 1.6145 - val_acc: 0.7398\n",
      "Epoch 81/100\n",
      "609/609 [==============================] - 1s 1ms/step - loss: 0.0299 - acc: 0.9823 - val_loss: 1.6099 - val_acc: 0.7332\n",
      "Epoch 82/100\n",
      "609/609 [==============================] - 1s 1ms/step - loss: 0.0300 - acc: 0.9831 - val_loss: 1.6130 - val_acc: 0.7346\n",
      "Epoch 83/100\n",
      "609/609 [==============================] - 1s 1ms/step - loss: 0.0300 - acc: 0.9828 - val_loss: 1.6045 - val_acc: 0.7359\n",
      "Epoch 84/100\n",
      "609/609 [==============================] - 1s 1ms/step - loss: 0.0299 - acc: 0.9828 - val_loss: 1.6116 - val_acc: 0.7385\n",
      "Epoch 85/100\n",
      "609/609 [==============================] - 1s 1ms/step - loss: 0.0300 - acc: 0.9831 - val_loss: 1.6193 - val_acc: 0.7332\n",
      "Epoch 86/100\n",
      "609/609 [==============================] - 1s 1ms/step - loss: 0.0298 - acc: 0.9834 - val_loss: 1.6157 - val_acc: 0.7385\n",
      "Epoch 87/100\n",
      "609/609 [==============================] - 1s 1ms/step - loss: 0.0296 - acc: 0.9823 - val_loss: 1.6342 - val_acc: 0.7372\n",
      "Epoch 88/100\n",
      "609/609 [==============================] - 1s 1ms/step - loss: 0.0297 - acc: 0.9828 - val_loss: 1.6415 - val_acc: 0.7438\n",
      "Epoch 89/100\n",
      "609/609 [==============================] - 1s 1ms/step - loss: 0.0297 - acc: 0.9829 - val_loss: 1.6357 - val_acc: 0.7372\n",
      "Epoch 90/100\n",
      "609/609 [==============================] - 1s 1ms/step - loss: 0.0295 - acc: 0.9834 - val_loss: 1.6372 - val_acc: 0.7372\n",
      "Epoch 91/100\n",
      "609/609 [==============================] - 1s 1ms/step - loss: 0.0296 - acc: 0.9819 - val_loss: 1.6805 - val_acc: 0.7424\n",
      "Epoch 92/100\n",
      "609/609 [==============================] - 1s 1ms/step - loss: 0.0295 - acc: 0.9823 - val_loss: 1.6603 - val_acc: 0.7332\n",
      "Epoch 93/100\n",
      "609/609 [==============================] - 1s 1ms/step - loss: 0.0294 - acc: 0.9842 - val_loss: 1.6532 - val_acc: 0.7332\n",
      "Epoch 94/100\n",
      "609/609 [==============================] - 1s 1ms/step - loss: 0.0293 - acc: 0.9836 - val_loss: 1.6639 - val_acc: 0.7346\n",
      "Epoch 95/100\n",
      "609/609 [==============================] - 1s 1ms/step - loss: 0.0293 - acc: 0.9829 - val_loss: 1.6705 - val_acc: 0.7398\n",
      "Epoch 96/100\n",
      "609/609 [==============================] - 1s 1ms/step - loss: 0.0293 - acc: 0.9829 - val_loss: 1.6704 - val_acc: 0.7372\n",
      "Epoch 97/100\n",
      "609/609 [==============================] - 1s 1ms/step - loss: 0.0290 - acc: 0.9834 - val_loss: 1.6815 - val_acc: 0.7319\n",
      "Epoch 98/100\n",
      "609/609 [==============================] - 1s 1ms/step - loss: 0.0290 - acc: 0.9839 - val_loss: 1.6630 - val_acc: 0.7293\n",
      "Epoch 99/100\n",
      "609/609 [==============================] - 1s 1ms/step - loss: 0.0291 - acc: 0.9824 - val_loss: 1.6707 - val_acc: 0.7385\n",
      "Epoch 100/100\n",
      "609/609 [==============================] - 1s 1ms/step - loss: 0.0289 - acc: 0.9837 - val_loss: 1.7019 - val_acc: 0.7398\n"
     ]
    }
   ],
   "source": [
    "first_history = model.fit(X_train, train[\"target\"].to_numpy(),\n",
    "                    epochs=100,\n",
    "                    verbose=True,\n",
    "                    validation_data=(X_val, val[\"target\"].to_numpy()),\n",
    "                    batch_size=10)"
   ]
  },
  {
   "cell_type": "code",
   "execution_count": 95,
   "metadata": {},
   "outputs": [
    {
     "data": {
      "image/png": "[encoded data removed]",
      "text/plain": [
       "<Figure size 864x360 with 2 Axes>"
      ]
     },
     "metadata": {},
     "output_type": "display_data"
    }
   ],
   "source": [
    "plot_history(first_history)"
   ]
  },
  {
   "cell_type": "code",
   "execution_count": 96,
   "metadata": {},
   "outputs": [
    {
     "name": "stdout",
     "output_type": "stream",
     "text": [
      "Testing Accuracy:  0.7444\n"
     ]
    }
   ],
   "source": [
    "loss, accuracy = model.evaluate(X_test, test[\"target\"].to_numpy(), verbose=False)\n",
    "print(\"Testing Accuracy:  {:.4f}\".format(accuracy))"
   ]
  },
  {
   "cell_type": "code",
   "execution_count": 97,
   "metadata": {},
   "outputs": [],
   "source": [
    "firstPredictions = list(map(lambda x: x[0], model.predict_classes(actual_tp_test_only_text)))"
   ]
  },
  {
   "cell_type": "code",
   "execution_count": 98,
   "metadata": {},
   "outputs": [
    {
     "data": {
      "text/html": [
       "<div>\n",
       "<style scoped>\n",
       "    .dataframe tbody tr th:only-of-type {\n",
       "        vertical-align: middle;\n",
       "    }\n",
       "\n",
       "    .dataframe tbody tr th {\n",
       "        vertical-align: top;\n",
       "    }\n",
       "\n",
       "    .dataframe thead th {\n",
       "        text-align: right;\n",
       "    }\n",
       "</style>\n",
       "<table border=\"1\" class=\"dataframe\">\n",
       "  <thead>\n",
       "    <tr style=\"text-align: right;\">\n",
       "      <th></th>\n",
       "      <th>id</th>\n",
       "      <th>target</th>\n",
       "    </tr>\n",
       "  </thead>\n",
       "  <tbody>\n",
       "    <tr>\n",
       "      <th>0</th>\n",
       "      <td>8233</td>\n",
       "      <td>1</td>\n",
       "    </tr>\n",
       "    <tr>\n",
       "      <th>1</th>\n",
       "      <td>1541</td>\n",
       "      <td>0</td>\n",
       "    </tr>\n",
       "    <tr>\n",
       "      <th>2</th>\n",
       "      <td>8819</td>\n",
       "      <td>0</td>\n",
       "    </tr>\n",
       "    <tr>\n",
       "      <th>3</th>\n",
       "      <td>6080</td>\n",
       "      <td>1</td>\n",
       "    </tr>\n",
       "    <tr>\n",
       "      <th>4</th>\n",
       "      <td>6008</td>\n",
       "      <td>0</td>\n",
       "    </tr>\n",
       "    <tr>\n",
       "      <th>5</th>\n",
       "      <td>3624</td>\n",
       "      <td>0</td>\n",
       "    </tr>\n",
       "    <tr>\n",
       "      <th>6</th>\n",
       "      <td>5536</td>\n",
       "      <td>0</td>\n",
       "    </tr>\n",
       "    <tr>\n",
       "      <th>7</th>\n",
       "      <td>10509</td>\n",
       "      <td>1</td>\n",
       "    </tr>\n",
       "    <tr>\n",
       "      <th>8</th>\n",
       "      <td>1738</td>\n",
       "      <td>0</td>\n",
       "    </tr>\n",
       "    <tr>\n",
       "      <th>9</th>\n",
       "      <td>10438</td>\n",
       "      <td>0</td>\n",
       "    </tr>\n",
       "  </tbody>\n",
       "</table>\n",
       "</div>"
      ],
      "text/plain": [
       "      id  target\n",
       "0   8233       1\n",
       "1   1541       0\n",
       "2   8819       0\n",
       "3   6080       1\n",
       "4   6008       0\n",
       "5   3624       0\n",
       "6   5536       0\n",
       "7  10509       1\n",
       "8   1738       0\n",
       "9  10438       0"
      ]
     },
     "execution_count": 98,
     "metadata": {},
     "output_type": "execute_result"
    }
   ],
   "source": [
    "firstPredictionsDF = pd.DataFrame(data={'id': test_limpio[\"id\"], 'target': firstPredictions})\n",
    "firstPredictionsDF.head(10)"
   ]
  },
  {
   "cell_type": "code",
   "execution_count": 99,
   "metadata": {},
   "outputs": [],
   "source": [
    "firstPredictionsDF.to_csv('NN_predictions_first_model.csv', index=False)"
   ]
  },
  {
   "cell_type": "markdown",
   "metadata": {},
   "source": [
    "## Segundo modelo, agrego ciudades y Tokenizer en vez de count para las words"
   ]
  },
  {
   "cell_type": "code",
   "execution_count": 100,
   "metadata": {},
   "outputs": [
    {
     "data": {
      "text/plain": [
       "array(['LAGOS', 'TX', 'CO', ..., 'TX', 'Australia', 'Pretoria'],\n",
       "      dtype=object)"
      ]
     },
     "execution_count": 100,
     "metadata": {},
     "output_type": "execute_result"
    }
   ],
   "source": [
    "non_null_locations = train_limpio[train_limpio.location.notnull()][\"location\"].to_numpy()\n",
    "non_null_locations"
   ]
  },
  {
   "cell_type": "code",
   "execution_count": 101,
   "metadata": {},
   "outputs": [
    {
     "data": {
      "text/plain": [
       "5080"
      ]
     },
     "execution_count": 101,
     "metadata": {},
     "output_type": "execute_result"
    }
   ],
   "source": [
    "encoder = LabelEncoder()\n",
    "locations = encoder.fit_transform(non_null_locations)\n",
    "len(locations)"
   ]
  },
  {
   "cell_type": "code",
   "execution_count": 102,
   "metadata": {},
   "outputs": [
    {
     "data": {
      "text/plain": [
       "array([[0., 0., 0., ..., 0., 0., 0.],\n",
       "       [0., 0., 0., ..., 0., 0., 0.],\n",
       "       [0., 0., 0., ..., 0., 0., 0.],\n",
       "       ...,\n",
       "       [0., 0., 0., ..., 0., 0., 0.],\n",
       "       [0., 0., 0., ..., 0., 0., 0.],\n",
       "       [0., 0., 0., ..., 0., 0., 0.]])"
      ]
     },
     "execution_count": 102,
     "metadata": {},
     "output_type": "execute_result"
    }
   ],
   "source": [
    "encoder = OneHotEncoder(sparse=False)\n",
    "locations = locations.reshape((5080, 1))\n",
    "encoder.fit_transform(locations)"
   ]
  },
  {
   "cell_type": "code",
   "execution_count": 103,
   "metadata": {},
   "outputs": [
    {
     "name": "stdout",
     "output_type": "stream",
     "text": [
      "no uk train accid fatal for year run despit increas in passeng journey healthandsafeti\n",
      "[2531, 2190, 173, 1080, 892, 249, 32, 181, 9, 2, 495, 50, 8, 3013]\n"
     ]
    }
   ],
   "source": [
    "tokenizer = Tokenizer(num_words=5000)\n",
    "tokenizer.fit_on_texts(train_limpio[\"text\"].values.astype('U'))\n",
    "\n",
    "X_train = tokenizer.texts_to_sequences(train[\"text\"].values.astype('U'))\n",
    "X_val = tokenizer.texts_to_sequences(val[\"text\"].values.astype('U'))\n",
    "X_test = tokenizer.texts_to_sequences(test[\"text\"].values.astype('U'))\n",
    "\n",
    "vocab_size = len(tokenizer.word_index) + 1  # Adding 1 because of reserved 0 index\n",
    "\n",
    "print(train_limpio[\"text\"].values[2])\n",
    "print(X_train[2])"
   ]
  },
  {
   "cell_type": "code",
   "execution_count": 104,
   "metadata": {},
   "outputs": [],
   "source": [
    "maxlen = 100\n",
    "\n",
    "X_train = pad_sequences(X_train, padding='post', maxlen=maxlen)\n",
    "X_val = pad_sequences(X_val, padding='post', maxlen=maxlen)\n",
    "X_test = pad_sequences(X_test, padding='post', maxlen=maxlen)"
   ]
  },
  {
   "cell_type": "markdown",
   "metadata": {},
   "source": [
    "## Pruebo solo texto, modelo mas complejo con maxPooling y mejor embedding"
   ]
  },
  {
   "cell_type": "code",
   "execution_count": 105,
   "metadata": {},
   "outputs": [
    {
     "name": "stdout",
     "output_type": "stream",
     "text": [
      "Model: \"sequential_31\"\n",
      "_________________________________________________________________\n",
      "Layer (type)                 Output Shape              Param #   \n",
      "=================================================================\n",
      "embedding_27 (Embedding)     (None, 100, 50)           675500    \n",
      "_________________________________________________________________\n",
      "global_max_pooling1d_27 (Glo (None, 50)                0         \n",
      "_________________________________________________________________\n",
      "dense_62 (Dense)             (None, 10)                510       \n",
      "_________________________________________________________________\n",
      "dense_63 (Dense)             (None, 1)                 11        \n",
      "=================================================================\n",
      "Total params: 676,021\n",
      "Trainable params: 676,021\n",
      "Non-trainable params: 0\n",
      "_________________________________________________________________\n"
     ]
    }
   ],
   "source": [
    "embedding_dim = 50\n",
    "\n",
    "model1 = Sequential()\n",
    "model1.add(layers.Embedding(input_dim=vocab_size, \n",
    "                           output_dim=embedding_dim, \n",
    "                           input_length=maxlen))\n",
    "model1.add(layers.GlobalMaxPool1D())\n",
    "model1.add(layers.Dense(10, activation='relu'))\n",
    "model1.add(layers.Dense(1, activation='sigmoid'))\n",
    "model1.compile(optimizer='adam',\n",
    "              loss='binary_crossentropy',\n",
    "              metrics=['acc'])\n",
    "model1.summary()"
   ]
  },
  {
   "cell_type": "code",
   "execution_count": 106,
   "metadata": {},
   "outputs": [
    {
     "name": "stdout",
     "output_type": "stream",
     "text": [
      "Testing Accuracy:  0.7536\n"
     ]
    },
    {
     "data": {
      "image/png": "[encoded data removed]",
      "text/plain": [
       "<Figure size 864x360 with 2 Axes>"
      ]
     },
     "metadata": {},
     "output_type": "display_data"
    }
   ],
   "source": [
    "second_history = model1.fit(X_train, train[\"target\"].to_numpy(),\n",
    "                    epochs=50,\n",
    "                    verbose=False,\n",
    "                    validation_data=(X_val, val[\"target\"].to_numpy()),\n",
    "                    batch_size=10)\n",
    "\n",
    "loss, accuracy = model1.evaluate(X_test, test[\"target\"].to_numpy(), verbose=False)\n",
    "print(\"Testing Accuracy:  {:.4f}\".format(accuracy))\n",
    "plot_history(second_history)"
   ]
  },
  {
   "cell_type": "markdown",
   "metadata": {},
   "source": [
    "## Tercer modelo"
   ]
  },
  {
   "cell_type": "code",
   "execution_count": 107,
   "metadata": {},
   "outputs": [
    {
     "name": "stdout",
     "output_type": "stream",
     "text": [
      "Model: \"sequential_32\"\n",
      "_________________________________________________________________\n",
      "Layer (type)                 Output Shape              Param #   \n",
      "=================================================================\n",
      "embedding_28 (Embedding)     (None, 100, 100)          1351000   \n",
      "_________________________________________________________________\n",
      "conv1d_23 (Conv1D)           (None, 96, 128)           64128     \n",
      "_________________________________________________________________\n",
      "global_max_pooling1d_28 (Glo (None, 128)               0         \n",
      "_________________________________________________________________\n",
      "dense_64 (Dense)             (None, 10)                1290      \n",
      "_________________________________________________________________\n",
      "dense_65 (Dense)             (None, 1)                 11        \n",
      "=================================================================\n",
      "Total params: 1,416,429\n",
      "Trainable params: 1,416,429\n",
      "Non-trainable params: 0\n",
      "_________________________________________________________________\n"
     ]
    }
   ],
   "source": [
    "embedding_dim = 100\n",
    "\n",
    "model2 = Sequential()\n",
    "model2.add(layers.Embedding(vocab_size, embedding_dim, input_length=maxlen))\n",
    "model2.add(layers.Conv1D(128, 5, activation='relu'))\n",
    "model2.add(layers.GlobalMaxPooling1D())\n",
    "model2.add(layers.Dense(10, activation='relu'))\n",
    "model2.add(layers.Dense(1, activation='sigmoid'))\n",
    "model2.compile(optimizer='adam',\n",
    "              loss='binary_crossentropy',\n",
    "              metrics=['acc'])\n",
    "model2.summary()"
   ]
  },
  {
   "cell_type": "code",
   "execution_count": 108,
   "metadata": {},
   "outputs": [
    {
     "name": "stdout",
     "output_type": "stream",
     "text": [
      "Training Accuracy: 0.9826\n",
      "Testing Accuracy:  0.7720\n"
     ]
    },
    {
     "data": {
      "image/png": "[encoded data removed]",
      "text/plain": [
       "<Figure size 864x360 with 2 Axes>"
      ]
     },
     "metadata": {},
     "output_type": "display_data"
    }
   ],
   "source": [
    "third_history = model2.fit(X_train, train[\"target\"].to_numpy(),\n",
    "                    epochs=10,\n",
    "                    verbose=False,\n",
    "                    validation_data=(X_val, val[\"target\"].to_numpy()),\n",
    "                    batch_size=10)\n",
    "loss, accuracy = model2.evaluate(X_train, train[\"target\"].to_numpy(), verbose=False)\n",
    "print(\"Training Accuracy: {:.4f}\".format(accuracy))\n",
    "loss, accuracy = model2.evaluate(X_test, test[\"target\"].to_numpy(), verbose=False)\n",
    "print(\"Testing Accuracy:  {:.4f}\".format(accuracy))\n",
    "plot_history(third_history)\n"
   ]
  },
  {
   "cell_type": "markdown",
   "metadata": {},
   "source": [
    "## Cuarto Modelo"
   ]
  },
  {
   "cell_type": "code",
   "execution_count": 109,
   "metadata": {},
   "outputs": [],
   "source": [
    "def create_model(num_filters, kernel_size, vocab_size, embedding_dim, maxlen):\n",
    "    model3 = Sequential()\n",
    "    model3.add(layers.Embedding(vocab_size, embedding_dim, input_length=maxlen))\n",
    "    model3.add(layers.Conv1D(num_filters, kernel_size, activation='relu'))\n",
    "    model3.add(layers.GlobalMaxPooling1D())\n",
    "    model3.add(layers.Dense(10, activation='relu'))\n",
    "    model3.add(layers.Dense(1, activation='sigmoid'))\n",
    "    model3.compile(optimizer='adam',\n",
    "                  loss='binary_crossentropy',\n",
    "                  metrics=['accuracy'])\n",
    "    return model3\n",
    "\n",
    "param_grid = dict(num_filters=[32, 64, 128],\n",
    "                  kernel_size=[3, 5, 7],\n",
    "                  vocab_size=[5000], \n",
    "                  embedding_dim=[50],\n",
    "                  maxlen=[100])"
   ]
  },
  {
   "cell_type": "code",
   "execution_count": null,
   "metadata": {},
   "outputs": [
    {
     "name": "stdout",
     "output_type": "stream",
     "text": [
      "Running grid search for data set : twitter\n"
     ]
    },
    {
     "name": "stderr",
     "output_type": "stream",
     "text": [
      "/home/lucasotero/datos/lib/python3.6/site-packages/sklearn/model_selection/_search.py:282: UserWarning: The total space of parameters 9 is smaller than n_iter=10. Running 9 iterations. For exhaustive searches, use GridSearchCV.\n",
      "  % (grid_size, self.n_iter, grid_size), UserWarning)\n",
      "[Parallel(n_jobs=1)]: Using backend SequentialBackend with 1 concurrent workers.\n"
     ]
    },
    {
     "name": "stdout",
     "output_type": "stream",
     "text": [
      "Fitting 10 folds for each of 9 candidates, totalling 90 fits\n"
     ]
    }
   ],
   "source": [
    "# Main settings\n",
    "epochs = 20\n",
    "embedding_dim = 50\n",
    "maxlen = 100\n",
    "output_file = 'output.txt'\n",
    "\n",
    "source = \"twitter\"\n",
    "# Run grid search for each source (yelp, amazon, imdb)\n",
    "print('Running grid search for data set :', \"twitter\")\n",
    "sentences = train_limpio[\"text\"].values.astype('U')\n",
    "# Train-test split\n",
    "train = pd.concat([train_limpio_true.iloc[:3000], train_limpio_false.iloc[:4000]]).sample(frac=1).reset_index(drop=True)\n",
    "test = pd.concat([train_limpio_true.iloc[3000:], train_limpio_false.iloc[4000:]]).sample(frac=1).reset_index(drop=True)\n",
    "\n",
    "# Tokenize words\n",
    "tokenizer = Tokenizer(num_words=5000)\n",
    "tokenizer.fit_on_texts(sentences)\n",
    "X_train = tokenizer.texts_to_sequences(train[\"text\"].values.astype('U'))\n",
    "X_test = tokenizer.texts_to_sequences(test[\"text\"].values.astype('U'))\n",
    "\n",
    "# Adding 1 because of reserved 0 index\n",
    "vocab_size = len(tokenizer.word_index) + 1\n",
    "\n",
    "# Pad sequences with zeros\n",
    "X_train = pad_sequences(X_train, padding='post', maxlen=maxlen)\n",
    "X_test = pad_sequences(X_test, padding='post', maxlen=maxlen)\n",
    "\n",
    "# Parameter grid for grid search\n",
    "param_grid = dict(num_filters=[32, 64, 128],\n",
    "                      kernel_size=[3, 5, 7],\n",
    "                      vocab_size=[vocab_size],\n",
    "                      embedding_dim=[embedding_dim],\n",
    "                      maxlen=[maxlen])\n",
    "model3 = KerasClassifier(build_fn=create_model,\n",
    "                            epochs=epochs, batch_size=10,\n",
    "                            verbose=False)\n",
    "grid = RandomizedSearchCV(estimator=model3, param_distributions=param_grid,\n",
    "                              cv=10, verbose=1, n_iter=10)\n",
    "grid_result = grid.fit(X_train, train[\"target\"])\n",
    "\n",
    "# Evaluate testing set\n",
    "test_accuracy = grid.score(X_test, test[\"target\"])\n",
    "\n",
    "# Save and evaluate results\n",
    "#     prompt = input(f'finished {source}; write to file and proceed? [y/n]')\n",
    "#     if prompt.lower() not in {'y', 'true', 'yes'}:\n",
    "#         break\n",
    "#     with open(output_file, 'w+') as f:\n",
    "s = ('Running {} data set\\nBest Accuracy : '\n",
    "             '{:.4f}\\n{}\\nTest Accuracy : {:.4f}\\n\\n')\n",
    "output_string = s.format(\n",
    "        source,\n",
    "        grid_result.best_score_,\n",
    "        grid_result.best_params_,\n",
    "        test_accuracy)\n",
    "print(output_string)\n",
    "#         f.write(output_string)"
   ]
  }
 ],
 "metadata": {
  "kernelspec": {
   "display_name": "Python 3",
   "language": "python",
   "name": "python3"
  },
  "language_info": {
   "codemirror_mode": {
    "name": "ipython",
    "version": 3
   },
   "file_extension": ".py",
   "mimetype": "text/x-python",
   "name": "python",
   "nbconvert_exporter": "python",
   "pygments_lexer": "ipython3",
   "version": "3.6.9"
  }
 },
 "nbformat": 4,
 "nbformat_minor": 4
}
