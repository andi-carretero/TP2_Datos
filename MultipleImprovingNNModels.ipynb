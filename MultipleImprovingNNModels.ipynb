{
 "cells": [
  {
   "cell_type": "code",
   "execution_count": 137,
   "metadata": {},
   "outputs": [],
   "source": [
    "import numpy as np # linear algebra\n",
    "import pandas as pd # data processing, CSV file I/O (e.g. pd.read_csv)\n",
    "import matplotlib.pyplot as plt\n",
    "plt.style.use('ggplot')\n",
    "\n",
    "from sklearn.feature_extraction.text import CountVectorizer\n",
    "from sklearn.model_selection import train_test_split\n",
    "from sklearn.linear_model import LogisticRegression\n",
    "from sklearn.preprocessing import LabelEncoder\n",
    "from sklearn.preprocessing import OneHotEncoder\n",
    "from sklearn.model_selection import RandomizedSearchCV\n",
    "\n",
    "from sklearn import preprocessing\n",
    "\n",
    "from tensorflow.keras.models import Sequential\n",
    "from tensorflow.keras import layers\n",
    "from tensorflow.keras.preprocessing.text import Tokenizer\n",
    "from tensorflow.keras.preprocessing.sequence import pad_sequences\n",
    "from tensorflow.keras.wrappers.scikit_learn import KerasClassifier"
   ]
  },
  {
   "cell_type": "code",
   "execution_count": 138,
   "metadata": {},
   "outputs": [],
   "source": [
    "train_limpio = pd.read_csv(\"train_limpio_con_BOW_de_5000_y_Stemming_noDrops.csv\",encoding = \"ISO-8859-1\").sample(frac=1).reset_index(drop=True)\n",
    "test_limpio = pd.read_csv(\"test_limpio_con_BOW_de_5000_y_Stemming_noDrops.csv\",encoding = \"ISO-8859-1\").sample(frac=1).reset_index(drop=True)"
   ]
  },
  {
   "cell_type": "code",
   "execution_count": 139,
   "metadata": {},
   "outputs": [],
   "source": [
    "train_limpio[\"text\"] = train_limpio[\"text\"].map(lambda x : \"null\" if(x is None) else x)\n",
    "test_limpio[\"text\"] = test_limpio[\"text\"].map(lambda x : \"null\" if(x is None) else x)"
   ]
  },
  {
   "cell_type": "code",
   "execution_count": 140,
   "metadata": {},
   "outputs": [],
   "source": [
    "train_limpio_true = train_limpio.loc[train_limpio[\"target\"] == 1]\n",
    "train_limpio_false = train_limpio.loc[train_limpio[\"target\"] == 0]"
   ]
  },
  {
   "cell_type": "code",
   "execution_count": 141,
   "metadata": {},
   "outputs": [
    {
     "name": "stdout",
     "output_type": "stream",
     "text": [
      "Tenemos  3271.00 verdaderos y  4342.00 falsos\n"
     ]
    }
   ],
   "source": [
    "print(\"Tenemos {cant_verdaderos: .2f} verdaderos y {cant_falsos: .2f} falsos\".format(cant_verdaderos=len(train_limpio_true), cant_falsos=len(train_limpio_false)))"
   ]
  },
  {
   "cell_type": "markdown",
   "metadata": {},
   "source": [
    "## Voy a balancear el train y el validation, misma cantidad de falsos y verdaderos en ambos"
   ]
  },
  {
   "cell_type": "code",
   "execution_count": 142,
   "metadata": {},
   "outputs": [],
   "source": [
    "train = pd.concat([train_limpio_true.iloc[:2616], train_limpio_false.iloc[:3473]])\n",
    "val = pd.concat([train_limpio_true.iloc[2616:3000], train_limpio_false.iloc[3473:3850]])\n",
    "test = pd.concat([train_limpio_true.iloc[3000:], train_limpio_false.iloc[3850:]])"
   ]
  },
  {
   "cell_type": "code",
   "execution_count": 143,
   "metadata": {},
   "outputs": [
    {
     "data": {
      "text/html": [
       "<div>\n",
       "<style scoped>\n",
       "    .dataframe tbody tr th:only-of-type {\n",
       "        vertical-align: middle;\n",
       "    }\n",
       "\n",
       "    .dataframe tbody tr th {\n",
       "        vertical-align: top;\n",
       "    }\n",
       "\n",
       "    .dataframe thead th {\n",
       "        text-align: right;\n",
       "    }\n",
       "</style>\n",
       "<table border=\"1\" class=\"dataframe\">\n",
       "  <thead>\n",
       "    <tr style=\"text-align: right;\">\n",
       "      <th></th>\n",
       "      <th>aa</th>\n",
       "      <th>ab</th>\n",
       "      <th>aba</th>\n",
       "      <th>abandon</th>\n",
       "      <th>abbott</th>\n",
       "      <th>abbswinston</th>\n",
       "      <th>abc</th>\n",
       "      <th>abcnew</th>\n",
       "      <th>abe</th>\n",
       "      <th>abil</th>\n",
       "      <th>...</th>\n",
       "      <th>y\\/e\\/l-location</th>\n",
       "      <th>yorkshire\\\\n-location</th>\n",
       "      <th>youtube\\.com\\/channel\\/UCHWTLC9B4ZjUGh7yDlb55Iw-location</th>\n",
       "      <th>zboyer\\@washingtontimes\\.com-location</th>\n",
       "      <th>longitud_tweet</th>\n",
       "      <th>letras_seguidas</th>\n",
       "      <th>sentimiento</th>\n",
       "      <th>objetividad</th>\n",
       "      <th>keyword</th>\n",
       "      <th>location</th>\n",
       "    </tr>\n",
       "  </thead>\n",
       "  <tbody>\n",
       "    <tr>\n",
       "      <th>0</th>\n",
       "      <td>0</td>\n",
       "      <td>0</td>\n",
       "      <td>0</td>\n",
       "      <td>0</td>\n",
       "      <td>0</td>\n",
       "      <td>0</td>\n",
       "      <td>0</td>\n",
       "      <td>0</td>\n",
       "      <td>0</td>\n",
       "      <td>0</td>\n",
       "      <td>...</td>\n",
       "      <td>False</td>\n",
       "      <td>False</td>\n",
       "      <td>False</td>\n",
       "      <td>False</td>\n",
       "      <td>110</td>\n",
       "      <td>2</td>\n",
       "      <td>0.0</td>\n",
       "      <td>0.0</td>\n",
       "      <td>injur</td>\n",
       "      <td>Mumbai</td>\n",
       "    </tr>\n",
       "    <tr>\n",
       "      <th>2</th>\n",
       "      <td>0</td>\n",
       "      <td>0</td>\n",
       "      <td>0</td>\n",
       "      <td>0</td>\n",
       "      <td>0</td>\n",
       "      <td>0</td>\n",
       "      <td>0</td>\n",
       "      <td>0</td>\n",
       "      <td>0</td>\n",
       "      <td>0</td>\n",
       "      <td>...</td>\n",
       "      <td>False</td>\n",
       "      <td>False</td>\n",
       "      <td>False</td>\n",
       "      <td>False</td>\n",
       "      <td>60</td>\n",
       "      <td>2</td>\n",
       "      <td>0.0</td>\n",
       "      <td>0.0</td>\n",
       "      <td>bomb</td>\n",
       "      <td>NaN</td>\n",
       "    </tr>\n",
       "  </tbody>\n",
       "</table>\n",
       "<p>2 rows × 7851 columns</p>\n",
       "</div>"
      ],
      "text/plain": [
       "   aa  ab  aba  abandon  abbott  abbswinston  abc  abcnew  abe  abil  ...  \\\n",
       "0   0   0    0        0       0            0    0       0    0     0  ...   \n",
       "2   0   0    0        0       0            0    0       0    0     0  ...   \n",
       "\n",
       "   y\\/e\\/l-location  yorkshire\\\\n-location  \\\n",
       "0             False                  False   \n",
       "2             False                  False   \n",
       "\n",
       "   youtube\\.com\\/channel\\/UCHWTLC9B4ZjUGh7yDlb55Iw-location  \\\n",
       "0                                              False          \n",
       "2                                              False          \n",
       "\n",
       "   zboyer\\@washingtontimes\\.com-location  longitud_tweet  letras_seguidas  \\\n",
       "0                                  False             110                2   \n",
       "2                                  False              60                2   \n",
       "\n",
       "   sentimiento  objetividad  keyword  location  \n",
       "0          0.0          0.0    injur    Mumbai  \n",
       "2          0.0          0.0     bomb       NaN  \n",
       "\n",
       "[2 rows x 7851 columns]"
      ]
     },
     "execution_count": 143,
     "metadata": {},
     "output_type": "execute_result"
    }
   ],
   "source": [
    "train.head(2)"
   ]
  },
  {
   "cell_type": "code",
   "execution_count": 144,
   "metadata": {},
   "outputs": [],
   "source": [
    "vectorizer = CountVectorizer()\n",
    "vectorizer.fit(train_limpio[\"text\"].values.astype('U'))\n",
    "\n",
    "X_train = vectorizer.transform(train[\"text\"].values.astype('U'))\n",
    "X_val  = vectorizer.transform(val[\"text\"].values.astype('U'))\n",
    "X_test = vectorizer.transform(test[\"text\"].values.astype('U'))\n",
    "\n",
    "actual_tp_test_only_text = vectorizer.transform(test_limpio[\"text\"].values.astype('U'))"
   ]
  },
  {
   "cell_type": "code",
   "execution_count": 145,
   "metadata": {},
   "outputs": [],
   "source": [
    "def plot_history(history):\n",
    "    acc = history.history['acc']\n",
    "    val_acc = history.history['val_acc']\n",
    "    loss = history.history['loss']\n",
    "    val_loss = history.history['val_loss']\n",
    "    x = range(1, len(acc) + 1)\n",
    "\n",
    "    plt.figure(figsize=(12, 5))\n",
    "    plt.subplot(1, 2, 1)\n",
    "    plt.plot(x, acc, 'b', label='Training acc')\n",
    "    plt.plot(x, val_acc, 'r', label='Validation acc')\n",
    "    plt.title('Training and validation accuracy')\n",
    "    plt.legend()\n",
    "    plt.subplot(1, 2, 2)\n",
    "    plt.plot(x, loss, 'b', label='Training loss')\n",
    "    plt.plot(x, val_loss, 'r', label='Validation loss')\n",
    "    plt.title('Training and validation loss')\n",
    "    plt.legend()"
   ]
  },
  {
   "cell_type": "markdown",
   "metadata": {},
   "source": [
    "## Primer modelo simple"
   ]
  },
  {
   "cell_type": "code",
   "execution_count": 146,
   "metadata": {},
   "outputs": [
    {
     "name": "stdout",
     "output_type": "stream",
     "text": [
      "Model: \"sequential_21\"\n",
      "_________________________________________________________________\n",
      "Layer (type)                 Output Shape              Param #   \n",
      "=================================================================\n",
      "dense_42 (Dense)             (None, 10)                133800    \n",
      "_________________________________________________________________\n",
      "dense_43 (Dense)             (None, 1)                 11        \n",
      "=================================================================\n",
      "Total params: 133,811\n",
      "Trainable params: 133,811\n",
      "Non-trainable params: 0\n",
      "_________________________________________________________________\n"
     ]
    }
   ],
   "source": [
    "input_dim = X_train.shape[1]  # Number of features\n",
    "\n",
    "model = Sequential()\n",
    "model.add(layers.Dense(10, input_dim=input_dim, activation='relu'))\n",
    "model.add(layers.Dense(1, activation='sigmoid'))\n",
    "\n",
    "model.compile(loss='binary_crossentropy', \n",
    "              optimizer='adam', \n",
    "              metrics=['acc'])\n",
    "model.summary()"
   ]
  },
  {
   "cell_type": "code",
   "execution_count": 147,
   "metadata": {
    "scrolled": true
   },
   "outputs": [
    {
     "name": "stdout",
     "output_type": "stream",
     "text": [
      "Epoch 1/100\n",
      "609/609 [==============================] - 1s 1ms/step - loss: 0.5356 - acc: 0.7647 - val_loss: 0.4878 - val_acc: 0.7766\n",
      "Epoch 2/100\n",
      "609/609 [==============================] - 1s 1ms/step - loss: 0.3361 - acc: 0.8703 - val_loss: 0.4811 - val_acc: 0.7963\n",
      "Epoch 3/100\n",
      "609/609 [==============================] - 1s 1ms/step - loss: 0.2309 - acc: 0.9192 - val_loss: 0.5168 - val_acc: 0.7792\n",
      "Epoch 4/100\n",
      "609/609 [==============================] - 1s 1ms/step - loss: 0.1647 - acc: 0.9465 - val_loss: 0.5451 - val_acc: 0.7884\n",
      "Epoch 5/100\n",
      "609/609 [==============================] - 1s 1ms/step - loss: 0.1242 - acc: 0.9586 - val_loss: 0.5918 - val_acc: 0.7753\n",
      "Epoch 6/100\n",
      "609/609 [==============================] - 1s 1ms/step - loss: 0.0986 - acc: 0.9658 - val_loss: 0.6414 - val_acc: 0.7687\n",
      "Epoch 7/100\n",
      "609/609 [==============================] - 1s 1ms/step - loss: 0.0814 - acc: 0.9708 - val_loss: 0.6805 - val_acc: 0.7661\n",
      "Epoch 8/100\n",
      "609/609 [==============================] - 1s 1ms/step - loss: 0.0700 - acc: 0.9742 - val_loss: 0.7400 - val_acc: 0.7582\n",
      "Epoch 9/100\n",
      "609/609 [==============================] - 1s 1ms/step - loss: 0.0633 - acc: 0.9768 - val_loss: 0.7918 - val_acc: 0.7595\n",
      "Epoch 10/100\n",
      "609/609 [==============================] - 1s 1ms/step - loss: 0.0572 - acc: 0.9778 - val_loss: 0.8450 - val_acc: 0.7569\n",
      "Epoch 11/100\n",
      "609/609 [==============================] - 1s 1ms/step - loss: 0.0521 - acc: 0.9791 - val_loss: 0.8929 - val_acc: 0.7464\n",
      "Epoch 12/100\n",
      "609/609 [==============================] - 1s 1ms/step - loss: 0.0518 - acc: 0.9791 - val_loss: 0.9222 - val_acc: 0.7346\n",
      "Epoch 13/100\n",
      "609/609 [==============================] - 1s 1ms/step - loss: 0.0490 - acc: 0.9806 - val_loss: 0.9748 - val_acc: 0.7451\n",
      "Epoch 14/100\n",
      "609/609 [==============================] - 1s 1ms/step - loss: 0.0466 - acc: 0.9811 - val_loss: 1.0164 - val_acc: 0.7451\n",
      "Epoch 15/100\n",
      "609/609 [==============================] - 1s 1ms/step - loss: 0.0454 - acc: 0.9801 - val_loss: 1.0674 - val_acc: 0.7411\n",
      "Epoch 16/100\n",
      "609/609 [==============================] - 1s 1ms/step - loss: 0.0448 - acc: 0.9816 - val_loss: 1.1050 - val_acc: 0.7332\n",
      "Epoch 17/100\n",
      "609/609 [==============================] - 1s 1ms/step - loss: 0.0438 - acc: 0.9814 - val_loss: 1.1177 - val_acc: 0.7306\n",
      "Epoch 18/100\n",
      "609/609 [==============================] - 1s 1ms/step - loss: 0.0429 - acc: 0.9814 - val_loss: 1.1675 - val_acc: 0.7201\n",
      "Epoch 19/100\n",
      "609/609 [==============================] - 1s 1ms/step - loss: 0.0433 - acc: 0.9808 - val_loss: 1.1968 - val_acc: 0.7240\n",
      "Epoch 20/100\n",
      "609/609 [==============================] - 1s 1ms/step - loss: 0.0405 - acc: 0.9821 - val_loss: 1.2117 - val_acc: 0.7280\n",
      "Epoch 21/100\n",
      "609/609 [==============================] - 1s 1ms/step - loss: 0.0400 - acc: 0.9816 - val_loss: 1.2785 - val_acc: 0.7214\n",
      "Epoch 22/100\n",
      "609/609 [==============================] - 1s 1ms/step - loss: 0.0390 - acc: 0.9826 - val_loss: 1.2818 - val_acc: 0.7306\n",
      "Epoch 23/100\n",
      "609/609 [==============================] - 1s 1ms/step - loss: 0.0406 - acc: 0.9816 - val_loss: 1.3341 - val_acc: 0.7267\n",
      "Epoch 24/100\n",
      "609/609 [==============================] - 1s 1ms/step - loss: 0.0397 - acc: 0.9821 - val_loss: 1.3693 - val_acc: 0.7293\n",
      "Epoch 25/100\n",
      "609/609 [==============================] - 1s 1ms/step - loss: 0.0378 - acc: 0.9836 - val_loss: 1.3724 - val_acc: 0.7214\n",
      "Epoch 26/100\n",
      "609/609 [==============================] - 1s 1ms/step - loss: 0.0379 - acc: 0.9824 - val_loss: 1.4027 - val_acc: 0.7175\n",
      "Epoch 27/100\n",
      "609/609 [==============================] - 1s 1ms/step - loss: 0.0369 - acc: 0.9826 - val_loss: 1.4590 - val_acc: 0.7254\n",
      "Epoch 28/100\n",
      "609/609 [==============================] - 1s 1ms/step - loss: 0.0365 - acc: 0.9829 - val_loss: 1.4572 - val_acc: 0.7175\n",
      "Epoch 29/100\n",
      "609/609 [==============================] - 1s 1ms/step - loss: 0.0369 - acc: 0.9837 - val_loss: 1.4852 - val_acc: 0.7227\n",
      "Epoch 30/100\n",
      "609/609 [==============================] - 1s 1ms/step - loss: 0.0371 - acc: 0.9829 - val_loss: 1.5103 - val_acc: 0.7254\n",
      "Epoch 31/100\n",
      "609/609 [==============================] - 1s 1ms/step - loss: 0.0364 - acc: 0.9828 - val_loss: 1.5373 - val_acc: 0.7293\n",
      "Epoch 32/100\n",
      "609/609 [==============================] - 1s 1ms/step - loss: 0.0368 - acc: 0.9828 - val_loss: 1.5536 - val_acc: 0.7214\n",
      "Epoch 33/100\n",
      "609/609 [==============================] - 1s 1ms/step - loss: 0.0353 - acc: 0.9823 - val_loss: 1.6166 - val_acc: 0.7201\n",
      "Epoch 34/100\n",
      "609/609 [==============================] - 1s 1ms/step - loss: 0.0347 - acc: 0.9836 - val_loss: 1.6174 - val_acc: 0.7240\n",
      "Epoch 35/100\n",
      "609/609 [==============================] - 1s 1ms/step - loss: 0.0345 - acc: 0.9836 - val_loss: 1.6162 - val_acc: 0.7227\n",
      "Epoch 36/100\n",
      "609/609 [==============================] - 1s 1ms/step - loss: 0.0351 - acc: 0.9824 - val_loss: 1.6633 - val_acc: 0.7175\n",
      "Epoch 37/100\n",
      "609/609 [==============================] - 1s 2ms/step - loss: 0.0347 - acc: 0.9829 - val_loss: 1.6552 - val_acc: 0.7240\n",
      "Epoch 38/100\n",
      "609/609 [==============================] - 1s 2ms/step - loss: 0.0334 - acc: 0.9841 - val_loss: 1.6798 - val_acc: 0.7201\n",
      "Epoch 39/100\n",
      "609/609 [==============================] - 1s 2ms/step - loss: 0.0345 - acc: 0.9831 - val_loss: 1.7058 - val_acc: 0.7188\n",
      "Epoch 40/100\n",
      "609/609 [==============================] - 1s 2ms/step - loss: 0.0343 - acc: 0.9829 - val_loss: 1.7000 - val_acc: 0.7240\n",
      "Epoch 41/100\n",
      "609/609 [==============================] - 1s 2ms/step - loss: 0.0335 - acc: 0.9829 - val_loss: 1.7231 - val_acc: 0.7267\n",
      "Epoch 42/100\n",
      "609/609 [==============================] - 1s 2ms/step - loss: 0.0335 - acc: 0.9829 - val_loss: 1.7634 - val_acc: 0.7175\n",
      "Epoch 43/100\n",
      "609/609 [==============================] - 1s 1ms/step - loss: 0.0328 - acc: 0.9836 - val_loss: 1.7443 - val_acc: 0.7267\n",
      "Epoch 44/100\n",
      "609/609 [==============================] - 1s 1ms/step - loss: 0.0325 - acc: 0.9837 - val_loss: 1.7651 - val_acc: 0.7227\n",
      "Epoch 45/100\n",
      "609/609 [==============================] - 1s 1ms/step - loss: 0.0334 - acc: 0.9828 - val_loss: 1.7507 - val_acc: 0.7254\n",
      "Epoch 46/100\n",
      "609/609 [==============================] - 1s 1ms/step - loss: 0.0333 - acc: 0.9831 - val_loss: 1.7661 - val_acc: 0.7188\n",
      "Epoch 47/100\n",
      "609/609 [==============================] - 1s 1ms/step - loss: 0.0322 - acc: 0.9828 - val_loss: 1.7783 - val_acc: 0.7254\n",
      "Epoch 48/100\n",
      "609/609 [==============================] - 1s 1ms/step - loss: 0.0315 - acc: 0.9847 - val_loss: 1.8211 - val_acc: 0.7122\n",
      "Epoch 49/100\n",
      "609/609 [==============================] - 1s 1ms/step - loss: 0.0315 - acc: 0.9831 - val_loss: 1.8208 - val_acc: 0.7188\n",
      "Epoch 50/100\n",
      "609/609 [==============================] - 1s 1ms/step - loss: 0.0322 - acc: 0.9841 - val_loss: 1.8260 - val_acc: 0.7162\n",
      "Epoch 51/100\n",
      "609/609 [==============================] - 1s 2ms/step - loss: 0.0324 - acc: 0.9829 - val_loss: 1.8253 - val_acc: 0.7188\n",
      "Epoch 52/100\n",
      "609/609 [==============================] - 1s 1ms/step - loss: 0.0321 - acc: 0.9832 - val_loss: 1.8040 - val_acc: 0.7175\n",
      "Epoch 53/100\n",
      "609/609 [==============================] - 1s 1ms/step - loss: 0.0312 - acc: 0.9842 - val_loss: 1.7977 - val_acc: 0.7175\n",
      "Epoch 54/100\n",
      "609/609 [==============================] - 1s 2ms/step - loss: 0.0313 - acc: 0.9846 - val_loss: 1.8360 - val_acc: 0.7175\n",
      "Epoch 55/100\n",
      "609/609 [==============================] - 1s 2ms/step - loss: 0.0315 - acc: 0.9831 - val_loss: 1.8304 - val_acc: 0.7175\n",
      "Epoch 56/100\n",
      "609/609 [==============================] - 1s 1ms/step - loss: 0.0314 - acc: 0.9823 - val_loss: 1.8369 - val_acc: 0.7162\n",
      "Epoch 57/100\n",
      "609/609 [==============================] - 1s 1ms/step - loss: 0.0311 - acc: 0.9836 - val_loss: 1.8623 - val_acc: 0.7096\n",
      "Epoch 58/100\n",
      "609/609 [==============================] - 1s 1ms/step - loss: 0.0304 - acc: 0.9851 - val_loss: 1.8257 - val_acc: 0.7148\n",
      "Epoch 59/100\n",
      "609/609 [==============================] - 1s 1ms/step - loss: 0.0308 - acc: 0.9846 - val_loss: 1.8558 - val_acc: 0.7122\n",
      "Epoch 60/100\n",
      "609/609 [==============================] - 1s 1ms/step - loss: 0.0301 - acc: 0.9841 - val_loss: 1.8668 - val_acc: 0.7096\n",
      "Epoch 61/100\n",
      "609/609 [==============================] - 1s 1ms/step - loss: 0.0302 - acc: 0.9846 - val_loss: 1.8333 - val_acc: 0.7122\n",
      "Epoch 62/100\n"
     ]
    },
    {
     "name": "stdout",
     "output_type": "stream",
     "text": [
      "609/609 [==============================] - 1s 1ms/step - loss: 0.0292 - acc: 0.9836 - val_loss: 1.8859 - val_acc: 0.7135\n",
      "Epoch 63/100\n",
      "609/609 [==============================] - 1s 1ms/step - loss: 0.0303 - acc: 0.9841 - val_loss: 1.8613 - val_acc: 0.7122\n",
      "Epoch 64/100\n",
      "609/609 [==============================] - 1s 1ms/step - loss: 0.0297 - acc: 0.9851 - val_loss: 1.8510 - val_acc: 0.7188\n",
      "Epoch 65/100\n",
      "609/609 [==============================] - 1s 1ms/step - loss: 0.0294 - acc: 0.9844 - val_loss: 1.8703 - val_acc: 0.7162\n",
      "Epoch 66/100\n",
      "609/609 [==============================] - 1s 1ms/step - loss: 0.0293 - acc: 0.9846 - val_loss: 1.8884 - val_acc: 0.7135\n",
      "Epoch 67/100\n",
      "609/609 [==============================] - 1s 1ms/step - loss: 0.0294 - acc: 0.9836 - val_loss: 1.9042 - val_acc: 0.7109\n",
      "Epoch 68/100\n",
      "609/609 [==============================] - 1s 1ms/step - loss: 0.0299 - acc: 0.9849 - val_loss: 1.8874 - val_acc: 0.7175\n",
      "Epoch 69/100\n",
      "609/609 [==============================] - 1s 2ms/step - loss: 0.0292 - acc: 0.9842 - val_loss: 1.8858 - val_acc: 0.7135\n",
      "Epoch 70/100\n",
      "609/609 [==============================] - 1s 1ms/step - loss: 0.0288 - acc: 0.9851 - val_loss: 1.8996 - val_acc: 0.7096\n",
      "Epoch 71/100\n",
      "609/609 [==============================] - 1s 1ms/step - loss: 0.0291 - acc: 0.9839 - val_loss: 1.8975 - val_acc: 0.7109\n",
      "Epoch 72/100\n",
      "609/609 [==============================] - 1s 1ms/step - loss: 0.0288 - acc: 0.9851 - val_loss: 1.9262 - val_acc: 0.7083\n",
      "Epoch 73/100\n",
      "609/609 [==============================] - 1s 1ms/step - loss: 0.0291 - acc: 0.9846 - val_loss: 1.9235 - val_acc: 0.7148\n",
      "Epoch 74/100\n",
      "609/609 [==============================] - 1s 1ms/step - loss: 0.0286 - acc: 0.9849 - val_loss: 1.9241 - val_acc: 0.7070\n",
      "Epoch 75/100\n",
      "609/609 [==============================] - 1s 2ms/step - loss: 0.0287 - acc: 0.9841 - val_loss: 1.9128 - val_acc: 0.7148\n",
      "Epoch 76/100\n",
      "609/609 [==============================] - 1s 1ms/step - loss: 0.0286 - acc: 0.9852 - val_loss: 1.9324 - val_acc: 0.7070\n",
      "Epoch 77/100\n",
      "609/609 [==============================] - 1s 2ms/step - loss: 0.0285 - acc: 0.9846 - val_loss: 1.9148 - val_acc: 0.7148\n",
      "Epoch 78/100\n",
      "609/609 [==============================] - 1s 1ms/step - loss: 0.0283 - acc: 0.9832 - val_loss: 1.9723 - val_acc: 0.7122\n",
      "Epoch 79/100\n",
      "609/609 [==============================] - 1s 1ms/step - loss: 0.0278 - acc: 0.9846 - val_loss: 1.9831 - val_acc: 0.7135\n",
      "Epoch 80/100\n",
      "609/609 [==============================] - 1s 1ms/step - loss: 0.0284 - acc: 0.9839 - val_loss: 1.9938 - val_acc: 0.7070\n",
      "Epoch 81/100\n",
      "609/609 [==============================] - 1s 1ms/step - loss: 0.0283 - acc: 0.9841 - val_loss: 1.9911 - val_acc: 0.7096\n",
      "Epoch 82/100\n",
      "609/609 [==============================] - 1s 1ms/step - loss: 0.0281 - acc: 0.9842 - val_loss: 1.9819 - val_acc: 0.7148\n",
      "Epoch 83/100\n",
      "609/609 [==============================] - 1s 1ms/step - loss: 0.0276 - acc: 0.9849 - val_loss: 2.0223 - val_acc: 0.7083\n",
      "Epoch 84/100\n",
      "609/609 [==============================] - 1s 1ms/step - loss: 0.0278 - acc: 0.9836 - val_loss: 2.0063 - val_acc: 0.7109\n",
      "Epoch 85/100\n",
      "609/609 [==============================] - 1s 1ms/step - loss: 0.0276 - acc: 0.9844 - val_loss: 2.0573 - val_acc: 0.7070\n",
      "Epoch 86/100\n",
      "609/609 [==============================] - 1s 2ms/step - loss: 0.0275 - acc: 0.9849 - val_loss: 2.0334 - val_acc: 0.7148\n",
      "Epoch 87/100\n",
      "609/609 [==============================] - 1s 1ms/step - loss: 0.0272 - acc: 0.9851 - val_loss: 2.0292 - val_acc: 0.7122\n",
      "Epoch 88/100\n",
      "609/609 [==============================] - 1s 2ms/step - loss: 0.0272 - acc: 0.9864 - val_loss: 2.1107 - val_acc: 0.7070\n",
      "Epoch 89/100\n",
      "609/609 [==============================] - 1s 2ms/step - loss: 0.0273 - acc: 0.9851 - val_loss: 2.0539 - val_acc: 0.7148\n",
      "Epoch 90/100\n",
      "609/609 [==============================] - 1s 2ms/step - loss: 0.0275 - acc: 0.9859 - val_loss: 2.0609 - val_acc: 0.7135\n",
      "Epoch 91/100\n",
      "609/609 [==============================] - 1s 1ms/step - loss: 0.0273 - acc: 0.9847 - val_loss: 2.1014 - val_acc: 0.7083\n",
      "Epoch 92/100\n",
      "609/609 [==============================] - 1s 1ms/step - loss: 0.0270 - acc: 0.9849 - val_loss: 2.0916 - val_acc: 0.7148\n",
      "Epoch 93/100\n",
      "609/609 [==============================] - 1s 1ms/step - loss: 0.0272 - acc: 0.9844 - val_loss: 2.1124 - val_acc: 0.7122\n",
      "Epoch 94/100\n",
      "609/609 [==============================] - 1s 1ms/step - loss: 0.0269 - acc: 0.9849 - val_loss: 2.1452 - val_acc: 0.7096\n",
      "Epoch 95/100\n",
      "609/609 [==============================] - 1s 2ms/step - loss: 0.0270 - acc: 0.9851 - val_loss: 2.1931 - val_acc: 0.7096\n",
      "Epoch 96/100\n",
      "609/609 [==============================] - 1s 1ms/step - loss: 0.0267 - acc: 0.9844 - val_loss: 2.1877 - val_acc: 0.7096\n",
      "Epoch 97/100\n",
      "609/609 [==============================] - 1s 2ms/step - loss: 0.0268 - acc: 0.9852 - val_loss: 2.1687 - val_acc: 0.7083\n",
      "Epoch 98/100\n",
      "609/609 [==============================] - 1s 1ms/step - loss: 0.0267 - acc: 0.9854 - val_loss: 2.2033 - val_acc: 0.7030\n",
      "Epoch 99/100\n",
      "609/609 [==============================] - 1s 2ms/step - loss: 0.0268 - acc: 0.9852 - val_loss: 2.1900 - val_acc: 0.7070\n",
      "Epoch 100/100\n",
      "609/609 [==============================] - 1s 1ms/step - loss: 0.0268 - acc: 0.9847 - val_loss: 2.1929 - val_acc: 0.7109\n"
     ]
    }
   ],
   "source": [
    "first_history = model.fit(X_train, train[\"target\"].to_numpy(),\n",
    "                    epochs=100,\n",
    "                    verbose=True,\n",
    "                    validation_data=(X_val, val[\"target\"].to_numpy()),\n",
    "                    batch_size=10)"
   ]
  },
  {
   "cell_type": "code",
   "execution_count": 148,
   "metadata": {},
   "outputs": [
    {
     "data": {
      "image/png": "[encoded data removed]",
      "text/plain": [
       "<Figure size 864x360 with 2 Axes>"
      ]
     },
     "metadata": {},
     "output_type": "display_data"
    }
   ],
   "source": [
    "plot_history(first_history)"
   ]
  },
  {
   "cell_type": "code",
   "execution_count": 149,
   "metadata": {},
   "outputs": [
    {
     "name": "stdout",
     "output_type": "stream",
     "text": [
      "Testing Accuracy:  0.7195\n"
     ]
    }
   ],
   "source": [
    "loss, accuracy = model.evaluate(X_test, test[\"target\"].to_numpy(), verbose=False)\n",
    "print(\"Testing Accuracy:  {:.4f}\".format(accuracy))"
   ]
  },
  {
   "cell_type": "code",
   "execution_count": 150,
   "metadata": {},
   "outputs": [],
   "source": [
    "firstPredictions = list(map(lambda x: x[0], model.predict_classes(actual_tp_test_only_text)))"
   ]
  },
  {
   "cell_type": "code",
   "execution_count": 151,
   "metadata": {},
   "outputs": [
    {
     "data": {
      "text/html": [
       "<div>\n",
       "<style scoped>\n",
       "    .dataframe tbody tr th:only-of-type {\n",
       "        vertical-align: middle;\n",
       "    }\n",
       "\n",
       "    .dataframe tbody tr th {\n",
       "        vertical-align: top;\n",
       "    }\n",
       "\n",
       "    .dataframe thead th {\n",
       "        text-align: right;\n",
       "    }\n",
       "</style>\n",
       "<table border=\"1\" class=\"dataframe\">\n",
       "  <thead>\n",
       "    <tr style=\"text-align: right;\">\n",
       "      <th></th>\n",
       "      <th>id</th>\n",
       "      <th>target</th>\n",
       "    </tr>\n",
       "  </thead>\n",
       "  <tbody>\n",
       "    <tr>\n",
       "      <th>0</th>\n",
       "      <td>7667</td>\n",
       "      <td>0</td>\n",
       "    </tr>\n",
       "    <tr>\n",
       "      <th>1</th>\n",
       "      <td>9412</td>\n",
       "      <td>0</td>\n",
       "    </tr>\n",
       "    <tr>\n",
       "      <th>2</th>\n",
       "      <td>5026</td>\n",
       "      <td>0</td>\n",
       "    </tr>\n",
       "    <tr>\n",
       "      <th>3</th>\n",
       "      <td>8127</td>\n",
       "      <td>1</td>\n",
       "    </tr>\n",
       "    <tr>\n",
       "      <th>4</th>\n",
       "      <td>1404</td>\n",
       "      <td>0</td>\n",
       "    </tr>\n",
       "    <tr>\n",
       "      <th>5</th>\n",
       "      <td>2331</td>\n",
       "      <td>0</td>\n",
       "    </tr>\n",
       "    <tr>\n",
       "      <th>6</th>\n",
       "      <td>1370</td>\n",
       "      <td>0</td>\n",
       "    </tr>\n",
       "    <tr>\n",
       "      <th>7</th>\n",
       "      <td>10190</td>\n",
       "      <td>1</td>\n",
       "    </tr>\n",
       "    <tr>\n",
       "      <th>8</th>\n",
       "      <td>9399</td>\n",
       "      <td>1</td>\n",
       "    </tr>\n",
       "    <tr>\n",
       "      <th>9</th>\n",
       "      <td>5216</td>\n",
       "      <td>0</td>\n",
       "    </tr>\n",
       "  </tbody>\n",
       "</table>\n",
       "</div>"
      ],
      "text/plain": [
       "      id  target\n",
       "0   7667       0\n",
       "1   9412       0\n",
       "2   5026       0\n",
       "3   8127       1\n",
       "4   1404       0\n",
       "5   2331       0\n",
       "6   1370       0\n",
       "7  10190       1\n",
       "8   9399       1\n",
       "9   5216       0"
      ]
     },
     "execution_count": 151,
     "metadata": {},
     "output_type": "execute_result"
    }
   ],
   "source": [
    "firstPredictionsDF = pd.DataFrame(data={'id': test_limpio[\"id\"], 'target': firstPredictions})\n",
    "firstPredictionsDF.head(10)"
   ]
  },
  {
   "cell_type": "code",
   "execution_count": 152,
   "metadata": {},
   "outputs": [],
   "source": [
    "firstPredictionsDF.to_csv('NN_predictions_first_model.csv', index=False)"
   ]
  },
  {
   "cell_type": "markdown",
   "metadata": {},
   "source": [
    "## Segundo modelo, agrego ciudades y Tokenizer en vez de count para las words"
   ]
  },
  {
   "cell_type": "code",
   "execution_count": 153,
   "metadata": {},
   "outputs": [
    {
     "data": {
      "text/plain": [
       "array(['Mumbai', 'Worldwide', 'Portugal', ..., 'Planet Earth',\n",
       "       'eARth\\\\ 3', 'playing\\\\ soccer\\\\ \\\\&\\\\ eating\\\\ pizza'],\n",
       "      dtype=object)"
      ]
     },
     "execution_count": 153,
     "metadata": {},
     "output_type": "execute_result"
    }
   ],
   "source": [
    "non_null_locations = train_limpio[train_limpio.location.notnull()][\"location\"].to_numpy()\n",
    "non_null_locations"
   ]
  },
  {
   "cell_type": "code",
   "execution_count": 154,
   "metadata": {},
   "outputs": [
    {
     "data": {
      "text/plain": [
       "5080"
      ]
     },
     "execution_count": 154,
     "metadata": {},
     "output_type": "execute_result"
    }
   ],
   "source": [
    "encoder = LabelEncoder()\n",
    "locations = encoder.fit_transform(non_null_locations)\n",
    "len(locations)"
   ]
  },
  {
   "cell_type": "code",
   "execution_count": 155,
   "metadata": {},
   "outputs": [
    {
     "data": {
      "text/plain": [
       "array([[0., 0., 0., ..., 0., 0., 0.],\n",
       "       [0., 0., 0., ..., 0., 0., 0.],\n",
       "       [0., 0., 0., ..., 0., 0., 0.],\n",
       "       ...,\n",
       "       [0., 0., 0., ..., 0., 0., 0.],\n",
       "       [0., 0., 0., ..., 0., 0., 0.],\n",
       "       [0., 0., 0., ..., 0., 0., 0.]])"
      ]
     },
     "execution_count": 155,
     "metadata": {},
     "output_type": "execute_result"
    }
   ],
   "source": [
    "encoder = OneHotEncoder(sparse=False)\n",
    "locations = locations.reshape((5080, 1))\n",
    "encoder.fit_transform(locations)"
   ]
  },
  {
   "cell_type": "code",
   "execution_count": 156,
   "metadata": {},
   "outputs": [
    {
     "name": "stdout",
     "output_type": "stream",
     "text": [
      "japan mark anniversari of hiroshima atom bomb\n",
      "[443, 56, 7, 105, 12, 748, 53, 215, 10, 215, 1080, 30, 48, 23, 12, 58, 4, 57, 53, 25, 191, 156, 749]\n"
     ]
    }
   ],
   "source": [
    "tokenizer = Tokenizer(num_words=5000)\n",
    "tokenizer.fit_on_texts(train_limpio[\"text\"].values.astype('U'))\n",
    "\n",
    "X_train = tokenizer.texts_to_sequences(train[\"text\"].values.astype('U'))\n",
    "X_val = tokenizer.texts_to_sequences(val[\"text\"].values.astype('U'))\n",
    "X_test = tokenizer.texts_to_sequences(test[\"text\"].values.astype('U'))\n",
    "\n",
    "vocab_size = len(tokenizer.word_index) + 1  # Adding 1 because of reserved 0 index\n",
    "\n",
    "print(train_limpio[\"text\"].values[2])\n",
    "print(X_train[2])"
   ]
  },
  {
   "cell_type": "code",
   "execution_count": 157,
   "metadata": {},
   "outputs": [],
   "source": [
    "maxlen = 100\n",
    "\n",
    "X_train = pad_sequences(X_train, padding='post', maxlen=maxlen)\n",
    "X_val = pad_sequences(X_val, padding='post', maxlen=maxlen)\n",
    "X_test = pad_sequences(X_test, padding='post', maxlen=maxlen)"
   ]
  },
  {
   "cell_type": "markdown",
   "metadata": {},
   "source": [
    "## Pruebo solo texto, modelo mas complejo con maxPooling y mejor embedding"
   ]
  },
  {
   "cell_type": "code",
   "execution_count": 158,
   "metadata": {},
   "outputs": [
    {
     "name": "stdout",
     "output_type": "stream",
     "text": [
      "Model: \"sequential_22\"\n",
      "_________________________________________________________________\n",
      "Layer (type)                 Output Shape              Param #   \n",
      "=================================================================\n",
      "embedding_11 (Embedding)     (None, 100, 50)           675500    \n",
      "_________________________________________________________________\n",
      "global_max_pooling1d_11 (Glo (None, 50)                0         \n",
      "_________________________________________________________________\n",
      "dense_44 (Dense)             (None, 10)                510       \n",
      "_________________________________________________________________\n",
      "dense_45 (Dense)             (None, 1)                 11        \n",
      "=================================================================\n",
      "Total params: 676,021\n",
      "Trainable params: 676,021\n",
      "Non-trainable params: 0\n",
      "_________________________________________________________________\n"
     ]
    }
   ],
   "source": [
    "embedding_dim = 50\n",
    "\n",
    "model1 = Sequential()\n",
    "model1.add(layers.Embedding(input_dim=vocab_size, \n",
    "                           output_dim=embedding_dim, \n",
    "                           input_length=maxlen))\n",
    "model1.add(layers.GlobalMaxPool1D())\n",
    "model1.add(layers.Dense(10, activation='relu'))\n",
    "model1.add(layers.Dense(1, activation='sigmoid'))\n",
    "model1.compile(optimizer='adam',\n",
    "              loss='binary_crossentropy',\n",
    "              metrics=['acc'])\n",
    "model1.summary()"
   ]
  },
  {
   "cell_type": "code",
   "execution_count": 159,
   "metadata": {},
   "outputs": [
    {
     "name": "stdout",
     "output_type": "stream",
     "text": [
      "Testing Accuracy:  0.7471\n"
     ]
    },
    {
     "data": {
      "image/png": "[encoded data removed]",
      "text/plain": [
       "<Figure size 864x360 with 2 Axes>"
      ]
     },
     "metadata": {},
     "output_type": "display_data"
    }
   ],
   "source": [
    "second_history = model1.fit(X_train, train[\"target\"].to_numpy(),\n",
    "                    epochs=50,\n",
    "                    verbose=False,\n",
    "                    validation_data=(X_val, val[\"target\"].to_numpy()),\n",
    "                    batch_size=10)\n",
    "\n",
    "loss, accuracy = model1.evaluate(X_test, test[\"target\"].to_numpy(), verbose=False)\n",
    "print(\"Testing Accuracy:  {:.4f}\".format(accuracy))\n",
    "plot_history(second_history)"
   ]
  },
  {
   "cell_type": "markdown",
   "metadata": {},
   "source": [
    "## Tercer modelo"
   ]
  },
  {
   "cell_type": "code",
   "execution_count": 160,
   "metadata": {},
   "outputs": [
    {
     "name": "stdout",
     "output_type": "stream",
     "text": [
      "Model: \"sequential_23\"\n",
      "_________________________________________________________________\n",
      "Layer (type)                 Output Shape              Param #   \n",
      "=================================================================\n",
      "embedding_12 (Embedding)     (None, 100, 100)          1351000   \n",
      "_________________________________________________________________\n",
      "conv1d_10 (Conv1D)           (None, 96, 128)           64128     \n",
      "_________________________________________________________________\n",
      "global_max_pooling1d_12 (Glo (None, 128)               0         \n",
      "_________________________________________________________________\n",
      "dense_46 (Dense)             (None, 10)                1290      \n",
      "_________________________________________________________________\n",
      "dense_47 (Dense)             (None, 1)                 11        \n",
      "=================================================================\n",
      "Total params: 1,416,429\n",
      "Trainable params: 1,416,429\n",
      "Non-trainable params: 0\n",
      "_________________________________________________________________\n"
     ]
    }
   ],
   "source": [
    "embedding_dim = 100\n",
    "\n",
    "model2 = Sequential()\n",
    "model2.add(layers.Embedding(vocab_size, embedding_dim, input_length=maxlen))\n",
    "model2.add(layers.Conv1D(128, 5, activation='relu'))\n",
    "model2.add(layers.GlobalMaxPooling1D())\n",
    "model2.add(layers.Dense(10, activation='relu'))\n",
    "model2.add(layers.Dense(1, activation='sigmoid'))\n",
    "model2.compile(optimizer='adam',\n",
    "              loss='binary_crossentropy',\n",
    "              metrics=['acc'])\n",
    "model2.summary()"
   ]
  },
  {
   "cell_type": "code",
   "execution_count": 161,
   "metadata": {},
   "outputs": [
    {
     "name": "stdout",
     "output_type": "stream",
     "text": [
      "Epoch 1/10\n",
      "609/609 [==============================] - 8s 13ms/step - loss: 0.5121 - acc: 0.7461 - val_loss: 0.4924 - val_acc: 0.7845\n",
      "Epoch 2/10\n",
      "609/609 [==============================] - 8s 12ms/step - loss: 0.3174 - acc: 0.8696 - val_loss: 0.5071 - val_acc: 0.7635\n",
      "Epoch 3/10\n",
      "609/609 [==============================] - 8s 12ms/step - loss: 0.2005 - acc: 0.9254 - val_loss: 0.6691 - val_acc: 0.7714\n",
      "Epoch 4/10\n",
      "609/609 [==============================] - 8s 12ms/step - loss: 0.1245 - acc: 0.9593 - val_loss: 0.7542 - val_acc: 0.7569\n",
      "Epoch 5/10\n",
      "609/609 [==============================] - 8s 12ms/step - loss: 0.0897 - acc: 0.9698 - val_loss: 0.8774 - val_acc: 0.7569\n",
      "Epoch 6/10\n",
      "609/609 [==============================] - 8s 13ms/step - loss: 0.0697 - acc: 0.9752 - val_loss: 0.8818 - val_acc: 0.7503\n",
      "Epoch 7/10\n",
      "609/609 [==============================] - 8s 13ms/step - loss: 0.0559 - acc: 0.9780 - val_loss: 1.0825 - val_acc: 0.7543\n",
      "Epoch 8/10\n",
      "609/609 [==============================] - 8s 13ms/step - loss: 0.0461 - acc: 0.9798 - val_loss: 1.0904 - val_acc: 0.7490\n",
      "Epoch 9/10\n",
      "609/609 [==============================] - 8s 13ms/step - loss: 0.0393 - acc: 0.9819 - val_loss: 1.3671 - val_acc: 0.7556\n",
      "Epoch 10/10\n",
      "609/609 [==============================] - 8s 13ms/step - loss: 0.0361 - acc: 0.9826 - val_loss: 1.6095 - val_acc: 0.7411\n",
      "Training Accuracy: 0.9837\n",
      "Testing Accuracy:  0.7798\n"
     ]
    },
    {
     "data": {
      "image/png": "[encoded data removed]",
      "text/plain": [
       "<Figure size 864x360 with 2 Axes>"
      ]
     },
     "metadata": {},
     "output_type": "display_data"
    }
   ],
   "source": [
    "third_history = model2.fit(X_train, train[\"target\"].to_numpy(),\n",
    "                    epochs=10,\n",
    "                    verbose=True,\n",
    "                    validation_data=(X_val, val[\"target\"].to_numpy()),\n",
    "                    batch_size=10)\n",
    "loss, accuracy = model2.evaluate(X_train, train[\"target\"].to_numpy(), verbose=False)\n",
    "print(\"Training Accuracy: {:.4f}\".format(accuracy))\n",
    "loss, accuracy = model2.evaluate(X_test, test[\"target\"].to_numpy(), verbose=False)\n",
    "print(\"Testing Accuracy:  {:.4f}\".format(accuracy))\n",
    "plot_history(third_history)\n"
   ]
  },
  {
   "cell_type": "markdown",
   "metadata": {},
   "source": [
    "## Cuarto Modelo"
   ]
  },
  {
   "cell_type": "code",
   "execution_count": 162,
   "metadata": {},
   "outputs": [],
   "source": [
    "def create_model(num_filters, kernel_size, vocab_size, embedding_dim, maxlen):\n",
    "    model3 = Sequential()\n",
    "    model3.add(layers.Embedding(vocab_size, embedding_dim, input_length=maxlen))\n",
    "    model3.add(layers.Conv1D(num_filters, kernel_size, activation='relu'))\n",
    "    model3.add(layers.GlobalMaxPooling1D())\n",
    "    model3.add(layers.Dense(10, activation='relu'))\n",
    "    model3.add(layers.Dense(1, activation='sigmoid'))\n",
    "    model3.compile(optimizer='adam',\n",
    "                  loss='binary_crossentropy',\n",
    "                  metrics=['accuracy'])\n",
    "    return model3\n",
    "\n",
    "param_grid = dict(num_filters=[32, 64, 128],\n",
    "                  kernel_size=[3, 5, 7],\n",
    "                  vocab_size=[5000], \n",
    "                  embedding_dim=[50],\n",
    "                  maxlen=[100])"
   ]
  },
  {
   "cell_type": "code",
   "execution_count": 163,
   "metadata": {},
   "outputs": [],
   "source": [
    "# # Main settings\n",
    "# epochs = 20\n",
    "# embedding_dim = 50\n",
    "# maxlen = 100\n",
    "# output_file = 'output.txt'\n",
    "\n",
    "# source = \"twitter\"\n",
    "# # Run grid search for each source (yelp, amazon, imdb)\n",
    "# print('Running grid search for data set :', \"twitter\")\n",
    "# sentences = train_limpio[\"text\"].values.astype('U')\n",
    "# # Train-test split\n",
    "# train = pd.concat([train_limpio_true.iloc[:3000], train_limpio_false.iloc[:4000]]).sample(frac=1).reset_index(drop=True)\n",
    "# test = pd.concat([train_limpio_true.iloc[3000:], train_limpio_false.iloc[4000:]]).sample(frac=1).reset_index(drop=True)\n",
    "\n",
    "# # Tokenize words\n",
    "# tokenizer = Tokenizer(num_words=5000)\n",
    "# tokenizer.fit_on_texts(sentences)\n",
    "# X_train = tokenizer.texts_to_sequences(train[\"text\"].values.astype('U'))\n",
    "# X_test = tokenizer.texts_to_sequences(test[\"text\"].values.astype('U'))\n",
    "\n",
    "# # Adding 1 because of reserved 0 index\n",
    "# vocab_size = len(tokenizer.word_index) + 1\n",
    "\n",
    "# # Pad sequences with zeros\n",
    "# X_train = pad_sequences(X_train, padding='post', maxlen=maxlen)\n",
    "# X_test = pad_sequences(X_test, padding='post', maxlen=maxlen)\n",
    "\n",
    "# # Parameter grid for grid search\n",
    "# param_grid = dict(num_filters=[32, 64, 128],\n",
    "#                       kernel_size=[3, 5, 7],\n",
    "#                       vocab_size=[vocab_size],\n",
    "#                       embedding_dim=[embedding_dim],\n",
    "#                       maxlen=[maxlen])\n",
    "# model3 = KerasClassifier(build_fn=create_model,\n",
    "#                         epochs=epochs, batch_size=10,\n",
    "#                             verbose=False)\n",
    "# grid = RandomizedSearchCV(estimator=model3, param_distributions=param_grid,\n",
    "#                               cv=10, verbose=1, n_iter=10)\n",
    "# grid_result = grid.fit(X_train, train[\"target\"])\n",
    "\n",
    "# # Evaluate testing set\n",
    "# test_accuracy = grid.score(X_test, test[\"target\"])\n",
    "\n",
    "# # Save and evaluate results\n",
    "# #     prompt = input(f'finished {source}; write to file and proceed? [y/n]')\n",
    "# #     if prompt.lower() not in {'y', 'true', 'yes'}:\n",
    "# #         break\n",
    "# #     with open(output_file, 'w+') as f:\n",
    "# s = ('Running {} data set\\nBest Accuracy : '\n",
    "#              '{:.4f}\\n{}\\nTest Accuracy : {:.4f}\\n\\n')\n",
    "# output_string = s.format(\n",
    "#         source,\n",
    "#         grid_result.best_score_,\n",
    "#         grid_result.best_params_,\n",
    "#         test_accuracy)\n",
    "# print(output_string)\n",
    "# #         f.write(output_string)"
   ]
  },
  {
   "cell_type": "markdown",
   "metadata": {},
   "source": [
    "# Modelo con tf idf"
   ]
  },
  {
   "cell_type": "code",
   "execution_count": 164,
   "metadata": {},
   "outputs": [],
   "source": [
    "train_limpio_tf_idf = pd.read_csv(\"train_limpio_con_Tf-Idf.csv\",encoding = \"ISO-8859-1\").sample(frac=1).reset_index(drop=True)\n",
    "test_limpio_tf_idf = pd.read_csv(\"test_limpio_con_Tf-Idf.csv\",encoding = \"ISO-8859-1\").sample(frac=1).reset_index(drop=True)"
   ]
  },
  {
   "cell_type": "code",
   "execution_count": 165,
   "metadata": {},
   "outputs": [],
   "source": [
    "train_limpio_tf_idf = train_limpio_tf_idf.drop(columns=[\"id\"])"
   ]
  },
  {
   "cell_type": "code",
   "execution_count": 166,
   "metadata": {},
   "outputs": [],
   "source": [
    "train_limpio_tf_idf_true = train_limpio_tf_idf.loc[train_limpio_tf_idf[\"target\"] == 1]\n",
    "train_limpio_tf_idf_false = train_limpio_tf_idf.loc[train_limpio_tf_idf[\"target\"] == 0]"
   ]
  },
  {
   "cell_type": "code",
   "execution_count": 167,
   "metadata": {},
   "outputs": [],
   "source": [
    "train_tf_idf = pd.concat([train_limpio_tf_idf_true.iloc[:2616], train_limpio_tf_idf_false.iloc[:3473]])\n",
    "val_tf_idf = pd.concat([train_limpio_tf_idf_true.iloc[2616:3000], train_limpio_tf_idf_false.iloc[3473:3850]])\n",
    "test_tf_idf = pd.concat([train_limpio_tf_idf_true.iloc[3000:], train_limpio_tf_idf_false.iloc[3850:]])"
   ]
  },
  {
   "cell_type": "code",
   "execution_count": 168,
   "metadata": {},
   "outputs": [],
   "source": [
    "x_train_tf_idf = train_tf_idf.iloc[:, :2392]\n",
    "x_val_tf_idf = val_tf_idf.iloc[:, :2392]\n",
    "x_test_tf_idf = test_tf_idf.iloc[:, :2392]"
   ]
  },
  {
   "cell_type": "code",
   "execution_count": 169,
   "metadata": {},
   "outputs": [
    {
     "name": "stdout",
     "output_type": "stream",
     "text": [
      "Model: \"sequential_24\"\n",
      "_________________________________________________________________\n",
      "Layer (type)                 Output Shape              Param #   \n",
      "=================================================================\n",
      "dense_48 (Dense)             (None, 10)                23930     \n",
      "_________________________________________________________________\n",
      "dense_49 (Dense)             (None, 1)                 11        \n",
      "=================================================================\n",
      "Total params: 23,941\n",
      "Trainable params: 23,941\n",
      "Non-trainable params: 0\n",
      "_________________________________________________________________\n"
     ]
    }
   ],
   "source": [
    "input_dim_tf_idf = x_train_tf_idf.shape[1]  # Number of features\n",
    "\n",
    "modelTfIdf = Sequential()\n",
    "modelTfIdf.add(layers.Dense(10, input_dim=input_dim_tf_idf, activation='relu'))\n",
    "modelTfIdf.add(layers.Dense(1, activation='sigmoid'))\n",
    "\n",
    "modelTfIdf.compile(loss='binary_crossentropy', \n",
    "              optimizer='adam', \n",
    "              metrics=['acc'])\n",
    "modelTfIdf.summary()"
   ]
  },
  {
   "cell_type": "code",
   "execution_count": 170,
   "metadata": {
    "scrolled": true
   },
   "outputs": [
    {
     "name": "stdout",
     "output_type": "stream",
     "text": [
      "Epoch 1/22\n",
      "609/609 [==============================] - 1s 1ms/step - loss: 0.6104 - acc: 0.6929 - val_loss: 0.5352 - val_acc: 0.7543\n",
      "Epoch 2/22\n",
      "609/609 [==============================] - 1s 1ms/step - loss: 0.4342 - acc: 0.8308 - val_loss: 0.4660 - val_acc: 0.7766\n",
      "Epoch 3/22\n",
      "609/609 [==============================] - 1s 1ms/step - loss: 0.3608 - acc: 0.8509 - val_loss: 0.4706 - val_acc: 0.7740\n",
      "Epoch 4/22\n",
      "609/609 [==============================] - 1s 1ms/step - loss: 0.3239 - acc: 0.8711 - val_loss: 0.4869 - val_acc: 0.7674\n",
      "Epoch 5/22\n",
      "609/609 [==============================] - 1s 1ms/step - loss: 0.2989 - acc: 0.8788 - val_loss: 0.5111 - val_acc: 0.7635\n",
      "Epoch 6/22\n",
      "609/609 [==============================] - 1s 1ms/step - loss: 0.2794 - acc: 0.8882 - val_loss: 0.5378 - val_acc: 0.7569\n",
      "Epoch 7/22\n",
      "609/609 [==============================] - 1s 1ms/step - loss: 0.2641 - acc: 0.8926 - val_loss: 0.5672 - val_acc: 0.7556\n",
      "Epoch 8/22\n",
      "609/609 [==============================] - 1s 1ms/step - loss: 0.2512 - acc: 0.8995 - val_loss: 0.5908 - val_acc: 0.7451\n",
      "Epoch 9/22\n",
      "609/609 [==============================] - 1s 1ms/step - loss: 0.2406 - acc: 0.9041 - val_loss: 0.6367 - val_acc: 0.7464\n",
      "Epoch 10/22\n",
      "609/609 [==============================] - 1s 985us/step - loss: 0.2308 - acc: 0.9079 - val_loss: 0.6653 - val_acc: 0.7424\n",
      "Epoch 11/22\n",
      "609/609 [==============================] - 1s 1ms/step - loss: 0.2221 - acc: 0.9110 - val_loss: 0.7003 - val_acc: 0.7372\n",
      "Epoch 12/22\n",
      "609/609 [==============================] - 1s 1ms/step - loss: 0.2141 - acc: 0.9144 - val_loss: 0.7269 - val_acc: 0.7385\n",
      "Epoch 13/22\n",
      "609/609 [==============================] - 1s 1ms/step - loss: 0.2070 - acc: 0.9164 - val_loss: 0.7640 - val_acc: 0.7346\n",
      "Epoch 14/22\n",
      "609/609 [==============================] - 1s 1ms/step - loss: 0.2010 - acc: 0.9197 - val_loss: 0.7918 - val_acc: 0.7346\n",
      "Epoch 15/22\n",
      "609/609 [==============================] - 1s 922us/step - loss: 0.1940 - acc: 0.9236 - val_loss: 0.8351 - val_acc: 0.7332\n",
      "Epoch 16/22\n",
      "609/609 [==============================] - 1s 1ms/step - loss: 0.1889 - acc: 0.9228 - val_loss: 0.8755 - val_acc: 0.7372\n",
      "Epoch 17/22\n",
      "609/609 [==============================] - 1s 994us/step - loss: 0.1830 - acc: 0.9266 - val_loss: 0.8991 - val_acc: 0.7293\n",
      "Epoch 18/22\n",
      "609/609 [==============================] - 1s 919us/step - loss: 0.1784 - acc: 0.9284 - val_loss: 0.9369 - val_acc: 0.7254\n",
      "Epoch 19/22\n",
      "609/609 [==============================] - 1s 954us/step - loss: 0.1740 - acc: 0.9294 - val_loss: 0.9814 - val_acc: 0.7319\n",
      "Epoch 20/22\n",
      "609/609 [==============================] - 1s 1ms/step - loss: 0.1687 - acc: 0.9328 - val_loss: 1.0213 - val_acc: 0.7319\n",
      "Epoch 21/22\n",
      "609/609 [==============================] - 1s 1ms/step - loss: 0.1652 - acc: 0.9371 - val_loss: 1.0586 - val_acc: 0.7267\n",
      "Epoch 22/22\n",
      "609/609 [==============================] - 1s 929us/step - loss: 0.1607 - acc: 0.9374 - val_loss: 1.0944 - val_acc: 0.7254\n"
     ]
    }
   ],
   "source": [
    "first_history_tf_idf = modelTfIdf.fit(x_train_tf_idf.values, train_tf_idf[\"target\"].to_numpy(),\n",
    "                    epochs=22,\n",
    "                    verbose=True,\n",
    "                    validation_data=(x_val_tf_idf.values, val_tf_idf[\"target\"].to_numpy()),\n",
    "                    batch_size=10)"
   ]
  },
  {
   "cell_type": "code",
   "execution_count": 171,
   "metadata": {},
   "outputs": [
    {
     "name": "stdout",
     "output_type": "stream",
     "text": [
      "Testing Accuracy:  0.7444\n"
     ]
    }
   ],
   "source": [
    "loss, accuracy = modelTfIdf.evaluate(x_test_tf_idf.values, test_tf_idf[\"target\"].to_numpy(), verbose=False)\n",
    "print(\"Testing Accuracy:  {:.4f}\".format(accuracy))"
   ]
  },
  {
   "cell_type": "code",
   "execution_count": 172,
   "metadata": {},
   "outputs": [
    {
     "data": {
      "image/png": "[encoded data removed]",
      "text/plain": [
       "<Figure size 864x360 with 2 Axes>"
      ]
     },
     "metadata": {},
     "output_type": "display_data"
    }
   ],
   "source": [
    "plot_history(first_history_tf_idf)"
   ]
  },
  {
   "cell_type": "markdown",
   "metadata": {},
   "source": [
    "## Segundo modelo, con conv1D y maxPooling (anda muy mal)"
   ]
  },
  {
   "cell_type": "code",
   "execution_count": 173,
   "metadata": {},
   "outputs": [],
   "source": [
    "# embedding_dim = 100\n",
    "# model2_tf_idf = Sequential()\n",
    "# model2_tf_idf.add(layers.Embedding(2400, embedding_dim, input_length=2392))\n",
    "# model2_tf_idf.add(layers.Conv1D(128, 5, activation='relu'))\n",
    "# model2_tf_idf.add(layers.GlobalMaxPooling1D())\n",
    "# model2_tf_idf.add(layers.Dense(10, activation='relu'))\n",
    "# model2_tf_idf.add(layers.Dense(1, activation='sigmoid'))\n",
    "# model2_tf_idf.compile(optimizer='adam',\n",
    "#               loss='binary_crossentropy',\n",
    "#               metrics=['acc'])\n",
    "# model2_tf_idf.summary()"
   ]
  },
  {
   "cell_type": "code",
   "execution_count": 174,
   "metadata": {},
   "outputs": [],
   "source": [
    "# second_history_tf_idf = model2_tf_idf.fit(x_train_tf_idf.values, train_tf_idf[\"target\"].to_numpy(),\n",
    "#                     epochs=3,\n",
    "#                     verbose=True,\n",
    "#                     validation_data=(x_val_tf_idf.values, val_tf_idf[\"target\"].to_numpy()),\n",
    "#                     batch_size=10)"
   ]
  },
  {
   "cell_type": "code",
   "execution_count": 175,
   "metadata": {},
   "outputs": [],
   "source": [
    "# loss, accuracy = model2_tf_idf.evaluate(x_test_tf_idf.values, test_tf_idf[\"target\"].to_numpy(), verbose=False)\n",
    "# print(\"Testing Accuracy:  {:.4f}\".format(accuracy))"
   ]
  },
  {
   "cell_type": "markdown",
   "metadata": {},
   "source": [
    "## Modelo con más features, usando set de datos comun"
   ]
  },
  {
   "cell_type": "code",
   "execution_count": 176,
   "metadata": {},
   "outputs": [
    {
     "data": {
      "text/html": [
       "<div>\n",
       "<style scoped>\n",
       "    .dataframe tbody tr th:only-of-type {\n",
       "        vertical-align: middle;\n",
       "    }\n",
       "\n",
       "    .dataframe tbody tr th {\n",
       "        vertical-align: top;\n",
       "    }\n",
       "\n",
       "    .dataframe thead th {\n",
       "        text-align: right;\n",
       "    }\n",
       "</style>\n",
       "<table border=\"1\" class=\"dataframe\">\n",
       "  <thead>\n",
       "    <tr style=\"text-align: right;\">\n",
       "      <th></th>\n",
       "      <th>aa</th>\n",
       "      <th>ab</th>\n",
       "      <th>aba</th>\n",
       "      <th>abandon</th>\n",
       "      <th>abbott</th>\n",
       "      <th>abbswinston</th>\n",
       "      <th>abc</th>\n",
       "      <th>abcnew</th>\n",
       "      <th>abe</th>\n",
       "      <th>abil</th>\n",
       "      <th>...</th>\n",
       "      <th>www\\.twitch\\.tv\\/PKSparkxx-location</th>\n",
       "      <th>www\\.youtube\\.com\\?Malkavius2-location</th>\n",
       "      <th>xiumin\\'s\\ nonexistent\\ solos-location</th>\n",
       "      <th>y\\(our\\)\\ boyfriends\\ legs\\ -location</th>\n",
       "      <th>y\\/e\\/l-location</th>\n",
       "      <th>yorkshire\\\\n-location</th>\n",
       "      <th>youtube\\.com\\/channel\\/UCHWTLC9B4ZjUGh7yDlb55Iw-location</th>\n",
       "      <th>zboyer\\@washingtontimes\\.com-location</th>\n",
       "      <th>longitud_tweet</th>\n",
       "      <th>letras_seguidas</th>\n",
       "    </tr>\n",
       "  </thead>\n",
       "  <tbody>\n",
       "    <tr>\n",
       "      <th>0</th>\n",
       "      <td>0</td>\n",
       "      <td>0</td>\n",
       "      <td>0</td>\n",
       "      <td>0</td>\n",
       "      <td>0</td>\n",
       "      <td>0</td>\n",
       "      <td>0</td>\n",
       "      <td>0</td>\n",
       "      <td>0</td>\n",
       "      <td>0</td>\n",
       "      <td>...</td>\n",
       "      <td>False</td>\n",
       "      <td>False</td>\n",
       "      <td>False</td>\n",
       "      <td>False</td>\n",
       "      <td>False</td>\n",
       "      <td>False</td>\n",
       "      <td>False</td>\n",
       "      <td>False</td>\n",
       "      <td>40</td>\n",
       "      <td>2</td>\n",
       "    </tr>\n",
       "  </tbody>\n",
       "</table>\n",
       "<p>1 rows × 7846 columns</p>\n",
       "</div>"
      ],
      "text/plain": [
       "   aa  ab  aba  abandon  abbott  abbswinston  abc  abcnew  abe  abil  ...  \\\n",
       "0   0   0    0        0       0            0    0       0    0     0  ...   \n",
       "\n",
       "   www\\.twitch\\.tv\\/PKSparkxx-location  \\\n",
       "0                                False   \n",
       "\n",
       "   www\\.youtube\\.com\\?Malkavius2-location  \\\n",
       "0                                   False   \n",
       "\n",
       "   xiumin\\'s\\ nonexistent\\ solos-location  \\\n",
       "0                                   False   \n",
       "\n",
       "   y\\(our\\)\\ boyfriends\\ legs\\ -location  y\\/e\\/l-location  \\\n",
       "0                                  False             False   \n",
       "\n",
       "   yorkshire\\\\n-location  \\\n",
       "0                  False   \n",
       "\n",
       "   youtube\\.com\\/channel\\/UCHWTLC9B4ZjUGh7yDlb55Iw-location  \\\n",
       "0                                              False          \n",
       "\n",
       "   zboyer\\@washingtontimes\\.com-location  longitud_tweet  letras_seguidas  \n",
       "0                                  False              40                2  \n",
       "\n",
       "[1 rows x 7846 columns]"
      ]
     },
     "execution_count": 176,
     "metadata": {},
     "output_type": "execute_result"
    }
   ],
   "source": [
    "test_limpio = pd.read_csv(\"test_limpio_con_BOW_de_5000_y_Stemming.csv\",encoding = \"ISO-8859-1\")\n",
    "test_limpio = test_limpio.drop(columns=[\"sentimiento\", \"objetividad\"])\n",
    "test_limpio.head(1)"
   ]
  },
  {
   "cell_type": "code",
   "execution_count": 177,
   "metadata": {
    "scrolled": true
   },
   "outputs": [
    {
     "data": {
      "text/html": [
       "<div>\n",
       "<style scoped>\n",
       "    .dataframe tbody tr th:only-of-type {\n",
       "        vertical-align: middle;\n",
       "    }\n",
       "\n",
       "    .dataframe tbody tr th {\n",
       "        vertical-align: top;\n",
       "    }\n",
       "\n",
       "    .dataframe thead th {\n",
       "        text-align: right;\n",
       "    }\n",
       "</style>\n",
       "<table border=\"1\" class=\"dataframe\">\n",
       "  <thead>\n",
       "    <tr style=\"text-align: right;\">\n",
       "      <th></th>\n",
       "      <th>aa</th>\n",
       "      <th>ab</th>\n",
       "      <th>aba</th>\n",
       "      <th>abandon</th>\n",
       "      <th>abbott</th>\n",
       "      <th>abbswinston</th>\n",
       "      <th>abc</th>\n",
       "      <th>abcnew</th>\n",
       "      <th>abe</th>\n",
       "      <th>abil</th>\n",
       "      <th>...</th>\n",
       "      <th>www\\.twitch\\.tv\\/PKSparkxx-location</th>\n",
       "      <th>www\\.youtube\\.com\\?Malkavius2-location</th>\n",
       "      <th>xiumin\\'s\\ nonexistent\\ solos-location</th>\n",
       "      <th>y\\(our\\)\\ boyfriends\\ legs\\ -location</th>\n",
       "      <th>y\\/e\\/l-location</th>\n",
       "      <th>yorkshire\\\\n-location</th>\n",
       "      <th>youtube\\.com\\/channel\\/UCHWTLC9B4ZjUGh7yDlb55Iw-location</th>\n",
       "      <th>zboyer\\@washingtontimes\\.com-location</th>\n",
       "      <th>longitud_tweet</th>\n",
       "      <th>letras_seguidas</th>\n",
       "    </tr>\n",
       "  </thead>\n",
       "  <tbody>\n",
       "    <tr>\n",
       "      <th>0</th>\n",
       "      <td>0</td>\n",
       "      <td>0</td>\n",
       "      <td>0</td>\n",
       "      <td>0</td>\n",
       "      <td>0</td>\n",
       "      <td>0</td>\n",
       "      <td>0</td>\n",
       "      <td>0</td>\n",
       "      <td>0</td>\n",
       "      <td>0</td>\n",
       "      <td>...</td>\n",
       "      <td>False</td>\n",
       "      <td>False</td>\n",
       "      <td>False</td>\n",
       "      <td>False</td>\n",
       "      <td>False</td>\n",
       "      <td>False</td>\n",
       "      <td>False</td>\n",
       "      <td>False</td>\n",
       "      <td>70</td>\n",
       "      <td>2</td>\n",
       "    </tr>\n",
       "  </tbody>\n",
       "</table>\n",
       "<p>1 rows × 7846 columns</p>\n",
       "</div>"
      ],
      "text/plain": [
       "   aa  ab  aba  abandon  abbott  abbswinston  abc  abcnew  abe  abil  ...  \\\n",
       "0   0   0    0        0       0            0    0       0    0     0  ...   \n",
       "\n",
       "   www\\.twitch\\.tv\\/PKSparkxx-location  \\\n",
       "0                                False   \n",
       "\n",
       "   www\\.youtube\\.com\\?Malkavius2-location  \\\n",
       "0                                   False   \n",
       "\n",
       "   xiumin\\'s\\ nonexistent\\ solos-location  \\\n",
       "0                                   False   \n",
       "\n",
       "   y\\(our\\)\\ boyfriends\\ legs\\ -location  y\\/e\\/l-location  \\\n",
       "0                                  False             False   \n",
       "\n",
       "   yorkshire\\\\n-location  \\\n",
       "0                  False   \n",
       "\n",
       "   youtube\\.com\\/channel\\/UCHWTLC9B4ZjUGh7yDlb55Iw-location  \\\n",
       "0                                              False          \n",
       "\n",
       "   zboyer\\@washingtontimes\\.com-location  longitud_tweet  letras_seguidas  \n",
       "0                                  False              70                2  \n",
       "\n",
       "[1 rows x 7846 columns]"
      ]
     },
     "execution_count": 177,
     "metadata": {},
     "output_type": "execute_result"
    }
   ],
   "source": [
    "train_limpio = pd.read_csv(\"train_limpio_con_BOW_de_5000_y_Stemming.csv\",encoding = \"ISO-8859-1\")\n",
    "train_limpio = train_limpio.drop(columns=[\"sentimiento\", \"objetividad\", \"id\"])\n",
    "train_limpio.head(1)"
   ]
  },
  {
   "cell_type": "code",
   "execution_count": 178,
   "metadata": {},
   "outputs": [],
   "source": [
    "train_limpio_more_features_true = train_limpio.loc[train_limpio[\"target\"] == 1].sample(frac=1).reset_index(drop=True)\n",
    "train_limpio_more_features_false = train_limpio.loc[train_limpio[\"target\"] == 0].sample(frac=1).reset_index(drop=True)"
   ]
  },
  {
   "cell_type": "code",
   "execution_count": 179,
   "metadata": {},
   "outputs": [],
   "source": [
    "train_more_feature = pd.concat([train_limpio_more_features_true.iloc[:2616], train_limpio_more_features_false.iloc[:3473]])\n",
    "val_more_feature = pd.concat([train_limpio_more_features_true.iloc[2616:3000], train_limpio_more_features_false.iloc[3473:3850]])\n",
    "test_more_feature = pd.concat([train_limpio_more_features_true.iloc[3000:], train_limpio_more_features_false.iloc[3850:]])\n",
    "\n",
    "train_more_feature_target = train_more_feature.pop(\"target\")\n",
    "val_more_feature_target = val_more_feature.pop(\"target\")\n",
    "test_more_feature_target = test_more_feature.pop(\"target\")"
   ]
  },
  {
   "cell_type": "code",
   "execution_count": 180,
   "metadata": {},
   "outputs": [],
   "source": [
    "min_max_scaler = preprocessing.MinMaxScaler()\n",
    "x_train_features_values = min_max_scaler.fit_transform(train_more_feature.values)\n",
    "x_val_features_values = min_max_scaler.fit_transform(val_more_feature.values)\n",
    "x_test_features_values = min_max_scaler.fit_transform(test_more_feature.values)\n",
    "\n",
    "train_more_feature = pd.DataFrame(x_train_features_values)\n",
    "val_more_feature = pd.DataFrame(x_val_features_values)\n",
    "test_more_feature = pd.DataFrame(x_test_features_values)"
   ]
  },
  {
   "cell_type": "code",
   "execution_count": 181,
   "metadata": {},
   "outputs": [],
   "source": [
    "actual_test_ids = test_limpio.pop(\"id\")\n",
    "test_limpio_values = min_max_scaler.fit_transform(test_limpio.values)\n",
    "actual_test_limpio = pd.DataFrame(test_limpio_values)"
   ]
  },
  {
   "cell_type": "code",
   "execution_count": 182,
   "metadata": {},
   "outputs": [
    {
     "name": "stdout",
     "output_type": "stream",
     "text": [
      "Model: \"sequential_25\"\n",
      "_________________________________________________________________\n",
      "Layer (type)                 Output Shape              Param #   \n",
      "=================================================================\n",
      "dense_50 (Dense)             (None, 10)                78460     \n",
      "_________________________________________________________________\n",
      "dense_51 (Dense)             (None, 1)                 11        \n",
      "=================================================================\n",
      "Total params: 78,471\n",
      "Trainable params: 78,471\n",
      "Non-trainable params: 0\n",
      "_________________________________________________________________\n"
     ]
    }
   ],
   "source": [
    "input_dim = train_more_feature.shape[1]  # Number of features\n",
    "\n",
    "modelFeatures = Sequential()\n",
    "modelFeatures.add(layers.Dense(10, input_dim=input_dim, activation='relu'))\n",
    "modelFeatures.add(layers.Dense(1, activation='sigmoid'))\n",
    "\n",
    "modelFeatures.compile(loss='binary_crossentropy', \n",
    "              optimizer='adam', \n",
    "              metrics=['acc'])\n",
    "modelFeatures.summary()"
   ]
  },
  {
   "cell_type": "code",
   "execution_count": 183,
   "metadata": {
    "scrolled": false
   },
   "outputs": [
    {
     "name": "stdout",
     "output_type": "stream",
     "text": [
      "Epoch 1/10\n",
      "609/609 [==============================] - 1s 1ms/step - loss: 0.5268 - acc: 0.7681 - val_loss: 0.4473 - val_acc: 0.8003\n",
      "Epoch 2/10\n",
      "609/609 [==============================] - 1s 2ms/step - loss: 0.3544 - acc: 0.8566 - val_loss: 0.4493 - val_acc: 0.8042\n",
      "Epoch 3/10\n",
      "609/609 [==============================] - 1s 2ms/step - loss: 0.2784 - acc: 0.8934 - val_loss: 0.4737 - val_acc: 0.7911\n",
      "Epoch 4/10\n",
      "609/609 [==============================] - 1s 2ms/step - loss: 0.2252 - acc: 0.9138 - val_loss: 0.5222 - val_acc: 0.7806\n",
      "Epoch 5/10\n",
      "609/609 [==============================] - 1s 1ms/step - loss: 0.1865 - acc: 0.9281 - val_loss: 0.5721 - val_acc: 0.7700\n",
      "Epoch 6/10\n",
      "609/609 [==============================] - 1s 1ms/step - loss: 0.1550 - acc: 0.9440 - val_loss: 0.6241 - val_acc: 0.7700\n",
      "Epoch 7/10\n",
      "609/609 [==============================] - 1s 2ms/step - loss: 0.1300 - acc: 0.9542 - val_loss: 0.6948 - val_acc: 0.7661\n",
      "Epoch 8/10\n",
      "609/609 [==============================] - 1s 1ms/step - loss: 0.1109 - acc: 0.9594 - val_loss: 0.7455 - val_acc: 0.7648\n",
      "Epoch 9/10\n",
      "609/609 [==============================] - 1s 1ms/step - loss: 0.0970 - acc: 0.9634 - val_loss: 0.8150 - val_acc: 0.7556\n",
      "Epoch 10/10\n",
      "609/609 [==============================] - 1s 2ms/step - loss: 0.0830 - acc: 0.9713 - val_loss: 0.8917 - val_acc: 0.7490\n",
      "Training Accuracy: 0.9764\n",
      "Testing Accuracy:  0.7772\n"
     ]
    },
    {
     "data": {
      "image/png": "[encoded data removed]",
      "text/plain": [
       "<Figure size 864x360 with 2 Axes>"
      ]
     },
     "metadata": {},
     "output_type": "display_data"
    }
   ],
   "source": [
    "features_history = modelFeatures.fit(train_more_feature.to_numpy(dtype=\"float32\"), train_more_feature_target.to_numpy(dtype=\"float32\"),\n",
    "                    epochs=10,\n",
    "                    verbose=True,\n",
    "                    validation_data=(val_more_feature.to_numpy(dtype=\"float32\"), val_more_feature_target.to_numpy(dtype=\"float32\")),\n",
    "                    batch_size=10)\n",
    "loss, accuracy = modelFeatures.evaluate(train_more_feature.to_numpy(dtype=\"float32\"), train_more_feature_target.to_numpy(dtype=\"float32\"), verbose=False)\n",
    "print(\"Training Accuracy: {:.4f}\".format(accuracy))\n",
    "loss, accuracy = modelFeatures.evaluate(test_more_feature.to_numpy(dtype=\"float32\"), test_more_feature_target.to_numpy(dtype=\"float32\"), verbose=False)\n",
    "print(\"Testing Accuracy:  {:.4f}\".format(accuracy))\n",
    "plot_history(features_history)"
   ]
  },
  {
   "cell_type": "code",
   "execution_count": 184,
   "metadata": {},
   "outputs": [],
   "source": [
    "moreFeaturesPredictions = list(map(lambda x: x[0], modelFeatures.predict_classes(actual_test_limpio.to_numpy(dtype=\"float32\"))))"
   ]
  },
  {
   "cell_type": "code",
   "execution_count": 185,
   "metadata": {},
   "outputs": [
    {
     "data": {
      "text/html": [
       "<div>\n",
       "<style scoped>\n",
       "    .dataframe tbody tr th:only-of-type {\n",
       "        vertical-align: middle;\n",
       "    }\n",
       "\n",
       "    .dataframe tbody tr th {\n",
       "        vertical-align: top;\n",
       "    }\n",
       "\n",
       "    .dataframe thead th {\n",
       "        text-align: right;\n",
       "    }\n",
       "</style>\n",
       "<table border=\"1\" class=\"dataframe\">\n",
       "  <thead>\n",
       "    <tr style=\"text-align: right;\">\n",
       "      <th></th>\n",
       "      <th>id</th>\n",
       "      <th>target</th>\n",
       "    </tr>\n",
       "  </thead>\n",
       "  <tbody>\n",
       "    <tr>\n",
       "      <th>0</th>\n",
       "      <td>0</td>\n",
       "      <td>1</td>\n",
       "    </tr>\n",
       "    <tr>\n",
       "      <th>1</th>\n",
       "      <td>2</td>\n",
       "      <td>1</td>\n",
       "    </tr>\n",
       "    <tr>\n",
       "      <th>2</th>\n",
       "      <td>3</td>\n",
       "      <td>1</td>\n",
       "    </tr>\n",
       "    <tr>\n",
       "      <th>3</th>\n",
       "      <td>9</td>\n",
       "      <td>1</td>\n",
       "    </tr>\n",
       "    <tr>\n",
       "      <th>4</th>\n",
       "      <td>11</td>\n",
       "      <td>1</td>\n",
       "    </tr>\n",
       "    <tr>\n",
       "      <th>5</th>\n",
       "      <td>12</td>\n",
       "      <td>1</td>\n",
       "    </tr>\n",
       "    <tr>\n",
       "      <th>6</th>\n",
       "      <td>21</td>\n",
       "      <td>0</td>\n",
       "    </tr>\n",
       "    <tr>\n",
       "      <th>7</th>\n",
       "      <td>22</td>\n",
       "      <td>0</td>\n",
       "    </tr>\n",
       "    <tr>\n",
       "      <th>8</th>\n",
       "      <td>27</td>\n",
       "      <td>0</td>\n",
       "    </tr>\n",
       "    <tr>\n",
       "      <th>9</th>\n",
       "      <td>29</td>\n",
       "      <td>0</td>\n",
       "    </tr>\n",
       "  </tbody>\n",
       "</table>\n",
       "</div>"
      ],
      "text/plain": [
       "   id  target\n",
       "0   0       1\n",
       "1   2       1\n",
       "2   3       1\n",
       "3   9       1\n",
       "4  11       1\n",
       "5  12       1\n",
       "6  21       0\n",
       "7  22       0\n",
       "8  27       0\n",
       "9  29       0"
      ]
     },
     "execution_count": 185,
     "metadata": {},
     "output_type": "execute_result"
    }
   ],
   "source": [
    "moreFeaturesPredictionsDF = pd.DataFrame(data={'id': actual_test_ids, 'target': moreFeaturesPredictions})\n",
    "moreFeaturesPredictionsDF.head(10)"
   ]
  },
  {
   "cell_type": "code",
   "execution_count": 186,
   "metadata": {},
   "outputs": [],
   "source": [
    "moreFeaturesPredictionsDF.to_csv('NN_predictions_more_features.csv', index=False)"
   ]
  }
 ],
 "metadata": {
  "kernelspec": {
   "display_name": "Python 3",
   "language": "python",
   "name": "python3"
  },
  "language_info": {
   "codemirror_mode": {
    "name": "ipython",
    "version": 3
   },
   "file_extension": ".py",
   "mimetype": "text/x-python",
   "name": "python",
   "nbconvert_exporter": "python",
   "pygments_lexer": "ipython3",
   "version": "3.6.9"
  }
 },
 "nbformat": 4,
 "nbformat_minor": 4
}
